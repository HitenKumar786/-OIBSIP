{
 "cells": [
  {
   "cell_type": "markdown",
   "metadata": {
    "papermill": {
     "duration": 0.014261,
     "end_time": "2023-09-07T06:22:55.730985",
     "exception": false,
     "start_time": "2023-09-07T06:22:55.716724",
     "status": "completed"
    },
    "tags": []
   },
   "source": [
    "# Importing necessary libraries"
   ]
  },
  {
   "cell_type": "code",
   "execution_count": 1,
   "metadata": {
    "execution": {
     "iopub.execute_input": "2023-09-07T06:22:55.76231Z",
     "iopub.status.busy": "2023-09-07T06:22:55.761524Z",
     "iopub.status.idle": "2023-09-07T06:23:13.346386Z",
     "shell.execute_reply": "2023-09-07T06:23:13.344283Z"
    },
    "papermill": {
     "duration": 17.604571,
     "end_time": "2023-09-07T06:23:13.349623",
     "exception": false,
     "start_time": "2023-09-07T06:22:55.745052",
     "status": "completed"
    },
    "tags": []
   },
   "outputs": [
    {
     "name": "stdout",
     "output_type": "stream",
     "text": [
      "Requirement already satisfied: chart-studio in c:\\users\\hiten\\anaconda3\\lib\\site-packages (1.1.0)\n",
      "Requirement already satisfied: plotly in c:\\users\\hiten\\anaconda3\\lib\\site-packages (from chart-studio) (5.9.0)\n",
      "Requirement already satisfied: requests in c:\\users\\hiten\\anaconda3\\lib\\site-packages (from chart-studio) (2.28.1)\n",
      "Requirement already satisfied: retrying>=1.3.3 in c:\\users\\hiten\\anaconda3\\lib\\site-packages (from chart-studio) (1.3.4)\n",
      "Requirement already satisfied: six in c:\\users\\hiten\\anaconda3\\lib\\site-packages (from chart-studio) (1.16.0)\n",
      "Requirement already satisfied: tenacity>=6.2.0 in c:\\users\\hiten\\anaconda3\\lib\\site-packages (from plotly->chart-studio) (8.0.1)\n",
      "Requirement already satisfied: certifi>=2017.4.17 in c:\\users\\hiten\\anaconda3\\lib\\site-packages (from requests->chart-studio) (2022.9.14)\n",
      "Requirement already satisfied: urllib3<1.27,>=1.21.1 in c:\\users\\hiten\\anaconda3\\lib\\site-packages (from requests->chart-studio) (1.26.11)\n",
      "Requirement already satisfied: charset-normalizer<3,>=2 in c:\\users\\hiten\\anaconda3\\lib\\site-packages (from requests->chart-studio) (2.0.4)\n",
      "Requirement already satisfied: idna<4,>=2.5 in c:\\users\\hiten\\anaconda3\\lib\\site-packages (from requests->chart-studio) (3.3)\n",
      "Note: you may need to restart the kernel to use updated packages.\n"
     ]
    }
   ],
   "source": [
    "pip install chart-studio\n"
   ]
  },
  {
   "cell_type": "code",
   "execution_count": 2,
   "metadata": {
    "execution": {
     "iopub.execute_input": "2023-09-07T06:23:13.383955Z",
     "iopub.status.busy": "2023-09-07T06:23:13.383433Z",
     "iopub.status.idle": "2023-09-07T06:23:16.522558Z",
     "shell.execute_reply": "2023-09-07T06:23:16.5209Z"
    },
    "papermill": {
     "duration": 3.160735,
     "end_time": "2023-09-07T06:23:16.526454",
     "exception": false,
     "start_time": "2023-09-07T06:23:13.365719",
     "status": "completed"
    },
    "tags": []
   },
   "outputs": [],
   "source": [
    "import numpy as np\n",
    "import pandas as pd\n",
    "import matplotlib.pyplot as plt\n",
    "import seaborn as sns\n",
    "import datetime as dt\n",
    "import calendar\n",
    "\n",
    "import warnings\n",
    "warnings.filterwarnings(\"ignore\")\n",
    "%matplotlib inline"
   ]
  },
  {
   "cell_type": "code",
   "execution_count": 3,
   "metadata": {
    "execution": {
     "iopub.execute_input": "2023-09-07T06:23:16.562036Z",
     "iopub.status.busy": "2023-09-07T06:23:16.561162Z",
     "iopub.status.idle": "2023-09-07T06:23:16.623272Z",
     "shell.execute_reply": "2023-09-07T06:23:16.621583Z"
    },
    "papermill": {
     "duration": 0.083236,
     "end_time": "2023-09-07T06:23:16.627764",
     "exception": false,
     "start_time": "2023-09-07T06:23:16.544528",
     "status": "completed"
    },
    "tags": []
   },
   "outputs": [
    {
     "data": {
      "text/html": [
       "<div>\n",
       "<style scoped>\n",
       "    .dataframe tbody tr th:only-of-type {\n",
       "        vertical-align: middle;\n",
       "    }\n",
       "\n",
       "    .dataframe tbody tr th {\n",
       "        vertical-align: top;\n",
       "    }\n",
       "\n",
       "    .dataframe thead th {\n",
       "        text-align: right;\n",
       "    }\n",
       "</style>\n",
       "<table border=\"1\" class=\"dataframe\">\n",
       "  <thead>\n",
       "    <tr style=\"text-align: right;\">\n",
       "      <th></th>\n",
       "      <th>Region</th>\n",
       "      <th>Date</th>\n",
       "      <th>Frequency</th>\n",
       "      <th>Estimated Unemployment Rate (%)</th>\n",
       "      <th>Estimated Employed</th>\n",
       "      <th>Estimated Labour Participation Rate (%)</th>\n",
       "      <th>Region.1</th>\n",
       "      <th>longitude</th>\n",
       "      <th>latitude</th>\n",
       "    </tr>\n",
       "  </thead>\n",
       "  <tbody>\n",
       "    <tr>\n",
       "      <th>0</th>\n",
       "      <td>Andhra Pradesh</td>\n",
       "      <td>31-01-2020</td>\n",
       "      <td>M</td>\n",
       "      <td>5.48</td>\n",
       "      <td>16635535</td>\n",
       "      <td>41.02</td>\n",
       "      <td>South</td>\n",
       "      <td>15.9129</td>\n",
       "      <td>79.74</td>\n",
       "    </tr>\n",
       "    <tr>\n",
       "      <th>1</th>\n",
       "      <td>Andhra Pradesh</td>\n",
       "      <td>29-02-2020</td>\n",
       "      <td>M</td>\n",
       "      <td>5.83</td>\n",
       "      <td>16545652</td>\n",
       "      <td>40.90</td>\n",
       "      <td>South</td>\n",
       "      <td>15.9129</td>\n",
       "      <td>79.74</td>\n",
       "    </tr>\n",
       "    <tr>\n",
       "      <th>2</th>\n",
       "      <td>Andhra Pradesh</td>\n",
       "      <td>31-03-2020</td>\n",
       "      <td>M</td>\n",
       "      <td>5.79</td>\n",
       "      <td>15881197</td>\n",
       "      <td>39.18</td>\n",
       "      <td>South</td>\n",
       "      <td>15.9129</td>\n",
       "      <td>79.74</td>\n",
       "    </tr>\n",
       "    <tr>\n",
       "      <th>3</th>\n",
       "      <td>Andhra Pradesh</td>\n",
       "      <td>30-04-2020</td>\n",
       "      <td>M</td>\n",
       "      <td>20.51</td>\n",
       "      <td>11336911</td>\n",
       "      <td>33.10</td>\n",
       "      <td>South</td>\n",
       "      <td>15.9129</td>\n",
       "      <td>79.74</td>\n",
       "    </tr>\n",
       "    <tr>\n",
       "      <th>4</th>\n",
       "      <td>Andhra Pradesh</td>\n",
       "      <td>31-05-2020</td>\n",
       "      <td>M</td>\n",
       "      <td>17.43</td>\n",
       "      <td>12988845</td>\n",
       "      <td>36.46</td>\n",
       "      <td>South</td>\n",
       "      <td>15.9129</td>\n",
       "      <td>79.74</td>\n",
       "    </tr>\n",
       "  </tbody>\n",
       "</table>\n",
       "</div>"
      ],
      "text/plain": [
       "           Region         Date  Frequency   Estimated Unemployment Rate (%)  \\\n",
       "0  Andhra Pradesh   31-01-2020          M                              5.48   \n",
       "1  Andhra Pradesh   29-02-2020          M                              5.83   \n",
       "2  Andhra Pradesh   31-03-2020          M                              5.79   \n",
       "3  Andhra Pradesh   30-04-2020          M                             20.51   \n",
       "4  Andhra Pradesh   31-05-2020          M                             17.43   \n",
       "\n",
       "    Estimated Employed   Estimated Labour Participation Rate (%) Region.1  \\\n",
       "0             16635535                                     41.02    South   \n",
       "1             16545652                                     40.90    South   \n",
       "2             15881197                                     39.18    South   \n",
       "3             11336911                                     33.10    South   \n",
       "4             12988845                                     36.46    South   \n",
       "\n",
       "   longitude  latitude  \n",
       "0    15.9129     79.74  \n",
       "1    15.9129     79.74  \n",
       "2    15.9129     79.74  \n",
       "3    15.9129     79.74  \n",
       "4    15.9129     79.74  "
      ]
     },
     "execution_count": 3,
     "metadata": {},
     "output_type": "execute_result"
    }
   ],
   "source": [
    "data=pd.read_csv(\"Unemployment_Rate_upto_11_2020.csv\")\n",
    "data.head()"
   ]
  },
  {
   "cell_type": "markdown",
   "metadata": {
    "execution": {
     "iopub.execute_input": "2023-09-04T06:26:41.49283Z",
     "iopub.status.busy": "2023-09-04T06:26:41.492431Z",
     "iopub.status.idle": "2023-09-04T06:26:41.498641Z",
     "shell.execute_reply": "2023-09-04T06:26:41.497254Z",
     "shell.execute_reply.started": "2023-09-04T06:26:41.492801Z"
    },
    "papermill": {
     "duration": 0.014786,
     "end_time": "2023-09-07T06:23:16.660815",
     "exception": false,
     "start_time": "2023-09-07T06:23:16.646029",
     "status": "completed"
    },
    "tags": []
   },
   "source": [
    "# Basic information about the dataset"
   ]
  },
  {
   "cell_type": "code",
   "execution_count": 4,
   "metadata": {
    "execution": {
     "iopub.execute_input": "2023-09-07T06:23:16.693604Z",
     "iopub.status.busy": "2023-09-07T06:23:16.692789Z",
     "iopub.status.idle": "2023-09-07T06:23:16.700612Z",
     "shell.execute_reply": "2023-09-07T06:23:16.699504Z"
    },
    "papermill": {
     "duration": 0.027259,
     "end_time": "2023-09-07T06:23:16.703233",
     "exception": false,
     "start_time": "2023-09-07T06:23:16.675974",
     "status": "completed"
    },
    "tags": []
   },
   "outputs": [
    {
     "data": {
      "text/plain": [
       "(267, 9)"
      ]
     },
     "execution_count": 4,
     "metadata": {},
     "output_type": "execute_result"
    }
   ],
   "source": [
    "data.shape"
   ]
  },
  {
   "cell_type": "code",
   "execution_count": 5,
   "metadata": {
    "execution": {
     "iopub.execute_input": "2023-09-07T06:23:16.737373Z",
     "iopub.status.busy": "2023-09-07T06:23:16.736338Z",
     "iopub.status.idle": "2023-09-07T06:23:16.744621Z",
     "shell.execute_reply": "2023-09-07T06:23:16.743596Z"
    },
    "papermill": {
     "duration": 0.028233,
     "end_time": "2023-09-07T06:23:16.747098",
     "exception": false,
     "start_time": "2023-09-07T06:23:16.718865",
     "status": "completed"
    },
    "tags": []
   },
   "outputs": [
    {
     "data": {
      "text/plain": [
       "Index(['Region', ' Date', ' Frequency', ' Estimated Unemployment Rate (%)',\n",
       "       ' Estimated Employed', ' Estimated Labour Participation Rate (%)',\n",
       "       'Region.1', 'longitude', 'latitude'],\n",
       "      dtype='object')"
      ]
     },
     "execution_count": 5,
     "metadata": {},
     "output_type": "execute_result"
    }
   ],
   "source": [
    "data.columns"
   ]
  },
  {
   "cell_type": "code",
   "execution_count": 6,
   "metadata": {
    "execution": {
     "iopub.execute_input": "2023-09-07T06:23:16.780867Z",
     "iopub.status.busy": "2023-09-07T06:23:16.779999Z",
     "iopub.status.idle": "2023-09-07T06:23:16.820742Z",
     "shell.execute_reply": "2023-09-07T06:23:16.819382Z"
    },
    "papermill": {
     "duration": 0.061155,
     "end_time": "2023-09-07T06:23:16.82395",
     "exception": false,
     "start_time": "2023-09-07T06:23:16.762795",
     "status": "completed"
    },
    "tags": []
   },
   "outputs": [
    {
     "data": {
      "text/html": [
       "<div>\n",
       "<style scoped>\n",
       "    .dataframe tbody tr th:only-of-type {\n",
       "        vertical-align: middle;\n",
       "    }\n",
       "\n",
       "    .dataframe tbody tr th {\n",
       "        vertical-align: top;\n",
       "    }\n",
       "\n",
       "    .dataframe thead th {\n",
       "        text-align: right;\n",
       "    }\n",
       "</style>\n",
       "<table border=\"1\" class=\"dataframe\">\n",
       "  <thead>\n",
       "    <tr style=\"text-align: right;\">\n",
       "      <th></th>\n",
       "      <th>Estimated Unemployment Rate (%)</th>\n",
       "      <th>Estimated Employed</th>\n",
       "      <th>Estimated Labour Participation Rate (%)</th>\n",
       "      <th>longitude</th>\n",
       "      <th>latitude</th>\n",
       "    </tr>\n",
       "  </thead>\n",
       "  <tbody>\n",
       "    <tr>\n",
       "      <th>count</th>\n",
       "      <td>267.000000</td>\n",
       "      <td>2.670000e+02</td>\n",
       "      <td>267.000000</td>\n",
       "      <td>267.000000</td>\n",
       "      <td>267.000000</td>\n",
       "    </tr>\n",
       "    <tr>\n",
       "      <th>mean</th>\n",
       "      <td>12.236929</td>\n",
       "      <td>1.396211e+07</td>\n",
       "      <td>41.681573</td>\n",
       "      <td>22.826048</td>\n",
       "      <td>80.532425</td>\n",
       "    </tr>\n",
       "    <tr>\n",
       "      <th>std</th>\n",
       "      <td>10.803283</td>\n",
       "      <td>1.336632e+07</td>\n",
       "      <td>7.845419</td>\n",
       "      <td>6.270731</td>\n",
       "      <td>5.831738</td>\n",
       "    </tr>\n",
       "    <tr>\n",
       "      <th>min</th>\n",
       "      <td>0.500000</td>\n",
       "      <td>1.175420e+05</td>\n",
       "      <td>16.770000</td>\n",
       "      <td>10.850500</td>\n",
       "      <td>71.192400</td>\n",
       "    </tr>\n",
       "    <tr>\n",
       "      <th>25%</th>\n",
       "      <td>4.845000</td>\n",
       "      <td>2.838930e+06</td>\n",
       "      <td>37.265000</td>\n",
       "      <td>18.112400</td>\n",
       "      <td>76.085600</td>\n",
       "    </tr>\n",
       "    <tr>\n",
       "      <th>50%</th>\n",
       "      <td>9.650000</td>\n",
       "      <td>9.732417e+06</td>\n",
       "      <td>40.390000</td>\n",
       "      <td>23.610200</td>\n",
       "      <td>79.019300</td>\n",
       "    </tr>\n",
       "    <tr>\n",
       "      <th>75%</th>\n",
       "      <td>16.755000</td>\n",
       "      <td>2.187869e+07</td>\n",
       "      <td>44.055000</td>\n",
       "      <td>27.278400</td>\n",
       "      <td>85.279900</td>\n",
       "    </tr>\n",
       "    <tr>\n",
       "      <th>max</th>\n",
       "      <td>75.850000</td>\n",
       "      <td>5.943376e+07</td>\n",
       "      <td>69.690000</td>\n",
       "      <td>33.778200</td>\n",
       "      <td>92.937600</td>\n",
       "    </tr>\n",
       "  </tbody>\n",
       "</table>\n",
       "</div>"
      ],
      "text/plain": [
       "        Estimated Unemployment Rate (%)   Estimated Employed  \\\n",
       "count                        267.000000         2.670000e+02   \n",
       "mean                          12.236929         1.396211e+07   \n",
       "std                           10.803283         1.336632e+07   \n",
       "min                            0.500000         1.175420e+05   \n",
       "25%                            4.845000         2.838930e+06   \n",
       "50%                            9.650000         9.732417e+06   \n",
       "75%                           16.755000         2.187869e+07   \n",
       "max                           75.850000         5.943376e+07   \n",
       "\n",
       "        Estimated Labour Participation Rate (%)   longitude    latitude  \n",
       "count                                267.000000  267.000000  267.000000  \n",
       "mean                                  41.681573   22.826048   80.532425  \n",
       "std                                    7.845419    6.270731    5.831738  \n",
       "min                                   16.770000   10.850500   71.192400  \n",
       "25%                                   37.265000   18.112400   76.085600  \n",
       "50%                                   40.390000   23.610200   79.019300  \n",
       "75%                                   44.055000   27.278400   85.279900  \n",
       "max                                   69.690000   33.778200   92.937600  "
      ]
     },
     "execution_count": 6,
     "metadata": {},
     "output_type": "execute_result"
    }
   ],
   "source": [
    "data.describe()"
   ]
  },
  {
   "cell_type": "code",
   "execution_count": 7,
   "metadata": {
    "execution": {
     "iopub.execute_input": "2023-09-07T06:23:16.857545Z",
     "iopub.status.busy": "2023-09-07T06:23:16.857047Z",
     "iopub.status.idle": "2023-09-07T06:23:16.86793Z",
     "shell.execute_reply": "2023-09-07T06:23:16.866809Z"
    },
    "papermill": {
     "duration": 0.030762,
     "end_time": "2023-09-07T06:23:16.870776",
     "exception": false,
     "start_time": "2023-09-07T06:23:16.840014",
     "status": "completed"
    },
    "tags": []
   },
   "outputs": [
    {
     "data": {
      "text/plain": [
       "Region                                      0\n",
       " Date                                       0\n",
       " Frequency                                  0\n",
       " Estimated Unemployment Rate (%)            0\n",
       " Estimated Employed                         0\n",
       " Estimated Labour Participation Rate (%)    0\n",
       "Region.1                                    0\n",
       "longitude                                   0\n",
       "latitude                                    0\n",
       "dtype: int64"
      ]
     },
     "execution_count": 7,
     "metadata": {},
     "output_type": "execute_result"
    }
   ],
   "source": [
    "data.isnull().sum()"
   ]
  },
  {
   "cell_type": "code",
   "execution_count": 8,
   "metadata": {
    "execution": {
     "iopub.execute_input": "2023-09-07T06:23:16.910082Z",
     "iopub.status.busy": "2023-09-07T06:23:16.909177Z",
     "iopub.status.idle": "2023-09-07T06:23:16.915856Z",
     "shell.execute_reply": "2023-09-07T06:23:16.914843Z"
    },
    "papermill": {
     "duration": 0.031994,
     "end_time": "2023-09-07T06:23:16.919235",
     "exception": false,
     "start_time": "2023-09-07T06:23:16.887241",
     "status": "completed"
    },
    "tags": []
   },
   "outputs": [
    {
     "data": {
      "text/plain": [
       "(267, 9)"
      ]
     },
     "execution_count": 8,
     "metadata": {},
     "output_type": "execute_result"
    }
   ],
   "source": [
    "data.shape"
   ]
  },
  {
   "cell_type": "code",
   "execution_count": 9,
   "metadata": {
    "execution": {
     "iopub.execute_input": "2023-09-07T06:23:16.953364Z",
     "iopub.status.busy": "2023-09-07T06:23:16.952836Z",
     "iopub.status.idle": "2023-09-07T06:23:16.975336Z",
     "shell.execute_reply": "2023-09-07T06:23:16.973802Z"
    },
    "papermill": {
     "duration": 0.043039,
     "end_time": "2023-09-07T06:23:16.978563",
     "exception": false,
     "start_time": "2023-09-07T06:23:16.935524",
     "status": "completed"
    },
    "tags": []
   },
   "outputs": [
    {
     "data": {
      "text/plain": [
       "False"
      ]
     },
     "execution_count": 9,
     "metadata": {},
     "output_type": "execute_result"
    }
   ],
   "source": [
    "data.duplicated().any()"
   ]
  },
  {
   "cell_type": "code",
   "execution_count": 10,
   "metadata": {
    "execution": {
     "iopub.execute_input": "2023-09-07T06:23:17.033199Z",
     "iopub.status.busy": "2023-09-07T06:23:17.032696Z",
     "iopub.status.idle": "2023-09-07T06:23:17.045336Z",
     "shell.execute_reply": "2023-09-07T06:23:17.044357Z"
    },
    "papermill": {
     "duration": 0.0529,
     "end_time": "2023-09-07T06:23:17.048",
     "exception": false,
     "start_time": "2023-09-07T06:23:16.9951",
     "status": "completed"
    },
    "tags": []
   },
   "outputs": [
    {
     "data": {
      "text/plain": [
       "Andhra Pradesh      10\n",
       "Assam               10\n",
       "Uttarakhand         10\n",
       "Uttar Pradesh       10\n",
       "Tripura             10\n",
       "Telangana           10\n",
       "Tamil Nadu          10\n",
       "Rajasthan           10\n",
       "Punjab              10\n",
       "Puducherry          10\n",
       "Odisha              10\n",
       "Meghalaya           10\n",
       "Maharashtra         10\n",
       "Madhya Pradesh      10\n",
       "Kerala              10\n",
       "Karnataka           10\n",
       "Jharkhand           10\n",
       "Himachal Pradesh    10\n",
       "Haryana             10\n",
       "Gujarat             10\n",
       "Goa                 10\n",
       "Delhi               10\n",
       "Chhattisgarh        10\n",
       "Bihar               10\n",
       "West Bengal         10\n",
       "Jammu & Kashmir      9\n",
       "Sikkim               8\n",
       "Name: Region, dtype: int64"
      ]
     },
     "execution_count": 10,
     "metadata": {},
     "output_type": "execute_result"
    }
   ],
   "source": [
    "data.Region.value_counts()"
   ]
  },
  {
   "cell_type": "markdown",
   "metadata": {
    "execution": {
     "iopub.execute_input": "2023-09-07T06:14:52.653816Z",
     "iopub.status.busy": "2023-09-07T06:14:52.653Z",
     "iopub.status.idle": "2023-09-07T06:14:52.660808Z",
     "shell.execute_reply": "2023-09-07T06:14:52.659296Z",
     "shell.execute_reply.started": "2023-09-07T06:14:52.653779Z"
    },
    "papermill": {
     "duration": 0.016001,
     "end_time": "2023-09-07T06:23:17.080772",
     "exception": false,
     "start_time": "2023-09-07T06:23:17.064771",
     "status": "completed"
    },
    "tags": []
   },
   "source": [
    "# Rename the attributes "
   ]
  },
  {
   "cell_type": "code",
   "execution_count": 11,
   "metadata": {
    "execution": {
     "iopub.execute_input": "2023-09-07T06:23:17.115463Z",
     "iopub.status.busy": "2023-09-07T06:23:17.114997Z",
     "iopub.status.idle": "2023-09-07T06:23:17.121879Z",
     "shell.execute_reply": "2023-09-07T06:23:17.120146Z"
    },
    "papermill": {
     "duration": 0.027622,
     "end_time": "2023-09-07T06:23:17.124745",
     "exception": false,
     "start_time": "2023-09-07T06:23:17.097123",
     "status": "completed"
    },
    "tags": []
   },
   "outputs": [],
   "source": [
    "#updating column names\n",
    "data.columns=['state','date','frequency','estimated unemployment rate','estimated employed','estimated labour participation rate','region','longitude','latitude']"
   ]
  },
  {
   "cell_type": "code",
   "execution_count": 12,
   "metadata": {
    "execution": {
     "iopub.execute_input": "2023-09-07T06:23:17.159315Z",
     "iopub.status.busy": "2023-09-07T06:23:17.158829Z",
     "iopub.status.idle": "2023-09-07T06:23:17.180076Z",
     "shell.execute_reply": "2023-09-07T06:23:17.178569Z"
    },
    "papermill": {
     "duration": 0.041545,
     "end_time": "2023-09-07T06:23:17.182693",
     "exception": false,
     "start_time": "2023-09-07T06:23:17.141148",
     "status": "completed"
    },
    "tags": []
   },
   "outputs": [
    {
     "data": {
      "text/html": [
       "<div>\n",
       "<style scoped>\n",
       "    .dataframe tbody tr th:only-of-type {\n",
       "        vertical-align: middle;\n",
       "    }\n",
       "\n",
       "    .dataframe tbody tr th {\n",
       "        vertical-align: top;\n",
       "    }\n",
       "\n",
       "    .dataframe thead th {\n",
       "        text-align: right;\n",
       "    }\n",
       "</style>\n",
       "<table border=\"1\" class=\"dataframe\">\n",
       "  <thead>\n",
       "    <tr style=\"text-align: right;\">\n",
       "      <th></th>\n",
       "      <th>state</th>\n",
       "      <th>date</th>\n",
       "      <th>frequency</th>\n",
       "      <th>estimated unemployment rate</th>\n",
       "      <th>estimated employed</th>\n",
       "      <th>estimated labour participation rate</th>\n",
       "      <th>region</th>\n",
       "      <th>longitude</th>\n",
       "      <th>latitude</th>\n",
       "    </tr>\n",
       "  </thead>\n",
       "  <tbody>\n",
       "    <tr>\n",
       "      <th>262</th>\n",
       "      <td>West Bengal</td>\n",
       "      <td>30-06-2020</td>\n",
       "      <td>M</td>\n",
       "      <td>7.29</td>\n",
       "      <td>30726310</td>\n",
       "      <td>40.39</td>\n",
       "      <td>East</td>\n",
       "      <td>22.9868</td>\n",
       "      <td>87.855</td>\n",
       "    </tr>\n",
       "    <tr>\n",
       "      <th>263</th>\n",
       "      <td>West Bengal</td>\n",
       "      <td>31-07-2020</td>\n",
       "      <td>M</td>\n",
       "      <td>6.83</td>\n",
       "      <td>35372506</td>\n",
       "      <td>46.17</td>\n",
       "      <td>East</td>\n",
       "      <td>22.9868</td>\n",
       "      <td>87.855</td>\n",
       "    </tr>\n",
       "    <tr>\n",
       "      <th>264</th>\n",
       "      <td>West Bengal</td>\n",
       "      <td>31-08-2020</td>\n",
       "      <td>M</td>\n",
       "      <td>14.87</td>\n",
       "      <td>33298644</td>\n",
       "      <td>47.48</td>\n",
       "      <td>East</td>\n",
       "      <td>22.9868</td>\n",
       "      <td>87.855</td>\n",
       "    </tr>\n",
       "    <tr>\n",
       "      <th>265</th>\n",
       "      <td>West Bengal</td>\n",
       "      <td>30-09-2020</td>\n",
       "      <td>M</td>\n",
       "      <td>9.35</td>\n",
       "      <td>35707239</td>\n",
       "      <td>47.73</td>\n",
       "      <td>East</td>\n",
       "      <td>22.9868</td>\n",
       "      <td>87.855</td>\n",
       "    </tr>\n",
       "    <tr>\n",
       "      <th>266</th>\n",
       "      <td>West Bengal</td>\n",
       "      <td>31-10-2020</td>\n",
       "      <td>M</td>\n",
       "      <td>9.98</td>\n",
       "      <td>33962549</td>\n",
       "      <td>45.63</td>\n",
       "      <td>East</td>\n",
       "      <td>22.9868</td>\n",
       "      <td>87.855</td>\n",
       "    </tr>\n",
       "  </tbody>\n",
       "</table>\n",
       "</div>"
      ],
      "text/plain": [
       "           state         date frequency  estimated unemployment rate  \\\n",
       "262  West Bengal   30-06-2020         M                         7.29   \n",
       "263  West Bengal   31-07-2020         M                         6.83   \n",
       "264  West Bengal   31-08-2020         M                        14.87   \n",
       "265  West Bengal   30-09-2020         M                         9.35   \n",
       "266  West Bengal   31-10-2020         M                         9.98   \n",
       "\n",
       "     estimated employed  estimated labour participation rate region  \\\n",
       "262            30726310                                40.39   East   \n",
       "263            35372506                                46.17   East   \n",
       "264            33298644                                47.48   East   \n",
       "265            35707239                                47.73   East   \n",
       "266            33962549                                45.63   East   \n",
       "\n",
       "     longitude  latitude  \n",
       "262    22.9868    87.855  \n",
       "263    22.9868    87.855  \n",
       "264    22.9868    87.855  \n",
       "265    22.9868    87.855  \n",
       "266    22.9868    87.855  "
      ]
     },
     "execution_count": 12,
     "metadata": {},
     "output_type": "execute_result"
    }
   ],
   "source": [
    "data.tail()"
   ]
  },
  {
   "cell_type": "markdown",
   "metadata": {
    "papermill": {
     "duration": 0.016362,
     "end_time": "2023-09-07T06:23:17.215982",
     "exception": false,
     "start_time": "2023-09-07T06:23:17.19962",
     "status": "completed"
    },
    "tags": []
   },
   "source": [
    "# Changing the data type of date attribute"
   ]
  },
  {
   "cell_type": "code",
   "execution_count": 13,
   "metadata": {
    "execution": {
     "iopub.execute_input": "2023-09-07T06:23:17.251045Z",
     "iopub.status.busy": "2023-09-07T06:23:17.250559Z",
     "iopub.status.idle": "2023-09-07T06:23:17.269072Z",
     "shell.execute_reply": "2023-09-07T06:23:17.26772Z"
    },
    "papermill": {
     "duration": 0.039348,
     "end_time": "2023-09-07T06:23:17.27202",
     "exception": false,
     "start_time": "2023-09-07T06:23:17.232672",
     "status": "completed"
    },
    "tags": []
   },
   "outputs": [],
   "source": [
    "data['date']=pd.to_datetime(data['date'],dayfirst=True)"
   ]
  },
  {
   "cell_type": "markdown",
   "metadata": {
    "papermill": {
     "duration": 0.015853,
     "end_time": "2023-09-07T06:23:17.305003",
     "exception": false,
     "start_time": "2023-09-07T06:23:17.28915",
     "status": "completed"
    },
    "tags": []
   },
   "source": [
    "# Extracting month from the date attribute"
   ]
  },
  {
   "cell_type": "code",
   "execution_count": 14,
   "metadata": {
    "execution": {
     "iopub.execute_input": "2023-09-07T06:23:17.339638Z",
     "iopub.status.busy": "2023-09-07T06:23:17.339136Z",
     "iopub.status.idle": "2023-09-07T06:23:17.361506Z",
     "shell.execute_reply": "2023-09-07T06:23:17.360153Z"
    },
    "papermill": {
     "duration": 0.043247,
     "end_time": "2023-09-07T06:23:17.3646",
     "exception": false,
     "start_time": "2023-09-07T06:23:17.321353",
     "status": "completed"
    },
    "tags": []
   },
   "outputs": [
    {
     "data": {
      "text/html": [
       "<div>\n",
       "<style scoped>\n",
       "    .dataframe tbody tr th:only-of-type {\n",
       "        vertical-align: middle;\n",
       "    }\n",
       "\n",
       "    .dataframe tbody tr th {\n",
       "        vertical-align: top;\n",
       "    }\n",
       "\n",
       "    .dataframe thead th {\n",
       "        text-align: right;\n",
       "    }\n",
       "</style>\n",
       "<table border=\"1\" class=\"dataframe\">\n",
       "  <thead>\n",
       "    <tr style=\"text-align: right;\">\n",
       "      <th></th>\n",
       "      <th>state</th>\n",
       "      <th>date</th>\n",
       "      <th>frequency</th>\n",
       "      <th>estimated unemployment rate</th>\n",
       "      <th>estimated employed</th>\n",
       "      <th>estimated labour participation rate</th>\n",
       "      <th>region</th>\n",
       "      <th>longitude</th>\n",
       "      <th>latitude</th>\n",
       "      <th>month_int</th>\n",
       "    </tr>\n",
       "  </thead>\n",
       "  <tbody>\n",
       "    <tr>\n",
       "      <th>0</th>\n",
       "      <td>Andhra Pradesh</td>\n",
       "      <td>2020-01-31</td>\n",
       "      <td>M</td>\n",
       "      <td>5.48</td>\n",
       "      <td>16635535</td>\n",
       "      <td>41.02</td>\n",
       "      <td>South</td>\n",
       "      <td>15.9129</td>\n",
       "      <td>79.74</td>\n",
       "      <td>1</td>\n",
       "    </tr>\n",
       "    <tr>\n",
       "      <th>1</th>\n",
       "      <td>Andhra Pradesh</td>\n",
       "      <td>2020-02-29</td>\n",
       "      <td>M</td>\n",
       "      <td>5.83</td>\n",
       "      <td>16545652</td>\n",
       "      <td>40.90</td>\n",
       "      <td>South</td>\n",
       "      <td>15.9129</td>\n",
       "      <td>79.74</td>\n",
       "      <td>2</td>\n",
       "    </tr>\n",
       "    <tr>\n",
       "      <th>2</th>\n",
       "      <td>Andhra Pradesh</td>\n",
       "      <td>2020-03-31</td>\n",
       "      <td>M</td>\n",
       "      <td>5.79</td>\n",
       "      <td>15881197</td>\n",
       "      <td>39.18</td>\n",
       "      <td>South</td>\n",
       "      <td>15.9129</td>\n",
       "      <td>79.74</td>\n",
       "      <td>3</td>\n",
       "    </tr>\n",
       "    <tr>\n",
       "      <th>3</th>\n",
       "      <td>Andhra Pradesh</td>\n",
       "      <td>2020-04-30</td>\n",
       "      <td>M</td>\n",
       "      <td>20.51</td>\n",
       "      <td>11336911</td>\n",
       "      <td>33.10</td>\n",
       "      <td>South</td>\n",
       "      <td>15.9129</td>\n",
       "      <td>79.74</td>\n",
       "      <td>4</td>\n",
       "    </tr>\n",
       "    <tr>\n",
       "      <th>4</th>\n",
       "      <td>Andhra Pradesh</td>\n",
       "      <td>2020-05-31</td>\n",
       "      <td>M</td>\n",
       "      <td>17.43</td>\n",
       "      <td>12988845</td>\n",
       "      <td>36.46</td>\n",
       "      <td>South</td>\n",
       "      <td>15.9129</td>\n",
       "      <td>79.74</td>\n",
       "      <td>5</td>\n",
       "    </tr>\n",
       "  </tbody>\n",
       "</table>\n",
       "</div>"
      ],
      "text/plain": [
       "            state       date frequency  estimated unemployment rate  \\\n",
       "0  Andhra Pradesh 2020-01-31         M                         5.48   \n",
       "1  Andhra Pradesh 2020-02-29         M                         5.83   \n",
       "2  Andhra Pradesh 2020-03-31         M                         5.79   \n",
       "3  Andhra Pradesh 2020-04-30         M                        20.51   \n",
       "4  Andhra Pradesh 2020-05-31         M                        17.43   \n",
       "\n",
       "   estimated employed  estimated labour participation rate region  longitude  \\\n",
       "0            16635535                                41.02  South    15.9129   \n",
       "1            16545652                                40.90  South    15.9129   \n",
       "2            15881197                                39.18  South    15.9129   \n",
       "3            11336911                                33.10  South    15.9129   \n",
       "4            12988845                                36.46  South    15.9129   \n",
       "\n",
       "   latitude  month_int  \n",
       "0     79.74          1  \n",
       "1     79.74          2  \n",
       "2     79.74          3  \n",
       "3     79.74          4  \n",
       "4     79.74          5  "
      ]
     },
     "execution_count": 14,
     "metadata": {},
     "output_type": "execute_result"
    }
   ],
   "source": [
    "#\n",
    "data['month_int']=data['date'].dt.month\n",
    "data.head()"
   ]
  },
  {
   "cell_type": "code",
   "execution_count": 15,
   "metadata": {
    "execution": {
     "iopub.execute_input": "2023-09-07T06:23:17.40099Z",
     "iopub.status.busy": "2023-09-07T06:23:17.400537Z",
     "iopub.status.idle": "2023-09-07T06:23:18.033424Z",
     "shell.execute_reply": "2023-09-07T06:23:18.03237Z"
    },
    "papermill": {
     "duration": 0.654629,
     "end_time": "2023-09-07T06:23:18.036361",
     "exception": false,
     "start_time": "2023-09-07T06:23:17.381732",
     "status": "completed"
    },
    "tags": []
   },
   "outputs": [
    {
     "data": {
      "text/plain": [
       "<AxesSubplot:>"
      ]
     },
     "execution_count": 15,
     "metadata": {},
     "output_type": "execute_result"
    },
    {
     "data": {
      "image/png": "[encoded data removed]",
      "text/plain": [
       "<Figure size 600x400 with 2 Axes>"
      ]
     },
     "metadata": {},
     "output_type": "display_data"
    }
   ],
   "source": [
    "heatmap= data[['estimated unemployment rate', 'estimated employed', 'estimated labour participation rate', 'longitude', 'latitude', 'month_int']]\n",
    "heatmap = heatmap.corr()\n",
    "plt.figure(figsize=(6,4))\n",
    "sns.set_context('notebook', font_scale=1)\n",
    "sns.heatmap(data=heatmap, annot=True, cmap=sns.cubehelix_palette(as_cmap=True))\n",
    "\n"
   ]
  },
  {
   "cell_type": "markdown",
   "metadata": {
    "papermill": {
     "duration": 0.021842,
     "end_time": "2023-09-07T06:23:18.184239",
     "exception": false,
     "start_time": "2023-09-07T06:23:18.162397",
     "status": "completed"
    },
    "tags": []
   },
   "source": [
    "# Unemployment Rate Analysis: Data Visualization"
   ]
  },
  {
   "cell_type": "code",
   "execution_count": 16,
   "metadata": {
    "execution": {
     "iopub.execute_input": "2023-09-07T06:23:18.224472Z",
     "iopub.status.busy": "2023-09-07T06:23:18.223984Z",
     "iopub.status.idle": "2023-09-07T06:23:18.761614Z",
     "shell.execute_reply": "2023-09-07T06:23:18.760176Z"
    },
    "papermill": {
     "duration": 0.561219,
     "end_time": "2023-09-07T06:23:18.764722",
     "exception": false,
     "start_time": "2023-09-07T06:23:18.203503",
     "status": "completed"
    },
    "tags": []
   },
   "outputs": [
    {
     "data": {
      "image/png": "[encoded data removed]",
      "text/plain": [
       "<Figure size 640x480 with 1 Axes>"
      ]
     },
     "metadata": {},
     "output_type": "display_data"
    }
   ],
   "source": [
    "#The estimated number of employees according to different regions of India:\n",
    "data.columns= [\"state\",\"date\",\"frequency\",\n",
    "               \"estimated unemployment rate\",\"estimated employed\",\n",
    "               \"estimated labour participation rate\",\"region\",\n",
    "               \"longitude\",\"latitude\",\"month_int\"]\n",
    "plt.title(\"Indian Unemployment\")\n",
    "sns.histplot(x=\"estimated employed\", hue=\"region\", data=data)\n",
    "plt.show()\n",
    "\n"
   ]
  },
  {
   "cell_type": "code",
   "execution_count": 17,
   "metadata": {
    "execution": {
     "iopub.execute_input": "2023-09-07T06:23:18.80761Z",
     "iopub.status.busy": "2023-09-07T06:23:18.807181Z",
     "iopub.status.idle": "2023-09-07T06:23:19.558699Z",
     "shell.execute_reply": "2023-09-07T06:23:19.557739Z"
    },
    "papermill": {
     "duration": 0.776756,
     "end_time": "2023-09-07T06:23:19.561047",
     "exception": false,
     "start_time": "2023-09-07T06:23:18.784291",
     "status": "completed"
    },
    "tags": []
   },
   "outputs": [
    {
     "data": {
      "image/png": "[encoded data removed]",
      "text/plain": [
       "<Figure size 1200x1000 with 1 Axes>"
      ]
     },
     "metadata": {},
     "output_type": "display_data"
    }
   ],
   "source": [
    "#The unemployment rate according to different regions of India:\n",
    "plt.figure(figsize=(12, 10))\n",
    "plt.title(\"Indian Unemployment\")\n",
    "sns.histplot(x=\"estimated unemployment rate\", hue=\"region\", data=data)\n",
    "plt.show()\n"
   ]
  },
  {
   "cell_type": "code",
   "execution_count": 18,
   "metadata": {
    "execution": {
     "iopub.execute_input": "2023-09-07T06:23:19.605052Z",
     "iopub.status.busy": "2023-09-07T06:23:19.604144Z",
     "iopub.status.idle": "2023-09-07T06:23:21.021699Z",
     "shell.execute_reply": "2023-09-07T06:23:21.019483Z"
    },
    "papermill": {
     "duration": 1.44641,
     "end_time": "2023-09-07T06:23:21.028224",
     "exception": false,
     "start_time": "2023-09-07T06:23:19.581814",
     "status": "completed"
    },
    "tags": []
   },
   "outputs": [
    {
     "data": {
      "text/html": [
       "        <script type=\"text/javascript\">\n",
       "        window.PlotlyConfig = {MathJaxConfig: 'local'};\n",
       "        if (window.MathJax && window.MathJax.Hub && window.MathJax.Hub.Config) {window.MathJax.Hub.Config({SVG: {font: \"STIX-Web\"}});}\n",
       "        if (typeof require !== 'undefined') {\n",
       "        require.undef(\"plotly\");\n",
       "        requirejs.config({\n",
       "            paths: {\n",
       "                'plotly': ['https://cdn.plot.ly/plotly-2.12.1.min']\n",
       "            }\n",
       "        });\n",
       "        require(['plotly'], function(Plotly) {\n",
       "            window._Plotly = Plotly;\n",
       "        });\n",
       "        }\n",
       "        </script>\n",
       "        "
      ]
     },
     "metadata": {},
     "output_type": "display_data"
    }
   ],
   "source": [
    "import plotly.express as px\n",
    "from plotly.offline import init_notebook_mode, iplot\n",
    "init_notebook_mode(connected=True)\n"
   ]
  },
  {
   "cell_type": "code",
   "execution_count": 19,
   "metadata": {
    "execution": {
     "iopub.execute_input": "2023-09-07T06:23:21.07356Z",
     "iopub.status.busy": "2023-09-07T06:23:21.071855Z",
     "iopub.status.idle": "2023-09-07T06:23:23.485787Z",
     "shell.execute_reply": "2023-09-07T06:23:23.484103Z"
    },
    "papermill": {
     "duration": 2.442303,
     "end_time": "2023-09-07T06:23:23.491598",
     "exception": false,
     "start_time": "2023-09-07T06:23:21.049295",
     "status": "completed"
    },
    "tags": []
   },
   "outputs": [
    {
     "data": {
      "application/vnd.plotly.v1+json": {
       "config": {
        "plotlyServerURL": "https://plot.ly"
       },
       "data": [
        {
         "alignmentgroup": "True",
         "hovertemplate": "state=%{x}<br>estimated unemployment rate=%{y}<extra></extra>",
         "legendgroup": "Andhra Pradesh",
         "marker": {
          "color": "rgb(76,114,176)"
         },
         "name": "Andhra Pradesh",
         "notched": false,
         "offsetgroup": "Andhra Pradesh",
         "orientation": "v",
         "showlegend": true,
         "type": "box",
         "x": [
          "Andhra Pradesh",
          "Andhra Pradesh",
          "Andhra Pradesh",
          "Andhra Pradesh",
          "Andhra Pradesh",
          "Andhra Pradesh",
          "Andhra Pradesh",
          "Andhra Pradesh",
          "Andhra Pradesh",
          "Andhra Pradesh"
         ],
         "x0": " ",
         "xaxis": "x",
         "y": [
          5.48,
          5.83,
          5.79,
          20.51,
          17.43,
          3.31,
          8.34,
          6.96,
          6.4,
          6.59
         ],
         "y0": " ",
         "yaxis": "y"
        },
        {
         "alignmentgroup": "True",
         "hovertemplate": "state=%{x}<br>estimated unemployment rate=%{y}<extra></extra>",
         "legendgroup": "Assam",
         "marker": {
          "color": "rgb(221,132,82)"
         },
         "name": "Assam",
         "notched": false,
         "offsetgroup": "Assam",
         "orientation": "v",
         "showlegend": true,
         "type": "box",
         "x": [
          "Assam",
          "Assam",
          "Assam",
          "Assam",
          "Assam",
          "Assam",
          "Assam",
          "Assam",
          "Assam",
          "Assam"
         ],
         "x0": " ",
         "xaxis": "x",
         "y": [
          4.66,
          4.41,
          4.77,
          11.06,
          9.55,
          0.6,
          3.77,
          5.53,
          1.19,
          3.02
         ],
         "y0": " ",
         "yaxis": "y"
        },
        {
         "alignmentgroup": "True",
         "hovertemplate": "state=%{x}<br>estimated unemployment rate=%{y}<extra></extra>",
         "legendgroup": "Bihar",
         "marker": {
          "color": "rgb(85,168,104)"
         },
         "name": "Bihar",
         "notched": false,
         "offsetgroup": "Bihar",
         "orientation": "v",
         "showlegend": true,
         "type": "box",
         "x": [
          "Bihar",
          "Bihar",
          "Bihar",
          "Bihar",
          "Bihar",
          "Bihar",
          "Bihar",
          "Bihar",
          "Bihar",
          "Bihar"
         ],
         "x0": " ",
         "xaxis": "x",
         "y": [
          10.61,
          10.29,
          15.43,
          46.64,
          45.96,
          17.82,
          12.79,
          13.44,
          11.91,
          9.82
         ],
         "y0": " ",
         "yaxis": "y"
        },
        {
         "alignmentgroup": "True",
         "hovertemplate": "state=%{x}<br>estimated unemployment rate=%{y}<extra></extra>",
         "legendgroup": "Chhattisgarh",
         "marker": {
          "color": "rgb(196,78,82)"
         },
         "name": "Chhattisgarh",
         "notched": false,
         "offsetgroup": "Chhattisgarh",
         "orientation": "v",
         "showlegend": true,
         "type": "box",
         "x": [
          "Chhattisgarh",
          "Chhattisgarh",
          "Chhattisgarh",
          "Chhattisgarh",
          "Chhattisgarh",
          "Chhattisgarh",
          "Chhattisgarh",
          "Chhattisgarh",
          "Chhattisgarh",
          "Chhattisgarh"
         ],
         "x0": " ",
         "xaxis": "x",
         "y": [
          9.65,
          8.38,
          7.54,
          3.41,
          10.5,
          14.23,
          10.27,
          5.63,
          1.96,
          6.62
         ],
         "y0": " ",
         "yaxis": "y"
        },
        {
         "alignmentgroup": "True",
         "hovertemplate": "state=%{x}<br>estimated unemployment rate=%{y}<extra></extra>",
         "legendgroup": "Delhi",
         "marker": {
          "color": "rgb(129,114,179)"
         },
         "name": "Delhi",
         "notched": false,
         "offsetgroup": "Delhi",
         "orientation": "v",
         "showlegend": true,
         "type": "box",
         "x": [
          "Delhi",
          "Delhi",
          "Delhi",
          "Delhi",
          "Delhi",
          "Delhi",
          "Delhi",
          "Delhi",
          "Delhi",
          "Delhi"
         ],
         "x0": " ",
         "xaxis": "x",
         "y": [
          22.23,
          14.84,
          17.04,
          16.68,
          42.27,
          18.19,
          20.3,
          13.79,
          12.53,
          6.27
         ],
         "y0": " ",
         "yaxis": "y"
        },
        {
         "alignmentgroup": "True",
         "hovertemplate": "state=%{x}<br>estimated unemployment rate=%{y}<extra></extra>",
         "legendgroup": "Goa",
         "marker": {
          "color": "rgb(147,120,96)"
         },
         "name": "Goa",
         "notched": false,
         "offsetgroup": "Goa",
         "orientation": "v",
         "showlegend": true,
         "type": "box",
         "x": [
          "Goa",
          "Goa",
          "Goa",
          "Goa",
          "Goa",
          "Goa",
          "Goa",
          "Goa",
          "Goa",
          "Goa"
         ],
         "x0": " ",
         "xaxis": "x",
         "y": [
          8.89,
          2.81,
          5.25,
          13.31,
          21.25,
          9.96,
          17.07,
          16.21,
          15.38,
          11.54
         ],
         "y0": " ",
         "yaxis": "y"
        },
        {
         "alignmentgroup": "True",
         "hovertemplate": "state=%{x}<br>estimated unemployment rate=%{y}<extra></extra>",
         "legendgroup": "Gujarat",
         "marker": {
          "color": "rgb(218,139,195)"
         },
         "name": "Gujarat",
         "notched": false,
         "offsetgroup": "Gujarat",
         "orientation": "v",
         "showlegend": true,
         "type": "box",
         "x": [
          "Gujarat",
          "Gujarat",
          "Gujarat",
          "Gujarat",
          "Gujarat",
          "Gujarat",
          "Gujarat",
          "Gujarat",
          "Gujarat",
          "Gujarat"
         ],
         "x0": " ",
         "xaxis": "x",
         "y": [
          5.54,
          6.38,
          6.66,
          18.71,
          12.11,
          3.2,
          1.84,
          1.87,
          3.42,
          4.03
         ],
         "y0": " ",
         "yaxis": "y"
        },
        {
         "alignmentgroup": "True",
         "hovertemplate": "state=%{x}<br>estimated unemployment rate=%{y}<extra></extra>",
         "legendgroup": "Haryana",
         "marker": {
          "color": "rgb(140,140,140)"
         },
         "name": "Haryana",
         "notched": false,
         "offsetgroup": "Haryana",
         "orientation": "v",
         "showlegend": true,
         "type": "box",
         "x": [
          "Haryana",
          "Haryana",
          "Haryana",
          "Haryana",
          "Haryana",
          "Haryana",
          "Haryana",
          "Haryana",
          "Haryana",
          "Haryana"
         ],
         "x0": " ",
         "xaxis": "x",
         "y": [
          20.34,
          25.77,
          25.05,
          43.22,
          29.02,
          26.7,
          24.18,
          33.5,
          19.68,
          27.31
         ],
         "y0": " ",
         "yaxis": "y"
        },
        {
         "alignmentgroup": "True",
         "hovertemplate": "state=%{x}<br>estimated unemployment rate=%{y}<extra></extra>",
         "legendgroup": "Himachal Pradesh",
         "marker": {
          "color": "rgb(204,185,116)"
         },
         "name": "Himachal Pradesh",
         "notched": false,
         "offsetgroup": "Himachal Pradesh",
         "orientation": "v",
         "showlegend": true,
         "type": "box",
         "x": [
          "Himachal Pradesh",
          "Himachal Pradesh",
          "Himachal Pradesh",
          "Himachal Pradesh",
          "Himachal Pradesh",
          "Himachal Pradesh",
          "Himachal Pradesh",
          "Himachal Pradesh",
          "Himachal Pradesh",
          "Himachal Pradesh"
         ],
         "x0": " ",
         "xaxis": "x",
         "y": [
          16.83,
          16.84,
          18.76,
          2.2,
          26.95,
          13.47,
          24.31,
          15.79,
          12.04,
          13.46
         ],
         "y0": " ",
         "yaxis": "y"
        },
        {
         "alignmentgroup": "True",
         "hovertemplate": "state=%{x}<br>estimated unemployment rate=%{y}<extra></extra>",
         "legendgroup": "Jammu & Kashmir",
         "marker": {
          "color": "rgb(100,181,205)"
         },
         "name": "Jammu & Kashmir",
         "notched": false,
         "offsetgroup": "Jammu & Kashmir",
         "orientation": "v",
         "showlegend": true,
         "type": "box",
         "x": [
          "Jammu & Kashmir",
          "Jammu & Kashmir",
          "Jammu & Kashmir",
          "Jammu & Kashmir",
          "Jammu & Kashmir",
          "Jammu & Kashmir",
          "Jammu & Kashmir",
          "Jammu & Kashmir",
          "Jammu & Kashmir"
         ],
         "x0": " ",
         "xaxis": "x",
         "y": [
          21.08,
          20.78,
          15.5,
          18.74,
          17.92,
          10.88,
          11.09,
          16.17,
          16.14
         ],
         "y0": " ",
         "yaxis": "y"
        },
        {
         "alignmentgroup": "True",
         "hovertemplate": "state=%{x}<br>estimated unemployment rate=%{y}<extra></extra>",
         "legendgroup": "Jharkhand",
         "marker": {
          "color": "rgb(76,114,176)"
         },
         "name": "Jharkhand",
         "notched": false,
         "offsetgroup": "Jharkhand",
         "orientation": "v",
         "showlegend": true,
         "type": "box",
         "x": [
          "Jharkhand",
          "Jharkhand",
          "Jharkhand",
          "Jharkhand",
          "Jharkhand",
          "Jharkhand",
          "Jharkhand",
          "Jharkhand",
          "Jharkhand",
          "Jharkhand"
         ],
         "x0": " ",
         "xaxis": "x",
         "y": [
          10.61,
          11.85,
          8.23,
          47.09,
          59.23,
          20.95,
          7.63,
          9.76,
          8.24,
          11.8
         ],
         "y0": " ",
         "yaxis": "y"
        },
        {
         "alignmentgroup": "True",
         "hovertemplate": "state=%{x}<br>estimated unemployment rate=%{y}<extra></extra>",
         "legendgroup": "Karnataka",
         "marker": {
          "color": "rgb(221,132,82)"
         },
         "name": "Karnataka",
         "notched": false,
         "offsetgroup": "Karnataka",
         "orientation": "v",
         "showlegend": true,
         "type": "box",
         "x": [
          "Karnataka",
          "Karnataka",
          "Karnataka",
          "Karnataka",
          "Karnataka",
          "Karnataka",
          "Karnataka",
          "Karnataka",
          "Karnataka",
          "Karnataka"
         ],
         "x0": " ",
         "xaxis": "x",
         "y": [
          2.86,
          3.61,
          3.46,
          29.84,
          19.97,
          8.44,
          4.01,
          0.5,
          2.41,
          1.58
         ],
         "y0": " ",
         "yaxis": "y"
        },
        {
         "alignmentgroup": "True",
         "hovertemplate": "state=%{x}<br>estimated unemployment rate=%{y}<extra></extra>",
         "legendgroup": "Kerala",
         "marker": {
          "color": "rgb(85,168,104)"
         },
         "name": "Kerala",
         "notched": false,
         "offsetgroup": "Kerala",
         "orientation": "v",
         "showlegend": true,
         "type": "box",
         "x": [
          "Kerala",
          "Kerala",
          "Kerala",
          "Kerala",
          "Kerala",
          "Kerala",
          "Kerala",
          "Kerala",
          "Kerala",
          "Kerala"
         ],
         "x0": " ",
         "xaxis": "x",
         "y": [
          5.31,
          7.6,
          8.99,
          16.99,
          17.88,
          9.71,
          7.09,
          10.98,
          5.91,
          3.88
         ],
         "y0": " ",
         "yaxis": "y"
        },
        {
         "alignmentgroup": "True",
         "hovertemplate": "state=%{x}<br>estimated unemployment rate=%{y}<extra></extra>",
         "legendgroup": "Madhya Pradesh",
         "marker": {
          "color": "rgb(196,78,82)"
         },
         "name": "Madhya Pradesh",
         "notched": false,
         "offsetgroup": "Madhya Pradesh",
         "orientation": "v",
         "showlegend": true,
         "type": "box",
         "x": [
          "Madhya Pradesh",
          "Madhya Pradesh",
          "Madhya Pradesh",
          "Madhya Pradesh",
          "Madhya Pradesh",
          "Madhya Pradesh",
          "Madhya Pradesh",
          "Madhya Pradesh",
          "Madhya Pradesh",
          "Madhya Pradesh"
         ],
         "x0": " ",
         "xaxis": "x",
         "y": [
          4.11,
          4.57,
          2.22,
          12.36,
          21.98,
          6.48,
          5.08,
          4.7,
          3.91,
          3.13
         ],
         "y0": " ",
         "yaxis": "y"
        },
        {
         "alignmentgroup": "True",
         "hovertemplate": "state=%{x}<br>estimated unemployment rate=%{y}<extra></extra>",
         "legendgroup": "Maharashtra",
         "marker": {
          "color": "rgb(129,114,179)"
         },
         "name": "Maharashtra",
         "notched": false,
         "offsetgroup": "Maharashtra",
         "orientation": "v",
         "showlegend": true,
         "type": "box",
         "x": [
          "Maharashtra",
          "Maharashtra",
          "Maharashtra",
          "Maharashtra",
          "Maharashtra",
          "Maharashtra",
          "Maharashtra",
          "Maharashtra",
          "Maharashtra",
          "Maharashtra"
         ],
         "x0": " ",
         "xaxis": "x",
         "y": [
          4.95,
          4.69,
          5.79,
          20.9,
          15.46,
          9.23,
          3.89,
          6.23,
          4.55,
          4.1
         ],
         "y0": " ",
         "yaxis": "y"
        },
        {
         "alignmentgroup": "True",
         "hovertemplate": "state=%{x}<br>estimated unemployment rate=%{y}<extra></extra>",
         "legendgroup": "Meghalaya",
         "marker": {
          "color": "rgb(147,120,96)"
         },
         "name": "Meghalaya",
         "notched": false,
         "offsetgroup": "Meghalaya",
         "orientation": "v",
         "showlegend": true,
         "type": "box",
         "x": [
          "Meghalaya",
          "Meghalaya",
          "Meghalaya",
          "Meghalaya",
          "Meghalaya",
          "Meghalaya",
          "Meghalaya",
          "Meghalaya",
          "Meghalaya",
          "Meghalaya"
         ],
         "x0": " ",
         "xaxis": "x",
         "y": [
          1.66,
          3.59,
          1.58,
          10.03,
          5.92,
          1.15,
          2.1,
          3.74,
          4.29,
          4.6
         ],
         "y0": " ",
         "yaxis": "y"
        },
        {
         "alignmentgroup": "True",
         "hovertemplate": "state=%{x}<br>estimated unemployment rate=%{y}<extra></extra>",
         "legendgroup": "Odisha",
         "marker": {
          "color": "rgb(218,139,195)"
         },
         "name": "Odisha",
         "notched": false,
         "offsetgroup": "Odisha",
         "orientation": "v",
         "showlegend": true,
         "type": "box",
         "x": [
          "Odisha",
          "Odisha",
          "Odisha",
          "Odisha",
          "Odisha",
          "Odisha",
          "Odisha",
          "Odisha",
          "Odisha",
          "Odisha"
         ],
         "x0": " ",
         "xaxis": "x",
         "y": [
          1.9,
          3.12,
          13.08,
          23.76,
          11.41,
          3.77,
          1.88,
          1.42,
          2.1,
          2.18
         ],
         "y0": " ",
         "yaxis": "y"
        },
        {
         "alignmentgroup": "True",
         "hovertemplate": "state=%{x}<br>estimated unemployment rate=%{y}<extra></extra>",
         "legendgroup": "Puducherry",
         "marker": {
          "color": "rgb(140,140,140)"
         },
         "name": "Puducherry",
         "notched": false,
         "offsetgroup": "Puducherry",
         "orientation": "v",
         "showlegend": true,
         "type": "box",
         "x": [
          "Puducherry",
          "Puducherry",
          "Puducherry",
          "Puducherry",
          "Puducherry",
          "Puducherry",
          "Puducherry",
          "Puducherry",
          "Puducherry",
          "Puducherry"
         ],
         "x0": " ",
         "xaxis": "x",
         "y": [
          0.58,
          1.76,
          1.2,
          75.85,
          58.19,
          4.24,
          15.47,
          5.05,
          10.9,
          6.18
         ],
         "y0": " ",
         "yaxis": "y"
        },
        {
         "alignmentgroup": "True",
         "hovertemplate": "state=%{x}<br>estimated unemployment rate=%{y}<extra></extra>",
         "legendgroup": "Punjab",
         "marker": {
          "color": "rgb(204,185,116)"
         },
         "name": "Punjab",
         "notched": false,
         "offsetgroup": "Punjab",
         "orientation": "v",
         "showlegend": true,
         "type": "box",
         "x": [
          "Punjab",
          "Punjab",
          "Punjab",
          "Punjab",
          "Punjab",
          "Punjab",
          "Punjab",
          "Punjab",
          "Punjab",
          "Punjab"
         ],
         "x0": " ",
         "xaxis": "x",
         "y": [
          11.11,
          10.97,
          10.32,
          2.86,
          28.33,
          16.55,
          9.19,
          10.99,
          9.61,
          9.88
         ],
         "y0": " ",
         "yaxis": "y"
        },
        {
         "alignmentgroup": "True",
         "hovertemplate": "state=%{x}<br>estimated unemployment rate=%{y}<extra></extra>",
         "legendgroup": "Rajasthan",
         "marker": {
          "color": "rgb(100,181,205)"
         },
         "name": "Rajasthan",
         "notched": false,
         "offsetgroup": "Rajasthan",
         "orientation": "v",
         "showlegend": true,
         "type": "box",
         "x": [
          "Rajasthan",
          "Rajasthan",
          "Rajasthan",
          "Rajasthan",
          "Rajasthan",
          "Rajasthan",
          "Rajasthan",
          "Rajasthan",
          "Rajasthan",
          "Rajasthan"
         ],
         "x0": " ",
         "xaxis": "x",
         "y": [
          10.97,
          15.16,
          11.9,
          17.7,
          15.74,
          14.39,
          15.81,
          17.51,
          15.35,
          24.15
         ],
         "y0": " ",
         "yaxis": "y"
        },
        {
         "alignmentgroup": "True",
         "hovertemplate": "state=%{x}<br>estimated unemployment rate=%{y}<extra></extra>",
         "legendgroup": "Sikkim",
         "marker": {
          "color": "rgb(76,114,176)"
         },
         "name": "Sikkim",
         "notched": false,
         "offsetgroup": "Sikkim",
         "orientation": "v",
         "showlegend": true,
         "type": "box",
         "x": [
          "Sikkim",
          "Sikkim",
          "Sikkim",
          "Sikkim",
          "Sikkim",
          "Sikkim",
          "Sikkim",
          "Sikkim"
         ],
         "x0": " ",
         "xaxis": "x",
         "y": [
          23.57,
          2.28,
          24.51,
          4.46,
          4.45,
          12.49,
          5.7,
          0.88
         ],
         "y0": " ",
         "yaxis": "y"
        },
        {
         "alignmentgroup": "True",
         "hovertemplate": "state=%{x}<br>estimated unemployment rate=%{y}<extra></extra>",
         "legendgroup": "Tamil Nadu",
         "marker": {
          "color": "rgb(221,132,82)"
         },
         "name": "Tamil Nadu",
         "notched": false,
         "offsetgroup": "Tamil Nadu",
         "orientation": "v",
         "showlegend": true,
         "type": "box",
         "x": [
          "Tamil Nadu",
          "Tamil Nadu",
          "Tamil Nadu",
          "Tamil Nadu",
          "Tamil Nadu",
          "Tamil Nadu",
          "Tamil Nadu",
          "Tamil Nadu",
          "Tamil Nadu",
          "Tamil Nadu"
         ],
         "x0": " ",
         "xaxis": "x",
         "y": [
          1.57,
          2.09,
          6.4,
          49.83,
          33.16,
          12.2,
          6.81,
          2.65,
          5,
          2.16
         ],
         "y0": " ",
         "yaxis": "y"
        },
        {
         "alignmentgroup": "True",
         "hovertemplate": "state=%{x}<br>estimated unemployment rate=%{y}<extra></extra>",
         "legendgroup": "Telangana",
         "marker": {
          "color": "rgb(85,168,104)"
         },
         "name": "Telangana",
         "notched": false,
         "offsetgroup": "Telangana",
         "orientation": "v",
         "showlegend": true,
         "type": "box",
         "x": [
          "Telangana",
          "Telangana",
          "Telangana",
          "Telangana",
          "Telangana",
          "Telangana",
          "Telangana",
          "Telangana",
          "Telangana",
          "Telangana"
         ],
         "x0": " ",
         "xaxis": "x",
         "y": [
          5.49,
          8.29,
          5.77,
          6.25,
          14.7,
          10.55,
          5.36,
          5.79,
          3.27,
          2.86
         ],
         "y0": " ",
         "yaxis": "y"
        },
        {
         "alignmentgroup": "True",
         "hovertemplate": "state=%{x}<br>estimated unemployment rate=%{y}<extra></extra>",
         "legendgroup": "Tripura",
         "marker": {
          "color": "rgb(196,78,82)"
         },
         "name": "Tripura",
         "notched": false,
         "offsetgroup": "Tripura",
         "orientation": "v",
         "showlegend": true,
         "type": "box",
         "x": [
          "Tripura",
          "Tripura",
          "Tripura",
          "Tripura",
          "Tripura",
          "Tripura",
          "Tripura",
          "Tripura",
          "Tripura",
          "Tripura"
         ],
         "x0": " ",
         "xaxis": "x",
         "y": [
          32.67,
          28.4,
          29.95,
          41.23,
          21.51,
          21.71,
          18.24,
          27.92,
          17.35,
          11.57
         ],
         "y0": " ",
         "yaxis": "y"
        },
        {
         "alignmentgroup": "True",
         "hovertemplate": "state=%{x}<br>estimated unemployment rate=%{y}<extra></extra>",
         "legendgroup": "Uttar Pradesh",
         "marker": {
          "color": "rgb(129,114,179)"
         },
         "name": "Uttar Pradesh",
         "notched": false,
         "offsetgroup": "Uttar Pradesh",
         "orientation": "v",
         "showlegend": true,
         "type": "box",
         "x": [
          "Uttar Pradesh",
          "Uttar Pradesh",
          "Uttar Pradesh",
          "Uttar Pradesh",
          "Uttar Pradesh",
          "Uttar Pradesh",
          "Uttar Pradesh",
          "Uttar Pradesh",
          "Uttar Pradesh",
          "Uttar Pradesh"
         ],
         "x0": " ",
         "xaxis": "x",
         "y": [
          7.58,
          8.98,
          10.11,
          21.54,
          20.41,
          9.47,
          5.56,
          5.79,
          4.18,
          3.75
         ],
         "y0": " ",
         "yaxis": "y"
        },
        {
         "alignmentgroup": "True",
         "hovertemplate": "state=%{x}<br>estimated unemployment rate=%{y}<extra></extra>",
         "legendgroup": "Uttarakhand",
         "marker": {
          "color": "rgb(147,120,96)"
         },
         "name": "Uttarakhand",
         "notched": false,
         "offsetgroup": "Uttarakhand",
         "orientation": "v",
         "showlegend": true,
         "type": "box",
         "x": [
          "Uttarakhand",
          "Uttarakhand",
          "Uttarakhand",
          "Uttarakhand",
          "Uttarakhand",
          "Uttarakhand",
          "Uttarakhand",
          "Uttarakhand",
          "Uttarakhand",
          "Uttarakhand"
         ],
         "x0": " ",
         "xaxis": "x",
         "y": [
          5.49,
          4.99,
          19.85,
          6.48,
          8.01,
          8.61,
          12.38,
          14.26,
          22.26,
          9.23
         ],
         "y0": " ",
         "yaxis": "y"
        },
        {
         "alignmentgroup": "True",
         "hovertemplate": "state=%{x}<br>estimated unemployment rate=%{y}<extra></extra>",
         "legendgroup": "West Bengal",
         "marker": {
          "color": "rgb(218,139,195)"
         },
         "name": "West Bengal",
         "notched": false,
         "offsetgroup": "West Bengal",
         "orientation": "v",
         "showlegend": true,
         "type": "box",
         "x": [
          "West Bengal",
          "West Bengal",
          "West Bengal",
          "West Bengal",
          "West Bengal",
          "West Bengal",
          "West Bengal",
          "West Bengal",
          "West Bengal",
          "West Bengal"
         ],
         "x0": " ",
         "xaxis": "x",
         "y": [
          6.94,
          4.92,
          6.92,
          17.41,
          17.41,
          7.29,
          6.83,
          14.87,
          9.35,
          9.98
         ],
         "y0": " ",
         "yaxis": "y"
        }
       ],
       "layout": {
        "boxmode": "overlay",
        "legend": {
         "title": {
          "text": "state"
         },
         "tracegroupgap": 0
        },
        "template": {
         "data": {
          "bar": [
           {
            "error_x": {
             "color": "rgb(36,36,36)"
            },
            "error_y": {
             "color": "rgb(36,36,36)"
            },
            "marker": {
             "line": {
              "color": "rgb(234,234,242)",
              "width": 0.5
             },
             "pattern": {
              "fillmode": "overlay",
              "size": 10,
              "solidity": 0.2
             }
            },
            "type": "bar"
           }
          ],
          "barpolar": [
           {
            "marker": {
             "line": {
              "color": "rgb(234,234,242)",
              "width": 0.5
             },
             "pattern": {
              "fillmode": "overlay",
              "size": 10,
              "solidity": 0.2
             }
            },
            "type": "barpolar"
           }
          ],
          "carpet": [
           {
            "aaxis": {
             "endlinecolor": "rgb(36,36,36)",
             "gridcolor": "white",
             "linecolor": "white",
             "minorgridcolor": "white",
             "startlinecolor": "rgb(36,36,36)"
            },
            "baxis": {
             "endlinecolor": "rgb(36,36,36)",
             "gridcolor": "white",
             "linecolor": "white",
             "minorgridcolor": "white",
             "startlinecolor": "rgb(36,36,36)"
            },
            "type": "carpet"
           }
          ],
          "choropleth": [
           {
            "colorbar": {
             "outlinewidth": 0,
             "tickcolor": "rgb(36,36,36)",
             "ticklen": 8,
             "ticks": "outside",
             "tickwidth": 2
            },
            "type": "choropleth"
           }
          ],
          "contour": [
           {
            "colorbar": {
             "outlinewidth": 0,
             "tickcolor": "rgb(36,36,36)",
             "ticklen": 8,
             "ticks": "outside",
             "tickwidth": 2
            },
            "colorscale": [
             [
              0,
              "rgb(2,4,25)"
             ],
             [
              0.06274509803921569,
              "rgb(24,15,41)"
             ],
             [
              0.12549019607843137,
              "rgb(47,23,57)"
             ],
             [
              0.18823529411764706,
              "rgb(71,28,72)"
             ],
             [
              0.25098039215686274,
              "rgb(97,30,82)"
             ],
             [
              0.3137254901960784,
              "rgb(123,30,89)"
             ],
             [
              0.3764705882352941,
              "rgb(150,27,91)"
             ],
             [
              0.4392156862745098,
              "rgb(177,22,88)"
             ],
             [
              0.5019607843137255,
              "rgb(203,26,79)"
             ],
             [
              0.5647058823529412,
              "rgb(223,47,67)"
             ],
             [
              0.6274509803921569,
              "rgb(236,76,61)"
             ],
             [
              0.6901960784313725,
              "rgb(242,107,73)"
             ],
             [
              0.7529411764705882,
              "rgb(244,135,95)"
             ],
             [
              0.8156862745098039,
              "rgb(245,162,122)"
             ],
             [
              0.8784313725490196,
              "rgb(246,188,153)"
             ],
             [
              0.9411764705882353,
              "rgb(247,212,187)"
             ],
             [
              1,
              "rgb(250,234,220)"
             ]
            ],
            "type": "contour"
           }
          ],
          "contourcarpet": [
           {
            "colorbar": {
             "outlinewidth": 0,
             "tickcolor": "rgb(36,36,36)",
             "ticklen": 8,
             "ticks": "outside",
             "tickwidth": 2
            },
            "type": "contourcarpet"
           }
          ],
          "heatmap": [
           {
            "colorbar": {
             "outlinewidth": 0,
             "tickcolor": "rgb(36,36,36)",
             "ticklen": 8,
             "ticks": "outside",
             "tickwidth": 2
            },
            "colorscale": [
             [
              0,
              "rgb(2,4,25)"
             ],
             [
              0.06274509803921569,
              "rgb(24,15,41)"
             ],
             [
              0.12549019607843137,
              "rgb(47,23,57)"
             ],
             [
              0.18823529411764706,
              "rgb(71,28,72)"
             ],
             [
              0.25098039215686274,
              "rgb(97,30,82)"
             ],
             [
              0.3137254901960784,
              "rgb(123,30,89)"
             ],
             [
              0.3764705882352941,
              "rgb(150,27,91)"
             ],
             [
              0.4392156862745098,
              "rgb(177,22,88)"
             ],
             [
              0.5019607843137255,
              "rgb(203,26,79)"
             ],
             [
              0.5647058823529412,
              "rgb(223,47,67)"
             ],
             [
              0.6274509803921569,
              "rgb(236,76,61)"
             ],
             [
              0.6901960784313725,
              "rgb(242,107,73)"
             ],
             [
              0.7529411764705882,
              "rgb(244,135,95)"
             ],
             [
              0.8156862745098039,
              "rgb(245,162,122)"
             ],
             [
              0.8784313725490196,
              "rgb(246,188,153)"
             ],
             [
              0.9411764705882353,
              "rgb(247,212,187)"
             ],
             [
              1,
              "rgb(250,234,220)"
             ]
            ],
            "type": "heatmap"
           }
          ],
          "heatmapgl": [
           {
            "colorbar": {
             "outlinewidth": 0,
             "tickcolor": "rgb(36,36,36)",
             "ticklen": 8,
             "ticks": "outside",
             "tickwidth": 2
            },
            "colorscale": [
             [
              0,
              "rgb(2,4,25)"
             ],
             [
              0.06274509803921569,
              "rgb(24,15,41)"
             ],
             [
              0.12549019607843137,
              "rgb(47,23,57)"
             ],
             [
              0.18823529411764706,
              "rgb(71,28,72)"
             ],
             [
              0.25098039215686274,
              "rgb(97,30,82)"
             ],
             [
              0.3137254901960784,
              "rgb(123,30,89)"
             ],
             [
              0.3764705882352941,
              "rgb(150,27,91)"
             ],
             [
              0.4392156862745098,
              "rgb(177,22,88)"
             ],
             [
              0.5019607843137255,
              "rgb(203,26,79)"
             ],
             [
              0.5647058823529412,
              "rgb(223,47,67)"
             ],
             [
              0.6274509803921569,
              "rgb(236,76,61)"
             ],
             [
              0.6901960784313725,
              "rgb(242,107,73)"
             ],
             [
              0.7529411764705882,
              "rgb(244,135,95)"
             ],
             [
              0.8156862745098039,
              "rgb(245,162,122)"
             ],
             [
              0.8784313725490196,
              "rgb(246,188,153)"
             ],
             [
              0.9411764705882353,
              "rgb(247,212,187)"
             ],
             [
              1,
              "rgb(250,234,220)"
             ]
            ],
            "type": "heatmapgl"
           }
          ],
          "histogram": [
           {
            "marker": {
             "pattern": {
              "fillmode": "overlay",
              "size": 10,
              "solidity": 0.2
             }
            },
            "type": "histogram"
           }
          ],
          "histogram2d": [
           {
            "colorbar": {
             "outlinewidth": 0,
             "tickcolor": "rgb(36,36,36)",
             "ticklen": 8,
             "ticks": "outside",
             "tickwidth": 2
            },
            "colorscale": [
             [
              0,
              "rgb(2,4,25)"
             ],
             [
              0.06274509803921569,
              "rgb(24,15,41)"
             ],
             [
              0.12549019607843137,
              "rgb(47,23,57)"
             ],
             [
              0.18823529411764706,
              "rgb(71,28,72)"
             ],
             [
              0.25098039215686274,
              "rgb(97,30,82)"
             ],
             [
              0.3137254901960784,
              "rgb(123,30,89)"
             ],
             [
              0.3764705882352941,
              "rgb(150,27,91)"
             ],
             [
              0.4392156862745098,
              "rgb(177,22,88)"
             ],
             [
              0.5019607843137255,
              "rgb(203,26,79)"
             ],
             [
              0.5647058823529412,
              "rgb(223,47,67)"
             ],
             [
              0.6274509803921569,
              "rgb(236,76,61)"
             ],
             [
              0.6901960784313725,
              "rgb(242,107,73)"
             ],
             [
              0.7529411764705882,
              "rgb(244,135,95)"
             ],
             [
              0.8156862745098039,
              "rgb(245,162,122)"
             ],
             [
              0.8784313725490196,
              "rgb(246,188,153)"
             ],
             [
              0.9411764705882353,
              "rgb(247,212,187)"
             ],
             [
              1,
              "rgb(250,234,220)"
             ]
            ],
            "type": "histogram2d"
           }
          ],
          "histogram2dcontour": [
           {
            "colorbar": {
             "outlinewidth": 0,
             "tickcolor": "rgb(36,36,36)",
             "ticklen": 8,
             "ticks": "outside",
             "tickwidth": 2
            },
            "colorscale": [
             [
              0,
              "rgb(2,4,25)"
             ],
             [
              0.06274509803921569,
              "rgb(24,15,41)"
             ],
             [
              0.12549019607843137,
              "rgb(47,23,57)"
             ],
             [
              0.18823529411764706,
              "rgb(71,28,72)"
             ],
             [
              0.25098039215686274,
              "rgb(97,30,82)"
             ],
             [
              0.3137254901960784,
              "rgb(123,30,89)"
             ],
             [
              0.3764705882352941,
              "rgb(150,27,91)"
             ],
             [
              0.4392156862745098,
              "rgb(177,22,88)"
             ],
             [
              0.5019607843137255,
              "rgb(203,26,79)"
             ],
             [
              0.5647058823529412,
              "rgb(223,47,67)"
             ],
             [
              0.6274509803921569,
              "rgb(236,76,61)"
             ],
             [
              0.6901960784313725,
              "rgb(242,107,73)"
             ],
             [
              0.7529411764705882,
              "rgb(244,135,95)"
             ],
             [
              0.8156862745098039,
              "rgb(245,162,122)"
             ],
             [
              0.8784313725490196,
              "rgb(246,188,153)"
             ],
             [
              0.9411764705882353,
              "rgb(247,212,187)"
             ],
             [
              1,
              "rgb(250,234,220)"
             ]
            ],
            "type": "histogram2dcontour"
           }
          ],
          "mesh3d": [
           {
            "colorbar": {
             "outlinewidth": 0,
             "tickcolor": "rgb(36,36,36)",
             "ticklen": 8,
             "ticks": "outside",
             "tickwidth": 2
            },
            "type": "mesh3d"
           }
          ],
          "parcoords": [
           {
            "line": {
             "colorbar": {
              "outlinewidth": 0,
              "tickcolor": "rgb(36,36,36)",
              "ticklen": 8,
              "ticks": "outside",
              "tickwidth": 2
             }
            },
            "type": "parcoords"
           }
          ],
          "pie": [
           {
            "automargin": true,
            "type": "pie"
           }
          ],
          "scatter": [
           {
            "fillpattern": {
             "fillmode": "overlay",
             "size": 10,
             "solidity": 0.2
            },
            "type": "scatter"
           }
          ],
          "scatter3d": [
           {
            "line": {
             "colorbar": {
              "outlinewidth": 0,
              "tickcolor": "rgb(36,36,36)",
              "ticklen": 8,
              "ticks": "outside",
              "tickwidth": 2
             }
            },
            "marker": {
             "colorbar": {
              "outlinewidth": 0,
              "tickcolor": "rgb(36,36,36)",
              "ticklen": 8,
              "ticks": "outside",
              "tickwidth": 2
             }
            },
            "type": "scatter3d"
           }
          ],
          "scattercarpet": [
           {
            "marker": {
             "colorbar": {
              "outlinewidth": 0,
              "tickcolor": "rgb(36,36,36)",
              "ticklen": 8,
              "ticks": "outside",
              "tickwidth": 2
             }
            },
            "type": "scattercarpet"
           }
          ],
          "scattergeo": [
           {
            "marker": {
             "colorbar": {
              "outlinewidth": 0,
              "tickcolor": "rgb(36,36,36)",
              "ticklen": 8,
              "ticks": "outside",
              "tickwidth": 2
             }
            },
            "type": "scattergeo"
           }
          ],
          "scattergl": [
           {
            "marker": {
             "colorbar": {
              "outlinewidth": 0,
              "tickcolor": "rgb(36,36,36)",
              "ticklen": 8,
              "ticks": "outside",
              "tickwidth": 2
             }
            },
            "type": "scattergl"
           }
          ],
          "scattermapbox": [
           {
            "marker": {
             "colorbar": {
              "outlinewidth": 0,
              "tickcolor": "rgb(36,36,36)",
              "ticklen": 8,
              "ticks": "outside",
              "tickwidth": 2
             }
            },
            "type": "scattermapbox"
           }
          ],
          "scatterpolar": [
           {
            "marker": {
             "colorbar": {
              "outlinewidth": 0,
              "tickcolor": "rgb(36,36,36)",
              "ticklen": 8,
              "ticks": "outside",
              "tickwidth": 2
             }
            },
            "type": "scatterpolar"
           }
          ],
          "scatterpolargl": [
           {
            "marker": {
             "colorbar": {
              "outlinewidth": 0,
              "tickcolor": "rgb(36,36,36)",
              "ticklen": 8,
              "ticks": "outside",
              "tickwidth": 2
             }
            },
            "type": "scatterpolargl"
           }
          ],
          "scatterternary": [
           {
            "marker": {
             "colorbar": {
              "outlinewidth": 0,
              "tickcolor": "rgb(36,36,36)",
              "ticklen": 8,
              "ticks": "outside",
              "tickwidth": 2
             }
            },
            "type": "scatterternary"
           }
          ],
          "surface": [
           {
            "colorbar": {
             "outlinewidth": 0,
             "tickcolor": "rgb(36,36,36)",
             "ticklen": 8,
             "ticks": "outside",
             "tickwidth": 2
            },
            "colorscale": [
             [
              0,
              "rgb(2,4,25)"
             ],
             [
              0.06274509803921569,
              "rgb(24,15,41)"
             ],
             [
              0.12549019607843137,
              "rgb(47,23,57)"
             ],
             [
              0.18823529411764706,
              "rgb(71,28,72)"
             ],
             [
              0.25098039215686274,
              "rgb(97,30,82)"
             ],
             [
              0.3137254901960784,
              "rgb(123,30,89)"
             ],
             [
              0.3764705882352941,
              "rgb(150,27,91)"
             ],
             [
              0.4392156862745098,
              "rgb(177,22,88)"
             ],
             [
              0.5019607843137255,
              "rgb(203,26,79)"
             ],
             [
              0.5647058823529412,
              "rgb(223,47,67)"
             ],
             [
              0.6274509803921569,
              "rgb(236,76,61)"
             ],
             [
              0.6901960784313725,
              "rgb(242,107,73)"
             ],
             [
              0.7529411764705882,
              "rgb(244,135,95)"
             ],
             [
              0.8156862745098039,
              "rgb(245,162,122)"
             ],
             [
              0.8784313725490196,
              "rgb(246,188,153)"
             ],
             [
              0.9411764705882353,
              "rgb(247,212,187)"
             ],
             [
              1,
              "rgb(250,234,220)"
             ]
            ],
            "type": "surface"
           }
          ],
          "table": [
           {
            "cells": {
             "fill": {
              "color": "rgb(231,231,240)"
             },
             "line": {
              "color": "white"
             }
            },
            "header": {
             "fill": {
              "color": "rgb(183,183,191)"
             },
             "line": {
              "color": "white"
             }
            },
            "type": "table"
           }
          ]
         },
         "layout": {
          "annotationdefaults": {
           "arrowcolor": "rgb(67,103,167)"
          },
          "autotypenumbers": "strict",
          "coloraxis": {
           "colorbar": {
            "outlinewidth": 0,
            "tickcolor": "rgb(36,36,36)",
            "ticklen": 8,
            "ticks": "outside",
            "tickwidth": 2
           }
          },
          "colorscale": {
           "sequential": [
            [
             0,
             "rgb(2,4,25)"
            ],
            [
             0.06274509803921569,
             "rgb(24,15,41)"
            ],
            [
             0.12549019607843137,
             "rgb(47,23,57)"
            ],
            [
             0.18823529411764706,
             "rgb(71,28,72)"
            ],
            [
             0.25098039215686274,
             "rgb(97,30,82)"
            ],
            [
             0.3137254901960784,
             "rgb(123,30,89)"
            ],
            [
             0.3764705882352941,
             "rgb(150,27,91)"
            ],
            [
             0.4392156862745098,
             "rgb(177,22,88)"
            ],
            [
             0.5019607843137255,
             "rgb(203,26,79)"
            ],
            [
             0.5647058823529412,
             "rgb(223,47,67)"
            ],
            [
             0.6274509803921569,
             "rgb(236,76,61)"
            ],
            [
             0.6901960784313725,
             "rgb(242,107,73)"
            ],
            [
             0.7529411764705882,
             "rgb(244,135,95)"
            ],
            [
             0.8156862745098039,
             "rgb(245,162,122)"
            ],
            [
             0.8784313725490196,
             "rgb(246,188,153)"
            ],
            [
             0.9411764705882353,
             "rgb(247,212,187)"
            ],
            [
             1,
             "rgb(250,234,220)"
            ]
           ],
           "sequentialminus": [
            [
             0,
             "rgb(2,4,25)"
            ],
            [
             0.06274509803921569,
             "rgb(24,15,41)"
            ],
            [
             0.12549019607843137,
             "rgb(47,23,57)"
            ],
            [
             0.18823529411764706,
             "rgb(71,28,72)"
            ],
            [
             0.25098039215686274,
             "rgb(97,30,82)"
            ],
            [
             0.3137254901960784,
             "rgb(123,30,89)"
            ],
            [
             0.3764705882352941,
             "rgb(150,27,91)"
            ],
            [
             0.4392156862745098,
             "rgb(177,22,88)"
            ],
            [
             0.5019607843137255,
             "rgb(203,26,79)"
            ],
            [
             0.5647058823529412,
             "rgb(223,47,67)"
            ],
            [
             0.6274509803921569,
             "rgb(236,76,61)"
            ],
            [
             0.6901960784313725,
             "rgb(242,107,73)"
            ],
            [
             0.7529411764705882,
             "rgb(244,135,95)"
            ],
            [
             0.8156862745098039,
             "rgb(245,162,122)"
            ],
            [
             0.8784313725490196,
             "rgb(246,188,153)"
            ],
            [
             0.9411764705882353,
             "rgb(247,212,187)"
            ],
            [
             1,
             "rgb(250,234,220)"
            ]
           ]
          },
          "colorway": [
           "rgb(76,114,176)",
           "rgb(221,132,82)",
           "rgb(85,168,104)",
           "rgb(196,78,82)",
           "rgb(129,114,179)",
           "rgb(147,120,96)",
           "rgb(218,139,195)",
           "rgb(140,140,140)",
           "rgb(204,185,116)",
           "rgb(100,181,205)"
          ],
          "font": {
           "color": "rgb(36,36,36)"
          },
          "geo": {
           "bgcolor": "white",
           "lakecolor": "white",
           "landcolor": "rgb(234,234,242)",
           "showlakes": true,
           "showland": true,
           "subunitcolor": "white"
          },
          "hoverlabel": {
           "align": "left"
          },
          "hovermode": "closest",
          "paper_bgcolor": "white",
          "plot_bgcolor": "rgb(234,234,242)",
          "polar": {
           "angularaxis": {
            "gridcolor": "white",
            "linecolor": "white",
            "showgrid": true,
            "ticks": ""
           },
           "bgcolor": "rgb(234,234,242)",
           "radialaxis": {
            "gridcolor": "white",
            "linecolor": "white",
            "showgrid": true,
            "ticks": ""
           }
          },
          "scene": {
           "xaxis": {
            "backgroundcolor": "rgb(234,234,242)",
            "gridcolor": "white",
            "gridwidth": 2,
            "linecolor": "white",
            "showbackground": true,
            "showgrid": true,
            "ticks": "",
            "zerolinecolor": "white"
           },
           "yaxis": {
            "backgroundcolor": "rgb(234,234,242)",
            "gridcolor": "white",
            "gridwidth": 2,
            "linecolor": "white",
            "showbackground": true,
            "showgrid": true,
            "ticks": "",
            "zerolinecolor": "white"
           },
           "zaxis": {
            "backgroundcolor": "rgb(234,234,242)",
            "gridcolor": "white",
            "gridwidth": 2,
            "linecolor": "white",
            "showbackground": true,
            "showgrid": true,
            "ticks": "",
            "zerolinecolor": "white"
           }
          },
          "shapedefaults": {
           "fillcolor": "rgb(67,103,167)",
           "line": {
            "width": 0
           },
           "opacity": 0.5
          },
          "ternary": {
           "aaxis": {
            "gridcolor": "white",
            "linecolor": "white",
            "showgrid": true,
            "ticks": ""
           },
           "baxis": {
            "gridcolor": "white",
            "linecolor": "white",
            "showgrid": true,
            "ticks": ""
           },
           "bgcolor": "rgb(234,234,242)",
           "caxis": {
            "gridcolor": "white",
            "linecolor": "white",
            "showgrid": true,
            "ticks": ""
           }
          },
          "xaxis": {
           "automargin": true,
           "gridcolor": "white",
           "linecolor": "white",
           "showgrid": true,
           "ticks": "",
           "title": {
            "standoff": 15
           },
           "zerolinecolor": "white"
          },
          "yaxis": {
           "automargin": true,
           "gridcolor": "white",
           "linecolor": "white",
           "showgrid": true,
           "ticks": "",
           "title": {
            "standoff": 15
           },
           "zerolinecolor": "white"
          }
         }
        },
        "title": {
         "text": "Unemployment rate per States"
        },
        "xaxis": {
         "anchor": "y",
         "categoryarray": [
          "Andhra Pradesh",
          "Assam",
          "Bihar",
          "Chhattisgarh",
          "Delhi",
          "Goa",
          "Gujarat",
          "Haryana",
          "Himachal Pradesh",
          "Jammu & Kashmir",
          "Jharkhand",
          "Karnataka",
          "Kerala",
          "Madhya Pradesh",
          "Maharashtra",
          "Meghalaya",
          "Odisha",
          "Puducherry",
          "Punjab",
          "Rajasthan",
          "Sikkim",
          "Tamil Nadu",
          "Telangana",
          "Tripura",
          "Uttar Pradesh",
          "Uttarakhand",
          "West Bengal"
         ],
         "categoryorder": "total descending",
         "domain": [
          0,
          1
         ],
         "title": {
          "text": "state"
         }
        },
        "yaxis": {
         "anchor": "x",
         "domain": [
          0,
          1
         ],
         "title": {
          "text": "estimated unemployment rate"
         }
        }
       }
      },
      "text/html": [
       "<div>                            <div id=\"47f3844a-59a3-4cf1-9b0d-6569c7b6fea9\" class=\"plotly-graph-div\" style=\"height:525px; width:100%;\"></div>            <script type=\"text/javascript\">                require([\"plotly\"], function(Plotly) {                    window.PLOTLYENV=window.PLOTLYENV || {};                                    if (document.getElementById(\"47f3844a-59a3-4cf1-9b0d-6569c7b6fea9\")) {                    Plotly.newPlot(                        \"47f3844a-59a3-4cf1-9b0d-6569c7b6fea9\",                        [{\"alignmentgroup\":\"True\",\"hovertemplate\":\"state=%{x}<br>estimated unemployment rate=%{y}<extra></extra>\",\"legendgroup\":\"Andhra Pradesh\",\"marker\":{\"color\":\"rgb(76,114,176)\"},\"name\":\"Andhra Pradesh\",\"notched\":false,\"offsetgroup\":\"Andhra Pradesh\",\"orientation\":\"v\",\"showlegend\":true,\"x\":[\"Andhra Pradesh\",\"Andhra Pradesh\",\"Andhra Pradesh\",\"Andhra Pradesh\",\"Andhra Pradesh\",\"Andhra Pradesh\",\"Andhra Pradesh\",\"Andhra Pradesh\",\"Andhra Pradesh\",\"Andhra Pradesh\"],\"x0\":\" \",\"xaxis\":\"x\",\"y\":[5.48,5.83,5.79,20.51,17.43,3.31,8.34,6.96,6.4,6.59],\"y0\":\" \",\"yaxis\":\"y\",\"type\":\"box\"},{\"alignmentgroup\":\"True\",\"hovertemplate\":\"state=%{x}<br>estimated unemployment rate=%{y}<extra></extra>\",\"legendgroup\":\"Assam\",\"marker\":{\"color\":\"rgb(221,132,82)\"},\"name\":\"Assam\",\"notched\":false,\"offsetgroup\":\"Assam\",\"orientation\":\"v\",\"showlegend\":true,\"x\":[\"Assam\",\"Assam\",\"Assam\",\"Assam\",\"Assam\",\"Assam\",\"Assam\",\"Assam\",\"Assam\",\"Assam\"],\"x0\":\" \",\"xaxis\":\"x\",\"y\":[4.66,4.41,4.77,11.06,9.55,0.6,3.77,5.53,1.19,3.02],\"y0\":\" \",\"yaxis\":\"y\",\"type\":\"box\"},{\"alignmentgroup\":\"True\",\"hovertemplate\":\"state=%{x}<br>estimated unemployment rate=%{y}<extra></extra>\",\"legendgroup\":\"Bihar\",\"marker\":{\"color\":\"rgb(85,168,104)\"},\"name\":\"Bihar\",\"notched\":false,\"offsetgroup\":\"Bihar\",\"orientation\":\"v\",\"showlegend\":true,\"x\":[\"Bihar\",\"Bihar\",\"Bihar\",\"Bihar\",\"Bihar\",\"Bihar\",\"Bihar\",\"Bihar\",\"Bihar\",\"Bihar\"],\"x0\":\" \",\"xaxis\":\"x\",\"y\":[10.61,10.29,15.43,46.64,45.96,17.82,12.79,13.44,11.91,9.82],\"y0\":\" \",\"yaxis\":\"y\",\"type\":\"box\"},{\"alignmentgroup\":\"True\",\"hovertemplate\":\"state=%{x}<br>estimated unemployment rate=%{y}<extra></extra>\",\"legendgroup\":\"Chhattisgarh\",\"marker\":{\"color\":\"rgb(196,78,82)\"},\"name\":\"Chhattisgarh\",\"notched\":false,\"offsetgroup\":\"Chhattisgarh\",\"orientation\":\"v\",\"showlegend\":true,\"x\":[\"Chhattisgarh\",\"Chhattisgarh\",\"Chhattisgarh\",\"Chhattisgarh\",\"Chhattisgarh\",\"Chhattisgarh\",\"Chhattisgarh\",\"Chhattisgarh\",\"Chhattisgarh\",\"Chhattisgarh\"],\"x0\":\" \",\"xaxis\":\"x\",\"y\":[9.65,8.38,7.54,3.41,10.5,14.23,10.27,5.63,1.96,6.62],\"y0\":\" \",\"yaxis\":\"y\",\"type\":\"box\"},{\"alignmentgroup\":\"True\",\"hovertemplate\":\"state=%{x}<br>estimated unemployment rate=%{y}<extra></extra>\",\"legendgroup\":\"Delhi\",\"marker\":{\"color\":\"rgb(129,114,179)\"},\"name\":\"Delhi\",\"notched\":false,\"offsetgroup\":\"Delhi\",\"orientation\":\"v\",\"showlegend\":true,\"x\":[\"Delhi\",\"Delhi\",\"Delhi\",\"Delhi\",\"Delhi\",\"Delhi\",\"Delhi\",\"Delhi\",\"Delhi\",\"Delhi\"],\"x0\":\" \",\"xaxis\":\"x\",\"y\":[22.23,14.84,17.04,16.68,42.27,18.19,20.3,13.79,12.53,6.27],\"y0\":\" \",\"yaxis\":\"y\",\"type\":\"box\"},{\"alignmentgroup\":\"True\",\"hovertemplate\":\"state=%{x}<br>estimated unemployment rate=%{y}<extra></extra>\",\"legendgroup\":\"Goa\",\"marker\":{\"color\":\"rgb(147,120,96)\"},\"name\":\"Goa\",\"notched\":false,\"offsetgroup\":\"Goa\",\"orientation\":\"v\",\"showlegend\":true,\"x\":[\"Goa\",\"Goa\",\"Goa\",\"Goa\",\"Goa\",\"Goa\",\"Goa\",\"Goa\",\"Goa\",\"Goa\"],\"x0\":\" \",\"xaxis\":\"x\",\"y\":[8.89,2.81,5.25,13.31,21.25,9.96,17.07,16.21,15.38,11.54],\"y0\":\" \",\"yaxis\":\"y\",\"type\":\"box\"},{\"alignmentgroup\":\"True\",\"hovertemplate\":\"state=%{x}<br>estimated unemployment rate=%{y}<extra></extra>\",\"legendgroup\":\"Gujarat\",\"marker\":{\"color\":\"rgb(218,139,195)\"},\"name\":\"Gujarat\",\"notched\":false,\"offsetgroup\":\"Gujarat\",\"orientation\":\"v\",\"showlegend\":true,\"x\":[\"Gujarat\",\"Gujarat\",\"Gujarat\",\"Gujarat\",\"Gujarat\",\"Gujarat\",\"Gujarat\",\"Gujarat\",\"Gujarat\",\"Gujarat\"],\"x0\":\" \",\"xaxis\":\"x\",\"y\":[5.54,6.38,6.66,18.71,12.11,3.2,1.84,1.87,3.42,4.03],\"y0\":\" \",\"yaxis\":\"y\",\"type\":\"box\"},{\"alignmentgroup\":\"True\",\"hovertemplate\":\"state=%{x}<br>estimated unemployment rate=%{y}<extra></extra>\",\"legendgroup\":\"Haryana\",\"marker\":{\"color\":\"rgb(140,140,140)\"},\"name\":\"Haryana\",\"notched\":false,\"offsetgroup\":\"Haryana\",\"orientation\":\"v\",\"showlegend\":true,\"x\":[\"Haryana\",\"Haryana\",\"Haryana\",\"Haryana\",\"Haryana\",\"Haryana\",\"Haryana\",\"Haryana\",\"Haryana\",\"Haryana\"],\"x0\":\" \",\"xaxis\":\"x\",\"y\":[20.34,25.77,25.05,43.22,29.02,26.7,24.18,33.5,19.68,27.31],\"y0\":\" \",\"yaxis\":\"y\",\"type\":\"box\"},{\"alignmentgroup\":\"True\",\"hovertemplate\":\"state=%{x}<br>estimated unemployment rate=%{y}<extra></extra>\",\"legendgroup\":\"Himachal Pradesh\",\"marker\":{\"color\":\"rgb(204,185,116)\"},\"name\":\"Himachal Pradesh\",\"notched\":false,\"offsetgroup\":\"Himachal Pradesh\",\"orientation\":\"v\",\"showlegend\":true,\"x\":[\"Himachal Pradesh\",\"Himachal Pradesh\",\"Himachal Pradesh\",\"Himachal Pradesh\",\"Himachal Pradesh\",\"Himachal Pradesh\",\"Himachal Pradesh\",\"Himachal Pradesh\",\"Himachal Pradesh\",\"Himachal Pradesh\"],\"x0\":\" \",\"xaxis\":\"x\",\"y\":[16.83,16.84,18.76,2.2,26.95,13.47,24.31,15.79,12.04,13.46],\"y0\":\" \",\"yaxis\":\"y\",\"type\":\"box\"},{\"alignmentgroup\":\"True\",\"hovertemplate\":\"state=%{x}<br>estimated unemployment rate=%{y}<extra></extra>\",\"legendgroup\":\"Jammu & Kashmir\",\"marker\":{\"color\":\"rgb(100,181,205)\"},\"name\":\"Jammu & Kashmir\",\"notched\":false,\"offsetgroup\":\"Jammu & Kashmir\",\"orientation\":\"v\",\"showlegend\":true,\"x\":[\"Jammu & Kashmir\",\"Jammu & Kashmir\",\"Jammu & Kashmir\",\"Jammu & Kashmir\",\"Jammu & Kashmir\",\"Jammu & Kashmir\",\"Jammu & Kashmir\",\"Jammu & Kashmir\",\"Jammu & Kashmir\"],\"x0\":\" \",\"xaxis\":\"x\",\"y\":[21.08,20.78,15.5,18.74,17.92,10.88,11.09,16.17,16.14],\"y0\":\" \",\"yaxis\":\"y\",\"type\":\"box\"},{\"alignmentgroup\":\"True\",\"hovertemplate\":\"state=%{x}<br>estimated unemployment rate=%{y}<extra></extra>\",\"legendgroup\":\"Jharkhand\",\"marker\":{\"color\":\"rgb(76,114,176)\"},\"name\":\"Jharkhand\",\"notched\":false,\"offsetgroup\":\"Jharkhand\",\"orientation\":\"v\",\"showlegend\":true,\"x\":[\"Jharkhand\",\"Jharkhand\",\"Jharkhand\",\"Jharkhand\",\"Jharkhand\",\"Jharkhand\",\"Jharkhand\",\"Jharkhand\",\"Jharkhand\",\"Jharkhand\"],\"x0\":\" \",\"xaxis\":\"x\",\"y\":[10.61,11.85,8.23,47.09,59.23,20.95,7.63,9.76,8.24,11.8],\"y0\":\" \",\"yaxis\":\"y\",\"type\":\"box\"},{\"alignmentgroup\":\"True\",\"hovertemplate\":\"state=%{x}<br>estimated unemployment rate=%{y}<extra></extra>\",\"legendgroup\":\"Karnataka\",\"marker\":{\"color\":\"rgb(221,132,82)\"},\"name\":\"Karnataka\",\"notched\":false,\"offsetgroup\":\"Karnataka\",\"orientation\":\"v\",\"showlegend\":true,\"x\":[\"Karnataka\",\"Karnataka\",\"Karnataka\",\"Karnataka\",\"Karnataka\",\"Karnataka\",\"Karnataka\",\"Karnataka\",\"Karnataka\",\"Karnataka\"],\"x0\":\" \",\"xaxis\":\"x\",\"y\":[2.86,3.61,3.46,29.84,19.97,8.44,4.01,0.5,2.41,1.58],\"y0\":\" \",\"yaxis\":\"y\",\"type\":\"box\"},{\"alignmentgroup\":\"True\",\"hovertemplate\":\"state=%{x}<br>estimated unemployment rate=%{y}<extra></extra>\",\"legendgroup\":\"Kerala\",\"marker\":{\"color\":\"rgb(85,168,104)\"},\"name\":\"Kerala\",\"notched\":false,\"offsetgroup\":\"Kerala\",\"orientation\":\"v\",\"showlegend\":true,\"x\":[\"Kerala\",\"Kerala\",\"Kerala\",\"Kerala\",\"Kerala\",\"Kerala\",\"Kerala\",\"Kerala\",\"Kerala\",\"Kerala\"],\"x0\":\" \",\"xaxis\":\"x\",\"y\":[5.31,7.6,8.99,16.99,17.88,9.71,7.09,10.98,5.91,3.88],\"y0\":\" \",\"yaxis\":\"y\",\"type\":\"box\"},{\"alignmentgroup\":\"True\",\"hovertemplate\":\"state=%{x}<br>estimated unemployment rate=%{y}<extra></extra>\",\"legendgroup\":\"Madhya Pradesh\",\"marker\":{\"color\":\"rgb(196,78,82)\"},\"name\":\"Madhya Pradesh\",\"notched\":false,\"offsetgroup\":\"Madhya Pradesh\",\"orientation\":\"v\",\"showlegend\":true,\"x\":[\"Madhya Pradesh\",\"Madhya Pradesh\",\"Madhya Pradesh\",\"Madhya Pradesh\",\"Madhya Pradesh\",\"Madhya Pradesh\",\"Madhya Pradesh\",\"Madhya Pradesh\",\"Madhya Pradesh\",\"Madhya Pradesh\"],\"x0\":\" \",\"xaxis\":\"x\",\"y\":[4.11,4.57,2.22,12.36,21.98,6.48,5.08,4.7,3.91,3.13],\"y0\":\" \",\"yaxis\":\"y\",\"type\":\"box\"},{\"alignmentgroup\":\"True\",\"hovertemplate\":\"state=%{x}<br>estimated unemployment rate=%{y}<extra></extra>\",\"legendgroup\":\"Maharashtra\",\"marker\":{\"color\":\"rgb(129,114,179)\"},\"name\":\"Maharashtra\",\"notched\":false,\"offsetgroup\":\"Maharashtra\",\"orientation\":\"v\",\"showlegend\":true,\"x\":[\"Maharashtra\",\"Maharashtra\",\"Maharashtra\",\"Maharashtra\",\"Maharashtra\",\"Maharashtra\",\"Maharashtra\",\"Maharashtra\",\"Maharashtra\",\"Maharashtra\"],\"x0\":\" \",\"xaxis\":\"x\",\"y\":[4.95,4.69,5.79,20.9,15.46,9.23,3.89,6.23,4.55,4.1],\"y0\":\" \",\"yaxis\":\"y\",\"type\":\"box\"},{\"alignmentgroup\":\"True\",\"hovertemplate\":\"state=%{x}<br>estimated unemployment rate=%{y}<extra></extra>\",\"legendgroup\":\"Meghalaya\",\"marker\":{\"color\":\"rgb(147,120,96)\"},\"name\":\"Meghalaya\",\"notched\":false,\"offsetgroup\":\"Meghalaya\",\"orientation\":\"v\",\"showlegend\":true,\"x\":[\"Meghalaya\",\"Meghalaya\",\"Meghalaya\",\"Meghalaya\",\"Meghalaya\",\"Meghalaya\",\"Meghalaya\",\"Meghalaya\",\"Meghalaya\",\"Meghalaya\"],\"x0\":\" \",\"xaxis\":\"x\",\"y\":[1.66,3.59,1.58,10.03,5.92,1.15,2.1,3.74,4.29,4.6],\"y0\":\" \",\"yaxis\":\"y\",\"type\":\"box\"},{\"alignmentgroup\":\"True\",\"hovertemplate\":\"state=%{x}<br>estimated unemployment rate=%{y}<extra></extra>\",\"legendgroup\":\"Odisha\",\"marker\":{\"color\":\"rgb(218,139,195)\"},\"name\":\"Odisha\",\"notched\":false,\"offsetgroup\":\"Odisha\",\"orientation\":\"v\",\"showlegend\":true,\"x\":[\"Odisha\",\"Odisha\",\"Odisha\",\"Odisha\",\"Odisha\",\"Odisha\",\"Odisha\",\"Odisha\",\"Odisha\",\"Odisha\"],\"x0\":\" \",\"xaxis\":\"x\",\"y\":[1.9,3.12,13.08,23.76,11.41,3.77,1.88,1.42,2.1,2.18],\"y0\":\" \",\"yaxis\":\"y\",\"type\":\"box\"},{\"alignmentgroup\":\"True\",\"hovertemplate\":\"state=%{x}<br>estimated unemployment rate=%{y}<extra></extra>\",\"legendgroup\":\"Puducherry\",\"marker\":{\"color\":\"rgb(140,140,140)\"},\"name\":\"Puducherry\",\"notched\":false,\"offsetgroup\":\"Puducherry\",\"orientation\":\"v\",\"showlegend\":true,\"x\":[\"Puducherry\",\"Puducherry\",\"Puducherry\",\"Puducherry\",\"Puducherry\",\"Puducherry\",\"Puducherry\",\"Puducherry\",\"Puducherry\",\"Puducherry\"],\"x0\":\" \",\"xaxis\":\"x\",\"y\":[0.58,1.76,1.2,75.85,58.19,4.24,15.47,5.05,10.9,6.18],\"y0\":\" \",\"yaxis\":\"y\",\"type\":\"box\"},{\"alignmentgroup\":\"True\",\"hovertemplate\":\"state=%{x}<br>estimated unemployment rate=%{y}<extra></extra>\",\"legendgroup\":\"Punjab\",\"marker\":{\"color\":\"rgb(204,185,116)\"},\"name\":\"Punjab\",\"notched\":false,\"offsetgroup\":\"Punjab\",\"orientation\":\"v\",\"showlegend\":true,\"x\":[\"Punjab\",\"Punjab\",\"Punjab\",\"Punjab\",\"Punjab\",\"Punjab\",\"Punjab\",\"Punjab\",\"Punjab\",\"Punjab\"],\"x0\":\" \",\"xaxis\":\"x\",\"y\":[11.11,10.97,10.32,2.86,28.33,16.55,9.19,10.99,9.61,9.88],\"y0\":\" \",\"yaxis\":\"y\",\"type\":\"box\"},{\"alignmentgroup\":\"True\",\"hovertemplate\":\"state=%{x}<br>estimated unemployment rate=%{y}<extra></extra>\",\"legendgroup\":\"Rajasthan\",\"marker\":{\"color\":\"rgb(100,181,205)\"},\"name\":\"Rajasthan\",\"notched\":false,\"offsetgroup\":\"Rajasthan\",\"orientation\":\"v\",\"showlegend\":true,\"x\":[\"Rajasthan\",\"Rajasthan\",\"Rajasthan\",\"Rajasthan\",\"Rajasthan\",\"Rajasthan\",\"Rajasthan\",\"Rajasthan\",\"Rajasthan\",\"Rajasthan\"],\"x0\":\" \",\"xaxis\":\"x\",\"y\":[10.97,15.16,11.9,17.7,15.74,14.39,15.81,17.51,15.35,24.15],\"y0\":\" \",\"yaxis\":\"y\",\"type\":\"box\"},{\"alignmentgroup\":\"True\",\"hovertemplate\":\"state=%{x}<br>estimated unemployment rate=%{y}<extra></extra>\",\"legendgroup\":\"Sikkim\",\"marker\":{\"color\":\"rgb(76,114,176)\"},\"name\":\"Sikkim\",\"notched\":false,\"offsetgroup\":\"Sikkim\",\"orientation\":\"v\",\"showlegend\":true,\"x\":[\"Sikkim\",\"Sikkim\",\"Sikkim\",\"Sikkim\",\"Sikkim\",\"Sikkim\",\"Sikkim\",\"Sikkim\"],\"x0\":\" \",\"xaxis\":\"x\",\"y\":[23.57,2.28,24.51,4.46,4.45,12.49,5.7,0.88],\"y0\":\" \",\"yaxis\":\"y\",\"type\":\"box\"},{\"alignmentgroup\":\"True\",\"hovertemplate\":\"state=%{x}<br>estimated unemployment rate=%{y}<extra></extra>\",\"legendgroup\":\"Tamil Nadu\",\"marker\":{\"color\":\"rgb(221,132,82)\"},\"name\":\"Tamil Nadu\",\"notched\":false,\"offsetgroup\":\"Tamil Nadu\",\"orientation\":\"v\",\"showlegend\":true,\"x\":[\"Tamil Nadu\",\"Tamil Nadu\",\"Tamil Nadu\",\"Tamil Nadu\",\"Tamil Nadu\",\"Tamil Nadu\",\"Tamil Nadu\",\"Tamil Nadu\",\"Tamil Nadu\",\"Tamil Nadu\"],\"x0\":\" \",\"xaxis\":\"x\",\"y\":[1.57,2.09,6.4,49.83,33.16,12.2,6.81,2.65,5.0,2.16],\"y0\":\" \",\"yaxis\":\"y\",\"type\":\"box\"},{\"alignmentgroup\":\"True\",\"hovertemplate\":\"state=%{x}<br>estimated unemployment rate=%{y}<extra></extra>\",\"legendgroup\":\"Telangana\",\"marker\":{\"color\":\"rgb(85,168,104)\"},\"name\":\"Telangana\",\"notched\":false,\"offsetgroup\":\"Telangana\",\"orientation\":\"v\",\"showlegend\":true,\"x\":[\"Telangana\",\"Telangana\",\"Telangana\",\"Telangana\",\"Telangana\",\"Telangana\",\"Telangana\",\"Telangana\",\"Telangana\",\"Telangana\"],\"x0\":\" \",\"xaxis\":\"x\",\"y\":[5.49,8.29,5.77,6.25,14.7,10.55,5.36,5.79,3.27,2.86],\"y0\":\" \",\"yaxis\":\"y\",\"type\":\"box\"},{\"alignmentgroup\":\"True\",\"hovertemplate\":\"state=%{x}<br>estimated unemployment rate=%{y}<extra></extra>\",\"legendgroup\":\"Tripura\",\"marker\":{\"color\":\"rgb(196,78,82)\"},\"name\":\"Tripura\",\"notched\":false,\"offsetgroup\":\"Tripura\",\"orientation\":\"v\",\"showlegend\":true,\"x\":[\"Tripura\",\"Tripura\",\"Tripura\",\"Tripura\",\"Tripura\",\"Tripura\",\"Tripura\",\"Tripura\",\"Tripura\",\"Tripura\"],\"x0\":\" \",\"xaxis\":\"x\",\"y\":[32.67,28.4,29.95,41.23,21.51,21.71,18.24,27.92,17.35,11.57],\"y0\":\" \",\"yaxis\":\"y\",\"type\":\"box\"},{\"alignmentgroup\":\"True\",\"hovertemplate\":\"state=%{x}<br>estimated unemployment rate=%{y}<extra></extra>\",\"legendgroup\":\"Uttar Pradesh\",\"marker\":{\"color\":\"rgb(129,114,179)\"},\"name\":\"Uttar Pradesh\",\"notched\":false,\"offsetgroup\":\"Uttar Pradesh\",\"orientation\":\"v\",\"showlegend\":true,\"x\":[\"Uttar Pradesh\",\"Uttar Pradesh\",\"Uttar Pradesh\",\"Uttar Pradesh\",\"Uttar Pradesh\",\"Uttar Pradesh\",\"Uttar Pradesh\",\"Uttar Pradesh\",\"Uttar Pradesh\",\"Uttar Pradesh\"],\"x0\":\" \",\"xaxis\":\"x\",\"y\":[7.58,8.98,10.11,21.54,20.41,9.47,5.56,5.79,4.18,3.75],\"y0\":\" \",\"yaxis\":\"y\",\"type\":\"box\"},{\"alignmentgroup\":\"True\",\"hovertemplate\":\"state=%{x}<br>estimated unemployment rate=%{y}<extra></extra>\",\"legendgroup\":\"Uttarakhand\",\"marker\":{\"color\":\"rgb(147,120,96)\"},\"name\":\"Uttarakhand\",\"notched\":false,\"offsetgroup\":\"Uttarakhand\",\"orientation\":\"v\",\"showlegend\":true,\"x\":[\"Uttarakhand\",\"Uttarakhand\",\"Uttarakhand\",\"Uttarakhand\",\"Uttarakhand\",\"Uttarakhand\",\"Uttarakhand\",\"Uttarakhand\",\"Uttarakhand\",\"Uttarakhand\"],\"x0\":\" \",\"xaxis\":\"x\",\"y\":[5.49,4.99,19.85,6.48,8.01,8.61,12.38,14.26,22.26,9.23],\"y0\":\" \",\"yaxis\":\"y\",\"type\":\"box\"},{\"alignmentgroup\":\"True\",\"hovertemplate\":\"state=%{x}<br>estimated unemployment rate=%{y}<extra></extra>\",\"legendgroup\":\"West Bengal\",\"marker\":{\"color\":\"rgb(218,139,195)\"},\"name\":\"West Bengal\",\"notched\":false,\"offsetgroup\":\"West Bengal\",\"orientation\":\"v\",\"showlegend\":true,\"x\":[\"West Bengal\",\"West Bengal\",\"West Bengal\",\"West Bengal\",\"West Bengal\",\"West Bengal\",\"West Bengal\",\"West Bengal\",\"West Bengal\",\"West Bengal\"],\"x0\":\" \",\"xaxis\":\"x\",\"y\":[6.94,4.92,6.92,17.41,17.41,7.29,6.83,14.87,9.35,9.98],\"y0\":\" \",\"yaxis\":\"y\",\"type\":\"box\"}],                        {\"template\":{\"data\":{\"barpolar\":[{\"marker\":{\"line\":{\"color\":\"rgb(234,234,242)\",\"width\":0.5},\"pattern\":{\"fillmode\":\"overlay\",\"size\":10,\"solidity\":0.2}},\"type\":\"barpolar\"}],\"bar\":[{\"error_x\":{\"color\":\"rgb(36,36,36)\"},\"error_y\":{\"color\":\"rgb(36,36,36)\"},\"marker\":{\"line\":{\"color\":\"rgb(234,234,242)\",\"width\":0.5},\"pattern\":{\"fillmode\":\"overlay\",\"size\":10,\"solidity\":0.2}},\"type\":\"bar\"}],\"carpet\":[{\"aaxis\":{\"endlinecolor\":\"rgb(36,36,36)\",\"gridcolor\":\"white\",\"linecolor\":\"white\",\"minorgridcolor\":\"white\",\"startlinecolor\":\"rgb(36,36,36)\"},\"baxis\":{\"endlinecolor\":\"rgb(36,36,36)\",\"gridcolor\":\"white\",\"linecolor\":\"white\",\"minorgridcolor\":\"white\",\"startlinecolor\":\"rgb(36,36,36)\"},\"type\":\"carpet\"}],\"choropleth\":[{\"colorbar\":{\"outlinewidth\":0,\"tickcolor\":\"rgb(36,36,36)\",\"ticklen\":8,\"ticks\":\"outside\",\"tickwidth\":2},\"type\":\"choropleth\"}],\"contourcarpet\":[{\"colorbar\":{\"outlinewidth\":0,\"tickcolor\":\"rgb(36,36,36)\",\"ticklen\":8,\"ticks\":\"outside\",\"tickwidth\":2},\"type\":\"contourcarpet\"}],\"contour\":[{\"colorbar\":{\"outlinewidth\":0,\"tickcolor\":\"rgb(36,36,36)\",\"ticklen\":8,\"ticks\":\"outside\",\"tickwidth\":2},\"colorscale\":[[0.0,\"rgb(2,4,25)\"],[0.06274509803921569,\"rgb(24,15,41)\"],[0.12549019607843137,\"rgb(47,23,57)\"],[0.18823529411764706,\"rgb(71,28,72)\"],[0.25098039215686274,\"rgb(97,30,82)\"],[0.3137254901960784,\"rgb(123,30,89)\"],[0.3764705882352941,\"rgb(150,27,91)\"],[0.4392156862745098,\"rgb(177,22,88)\"],[0.5019607843137255,\"rgb(203,26,79)\"],[0.5647058823529412,\"rgb(223,47,67)\"],[0.6274509803921569,\"rgb(236,76,61)\"],[0.6901960784313725,\"rgb(242,107,73)\"],[0.7529411764705882,\"rgb(244,135,95)\"],[0.8156862745098039,\"rgb(245,162,122)\"],[0.8784313725490196,\"rgb(246,188,153)\"],[0.9411764705882353,\"rgb(247,212,187)\"],[1.0,\"rgb(250,234,220)\"]],\"type\":\"contour\"}],\"heatmapgl\":[{\"colorbar\":{\"outlinewidth\":0,\"tickcolor\":\"rgb(36,36,36)\",\"ticklen\":8,\"ticks\":\"outside\",\"tickwidth\":2},\"colorscale\":[[0.0,\"rgb(2,4,25)\"],[0.06274509803921569,\"rgb(24,15,41)\"],[0.12549019607843137,\"rgb(47,23,57)\"],[0.18823529411764706,\"rgb(71,28,72)\"],[0.25098039215686274,\"rgb(97,30,82)\"],[0.3137254901960784,\"rgb(123,30,89)\"],[0.3764705882352941,\"rgb(150,27,91)\"],[0.4392156862745098,\"rgb(177,22,88)\"],[0.5019607843137255,\"rgb(203,26,79)\"],[0.5647058823529412,\"rgb(223,47,67)\"],[0.6274509803921569,\"rgb(236,76,61)\"],[0.6901960784313725,\"rgb(242,107,73)\"],[0.7529411764705882,\"rgb(244,135,95)\"],[0.8156862745098039,\"rgb(245,162,122)\"],[0.8784313725490196,\"rgb(246,188,153)\"],[0.9411764705882353,\"rgb(247,212,187)\"],[1.0,\"rgb(250,234,220)\"]],\"type\":\"heatmapgl\"}],\"heatmap\":[{\"colorbar\":{\"outlinewidth\":0,\"tickcolor\":\"rgb(36,36,36)\",\"ticklen\":8,\"ticks\":\"outside\",\"tickwidth\":2},\"colorscale\":[[0.0,\"rgb(2,4,25)\"],[0.06274509803921569,\"rgb(24,15,41)\"],[0.12549019607843137,\"rgb(47,23,57)\"],[0.18823529411764706,\"rgb(71,28,72)\"],[0.25098039215686274,\"rgb(97,30,82)\"],[0.3137254901960784,\"rgb(123,30,89)\"],[0.3764705882352941,\"rgb(150,27,91)\"],[0.4392156862745098,\"rgb(177,22,88)\"],[0.5019607843137255,\"rgb(203,26,79)\"],[0.5647058823529412,\"rgb(223,47,67)\"],[0.6274509803921569,\"rgb(236,76,61)\"],[0.6901960784313725,\"rgb(242,107,73)\"],[0.7529411764705882,\"rgb(244,135,95)\"],[0.8156862745098039,\"rgb(245,162,122)\"],[0.8784313725490196,\"rgb(246,188,153)\"],[0.9411764705882353,\"rgb(247,212,187)\"],[1.0,\"rgb(250,234,220)\"]],\"type\":\"heatmap\"}],\"histogram2dcontour\":[{\"colorbar\":{\"outlinewidth\":0,\"tickcolor\":\"rgb(36,36,36)\",\"ticklen\":8,\"ticks\":\"outside\",\"tickwidth\":2},\"colorscale\":[[0.0,\"rgb(2,4,25)\"],[0.06274509803921569,\"rgb(24,15,41)\"],[0.12549019607843137,\"rgb(47,23,57)\"],[0.18823529411764706,\"rgb(71,28,72)\"],[0.25098039215686274,\"rgb(97,30,82)\"],[0.3137254901960784,\"rgb(123,30,89)\"],[0.3764705882352941,\"rgb(150,27,91)\"],[0.4392156862745098,\"rgb(177,22,88)\"],[0.5019607843137255,\"rgb(203,26,79)\"],[0.5647058823529412,\"rgb(223,47,67)\"],[0.6274509803921569,\"rgb(236,76,61)\"],[0.6901960784313725,\"rgb(242,107,73)\"],[0.7529411764705882,\"rgb(244,135,95)\"],[0.8156862745098039,\"rgb(245,162,122)\"],[0.8784313725490196,\"rgb(246,188,153)\"],[0.9411764705882353,\"rgb(247,212,187)\"],[1.0,\"rgb(250,234,220)\"]],\"type\":\"histogram2dcontour\"}],\"histogram2d\":[{\"colorbar\":{\"outlinewidth\":0,\"tickcolor\":\"rgb(36,36,36)\",\"ticklen\":8,\"ticks\":\"outside\",\"tickwidth\":2},\"colorscale\":[[0.0,\"rgb(2,4,25)\"],[0.06274509803921569,\"rgb(24,15,41)\"],[0.12549019607843137,\"rgb(47,23,57)\"],[0.18823529411764706,\"rgb(71,28,72)\"],[0.25098039215686274,\"rgb(97,30,82)\"],[0.3137254901960784,\"rgb(123,30,89)\"],[0.3764705882352941,\"rgb(150,27,91)\"],[0.4392156862745098,\"rgb(177,22,88)\"],[0.5019607843137255,\"rgb(203,26,79)\"],[0.5647058823529412,\"rgb(223,47,67)\"],[0.6274509803921569,\"rgb(236,76,61)\"],[0.6901960784313725,\"rgb(242,107,73)\"],[0.7529411764705882,\"rgb(244,135,95)\"],[0.8156862745098039,\"rgb(245,162,122)\"],[0.8784313725490196,\"rgb(246,188,153)\"],[0.9411764705882353,\"rgb(247,212,187)\"],[1.0,\"rgb(250,234,220)\"]],\"type\":\"histogram2d\"}],\"histogram\":[{\"marker\":{\"pattern\":{\"fillmode\":\"overlay\",\"size\":10,\"solidity\":0.2}},\"type\":\"histogram\"}],\"mesh3d\":[{\"colorbar\":{\"outlinewidth\":0,\"tickcolor\":\"rgb(36,36,36)\",\"ticklen\":8,\"ticks\":\"outside\",\"tickwidth\":2},\"type\":\"mesh3d\"}],\"parcoords\":[{\"line\":{\"colorbar\":{\"outlinewidth\":0,\"tickcolor\":\"rgb(36,36,36)\",\"ticklen\":8,\"ticks\":\"outside\",\"tickwidth\":2}},\"type\":\"parcoords\"}],\"pie\":[{\"automargin\":true,\"type\":\"pie\"}],\"scatter3d\":[{\"line\":{\"colorbar\":{\"outlinewidth\":0,\"tickcolor\":\"rgb(36,36,36)\",\"ticklen\":8,\"ticks\":\"outside\",\"tickwidth\":2}},\"marker\":{\"colorbar\":{\"outlinewidth\":0,\"tickcolor\":\"rgb(36,36,36)\",\"ticklen\":8,\"ticks\":\"outside\",\"tickwidth\":2}},\"type\":\"scatter3d\"}],\"scattercarpet\":[{\"marker\":{\"colorbar\":{\"outlinewidth\":0,\"tickcolor\":\"rgb(36,36,36)\",\"ticklen\":8,\"ticks\":\"outside\",\"tickwidth\":2}},\"type\":\"scattercarpet\"}],\"scattergeo\":[{\"marker\":{\"colorbar\":{\"outlinewidth\":0,\"tickcolor\":\"rgb(36,36,36)\",\"ticklen\":8,\"ticks\":\"outside\",\"tickwidth\":2}},\"type\":\"scattergeo\"}],\"scattergl\":[{\"marker\":{\"colorbar\":{\"outlinewidth\":0,\"tickcolor\":\"rgb(36,36,36)\",\"ticklen\":8,\"ticks\":\"outside\",\"tickwidth\":2}},\"type\":\"scattergl\"}],\"scattermapbox\":[{\"marker\":{\"colorbar\":{\"outlinewidth\":0,\"tickcolor\":\"rgb(36,36,36)\",\"ticklen\":8,\"ticks\":\"outside\",\"tickwidth\":2}},\"type\":\"scattermapbox\"}],\"scatterpolargl\":[{\"marker\":{\"colorbar\":{\"outlinewidth\":0,\"tickcolor\":\"rgb(36,36,36)\",\"ticklen\":8,\"ticks\":\"outside\",\"tickwidth\":2}},\"type\":\"scatterpolargl\"}],\"scatterpolar\":[{\"marker\":{\"colorbar\":{\"outlinewidth\":0,\"tickcolor\":\"rgb(36,36,36)\",\"ticklen\":8,\"ticks\":\"outside\",\"tickwidth\":2}},\"type\":\"scatterpolar\"}],\"scatter\":[{\"fillpattern\":{\"fillmode\":\"overlay\",\"size\":10,\"solidity\":0.2},\"type\":\"scatter\"}],\"scatterternary\":[{\"marker\":{\"colorbar\":{\"outlinewidth\":0,\"tickcolor\":\"rgb(36,36,36)\",\"ticklen\":8,\"ticks\":\"outside\",\"tickwidth\":2}},\"type\":\"scatterternary\"}],\"surface\":[{\"colorbar\":{\"outlinewidth\":0,\"tickcolor\":\"rgb(36,36,36)\",\"ticklen\":8,\"ticks\":\"outside\",\"tickwidth\":2},\"colorscale\":[[0.0,\"rgb(2,4,25)\"],[0.06274509803921569,\"rgb(24,15,41)\"],[0.12549019607843137,\"rgb(47,23,57)\"],[0.18823529411764706,\"rgb(71,28,72)\"],[0.25098039215686274,\"rgb(97,30,82)\"],[0.3137254901960784,\"rgb(123,30,89)\"],[0.3764705882352941,\"rgb(150,27,91)\"],[0.4392156862745098,\"rgb(177,22,88)\"],[0.5019607843137255,\"rgb(203,26,79)\"],[0.5647058823529412,\"rgb(223,47,67)\"],[0.6274509803921569,\"rgb(236,76,61)\"],[0.6901960784313725,\"rgb(242,107,73)\"],[0.7529411764705882,\"rgb(244,135,95)\"],[0.8156862745098039,\"rgb(245,162,122)\"],[0.8784313725490196,\"rgb(246,188,153)\"],[0.9411764705882353,\"rgb(247,212,187)\"],[1.0,\"rgb(250,234,220)\"]],\"type\":\"surface\"}],\"table\":[{\"cells\":{\"fill\":{\"color\":\"rgb(231,231,240)\"},\"line\":{\"color\":\"white\"}},\"header\":{\"fill\":{\"color\":\"rgb(183,183,191)\"},\"line\":{\"color\":\"white\"}},\"type\":\"table\"}]},\"layout\":{\"annotationdefaults\":{\"arrowcolor\":\"rgb(67,103,167)\"},\"autotypenumbers\":\"strict\",\"coloraxis\":{\"colorbar\":{\"outlinewidth\":0,\"tickcolor\":\"rgb(36,36,36)\",\"ticklen\":8,\"ticks\":\"outside\",\"tickwidth\":2}},\"colorscale\":{\"sequential\":[[0.0,\"rgb(2,4,25)\"],[0.06274509803921569,\"rgb(24,15,41)\"],[0.12549019607843137,\"rgb(47,23,57)\"],[0.18823529411764706,\"rgb(71,28,72)\"],[0.25098039215686274,\"rgb(97,30,82)\"],[0.3137254901960784,\"rgb(123,30,89)\"],[0.3764705882352941,\"rgb(150,27,91)\"],[0.4392156862745098,\"rgb(177,22,88)\"],[0.5019607843137255,\"rgb(203,26,79)\"],[0.5647058823529412,\"rgb(223,47,67)\"],[0.6274509803921569,\"rgb(236,76,61)\"],[0.6901960784313725,\"rgb(242,107,73)\"],[0.7529411764705882,\"rgb(244,135,95)\"],[0.8156862745098039,\"rgb(245,162,122)\"],[0.8784313725490196,\"rgb(246,188,153)\"],[0.9411764705882353,\"rgb(247,212,187)\"],[1.0,\"rgb(250,234,220)\"]],\"sequentialminus\":[[0.0,\"rgb(2,4,25)\"],[0.06274509803921569,\"rgb(24,15,41)\"],[0.12549019607843137,\"rgb(47,23,57)\"],[0.18823529411764706,\"rgb(71,28,72)\"],[0.25098039215686274,\"rgb(97,30,82)\"],[0.3137254901960784,\"rgb(123,30,89)\"],[0.3764705882352941,\"rgb(150,27,91)\"],[0.4392156862745098,\"rgb(177,22,88)\"],[0.5019607843137255,\"rgb(203,26,79)\"],[0.5647058823529412,\"rgb(223,47,67)\"],[0.6274509803921569,\"rgb(236,76,61)\"],[0.6901960784313725,\"rgb(242,107,73)\"],[0.7529411764705882,\"rgb(244,135,95)\"],[0.8156862745098039,\"rgb(245,162,122)\"],[0.8784313725490196,\"rgb(246,188,153)\"],[0.9411764705882353,\"rgb(247,212,187)\"],[1.0,\"rgb(250,234,220)\"]]},\"colorway\":[\"rgb(76,114,176)\",\"rgb(221,132,82)\",\"rgb(85,168,104)\",\"rgb(196,78,82)\",\"rgb(129,114,179)\",\"rgb(147,120,96)\",\"rgb(218,139,195)\",\"rgb(140,140,140)\",\"rgb(204,185,116)\",\"rgb(100,181,205)\"],\"font\":{\"color\":\"rgb(36,36,36)\"},\"geo\":{\"bgcolor\":\"white\",\"lakecolor\":\"white\",\"landcolor\":\"rgb(234,234,242)\",\"showlakes\":true,\"showland\":true,\"subunitcolor\":\"white\"},\"hoverlabel\":{\"align\":\"left\"},\"hovermode\":\"closest\",\"paper_bgcolor\":\"white\",\"plot_bgcolor\":\"rgb(234,234,242)\",\"polar\":{\"angularaxis\":{\"gridcolor\":\"white\",\"linecolor\":\"white\",\"showgrid\":true,\"ticks\":\"\"},\"bgcolor\":\"rgb(234,234,242)\",\"radialaxis\":{\"gridcolor\":\"white\",\"linecolor\":\"white\",\"showgrid\":true,\"ticks\":\"\"}},\"scene\":{\"xaxis\":{\"backgroundcolor\":\"rgb(234,234,242)\",\"gridcolor\":\"white\",\"gridwidth\":2,\"linecolor\":\"white\",\"showbackground\":true,\"showgrid\":true,\"ticks\":\"\",\"zerolinecolor\":\"white\"},\"yaxis\":{\"backgroundcolor\":\"rgb(234,234,242)\",\"gridcolor\":\"white\",\"gridwidth\":2,\"linecolor\":\"white\",\"showbackground\":true,\"showgrid\":true,\"ticks\":\"\",\"zerolinecolor\":\"white\"},\"zaxis\":{\"backgroundcolor\":\"rgb(234,234,242)\",\"gridcolor\":\"white\",\"gridwidth\":2,\"linecolor\":\"white\",\"showbackground\":true,\"showgrid\":true,\"ticks\":\"\",\"zerolinecolor\":\"white\"}},\"shapedefaults\":{\"fillcolor\":\"rgb(67,103,167)\",\"line\":{\"width\":0},\"opacity\":0.5},\"ternary\":{\"aaxis\":{\"gridcolor\":\"white\",\"linecolor\":\"white\",\"showgrid\":true,\"ticks\":\"\"},\"baxis\":{\"gridcolor\":\"white\",\"linecolor\":\"white\",\"showgrid\":true,\"ticks\":\"\"},\"bgcolor\":\"rgb(234,234,242)\",\"caxis\":{\"gridcolor\":\"white\",\"linecolor\":\"white\",\"showgrid\":true,\"ticks\":\"\"}},\"xaxis\":{\"automargin\":true,\"gridcolor\":\"white\",\"linecolor\":\"white\",\"showgrid\":true,\"ticks\":\"\",\"title\":{\"standoff\":15},\"zerolinecolor\":\"white\"},\"yaxis\":{\"automargin\":true,\"gridcolor\":\"white\",\"linecolor\":\"white\",\"showgrid\":true,\"ticks\":\"\",\"title\":{\"standoff\":15},\"zerolinecolor\":\"white\"}}},\"xaxis\":{\"anchor\":\"y\",\"domain\":[0.0,1.0],\"title\":{\"text\":\"state\"},\"categoryorder\":\"total descending\",\"categoryarray\":[\"Andhra Pradesh\",\"Assam\",\"Bihar\",\"Chhattisgarh\",\"Delhi\",\"Goa\",\"Gujarat\",\"Haryana\",\"Himachal Pradesh\",\"Jammu & Kashmir\",\"Jharkhand\",\"Karnataka\",\"Kerala\",\"Madhya Pradesh\",\"Maharashtra\",\"Meghalaya\",\"Odisha\",\"Puducherry\",\"Punjab\",\"Rajasthan\",\"Sikkim\",\"Tamil Nadu\",\"Telangana\",\"Tripura\",\"Uttar Pradesh\",\"Uttarakhand\",\"West Bengal\"]},\"yaxis\":{\"anchor\":\"x\",\"domain\":[0.0,1.0],\"title\":{\"text\":\"estimated unemployment rate\"}},\"legend\":{\"title\":{\"text\":\"state\"},\"tracegroupgap\":0},\"title\":{\"text\":\"Unemployment rate per States\"},\"boxmode\":\"overlay\"},                        {\"responsive\": true}                    ).then(function(){\n",
       "                            \n",
       "var gd = document.getElementById('47f3844a-59a3-4cf1-9b0d-6569c7b6fea9');\n",
       "var x = new MutationObserver(function (mutations, observer) {{\n",
       "        var display = window.getComputedStyle(gd).display;\n",
       "        if (!display || display === 'none') {{\n",
       "            console.log([gd, 'removed!']);\n",
       "            Plotly.purge(gd);\n",
       "            observer.disconnect();\n",
       "        }}\n",
       "}});\n",
       "\n",
       "// Listen for the removal of the full notebook cells\n",
       "var notebookContainer = gd.closest('#notebook-container');\n",
       "if (notebookContainer) {{\n",
       "    x.observe(notebookContainer, {childList: true});\n",
       "}}\n",
       "\n",
       "// Listen for the clearing of the current output cell\n",
       "var outputEl = gd.closest('.output');\n",
       "if (outputEl) {{\n",
       "    x.observe(outputEl, {childList: true});\n",
       "}}\n",
       "\n",
       "                        })                };                });            </script>        </div>"
      ]
     },
     "metadata": {},
     "output_type": "display_data"
    }
   ],
   "source": [
    "#Boxplot of Unemployment rate per States\n",
    "fig = px.box(data, x='state', y='estimated unemployment rate', color='state', title='Unemployment rate per States', template='seaborn')\n",
    "\n",
    "# Updating the x-axis category order to be in descending total\n",
    "fig.update_layout(xaxis={'categoryorder': 'total descending'})\n",
    "fig.show()\n",
    "\n"
   ]
  },
  {
   "cell_type": "code",
   "execution_count": 20,
   "metadata": {
    "execution": {
     "iopub.execute_input": "2023-09-07T06:23:23.565767Z",
     "iopub.status.busy": "2023-09-07T06:23:23.565315Z",
     "iopub.status.idle": "2023-09-07T06:23:23.745724Z",
     "shell.execute_reply": "2023-09-07T06:23:23.744256Z"
    },
    "papermill": {
     "duration": 0.223025,
     "end_time": "2023-09-07T06:23:23.750621",
     "exception": false,
     "start_time": "2023-09-07T06:23:23.527596",
     "status": "completed"
    },
    "tags": []
   },
   "outputs": [
    {
     "data": {
      "application/vnd.plotly.v1+json": {
       "config": {
        "plotlyServerURL": "https://plot.ly"
       },
       "data": [
        {
         "dimensions": [
          {
           "axis": {
            "matches": true
           },
           "label": "estimated unemployment rate",
           "values": [
            5.48,
            5.83,
            5.79,
            20.51,
            17.43,
            3.31,
            8.34,
            6.96,
            6.4,
            6.59,
            2.86,
            3.61,
            3.46,
            29.84,
            19.97,
            8.44,
            4.01,
            0.5,
            2.41,
            1.58,
            5.31,
            7.6,
            8.99,
            16.99,
            17.88,
            9.71,
            7.09,
            10.98,
            5.91,
            3.88,
            0.58,
            1.76,
            1.2,
            75.85,
            58.19,
            4.24,
            15.47,
            5.05,
            10.9,
            6.18,
            1.57,
            2.09,
            6.4,
            49.83,
            33.16,
            12.2,
            6.81,
            2.65,
            5,
            2.16,
            5.49,
            8.29,
            5.77,
            6.25,
            14.7,
            10.55,
            5.36,
            5.79,
            3.27,
            2.86
           ]
          },
          {
           "axis": {
            "matches": true
           },
           "label": "estimated employed",
           "values": [
            16635535,
            16545652,
            15881197,
            11336911,
            12988845,
            19805400,
            15431615,
            15251776,
            15220312,
            15157557,
            22688028,
            21677719,
            22079653,
            16718395,
            19397853,
            24215057,
            22885616,
            24094289,
            20127176,
            22356390,
            9904534,
            9828023,
            8221728,
            3933276,
            7921962,
            9228268,
            9504420,
            9031944,
            9240913,
            9152881,
            457950,
            493961,
            421028,
            117542,
            172308,
            367135,
            386563,
            396006,
            411717,
            428419,
            26881641,
            27570589,
            26830768,
            9719167,
            11483256,
            19096847,
            24572827,
            27046415,
            23025845,
            23651626,
            17609295,
            16825970,
            17341613,
            12172230,
            14977774,
            15108910,
            15679417,
            18185429,
            16961448,
            17578739
           ]
          },
          {
           "axis": {
            "matches": true
           },
           "label": "estimated labour participation rate",
           "values": [
            41.02,
            40.9,
            39.18,
            33.1,
            36.46,
            47.41,
            38.91,
            37.83,
            37.47,
            37.34,
            42.18,
            40.54,
            41.14,
            42.78,
            43.43,
            47.29,
            42.55,
            43.13,
            36.66,
            40.3,
            37.12,
            37.71,
            32,
            16.77,
            34.11,
            36.11,
            36.1,
            35.78,
            34.6,
            33.52,
            37.46,
            40.8,
            34.49,
            39.3,
            33.19,
            30.8,
            36.64,
            33.34,
            36.84,
            36.32,
            41.96,
            43.2,
            43.91,
            29.63,
            26.23,
            33.16,
            40.13,
            42.22,
            36.77,
            36.62,
            59.25,
            58.24,
            58.31,
            41.06,
            55.43,
            53.22,
            52.1,
            60.59,
            54.94,
            56.58
           ]
          }
         ],
         "hovertemplate": "region=South<br>%{xaxis.title.text}=%{x}<br>%{yaxis.title.text}=%{y}<extra></extra>",
         "legendgroup": "South",
         "marker": {
          "color": "#636efa",
          "symbol": "circle"
         },
         "name": "South",
         "showlegend": true,
         "type": "splom"
        },
        {
         "dimensions": [
          {
           "axis": {
            "matches": true
           },
           "label": "estimated unemployment rate",
           "values": [
            4.66,
            4.41,
            4.77,
            11.06,
            9.55,
            0.6,
            3.77,
            5.53,
            1.19,
            3.02,
            1.66,
            3.59,
            1.58,
            10.03,
            5.92,
            1.15,
            2.1,
            3.74,
            4.29,
            4.6,
            23.57,
            2.28,
            24.51,
            4.46,
            4.45,
            12.49,
            5.7,
            0.88,
            32.67,
            28.4,
            29.95,
            41.23,
            21.51,
            21.71,
            18.24,
            27.92,
            17.35,
            11.57
           ]
          },
          {
           "axis": {
            "matches": true
           },
           "label": "estimated employed",
           "values": [
            13051904,
            10088268,
            11542888,
            6830817,
            11367897,
            9095944,
            10286757,
            9781310,
            14107641,
            11949329,
            1491093,
            1346829,
            1482351,
            965057,
            1215064,
            1350794,
            1448106,
            1357643,
            1459726,
            1381490,
            262895,
            215303,
            193427,
            221058,
            265175,
            244462,
            231798,
            242068,
            1508130,
            1584686,
            1511217,
            971514,
            1290986,
            1494140,
            1348849,
            1318621,
            1368244,
            1576529
           ]
          },
          {
           "axis": {
            "matches": true
           },
           "label": "estimated labour participation rate",
           "values": [
            52.98,
            40.77,
            46.73,
            29.55,
            48.26,
            35.07,
            40.88,
            39.52,
            54.38,
            46.84,
            65.49,
            60.2,
            64.74,
            45.99,
            55.24,
            58.31,
            62.96,
            59.88,
            64.6,
            61.18,
            60.59,
            38.7,
            44.88,
            40.4,
            48.32,
            48.49,
            42.54,
            42.13,
            69.69,
            68.74,
            66.89,
            51.16,
            50.81,
            58.85,
            50.78,
            56.21,
            50.77,
            54.58
           ]
          }
         ],
         "hovertemplate": "region=Northeast<br>%{xaxis.title.text}=%{x}<br>%{yaxis.title.text}=%{y}<extra></extra>",
         "legendgroup": "Northeast",
         "marker": {
          "color": "#EF553B",
          "symbol": "circle"
         },
         "name": "Northeast",
         "showlegend": true,
         "type": "splom"
        },
        {
         "dimensions": [
          {
           "axis": {
            "matches": true
           },
           "label": "estimated unemployment rate",
           "values": [
            10.61,
            10.29,
            15.43,
            46.64,
            45.96,
            17.82,
            12.79,
            13.44,
            11.91,
            9.82,
            10.61,
            11.85,
            8.23,
            47.09,
            59.23,
            20.95,
            7.63,
            9.76,
            8.24,
            11.8,
            1.9,
            3.12,
            13.08,
            23.76,
            11.41,
            3.77,
            1.88,
            1.42,
            2.1,
            2.18,
            6.94,
            4.92,
            6.92,
            17.41,
            17.41,
            7.29,
            6.83,
            14.87,
            9.35,
            9.98
           ]
          },
          {
           "axis": {
            "matches": true
           },
           "label": "estimated employed",
           "values": [
            26397671,
            26281655,
            25717519,
            16046236,
            16280203,
            23963933,
            24989370,
            23795534,
            26902907,
            25693252,
            10198029,
            10425425,
            9638115,
            5335262,
            4145385,
            8622722,
            9521900,
            9331640,
            10185670,
            10302276,
            13743448,
            14280735,
            12272109,
            6865693,
            11730937,
            12903993,
            13614400,
            14154039,
            13608422,
            14094553,
            35820789,
            36964178,
            35903917,
            26938836,
            28356675,
            30726310,
            35372506,
            33298644,
            35707239,
            33962549
           ]
          },
          {
           "axis": {
            "matches": true
           },
           "label": "estimated labour participation rate",
           "values": [
            37.72,
            37.35,
            38.69,
            38.17,
            38.16,
            36.86,
            36.14,
            34.59,
            38.35,
            35.7,
            42.92,
            44.4,
            39.34,
            37.69,
            37.92,
            40.59,
            38.27,
            38.31,
            41.04,
            43.08,
            39.44,
            41.44,
            39.62,
            25.23,
            37.04,
            37.45,
            38.69,
            39.96,
            38.63,
            39.98,
            47.35,
            47.74,
            47.27,
            39.9,
            41.92,
            40.39,
            46.17,
            47.48,
            47.73,
            45.63
           ]
          }
         ],
         "hovertemplate": "region=East<br>%{xaxis.title.text}=%{x}<br>%{yaxis.title.text}=%{y}<extra></extra>",
         "legendgroup": "East",
         "marker": {
          "color": "#00cc96",
          "symbol": "circle"
         },
         "name": "East",
         "showlegend": true,
         "type": "splom"
        },
        {
         "dimensions": [
          {
           "axis": {
            "matches": true
           },
           "label": "estimated unemployment rate",
           "values": [
            9.65,
            8.38,
            7.54,
            3.41,
            10.5,
            14.23,
            10.27,
            5.63,
            1.96,
            6.62,
            8.89,
            2.81,
            5.25,
            13.31,
            21.25,
            9.96,
            17.07,
            16.21,
            15.38,
            11.54,
            5.54,
            6.38,
            6.66,
            18.71,
            12.11,
            3.2,
            1.84,
            1.87,
            3.42,
            4.03,
            4.11,
            4.57,
            2.22,
            12.36,
            21.98,
            6.48,
            5.08,
            4.7,
            3.91,
            3.13,
            4.95,
            4.69,
            5.79,
            20.9,
            15.46,
            9.23,
            3.89,
            6.23,
            4.55,
            4.1
           ]
          },
          {
           "axis": {
            "matches": true
           },
           "label": "estimated employed",
           "values": [
            8552172,
            9195114,
            9302317,
            7600448,
            6991217,
            7332807,
            8620294,
            9050422,
            9021854,
            8546847,
            416750,
            478068,
            411761,
            500614,
            378244,
            489111,
            458876,
            473016,
            425004,
            392304,
            24126346,
            24757795,
            23566641,
            15288878,
            17836936,
            23657055,
            24276120,
            22817232,
            25010199,
            25970259,
            23018632,
            22711479,
            22867164,
            19041832,
            18443927,
            23054646,
            23940158,
            23619011,
            23341952,
            23144552,
            42596868,
            42416317,
            40196806,
            27689253,
            32116847,
            39708538,
            40998545,
            40963616,
            42042911,
            43317881
           ]
          },
          {
           "axis": {
            "matches": true
           },
           "label": "estimated labour participation rate",
           "values": [
            43.08,
            45.58,
            45.59,
            35.58,
            35.23,
            38.48,
            43.14,
            42.97,
            41.14,
            40.82,
            35.73,
            38.38,
            33.88,
            44.97,
            37.36,
            42.21,
            42.94,
            43.76,
            38.89,
            34.3,
            48.49,
            50.11,
            47.75,
            35.5,
            38.23,
            45.96,
            46.41,
            43.55,
            48.41,
            50.49,
            39.42,
            39,
            38.24,
            35.45,
            38.48,
            40.04,
            40.88,
            40.08,
            39.2,
            38.47,
            44.19,
            43.8,
            41.91,
            34.32,
            37.17,
            42.71,
            41.57,
            42.49,
            42.75,
            43.75
           ]
          }
         ],
         "hovertemplate": "region=West<br>%{xaxis.title.text}=%{x}<br>%{yaxis.title.text}=%{y}<extra></extra>",
         "legendgroup": "West",
         "marker": {
          "color": "#ab63fa",
          "symbol": "circle"
         },
         "name": "West",
         "showlegend": true,
         "type": "splom"
        },
        {
         "dimensions": [
          {
           "axis": {
            "matches": true
           },
           "label": "estimated unemployment rate",
           "values": [
            22.23,
            14.84,
            17.04,
            16.68,
            42.27,
            18.19,
            20.3,
            13.79,
            12.53,
            6.27,
            20.34,
            25.77,
            25.05,
            43.22,
            29.02,
            26.7,
            24.18,
            33.5,
            19.68,
            27.31,
            16.83,
            16.84,
            18.76,
            2.2,
            26.95,
            13.47,
            24.31,
            15.79,
            12.04,
            13.46,
            21.08,
            20.78,
            15.5,
            18.74,
            17.92,
            10.88,
            11.09,
            16.17,
            16.14,
            11.11,
            10.97,
            10.32,
            2.86,
            28.33,
            16.55,
            9.19,
            10.99,
            9.61,
            9.88,
            10.97,
            15.16,
            11.9,
            17.7,
            15.74,
            14.39,
            15.81,
            17.51,
            15.35,
            24.15,
            7.58,
            8.98,
            10.11,
            21.54,
            20.41,
            9.47,
            5.56,
            5.79,
            4.18,
            3.75,
            5.49,
            4.99,
            19.85,
            6.48,
            8.01,
            8.61,
            12.38,
            14.26,
            22.26,
            9.23
           ]
          },
          {
           "axis": {
            "matches": true
           },
           "label": "estimated employed",
           "values": [
            5805284,
            5856307,
            5553805,
            3119274,
            2632404,
            4418914,
            4291053,
            4850107,
            4958373,
            4842698,
            7693231,
            7322942,
            6641555,
            5647630,
            6437868,
            6951934,
            6800652,
            7113788,
            7132439,
            6698551,
            2287632,
            2180268,
            2021858,
            1131128,
            1897639,
            2199683,
            2229456,
            2029740,
            2237480,
            2123965,
            3453025,
            3223513,
            3359107,
            3246493,
            3202336,
            3558889,
            3429950,
            3210281,
            3106691,
            9442093,
            9229047,
            9975485,
            7020565,
            6872938,
            8390766,
            9732417,
            9386169,
            8980432,
            8800430,
            20641716,
            20328915,
            20024680,
            15984142,
            19826602,
            20506612,
            19932393,
            20014060,
            20149594,
            19908808,
            59433759,
            58060531,
            56976338,
            50915056,
            49801902,
            55380649,
            56201654,
            55831744,
            56106836,
            56539521,
            2711639,
            3020931,
            2539302,
            2720115,
            2694072,
            2656071,
            2938552,
            2717528,
            2695230,
            2739309
           ]
          },
          {
           "axis": {
            "matches": true
           },
           "label": "estimated labour participation rate",
           "values": [
            47.79,
            43.92,
            42.65,
            23.8,
            28.91,
            34.17,
            33.97,
            35.41,
            35.59,
            32.36,
            43.36,
            44.21,
            39.63,
            44.38,
            40.39,
            42.14,
            39.77,
            47.32,
            39.2,
            40.6,
            45.5,
            43.3,
            41.04,
            19.04,
            42.7,
            41.72,
            48.25,
            39.42,
            41.54,
            40.01,
            42.2,
            39.17,
            38.18,
            38.21,
            37.24,
            38.03,
            36.66,
            36.31,
            35.05,
            42.82,
            41.72,
            44.69,
            28.99,
            38.39,
            40.18,
            42.76,
            41.99,
            39.5,
            38.75,
            40.51,
            41.77,
            39.54,
            33.71,
            40.74,
            41.38,
            40.8,
            41.71,
            40.83,
            44.92,
            39.63,
            39.23,
            38.89,
            39.73,
            38.22,
            37.29,
            36.19,
            35.96,
            35.45,
            35.49,
            32.99,
            36.48,
            36.27,
            33.23,
            33.38,
            33.06,
            38.07,
            35.9,
            39.18,
            34.03
           ]
          }
         ],
         "hovertemplate": "region=North<br>%{xaxis.title.text}=%{x}<br>%{yaxis.title.text}=%{y}<extra></extra>",
         "legendgroup": "North",
         "marker": {
          "color": "#FFA15A",
          "symbol": "circle"
         },
         "name": "North",
         "showlegend": true,
         "type": "splom"
        }
       ],
       "layout": {
        "dragmode": "select",
        "legend": {
         "title": {
          "text": "region"
         },
         "tracegroupgap": 0
        },
        "margin": {
         "t": 60
        },
        "template": {
         "data": {
          "bar": [
           {
            "error_x": {
             "color": "#2a3f5f"
            },
            "error_y": {
             "color": "#2a3f5f"
            },
            "marker": {
             "line": {
              "color": "#E5ECF6",
              "width": 0.5
             },
             "pattern": {
              "fillmode": "overlay",
              "size": 10,
              "solidity": 0.2
             }
            },
            "type": "bar"
           }
          ],
          "barpolar": [
           {
            "marker": {
             "line": {
              "color": "#E5ECF6",
              "width": 0.5
             },
             "pattern": {
              "fillmode": "overlay",
              "size": 10,
              "solidity": 0.2
             }
            },
            "type": "barpolar"
           }
          ],
          "carpet": [
           {
            "aaxis": {
             "endlinecolor": "#2a3f5f",
             "gridcolor": "white",
             "linecolor": "white",
             "minorgridcolor": "white",
             "startlinecolor": "#2a3f5f"
            },
            "baxis": {
             "endlinecolor": "#2a3f5f",
             "gridcolor": "white",
             "linecolor": "white",
             "minorgridcolor": "white",
             "startlinecolor": "#2a3f5f"
            },
            "type": "carpet"
           }
          ],
          "choropleth": [
           {
            "colorbar": {
             "outlinewidth": 0,
             "ticks": ""
            },
            "type": "choropleth"
           }
          ],
          "contour": [
           {
            "colorbar": {
             "outlinewidth": 0,
             "ticks": ""
            },
            "colorscale": [
             [
              0,
              "#0d0887"
             ],
             [
              0.1111111111111111,
              "#46039f"
             ],
             [
              0.2222222222222222,
              "#7201a8"
             ],
             [
              0.3333333333333333,
              "#9c179e"
             ],
             [
              0.4444444444444444,
              "#bd3786"
             ],
             [
              0.5555555555555556,
              "#d8576b"
             ],
             [
              0.6666666666666666,
              "#ed7953"
             ],
             [
              0.7777777777777778,
              "#fb9f3a"
             ],
             [
              0.8888888888888888,
              "#fdca26"
             ],
             [
              1,
              "#f0f921"
             ]
            ],
            "type": "contour"
           }
          ],
          "contourcarpet": [
           {
            "colorbar": {
             "outlinewidth": 0,
             "ticks": ""
            },
            "type": "contourcarpet"
           }
          ],
          "heatmap": [
           {
            "colorbar": {
             "outlinewidth": 0,
             "ticks": ""
            },
            "colorscale": [
             [
              0,
              "#0d0887"
             ],
             [
              0.1111111111111111,
              "#46039f"
             ],
             [
              0.2222222222222222,
              "#7201a8"
             ],
             [
              0.3333333333333333,
              "#9c179e"
             ],
             [
              0.4444444444444444,
              "#bd3786"
             ],
             [
              0.5555555555555556,
              "#d8576b"
             ],
             [
              0.6666666666666666,
              "#ed7953"
             ],
             [
              0.7777777777777778,
              "#fb9f3a"
             ],
             [
              0.8888888888888888,
              "#fdca26"
             ],
             [
              1,
              "#f0f921"
             ]
            ],
            "type": "heatmap"
           }
          ],
          "heatmapgl": [
           {
            "colorbar": {
             "outlinewidth": 0,
             "ticks": ""
            },
            "colorscale": [
             [
              0,
              "#0d0887"
             ],
             [
              0.1111111111111111,
              "#46039f"
             ],
             [
              0.2222222222222222,
              "#7201a8"
             ],
             [
              0.3333333333333333,
              "#9c179e"
             ],
             [
              0.4444444444444444,
              "#bd3786"
             ],
             [
              0.5555555555555556,
              "#d8576b"
             ],
             [
              0.6666666666666666,
              "#ed7953"
             ],
             [
              0.7777777777777778,
              "#fb9f3a"
             ],
             [
              0.8888888888888888,
              "#fdca26"
             ],
             [
              1,
              "#f0f921"
             ]
            ],
            "type": "heatmapgl"
           }
          ],
          "histogram": [
           {
            "marker": {
             "pattern": {
              "fillmode": "overlay",
              "size": 10,
              "solidity": 0.2
             }
            },
            "type": "histogram"
           }
          ],
          "histogram2d": [
           {
            "colorbar": {
             "outlinewidth": 0,
             "ticks": ""
            },
            "colorscale": [
             [
              0,
              "#0d0887"
             ],
             [
              0.1111111111111111,
              "#46039f"
             ],
             [
              0.2222222222222222,
              "#7201a8"
             ],
             [
              0.3333333333333333,
              "#9c179e"
             ],
             [
              0.4444444444444444,
              "#bd3786"
             ],
             [
              0.5555555555555556,
              "#d8576b"
             ],
             [
              0.6666666666666666,
              "#ed7953"
             ],
             [
              0.7777777777777778,
              "#fb9f3a"
             ],
             [
              0.8888888888888888,
              "#fdca26"
             ],
             [
              1,
              "#f0f921"
             ]
            ],
            "type": "histogram2d"
           }
          ],
          "histogram2dcontour": [
           {
            "colorbar": {
             "outlinewidth": 0,
             "ticks": ""
            },
            "colorscale": [
             [
              0,
              "#0d0887"
             ],
             [
              0.1111111111111111,
              "#46039f"
             ],
             [
              0.2222222222222222,
              "#7201a8"
             ],
             [
              0.3333333333333333,
              "#9c179e"
             ],
             [
              0.4444444444444444,
              "#bd3786"
             ],
             [
              0.5555555555555556,
              "#d8576b"
             ],
             [
              0.6666666666666666,
              "#ed7953"
             ],
             [
              0.7777777777777778,
              "#fb9f3a"
             ],
             [
              0.8888888888888888,
              "#fdca26"
             ],
             [
              1,
              "#f0f921"
             ]
            ],
            "type": "histogram2dcontour"
           }
          ],
          "mesh3d": [
           {
            "colorbar": {
             "outlinewidth": 0,
             "ticks": ""
            },
            "type": "mesh3d"
           }
          ],
          "parcoords": [
           {
            "line": {
             "colorbar": {
              "outlinewidth": 0,
              "ticks": ""
             }
            },
            "type": "parcoords"
           }
          ],
          "pie": [
           {
            "automargin": true,
            "type": "pie"
           }
          ],
          "scatter": [
           {
            "fillpattern": {
             "fillmode": "overlay",
             "size": 10,
             "solidity": 0.2
            },
            "type": "scatter"
           }
          ],
          "scatter3d": [
           {
            "line": {
             "colorbar": {
              "outlinewidth": 0,
              "ticks": ""
             }
            },
            "marker": {
             "colorbar": {
              "outlinewidth": 0,
              "ticks": ""
             }
            },
            "type": "scatter3d"
           }
          ],
          "scattercarpet": [
           {
            "marker": {
             "colorbar": {
              "outlinewidth": 0,
              "ticks": ""
             }
            },
            "type": "scattercarpet"
           }
          ],
          "scattergeo": [
           {
            "marker": {
             "colorbar": {
              "outlinewidth": 0,
              "ticks": ""
             }
            },
            "type": "scattergeo"
           }
          ],
          "scattergl": [
           {
            "marker": {
             "colorbar": {
              "outlinewidth": 0,
              "ticks": ""
             }
            },
            "type": "scattergl"
           }
          ],
          "scattermapbox": [
           {
            "marker": {
             "colorbar": {
              "outlinewidth": 0,
              "ticks": ""
             }
            },
            "type": "scattermapbox"
           }
          ],
          "scatterpolar": [
           {
            "marker": {
             "colorbar": {
              "outlinewidth": 0,
              "ticks": ""
             }
            },
            "type": "scatterpolar"
           }
          ],
          "scatterpolargl": [
           {
            "marker": {
             "colorbar": {
              "outlinewidth": 0,
              "ticks": ""
             }
            },
            "type": "scatterpolargl"
           }
          ],
          "scatterternary": [
           {
            "marker": {
             "colorbar": {
              "outlinewidth": 0,
              "ticks": ""
             }
            },
            "type": "scatterternary"
           }
          ],
          "surface": [
           {
            "colorbar": {
             "outlinewidth": 0,
             "ticks": ""
            },
            "colorscale": [
             [
              0,
              "#0d0887"
             ],
             [
              0.1111111111111111,
              "#46039f"
             ],
             [
              0.2222222222222222,
              "#7201a8"
             ],
             [
              0.3333333333333333,
              "#9c179e"
             ],
             [
              0.4444444444444444,
              "#bd3786"
             ],
             [
              0.5555555555555556,
              "#d8576b"
             ],
             [
              0.6666666666666666,
              "#ed7953"
             ],
             [
              0.7777777777777778,
              "#fb9f3a"
             ],
             [
              0.8888888888888888,
              "#fdca26"
             ],
             [
              1,
              "#f0f921"
             ]
            ],
            "type": "surface"
           }
          ],
          "table": [
           {
            "cells": {
             "fill": {
              "color": "#EBF0F8"
             },
             "line": {
              "color": "white"
             }
            },
            "header": {
             "fill": {
              "color": "#C8D4E3"
             },
             "line": {
              "color": "white"
             }
            },
            "type": "table"
           }
          ]
         },
         "layout": {
          "annotationdefaults": {
           "arrowcolor": "#2a3f5f",
           "arrowhead": 0,
           "arrowwidth": 1
          },
          "autotypenumbers": "strict",
          "coloraxis": {
           "colorbar": {
            "outlinewidth": 0,
            "ticks": ""
           }
          },
          "colorscale": {
           "diverging": [
            [
             0,
             "#8e0152"
            ],
            [
             0.1,
             "#c51b7d"
            ],
            [
             0.2,
             "#de77ae"
            ],
            [
             0.3,
             "#f1b6da"
            ],
            [
             0.4,
             "#fde0ef"
            ],
            [
             0.5,
             "#f7f7f7"
            ],
            [
             0.6,
             "#e6f5d0"
            ],
            [
             0.7,
             "#b8e186"
            ],
            [
             0.8,
             "#7fbc41"
            ],
            [
             0.9,
             "#4d9221"
            ],
            [
             1,
             "#276419"
            ]
           ],
           "sequential": [
            [
             0,
             "#0d0887"
            ],
            [
             0.1111111111111111,
             "#46039f"
            ],
            [
             0.2222222222222222,
             "#7201a8"
            ],
            [
             0.3333333333333333,
             "#9c179e"
            ],
            [
             0.4444444444444444,
             "#bd3786"
            ],
            [
             0.5555555555555556,
             "#d8576b"
            ],
            [
             0.6666666666666666,
             "#ed7953"
            ],
            [
             0.7777777777777778,
             "#fb9f3a"
            ],
            [
             0.8888888888888888,
             "#fdca26"
            ],
            [
             1,
             "#f0f921"
            ]
           ],
           "sequentialminus": [
            [
             0,
             "#0d0887"
            ],
            [
             0.1111111111111111,
             "#46039f"
            ],
            [
             0.2222222222222222,
             "#7201a8"
            ],
            [
             0.3333333333333333,
             "#9c179e"
            ],
            [
             0.4444444444444444,
             "#bd3786"
            ],
            [
             0.5555555555555556,
             "#d8576b"
            ],
            [
             0.6666666666666666,
             "#ed7953"
            ],
            [
             0.7777777777777778,
             "#fb9f3a"
            ],
            [
             0.8888888888888888,
             "#fdca26"
            ],
            [
             1,
             "#f0f921"
            ]
           ]
          },
          "colorway": [
           "#636efa",
           "#EF553B",
           "#00cc96",
           "#ab63fa",
           "#FFA15A",
           "#19d3f3",
           "#FF6692",
           "#B6E880",
           "#FF97FF",
           "#FECB52"
          ],
          "font": {
           "color": "#2a3f5f"
          },
          "geo": {
           "bgcolor": "white",
           "lakecolor": "white",
           "landcolor": "#E5ECF6",
           "showlakes": true,
           "showland": true,
           "subunitcolor": "white"
          },
          "hoverlabel": {
           "align": "left"
          },
          "hovermode": "closest",
          "mapbox": {
           "style": "light"
          },
          "paper_bgcolor": "white",
          "plot_bgcolor": "#E5ECF6",
          "polar": {
           "angularaxis": {
            "gridcolor": "white",
            "linecolor": "white",
            "ticks": ""
           },
           "bgcolor": "#E5ECF6",
           "radialaxis": {
            "gridcolor": "white",
            "linecolor": "white",
            "ticks": ""
           }
          },
          "scene": {
           "xaxis": {
            "backgroundcolor": "#E5ECF6",
            "gridcolor": "white",
            "gridwidth": 2,
            "linecolor": "white",
            "showbackground": true,
            "ticks": "",
            "zerolinecolor": "white"
           },
           "yaxis": {
            "backgroundcolor": "#E5ECF6",
            "gridcolor": "white",
            "gridwidth": 2,
            "linecolor": "white",
            "showbackground": true,
            "ticks": "",
            "zerolinecolor": "white"
           },
           "zaxis": {
            "backgroundcolor": "#E5ECF6",
            "gridcolor": "white",
            "gridwidth": 2,
            "linecolor": "white",
            "showbackground": true,
            "ticks": "",
            "zerolinecolor": "white"
           }
          },
          "shapedefaults": {
           "line": {
            "color": "#2a3f5f"
           }
          },
          "ternary": {
           "aaxis": {
            "gridcolor": "white",
            "linecolor": "white",
            "ticks": ""
           },
           "baxis": {
            "gridcolor": "white",
            "linecolor": "white",
            "ticks": ""
           },
           "bgcolor": "#E5ECF6",
           "caxis": {
            "gridcolor": "white",
            "linecolor": "white",
            "ticks": ""
           }
          },
          "title": {
           "x": 0.05
          },
          "xaxis": {
           "automargin": true,
           "gridcolor": "white",
           "linecolor": "white",
           "ticks": "",
           "title": {
            "standoff": 15
           },
           "zerolinecolor": "white",
           "zerolinewidth": 2
          },
          "yaxis": {
           "automargin": true,
           "gridcolor": "white",
           "linecolor": "white",
           "ticks": "",
           "title": {
            "standoff": 15
           },
           "zerolinecolor": "white",
           "zerolinewidth": 2
          }
         }
        }
       }
      },
      "text/html": [
       "<div>                            <div id=\"557b26a7-b36c-410b-86c5-2ec624893f63\" class=\"plotly-graph-div\" style=\"height:525px; width:100%;\"></div>            <script type=\"text/javascript\">                require([\"plotly\"], function(Plotly) {                    window.PLOTLYENV=window.PLOTLYENV || {};                                    if (document.getElementById(\"557b26a7-b36c-410b-86c5-2ec624893f63\")) {                    Plotly.newPlot(                        \"557b26a7-b36c-410b-86c5-2ec624893f63\",                        [{\"dimensions\":[{\"axis\":{\"matches\":true},\"label\":\"estimated unemployment rate\",\"values\":[5.48,5.83,5.79,20.51,17.43,3.31,8.34,6.96,6.4,6.59,2.86,3.61,3.46,29.84,19.97,8.44,4.01,0.5,2.41,1.58,5.31,7.6,8.99,16.99,17.88,9.71,7.09,10.98,5.91,3.88,0.58,1.76,1.2,75.85,58.19,4.24,15.47,5.05,10.9,6.18,1.57,2.09,6.4,49.83,33.16,12.2,6.81,2.65,5.0,2.16,5.49,8.29,5.77,6.25,14.7,10.55,5.36,5.79,3.27,2.86]},{\"axis\":{\"matches\":true},\"label\":\"estimated employed\",\"values\":[16635535,16545652,15881197,11336911,12988845,19805400,15431615,15251776,15220312,15157557,22688028,21677719,22079653,16718395,19397853,24215057,22885616,24094289,20127176,22356390,9904534,9828023,8221728,3933276,7921962,9228268,9504420,9031944,9240913,9152881,457950,493961,421028,117542,172308,367135,386563,396006,411717,428419,26881641,27570589,26830768,9719167,11483256,19096847,24572827,27046415,23025845,23651626,17609295,16825970,17341613,12172230,14977774,15108910,15679417,18185429,16961448,17578739]},{\"axis\":{\"matches\":true},\"label\":\"estimated labour participation rate\",\"values\":[41.02,40.9,39.18,33.1,36.46,47.41,38.91,37.83,37.47,37.34,42.18,40.54,41.14,42.78,43.43,47.29,42.55,43.13,36.66,40.3,37.12,37.71,32.0,16.77,34.11,36.11,36.1,35.78,34.6,33.52,37.46,40.8,34.49,39.3,33.19,30.8,36.64,33.34,36.84,36.32,41.96,43.2,43.91,29.63,26.23,33.16,40.13,42.22,36.77,36.62,59.25,58.24,58.31,41.06,55.43,53.22,52.1,60.59,54.94,56.58]}],\"hovertemplate\":\"region=South<br>%{xaxis.title.text}=%{x}<br>%{yaxis.title.text}=%{y}<extra></extra>\",\"legendgroup\":\"South\",\"marker\":{\"color\":\"#636efa\",\"symbol\":\"circle\"},\"name\":\"South\",\"showlegend\":true,\"type\":\"splom\"},{\"dimensions\":[{\"axis\":{\"matches\":true},\"label\":\"estimated unemployment rate\",\"values\":[4.66,4.41,4.77,11.06,9.55,0.6,3.77,5.53,1.19,3.02,1.66,3.59,1.58,10.03,5.92,1.15,2.1,3.74,4.29,4.6,23.57,2.28,24.51,4.46,4.45,12.49,5.7,0.88,32.67,28.4,29.95,41.23,21.51,21.71,18.24,27.92,17.35,11.57]},{\"axis\":{\"matches\":true},\"label\":\"estimated employed\",\"values\":[13051904,10088268,11542888,6830817,11367897,9095944,10286757,9781310,14107641,11949329,1491093,1346829,1482351,965057,1215064,1350794,1448106,1357643,1459726,1381490,262895,215303,193427,221058,265175,244462,231798,242068,1508130,1584686,1511217,971514,1290986,1494140,1348849,1318621,1368244,1576529]},{\"axis\":{\"matches\":true},\"label\":\"estimated labour participation rate\",\"values\":[52.98,40.77,46.73,29.55,48.26,35.07,40.88,39.52,54.38,46.84,65.49,60.2,64.74,45.99,55.24,58.31,62.96,59.88,64.6,61.18,60.59,38.7,44.88,40.4,48.32,48.49,42.54,42.13,69.69,68.74,66.89,51.16,50.81,58.85,50.78,56.21,50.77,54.58]}],\"hovertemplate\":\"region=Northeast<br>%{xaxis.title.text}=%{x}<br>%{yaxis.title.text}=%{y}<extra></extra>\",\"legendgroup\":\"Northeast\",\"marker\":{\"color\":\"#EF553B\",\"symbol\":\"circle\"},\"name\":\"Northeast\",\"showlegend\":true,\"type\":\"splom\"},{\"dimensions\":[{\"axis\":{\"matches\":true},\"label\":\"estimated unemployment rate\",\"values\":[10.61,10.29,15.43,46.64,45.96,17.82,12.79,13.44,11.91,9.82,10.61,11.85,8.23,47.09,59.23,20.95,7.63,9.76,8.24,11.8,1.9,3.12,13.08,23.76,11.41,3.77,1.88,1.42,2.1,2.18,6.94,4.92,6.92,17.41,17.41,7.29,6.83,14.87,9.35,9.98]},{\"axis\":{\"matches\":true},\"label\":\"estimated employed\",\"values\":[26397671,26281655,25717519,16046236,16280203,23963933,24989370,23795534,26902907,25693252,10198029,10425425,9638115,5335262,4145385,8622722,9521900,9331640,10185670,10302276,13743448,14280735,12272109,6865693,11730937,12903993,13614400,14154039,13608422,14094553,35820789,36964178,35903917,26938836,28356675,30726310,35372506,33298644,35707239,33962549]},{\"axis\":{\"matches\":true},\"label\":\"estimated labour participation rate\",\"values\":[37.72,37.35,38.69,38.17,38.16,36.86,36.14,34.59,38.35,35.7,42.92,44.4,39.34,37.69,37.92,40.59,38.27,38.31,41.04,43.08,39.44,41.44,39.62,25.23,37.04,37.45,38.69,39.96,38.63,39.98,47.35,47.74,47.27,39.9,41.92,40.39,46.17,47.48,47.73,45.63]}],\"hovertemplate\":\"region=East<br>%{xaxis.title.text}=%{x}<br>%{yaxis.title.text}=%{y}<extra></extra>\",\"legendgroup\":\"East\",\"marker\":{\"color\":\"#00cc96\",\"symbol\":\"circle\"},\"name\":\"East\",\"showlegend\":true,\"type\":\"splom\"},{\"dimensions\":[{\"axis\":{\"matches\":true},\"label\":\"estimated unemployment rate\",\"values\":[9.65,8.38,7.54,3.41,10.5,14.23,10.27,5.63,1.96,6.62,8.89,2.81,5.25,13.31,21.25,9.96,17.07,16.21,15.38,11.54,5.54,6.38,6.66,18.71,12.11,3.2,1.84,1.87,3.42,4.03,4.11,4.57,2.22,12.36,21.98,6.48,5.08,4.7,3.91,3.13,4.95,4.69,5.79,20.9,15.46,9.23,3.89,6.23,4.55,4.1]},{\"axis\":{\"matches\":true},\"label\":\"estimated employed\",\"values\":[8552172,9195114,9302317,7600448,6991217,7332807,8620294,9050422,9021854,8546847,416750,478068,411761,500614,378244,489111,458876,473016,425004,392304,24126346,24757795,23566641,15288878,17836936,23657055,24276120,22817232,25010199,25970259,23018632,22711479,22867164,19041832,18443927,23054646,23940158,23619011,23341952,23144552,42596868,42416317,40196806,27689253,32116847,39708538,40998545,40963616,42042911,43317881]},{\"axis\":{\"matches\":true},\"label\":\"estimated labour participation rate\",\"values\":[43.08,45.58,45.59,35.58,35.23,38.48,43.14,42.97,41.14,40.82,35.73,38.38,33.88,44.97,37.36,42.21,42.94,43.76,38.89,34.3,48.49,50.11,47.75,35.5,38.23,45.96,46.41,43.55,48.41,50.49,39.42,39.0,38.24,35.45,38.48,40.04,40.88,40.08,39.2,38.47,44.19,43.8,41.91,34.32,37.17,42.71,41.57,42.49,42.75,43.75]}],\"hovertemplate\":\"region=West<br>%{xaxis.title.text}=%{x}<br>%{yaxis.title.text}=%{y}<extra></extra>\",\"legendgroup\":\"West\",\"marker\":{\"color\":\"#ab63fa\",\"symbol\":\"circle\"},\"name\":\"West\",\"showlegend\":true,\"type\":\"splom\"},{\"dimensions\":[{\"axis\":{\"matches\":true},\"label\":\"estimated unemployment rate\",\"values\":[22.23,14.84,17.04,16.68,42.27,18.19,20.3,13.79,12.53,6.27,20.34,25.77,25.05,43.22,29.02,26.7,24.18,33.5,19.68,27.31,16.83,16.84,18.76,2.2,26.95,13.47,24.31,15.79,12.04,13.46,21.08,20.78,15.5,18.74,17.92,10.88,11.09,16.17,16.14,11.11,10.97,10.32,2.86,28.33,16.55,9.19,10.99,9.61,9.88,10.97,15.16,11.9,17.7,15.74,14.39,15.81,17.51,15.35,24.15,7.58,8.98,10.11,21.54,20.41,9.47,5.56,5.79,4.18,3.75,5.49,4.99,19.85,6.48,8.01,8.61,12.38,14.26,22.26,9.23]},{\"axis\":{\"matches\":true},\"label\":\"estimated employed\",\"values\":[5805284,5856307,5553805,3119274,2632404,4418914,4291053,4850107,4958373,4842698,7693231,7322942,6641555,5647630,6437868,6951934,6800652,7113788,7132439,6698551,2287632,2180268,2021858,1131128,1897639,2199683,2229456,2029740,2237480,2123965,3453025,3223513,3359107,3246493,3202336,3558889,3429950,3210281,3106691,9442093,9229047,9975485,7020565,6872938,8390766,9732417,9386169,8980432,8800430,20641716,20328915,20024680,15984142,19826602,20506612,19932393,20014060,20149594,19908808,59433759,58060531,56976338,50915056,49801902,55380649,56201654,55831744,56106836,56539521,2711639,3020931,2539302,2720115,2694072,2656071,2938552,2717528,2695230,2739309]},{\"axis\":{\"matches\":true},\"label\":\"estimated labour participation rate\",\"values\":[47.79,43.92,42.65,23.8,28.91,34.17,33.97,35.41,35.59,32.36,43.36,44.21,39.63,44.38,40.39,42.14,39.77,47.32,39.2,40.6,45.5,43.3,41.04,19.04,42.7,41.72,48.25,39.42,41.54,40.01,42.2,39.17,38.18,38.21,37.24,38.03,36.66,36.31,35.05,42.82,41.72,44.69,28.99,38.39,40.18,42.76,41.99,39.5,38.75,40.51,41.77,39.54,33.71,40.74,41.38,40.8,41.71,40.83,44.92,39.63,39.23,38.89,39.73,38.22,37.29,36.19,35.96,35.45,35.49,32.99,36.48,36.27,33.23,33.38,33.06,38.07,35.9,39.18,34.03]}],\"hovertemplate\":\"region=North<br>%{xaxis.title.text}=%{x}<br>%{yaxis.title.text}=%{y}<extra></extra>\",\"legendgroup\":\"North\",\"marker\":{\"color\":\"#FFA15A\",\"symbol\":\"circle\"},\"name\":\"North\",\"showlegend\":true,\"type\":\"splom\"}],                        {\"template\":{\"data\":{\"histogram2dcontour\":[{\"type\":\"histogram2dcontour\",\"colorbar\":{\"outlinewidth\":0,\"ticks\":\"\"},\"colorscale\":[[0.0,\"#0d0887\"],[0.1111111111111111,\"#46039f\"],[0.2222222222222222,\"#7201a8\"],[0.3333333333333333,\"#9c179e\"],[0.4444444444444444,\"#bd3786\"],[0.5555555555555556,\"#d8576b\"],[0.6666666666666666,\"#ed7953\"],[0.7777777777777778,\"#fb9f3a\"],[0.8888888888888888,\"#fdca26\"],[1.0,\"#f0f921\"]]}],\"choropleth\":[{\"type\":\"choropleth\",\"colorbar\":{\"outlinewidth\":0,\"ticks\":\"\"}}],\"histogram2d\":[{\"type\":\"histogram2d\",\"colorbar\":{\"outlinewidth\":0,\"ticks\":\"\"},\"colorscale\":[[0.0,\"#0d0887\"],[0.1111111111111111,\"#46039f\"],[0.2222222222222222,\"#7201a8\"],[0.3333333333333333,\"#9c179e\"],[0.4444444444444444,\"#bd3786\"],[0.5555555555555556,\"#d8576b\"],[0.6666666666666666,\"#ed7953\"],[0.7777777777777778,\"#fb9f3a\"],[0.8888888888888888,\"#fdca26\"],[1.0,\"#f0f921\"]]}],\"heatmap\":[{\"type\":\"heatmap\",\"colorbar\":{\"outlinewidth\":0,\"ticks\":\"\"},\"colorscale\":[[0.0,\"#0d0887\"],[0.1111111111111111,\"#46039f\"],[0.2222222222222222,\"#7201a8\"],[0.3333333333333333,\"#9c179e\"],[0.4444444444444444,\"#bd3786\"],[0.5555555555555556,\"#d8576b\"],[0.6666666666666666,\"#ed7953\"],[0.7777777777777778,\"#fb9f3a\"],[0.8888888888888888,\"#fdca26\"],[1.0,\"#f0f921\"]]}],\"heatmapgl\":[{\"type\":\"heatmapgl\",\"colorbar\":{\"outlinewidth\":0,\"ticks\":\"\"},\"colorscale\":[[0.0,\"#0d0887\"],[0.1111111111111111,\"#46039f\"],[0.2222222222222222,\"#7201a8\"],[0.3333333333333333,\"#9c179e\"],[0.4444444444444444,\"#bd3786\"],[0.5555555555555556,\"#d8576b\"],[0.6666666666666666,\"#ed7953\"],[0.7777777777777778,\"#fb9f3a\"],[0.8888888888888888,\"#fdca26\"],[1.0,\"#f0f921\"]]}],\"contourcarpet\":[{\"type\":\"contourcarpet\",\"colorbar\":{\"outlinewidth\":0,\"ticks\":\"\"}}],\"contour\":[{\"type\":\"contour\",\"colorbar\":{\"outlinewidth\":0,\"ticks\":\"\"},\"colorscale\":[[0.0,\"#0d0887\"],[0.1111111111111111,\"#46039f\"],[0.2222222222222222,\"#7201a8\"],[0.3333333333333333,\"#9c179e\"],[0.4444444444444444,\"#bd3786\"],[0.5555555555555556,\"#d8576b\"],[0.6666666666666666,\"#ed7953\"],[0.7777777777777778,\"#fb9f3a\"],[0.8888888888888888,\"#fdca26\"],[1.0,\"#f0f921\"]]}],\"surface\":[{\"type\":\"surface\",\"colorbar\":{\"outlinewidth\":0,\"ticks\":\"\"},\"colorscale\":[[0.0,\"#0d0887\"],[0.1111111111111111,\"#46039f\"],[0.2222222222222222,\"#7201a8\"],[0.3333333333333333,\"#9c179e\"],[0.4444444444444444,\"#bd3786\"],[0.5555555555555556,\"#d8576b\"],[0.6666666666666666,\"#ed7953\"],[0.7777777777777778,\"#fb9f3a\"],[0.8888888888888888,\"#fdca26\"],[1.0,\"#f0f921\"]]}],\"mesh3d\":[{\"type\":\"mesh3d\",\"colorbar\":{\"outlinewidth\":0,\"ticks\":\"\"}}],\"scatter\":[{\"fillpattern\":{\"fillmode\":\"overlay\",\"size\":10,\"solidity\":0.2},\"type\":\"scatter\"}],\"parcoords\":[{\"type\":\"parcoords\",\"line\":{\"colorbar\":{\"outlinewidth\":0,\"ticks\":\"\"}}}],\"scatterpolargl\":[{\"type\":\"scatterpolargl\",\"marker\":{\"colorbar\":{\"outlinewidth\":0,\"ticks\":\"\"}}}],\"bar\":[{\"error_x\":{\"color\":\"#2a3f5f\"},\"error_y\":{\"color\":\"#2a3f5f\"},\"marker\":{\"line\":{\"color\":\"#E5ECF6\",\"width\":0.5},\"pattern\":{\"fillmode\":\"overlay\",\"size\":10,\"solidity\":0.2}},\"type\":\"bar\"}],\"scattergeo\":[{\"type\":\"scattergeo\",\"marker\":{\"colorbar\":{\"outlinewidth\":0,\"ticks\":\"\"}}}],\"scatterpolar\":[{\"type\":\"scatterpolar\",\"marker\":{\"colorbar\":{\"outlinewidth\":0,\"ticks\":\"\"}}}],\"histogram\":[{\"marker\":{\"pattern\":{\"fillmode\":\"overlay\",\"size\":10,\"solidity\":0.2}},\"type\":\"histogram\"}],\"scattergl\":[{\"type\":\"scattergl\",\"marker\":{\"colorbar\":{\"outlinewidth\":0,\"ticks\":\"\"}}}],\"scatter3d\":[{\"type\":\"scatter3d\",\"line\":{\"colorbar\":{\"outlinewidth\":0,\"ticks\":\"\"}},\"marker\":{\"colorbar\":{\"outlinewidth\":0,\"ticks\":\"\"}}}],\"scattermapbox\":[{\"type\":\"scattermapbox\",\"marker\":{\"colorbar\":{\"outlinewidth\":0,\"ticks\":\"\"}}}],\"scatterternary\":[{\"type\":\"scatterternary\",\"marker\":{\"colorbar\":{\"outlinewidth\":0,\"ticks\":\"\"}}}],\"scattercarpet\":[{\"type\":\"scattercarpet\",\"marker\":{\"colorbar\":{\"outlinewidth\":0,\"ticks\":\"\"}}}],\"carpet\":[{\"aaxis\":{\"endlinecolor\":\"#2a3f5f\",\"gridcolor\":\"white\",\"linecolor\":\"white\",\"minorgridcolor\":\"white\",\"startlinecolor\":\"#2a3f5f\"},\"baxis\":{\"endlinecolor\":\"#2a3f5f\",\"gridcolor\":\"white\",\"linecolor\":\"white\",\"minorgridcolor\":\"white\",\"startlinecolor\":\"#2a3f5f\"},\"type\":\"carpet\"}],\"table\":[{\"cells\":{\"fill\":{\"color\":\"#EBF0F8\"},\"line\":{\"color\":\"white\"}},\"header\":{\"fill\":{\"color\":\"#C8D4E3\"},\"line\":{\"color\":\"white\"}},\"type\":\"table\"}],\"barpolar\":[{\"marker\":{\"line\":{\"color\":\"#E5ECF6\",\"width\":0.5},\"pattern\":{\"fillmode\":\"overlay\",\"size\":10,\"solidity\":0.2}},\"type\":\"barpolar\"}],\"pie\":[{\"automargin\":true,\"type\":\"pie\"}]},\"layout\":{\"autotypenumbers\":\"strict\",\"colorway\":[\"#636efa\",\"#EF553B\",\"#00cc96\",\"#ab63fa\",\"#FFA15A\",\"#19d3f3\",\"#FF6692\",\"#B6E880\",\"#FF97FF\",\"#FECB52\"],\"font\":{\"color\":\"#2a3f5f\"},\"hovermode\":\"closest\",\"hoverlabel\":{\"align\":\"left\"},\"paper_bgcolor\":\"white\",\"plot_bgcolor\":\"#E5ECF6\",\"polar\":{\"bgcolor\":\"#E5ECF6\",\"angularaxis\":{\"gridcolor\":\"white\",\"linecolor\":\"white\",\"ticks\":\"\"},\"radialaxis\":{\"gridcolor\":\"white\",\"linecolor\":\"white\",\"ticks\":\"\"}},\"ternary\":{\"bgcolor\":\"#E5ECF6\",\"aaxis\":{\"gridcolor\":\"white\",\"linecolor\":\"white\",\"ticks\":\"\"},\"baxis\":{\"gridcolor\":\"white\",\"linecolor\":\"white\",\"ticks\":\"\"},\"caxis\":{\"gridcolor\":\"white\",\"linecolor\":\"white\",\"ticks\":\"\"}},\"coloraxis\":{\"colorbar\":{\"outlinewidth\":0,\"ticks\":\"\"}},\"colorscale\":{\"sequential\":[[0.0,\"#0d0887\"],[0.1111111111111111,\"#46039f\"],[0.2222222222222222,\"#7201a8\"],[0.3333333333333333,\"#9c179e\"],[0.4444444444444444,\"#bd3786\"],[0.5555555555555556,\"#d8576b\"],[0.6666666666666666,\"#ed7953\"],[0.7777777777777778,\"#fb9f3a\"],[0.8888888888888888,\"#fdca26\"],[1.0,\"#f0f921\"]],\"sequentialminus\":[[0.0,\"#0d0887\"],[0.1111111111111111,\"#46039f\"],[0.2222222222222222,\"#7201a8\"],[0.3333333333333333,\"#9c179e\"],[0.4444444444444444,\"#bd3786\"],[0.5555555555555556,\"#d8576b\"],[0.6666666666666666,\"#ed7953\"],[0.7777777777777778,\"#fb9f3a\"],[0.8888888888888888,\"#fdca26\"],[1.0,\"#f0f921\"]],\"diverging\":[[0,\"#8e0152\"],[0.1,\"#c51b7d\"],[0.2,\"#de77ae\"],[0.3,\"#f1b6da\"],[0.4,\"#fde0ef\"],[0.5,\"#f7f7f7\"],[0.6,\"#e6f5d0\"],[0.7,\"#b8e186\"],[0.8,\"#7fbc41\"],[0.9,\"#4d9221\"],[1,\"#276419\"]]},\"xaxis\":{\"gridcolor\":\"white\",\"linecolor\":\"white\",\"ticks\":\"\",\"title\":{\"standoff\":15},\"zerolinecolor\":\"white\",\"automargin\":true,\"zerolinewidth\":2},\"yaxis\":{\"gridcolor\":\"white\",\"linecolor\":\"white\",\"ticks\":\"\",\"title\":{\"standoff\":15},\"zerolinecolor\":\"white\",\"automargin\":true,\"zerolinewidth\":2},\"scene\":{\"xaxis\":{\"backgroundcolor\":\"#E5ECF6\",\"gridcolor\":\"white\",\"linecolor\":\"white\",\"showbackground\":true,\"ticks\":\"\",\"zerolinecolor\":\"white\",\"gridwidth\":2},\"yaxis\":{\"backgroundcolor\":\"#E5ECF6\",\"gridcolor\":\"white\",\"linecolor\":\"white\",\"showbackground\":true,\"ticks\":\"\",\"zerolinecolor\":\"white\",\"gridwidth\":2},\"zaxis\":{\"backgroundcolor\":\"#E5ECF6\",\"gridcolor\":\"white\",\"linecolor\":\"white\",\"showbackground\":true,\"ticks\":\"\",\"zerolinecolor\":\"white\",\"gridwidth\":2}},\"shapedefaults\":{\"line\":{\"color\":\"#2a3f5f\"}},\"annotationdefaults\":{\"arrowcolor\":\"#2a3f5f\",\"arrowhead\":0,\"arrowwidth\":1},\"geo\":{\"bgcolor\":\"white\",\"landcolor\":\"#E5ECF6\",\"subunitcolor\":\"white\",\"showland\":true,\"showlakes\":true,\"lakecolor\":\"white\"},\"title\":{\"x\":0.05},\"mapbox\":{\"style\":\"light\"}}},\"legend\":{\"title\":{\"text\":\"region\"},\"tracegroupgap\":0},\"margin\":{\"t\":60},\"dragmode\":\"select\"},                        {\"responsive\": true}                    ).then(function(){\n",
       "                            \n",
       "var gd = document.getElementById('557b26a7-b36c-410b-86c5-2ec624893f63');\n",
       "var x = new MutationObserver(function (mutations, observer) {{\n",
       "        var display = window.getComputedStyle(gd).display;\n",
       "        if (!display || display === 'none') {{\n",
       "            console.log([gd, 'removed!']);\n",
       "            Plotly.purge(gd);\n",
       "            observer.disconnect();\n",
       "        }}\n",
       "}});\n",
       "\n",
       "// Listen for the removal of the full notebook cells\n",
       "var notebookContainer = gd.closest('#notebook-container');\n",
       "if (notebookContainer) {{\n",
       "    x.observe(notebookContainer, {childList: true});\n",
       "}}\n",
       "\n",
       "// Listen for the clearing of the current output cell\n",
       "var outputEl = gd.closest('.output');\n",
       "if (outputEl) {{\n",
       "    x.observe(outputEl, {childList: true});\n",
       "}}\n",
       "\n",
       "                        })                };                });            </script>        </div>"
      ]
     },
     "metadata": {},
     "output_type": "display_data"
    }
   ],
   "source": [
    "#Scatter matrix showing relationships between unemployment rate, employment, and labor participation rate, color-coded by region.\n",
    "fig = px.scatter_matrix(data, template='plotly',\n",
    "                        dimensions=['estimated unemployment rate', 'estimated employed', 'estimated labour participation rate'],\n",
    "                        color='region')\n",
    "fig.show()\n",
    "\n",
    "\n"
   ]
  },
  {
   "cell_type": "code",
   "execution_count": 21,
   "metadata": {
    "execution": {
     "iopub.execute_input": "2023-09-07T06:23:23.849994Z",
     "iopub.status.busy": "2023-09-07T06:23:23.849138Z",
     "iopub.status.idle": "2023-09-07T06:23:24.124884Z",
     "shell.execute_reply": "2023-09-07T06:23:24.123257Z"
    },
    "papermill": {
     "duration": 0.330839,
     "end_time": "2023-09-07T06:23:24.129625",
     "exception": false,
     "start_time": "2023-09-07T06:23:23.798786",
     "status": "completed"
    },
    "tags": []
   },
   "outputs": [
    {
     "data": {
      "application/vnd.plotly.v1+json": {
       "config": {
        "plotlyServerURL": "https://plot.ly"
       },
       "data": [
        {
         "alignmentgroup": "True",
         "hovertemplate": "state=%{x}<br>estimated unemployment rate=%{y}<extra></extra>",
         "legendgroup": "Meghalaya",
         "marker": {
          "color": "#636efa",
          "pattern": {
           "shape": ""
          }
         },
         "name": "Meghalaya",
         "offsetgroup": "Meghalaya",
         "orientation": "v",
         "showlegend": true,
         "textposition": "auto",
         "type": "bar",
         "x": [
          "Meghalaya"
         ],
         "xaxis": "x",
         "y": [
          3.8659999999999997
         ],
         "yaxis": "y"
        },
        {
         "alignmentgroup": "True",
         "hovertemplate": "state=%{x}<br>estimated unemployment rate=%{y}<extra></extra>",
         "legendgroup": "Assam",
         "marker": {
          "color": "#EF553B",
          "pattern": {
           "shape": ""
          }
         },
         "name": "Assam",
         "offsetgroup": "Assam",
         "orientation": "v",
         "showlegend": true,
         "textposition": "auto",
         "type": "bar",
         "x": [
          "Assam"
         ],
         "xaxis": "x",
         "y": [
          4.856
         ],
         "yaxis": "y"
        },
        {
         "alignmentgroup": "True",
         "hovertemplate": "state=%{x}<br>estimated unemployment rate=%{y}<extra></extra>",
         "legendgroup": "Gujarat",
         "marker": {
          "color": "#00cc96",
          "pattern": {
           "shape": ""
          }
         },
         "name": "Gujarat",
         "offsetgroup": "Gujarat",
         "orientation": "v",
         "showlegend": true,
         "textposition": "auto",
         "type": "bar",
         "x": [
          "Gujarat"
         ],
         "xaxis": "x",
         "y": [
          6.3759999999999994
         ],
         "yaxis": "y"
        },
        {
         "alignmentgroup": "True",
         "hovertemplate": "state=%{x}<br>estimated unemployment rate=%{y}<extra></extra>",
         "legendgroup": "Odisha",
         "marker": {
          "color": "#ab63fa",
          "pattern": {
           "shape": ""
          }
         },
         "name": "Odisha",
         "offsetgroup": "Odisha",
         "orientation": "v",
         "showlegend": true,
         "textposition": "auto",
         "type": "bar",
         "x": [
          "Odisha"
         ],
         "xaxis": "x",
         "y": [
          6.462000000000001
         ],
         "yaxis": "y"
        },
        {
         "alignmentgroup": "True",
         "hovertemplate": "state=%{x}<br>estimated unemployment rate=%{y}<extra></extra>",
         "legendgroup": "Telangana",
         "marker": {
          "color": "#FFA15A",
          "pattern": {
           "shape": ""
          }
         },
         "name": "Telangana",
         "offsetgroup": "Telangana",
         "orientation": "v",
         "showlegend": true,
         "textposition": "auto",
         "type": "bar",
         "x": [
          "Telangana"
         ],
         "xaxis": "x",
         "y": [
          6.833
         ],
         "yaxis": "y"
        },
        {
         "alignmentgroup": "True",
         "hovertemplate": "state=%{x}<br>estimated unemployment rate=%{y}<extra></extra>",
         "legendgroup": "Madhya Pradesh",
         "marker": {
          "color": "#19d3f3",
          "pattern": {
           "shape": ""
          }
         },
         "name": "Madhya Pradesh",
         "offsetgroup": "Madhya Pradesh",
         "orientation": "v",
         "showlegend": true,
         "textposition": "auto",
         "type": "bar",
         "x": [
          "Madhya Pradesh"
         ],
         "xaxis": "x",
         "y": [
          6.854000000000001
         ],
         "yaxis": "y"
        },
        {
         "alignmentgroup": "True",
         "hovertemplate": "state=%{x}<br>estimated unemployment rate=%{y}<extra></extra>",
         "legendgroup": "Karnataka",
         "marker": {
          "color": "#FF6692",
          "pattern": {
           "shape": ""
          }
         },
         "name": "Karnataka",
         "offsetgroup": "Karnataka",
         "orientation": "v",
         "showlegend": true,
         "textposition": "auto",
         "type": "bar",
         "x": [
          "Karnataka"
         ],
         "xaxis": "x",
         "y": [
          7.667999999999999
         ],
         "yaxis": "y"
        },
        {
         "alignmentgroup": "True",
         "hovertemplate": "state=%{x}<br>estimated unemployment rate=%{y}<extra></extra>",
         "legendgroup": "Chhattisgarh",
         "marker": {
          "color": "#B6E880",
          "pattern": {
           "shape": ""
          }
         },
         "name": "Chhattisgarh",
         "offsetgroup": "Chhattisgarh",
         "orientation": "v",
         "showlegend": true,
         "textposition": "auto",
         "type": "bar",
         "x": [
          "Chhattisgarh"
         ],
         "xaxis": "x",
         "y": [
          7.819
         ],
         "yaxis": "y"
        },
        {
         "alignmentgroup": "True",
         "hovertemplate": "state=%{x}<br>estimated unemployment rate=%{y}<extra></extra>",
         "legendgroup": "Maharashtra",
         "marker": {
          "color": "#FF97FF",
          "pattern": {
           "shape": ""
          }
         },
         "name": "Maharashtra",
         "offsetgroup": "Maharashtra",
         "orientation": "v",
         "showlegend": true,
         "textposition": "auto",
         "type": "bar",
         "x": [
          "Maharashtra"
         ],
         "xaxis": "x",
         "y": [
          7.979000000000001
         ],
         "yaxis": "y"
        },
        {
         "alignmentgroup": "True",
         "hovertemplate": "state=%{x}<br>estimated unemployment rate=%{y}<extra></extra>",
         "legendgroup": "Andhra Pradesh",
         "marker": {
          "color": "#FECB52",
          "pattern": {
           "shape": ""
          }
         },
         "name": "Andhra Pradesh",
         "offsetgroup": "Andhra Pradesh",
         "orientation": "v",
         "showlegend": true,
         "textposition": "auto",
         "type": "bar",
         "x": [
          "Andhra Pradesh"
         ],
         "xaxis": "x",
         "y": [
          8.664
         ],
         "yaxis": "y"
        },
        {
         "alignmentgroup": "True",
         "hovertemplate": "state=%{x}<br>estimated unemployment rate=%{y}<extra></extra>",
         "legendgroup": "Kerala",
         "marker": {
          "color": "#636efa",
          "pattern": {
           "shape": ""
          }
         },
         "name": "Kerala",
         "offsetgroup": "Kerala",
         "orientation": "v",
         "showlegend": true,
         "textposition": "auto",
         "type": "bar",
         "x": [
          "Kerala"
         ],
         "xaxis": "x",
         "y": [
          9.434000000000001
         ],
         "yaxis": "y"
        },
        {
         "alignmentgroup": "True",
         "hovertemplate": "state=%{x}<br>estimated unemployment rate=%{y}<extra></extra>",
         "legendgroup": "Uttar Pradesh",
         "marker": {
          "color": "#EF553B",
          "pattern": {
           "shape": ""
          }
         },
         "name": "Uttar Pradesh",
         "offsetgroup": "Uttar Pradesh",
         "orientation": "v",
         "showlegend": true,
         "textposition": "auto",
         "type": "bar",
         "x": [
          "Uttar Pradesh"
         ],
         "xaxis": "x",
         "y": [
          9.737
         ],
         "yaxis": "y"
        },
        {
         "alignmentgroup": "True",
         "hovertemplate": "state=%{x}<br>estimated unemployment rate=%{y}<extra></extra>",
         "legendgroup": "Sikkim",
         "marker": {
          "color": "#00cc96",
          "pattern": {
           "shape": ""
          }
         },
         "name": "Sikkim",
         "offsetgroup": "Sikkim",
         "orientation": "v",
         "showlegend": true,
         "textposition": "auto",
         "type": "bar",
         "x": [
          "Sikkim"
         ],
         "xaxis": "x",
         "y": [
          9.7925
         ],
         "yaxis": "y"
        },
        {
         "alignmentgroup": "True",
         "hovertemplate": "state=%{x}<br>estimated unemployment rate=%{y}<extra></extra>",
         "legendgroup": "West Bengal",
         "marker": {
          "color": "#ab63fa",
          "pattern": {
           "shape": ""
          }
         },
         "name": "West Bengal",
         "offsetgroup": "West Bengal",
         "orientation": "v",
         "showlegend": true,
         "textposition": "auto",
         "type": "bar",
         "x": [
          "West Bengal"
         ],
         "xaxis": "x",
         "y": [
          10.192
         ],
         "yaxis": "y"
        },
        {
         "alignmentgroup": "True",
         "hovertemplate": "state=%{x}<br>estimated unemployment rate=%{y}<extra></extra>",
         "legendgroup": "Uttarakhand",
         "marker": {
          "color": "#FFA15A",
          "pattern": {
           "shape": ""
          }
         },
         "name": "Uttarakhand",
         "offsetgroup": "Uttarakhand",
         "orientation": "v",
         "showlegend": true,
         "textposition": "auto",
         "type": "bar",
         "x": [
          "Uttarakhand"
         ],
         "xaxis": "x",
         "y": [
          11.156
         ],
         "yaxis": "y"
        },
        {
         "alignmentgroup": "True",
         "hovertemplate": "state=%{x}<br>estimated unemployment rate=%{y}<extra></extra>",
         "legendgroup": "Punjab",
         "marker": {
          "color": "#19d3f3",
          "pattern": {
           "shape": ""
          }
         },
         "name": "Punjab",
         "offsetgroup": "Punjab",
         "orientation": "v",
         "showlegend": true,
         "textposition": "auto",
         "type": "bar",
         "x": [
          "Punjab"
         ],
         "xaxis": "x",
         "y": [
          11.981
         ],
         "yaxis": "y"
        },
        {
         "alignmentgroup": "True",
         "hovertemplate": "state=%{x}<br>estimated unemployment rate=%{y}<extra></extra>",
         "legendgroup": "Goa",
         "marker": {
          "color": "#FF6692",
          "pattern": {
           "shape": ""
          }
         },
         "name": "Goa",
         "offsetgroup": "Goa",
         "orientation": "v",
         "showlegend": true,
         "textposition": "auto",
         "type": "bar",
         "x": [
          "Goa"
         ],
         "xaxis": "x",
         "y": [
          12.167
         ],
         "yaxis": "y"
        },
        {
         "alignmentgroup": "True",
         "hovertemplate": "state=%{x}<br>estimated unemployment rate=%{y}<extra></extra>",
         "legendgroup": "Tamil Nadu",
         "marker": {
          "color": "#B6E880",
          "pattern": {
           "shape": ""
          }
         },
         "name": "Tamil Nadu",
         "offsetgroup": "Tamil Nadu",
         "orientation": "v",
         "showlegend": true,
         "textposition": "auto",
         "type": "bar",
         "x": [
          "Tamil Nadu"
         ],
         "xaxis": "x",
         "y": [
          12.187
         ],
         "yaxis": "y"
        },
        {
         "alignmentgroup": "True",
         "hovertemplate": "state=%{x}<br>estimated unemployment rate=%{y}<extra></extra>",
         "legendgroup": "Rajasthan",
         "marker": {
          "color": "#FF97FF",
          "pattern": {
           "shape": ""
          }
         },
         "name": "Rajasthan",
         "offsetgroup": "Rajasthan",
         "orientation": "v",
         "showlegend": true,
         "textposition": "auto",
         "type": "bar",
         "x": [
          "Rajasthan"
         ],
         "xaxis": "x",
         "y": [
          15.868
         ],
         "yaxis": "y"
        },
        {
         "alignmentgroup": "True",
         "hovertemplate": "state=%{x}<br>estimated unemployment rate=%{y}<extra></extra>",
         "legendgroup": "Himachal Pradesh",
         "marker": {
          "color": "#FECB52",
          "pattern": {
           "shape": ""
          }
         },
         "name": "Himachal Pradesh",
         "offsetgroup": "Himachal Pradesh",
         "orientation": "v",
         "showlegend": true,
         "textposition": "auto",
         "type": "bar",
         "x": [
          "Himachal Pradesh"
         ],
         "xaxis": "x",
         "y": [
          16.065
         ],
         "yaxis": "y"
        },
        {
         "alignmentgroup": "True",
         "hovertemplate": "state=%{x}<br>estimated unemployment rate=%{y}<extra></extra>",
         "legendgroup": "Jammu & Kashmir",
         "marker": {
          "color": "#636efa",
          "pattern": {
           "shape": ""
          }
         },
         "name": "Jammu & Kashmir",
         "offsetgroup": "Jammu & Kashmir",
         "orientation": "v",
         "showlegend": true,
         "textposition": "auto",
         "type": "bar",
         "x": [
          "Jammu & Kashmir"
         ],
         "xaxis": "x",
         "y": [
          16.477777777777778
         ],
         "yaxis": "y"
        },
        {
         "alignmentgroup": "True",
         "hovertemplate": "state=%{x}<br>estimated unemployment rate=%{y}<extra></extra>",
         "legendgroup": "Puducherry",
         "marker": {
          "color": "#EF553B",
          "pattern": {
           "shape": ""
          }
         },
         "name": "Puducherry",
         "offsetgroup": "Puducherry",
         "orientation": "v",
         "showlegend": true,
         "textposition": "auto",
         "type": "bar",
         "x": [
          "Puducherry"
         ],
         "xaxis": "x",
         "y": [
          17.942
         ],
         "yaxis": "y"
        },
        {
         "alignmentgroup": "True",
         "hovertemplate": "state=%{x}<br>estimated unemployment rate=%{y}<extra></extra>",
         "legendgroup": "Delhi",
         "marker": {
          "color": "#00cc96",
          "pattern": {
           "shape": ""
          }
         },
         "name": "Delhi",
         "offsetgroup": "Delhi",
         "orientation": "v",
         "showlegend": true,
         "textposition": "auto",
         "type": "bar",
         "x": [
          "Delhi"
         ],
         "xaxis": "x",
         "y": [
          18.414
         ],
         "yaxis": "y"
        },
        {
         "alignmentgroup": "True",
         "hovertemplate": "state=%{x}<br>estimated unemployment rate=%{y}<extra></extra>",
         "legendgroup": "Bihar",
         "marker": {
          "color": "#ab63fa",
          "pattern": {
           "shape": ""
          }
         },
         "name": "Bihar",
         "offsetgroup": "Bihar",
         "orientation": "v",
         "showlegend": true,
         "textposition": "auto",
         "type": "bar",
         "x": [
          "Bihar"
         ],
         "xaxis": "x",
         "y": [
          19.471
         ],
         "yaxis": "y"
        },
        {
         "alignmentgroup": "True",
         "hovertemplate": "state=%{x}<br>estimated unemployment rate=%{y}<extra></extra>",
         "legendgroup": "Jharkhand",
         "marker": {
          "color": "#FFA15A",
          "pattern": {
           "shape": ""
          }
         },
         "name": "Jharkhand",
         "offsetgroup": "Jharkhand",
         "orientation": "v",
         "showlegend": true,
         "textposition": "auto",
         "type": "bar",
         "x": [
          "Jharkhand"
         ],
         "xaxis": "x",
         "y": [
          19.538999999999998
         ],
         "yaxis": "y"
        },
        {
         "alignmentgroup": "True",
         "hovertemplate": "state=%{x}<br>estimated unemployment rate=%{y}<extra></extra>",
         "legendgroup": "Tripura",
         "marker": {
          "color": "#19d3f3",
          "pattern": {
           "shape": ""
          }
         },
         "name": "Tripura",
         "offsetgroup": "Tripura",
         "orientation": "v",
         "showlegend": true,
         "textposition": "auto",
         "type": "bar",
         "x": [
          "Tripura"
         ],
         "xaxis": "x",
         "y": [
          25.055
         ],
         "yaxis": "y"
        },
        {
         "alignmentgroup": "True",
         "hovertemplate": "state=%{x}<br>estimated unemployment rate=%{y}<extra></extra>",
         "legendgroup": "Haryana",
         "marker": {
          "color": "#FF6692",
          "pattern": {
           "shape": ""
          }
         },
         "name": "Haryana",
         "offsetgroup": "Haryana",
         "orientation": "v",
         "showlegend": true,
         "textposition": "auto",
         "type": "bar",
         "x": [
          "Haryana"
         ],
         "xaxis": "x",
         "y": [
          27.476999999999997
         ],
         "yaxis": "y"
        }
       ],
       "layout": {
        "barmode": "relative",
        "legend": {
         "title": {
          "text": "state"
         },
         "tracegroupgap": 0
        },
        "template": {
         "data": {
          "bar": [
           {
            "error_x": {
             "color": "#2a3f5f"
            },
            "error_y": {
             "color": "#2a3f5f"
            },
            "marker": {
             "line": {
              "color": "#E5ECF6",
              "width": 0.5
             },
             "pattern": {
              "fillmode": "overlay",
              "size": 10,
              "solidity": 0.2
             }
            },
            "type": "bar"
           }
          ],
          "barpolar": [
           {
            "marker": {
             "line": {
              "color": "#E5ECF6",
              "width": 0.5
             },
             "pattern": {
              "fillmode": "overlay",
              "size": 10,
              "solidity": 0.2
             }
            },
            "type": "barpolar"
           }
          ],
          "carpet": [
           {
            "aaxis": {
             "endlinecolor": "#2a3f5f",
             "gridcolor": "white",
             "linecolor": "white",
             "minorgridcolor": "white",
             "startlinecolor": "#2a3f5f"
            },
            "baxis": {
             "endlinecolor": "#2a3f5f",
             "gridcolor": "white",
             "linecolor": "white",
             "minorgridcolor": "white",
             "startlinecolor": "#2a3f5f"
            },
            "type": "carpet"
           }
          ],
          "choropleth": [
           {
            "colorbar": {
             "outlinewidth": 0,
             "ticks": ""
            },
            "type": "choropleth"
           }
          ],
          "contour": [
           {
            "colorbar": {
             "outlinewidth": 0,
             "ticks": ""
            },
            "colorscale": [
             [
              0,
              "#0d0887"
             ],
             [
              0.1111111111111111,
              "#46039f"
             ],
             [
              0.2222222222222222,
              "#7201a8"
             ],
             [
              0.3333333333333333,
              "#9c179e"
             ],
             [
              0.4444444444444444,
              "#bd3786"
             ],
             [
              0.5555555555555556,
              "#d8576b"
             ],
             [
              0.6666666666666666,
              "#ed7953"
             ],
             [
              0.7777777777777778,
              "#fb9f3a"
             ],
             [
              0.8888888888888888,
              "#fdca26"
             ],
             [
              1,
              "#f0f921"
             ]
            ],
            "type": "contour"
           }
          ],
          "contourcarpet": [
           {
            "colorbar": {
             "outlinewidth": 0,
             "ticks": ""
            },
            "type": "contourcarpet"
           }
          ],
          "heatmap": [
           {
            "colorbar": {
             "outlinewidth": 0,
             "ticks": ""
            },
            "colorscale": [
             [
              0,
              "#0d0887"
             ],
             [
              0.1111111111111111,
              "#46039f"
             ],
             [
              0.2222222222222222,
              "#7201a8"
             ],
             [
              0.3333333333333333,
              "#9c179e"
             ],
             [
              0.4444444444444444,
              "#bd3786"
             ],
             [
              0.5555555555555556,
              "#d8576b"
             ],
             [
              0.6666666666666666,
              "#ed7953"
             ],
             [
              0.7777777777777778,
              "#fb9f3a"
             ],
             [
              0.8888888888888888,
              "#fdca26"
             ],
             [
              1,
              "#f0f921"
             ]
            ],
            "type": "heatmap"
           }
          ],
          "heatmapgl": [
           {
            "colorbar": {
             "outlinewidth": 0,
             "ticks": ""
            },
            "colorscale": [
             [
              0,
              "#0d0887"
             ],
             [
              0.1111111111111111,
              "#46039f"
             ],
             [
              0.2222222222222222,
              "#7201a8"
             ],
             [
              0.3333333333333333,
              "#9c179e"
             ],
             [
              0.4444444444444444,
              "#bd3786"
             ],
             [
              0.5555555555555556,
              "#d8576b"
             ],
             [
              0.6666666666666666,
              "#ed7953"
             ],
             [
              0.7777777777777778,
              "#fb9f3a"
             ],
             [
              0.8888888888888888,
              "#fdca26"
             ],
             [
              1,
              "#f0f921"
             ]
            ],
            "type": "heatmapgl"
           }
          ],
          "histogram": [
           {
            "marker": {
             "pattern": {
              "fillmode": "overlay",
              "size": 10,
              "solidity": 0.2
             }
            },
            "type": "histogram"
           }
          ],
          "histogram2d": [
           {
            "colorbar": {
             "outlinewidth": 0,
             "ticks": ""
            },
            "colorscale": [
             [
              0,
              "#0d0887"
             ],
             [
              0.1111111111111111,
              "#46039f"
             ],
             [
              0.2222222222222222,
              "#7201a8"
             ],
             [
              0.3333333333333333,
              "#9c179e"
             ],
             [
              0.4444444444444444,
              "#bd3786"
             ],
             [
              0.5555555555555556,
              "#d8576b"
             ],
             [
              0.6666666666666666,
              "#ed7953"
             ],
             [
              0.7777777777777778,
              "#fb9f3a"
             ],
             [
              0.8888888888888888,
              "#fdca26"
             ],
             [
              1,
              "#f0f921"
             ]
            ],
            "type": "histogram2d"
           }
          ],
          "histogram2dcontour": [
           {
            "colorbar": {
             "outlinewidth": 0,
             "ticks": ""
            },
            "colorscale": [
             [
              0,
              "#0d0887"
             ],
             [
              0.1111111111111111,
              "#46039f"
             ],
             [
              0.2222222222222222,
              "#7201a8"
             ],
             [
              0.3333333333333333,
              "#9c179e"
             ],
             [
              0.4444444444444444,
              "#bd3786"
             ],
             [
              0.5555555555555556,
              "#d8576b"
             ],
             [
              0.6666666666666666,
              "#ed7953"
             ],
             [
              0.7777777777777778,
              "#fb9f3a"
             ],
             [
              0.8888888888888888,
              "#fdca26"
             ],
             [
              1,
              "#f0f921"
             ]
            ],
            "type": "histogram2dcontour"
           }
          ],
          "mesh3d": [
           {
            "colorbar": {
             "outlinewidth": 0,
             "ticks": ""
            },
            "type": "mesh3d"
           }
          ],
          "parcoords": [
           {
            "line": {
             "colorbar": {
              "outlinewidth": 0,
              "ticks": ""
             }
            },
            "type": "parcoords"
           }
          ],
          "pie": [
           {
            "automargin": true,
            "type": "pie"
           }
          ],
          "scatter": [
           {
            "fillpattern": {
             "fillmode": "overlay",
             "size": 10,
             "solidity": 0.2
            },
            "type": "scatter"
           }
          ],
          "scatter3d": [
           {
            "line": {
             "colorbar": {
              "outlinewidth": 0,
              "ticks": ""
             }
            },
            "marker": {
             "colorbar": {
              "outlinewidth": 0,
              "ticks": ""
             }
            },
            "type": "scatter3d"
           }
          ],
          "scattercarpet": [
           {
            "marker": {
             "colorbar": {
              "outlinewidth": 0,
              "ticks": ""
             }
            },
            "type": "scattercarpet"
           }
          ],
          "scattergeo": [
           {
            "marker": {
             "colorbar": {
              "outlinewidth": 0,
              "ticks": ""
             }
            },
            "type": "scattergeo"
           }
          ],
          "scattergl": [
           {
            "marker": {
             "colorbar": {
              "outlinewidth": 0,
              "ticks": ""
             }
            },
            "type": "scattergl"
           }
          ],
          "scattermapbox": [
           {
            "marker": {
             "colorbar": {
              "outlinewidth": 0,
              "ticks": ""
             }
            },
            "type": "scattermapbox"
           }
          ],
          "scatterpolar": [
           {
            "marker": {
             "colorbar": {
              "outlinewidth": 0,
              "ticks": ""
             }
            },
            "type": "scatterpolar"
           }
          ],
          "scatterpolargl": [
           {
            "marker": {
             "colorbar": {
              "outlinewidth": 0,
              "ticks": ""
             }
            },
            "type": "scatterpolargl"
           }
          ],
          "scatterternary": [
           {
            "marker": {
             "colorbar": {
              "outlinewidth": 0,
              "ticks": ""
             }
            },
            "type": "scatterternary"
           }
          ],
          "surface": [
           {
            "colorbar": {
             "outlinewidth": 0,
             "ticks": ""
            },
            "colorscale": [
             [
              0,
              "#0d0887"
             ],
             [
              0.1111111111111111,
              "#46039f"
             ],
             [
              0.2222222222222222,
              "#7201a8"
             ],
             [
              0.3333333333333333,
              "#9c179e"
             ],
             [
              0.4444444444444444,
              "#bd3786"
             ],
             [
              0.5555555555555556,
              "#d8576b"
             ],
             [
              0.6666666666666666,
              "#ed7953"
             ],
             [
              0.7777777777777778,
              "#fb9f3a"
             ],
             [
              0.8888888888888888,
              "#fdca26"
             ],
             [
              1,
              "#f0f921"
             ]
            ],
            "type": "surface"
           }
          ],
          "table": [
           {
            "cells": {
             "fill": {
              "color": "#EBF0F8"
             },
             "line": {
              "color": "white"
             }
            },
            "header": {
             "fill": {
              "color": "#C8D4E3"
             },
             "line": {
              "color": "white"
             }
            },
            "type": "table"
           }
          ]
         },
         "layout": {
          "annotationdefaults": {
           "arrowcolor": "#2a3f5f",
           "arrowhead": 0,
           "arrowwidth": 1
          },
          "autotypenumbers": "strict",
          "coloraxis": {
           "colorbar": {
            "outlinewidth": 0,
            "ticks": ""
           }
          },
          "colorscale": {
           "diverging": [
            [
             0,
             "#8e0152"
            ],
            [
             0.1,
             "#c51b7d"
            ],
            [
             0.2,
             "#de77ae"
            ],
            [
             0.3,
             "#f1b6da"
            ],
            [
             0.4,
             "#fde0ef"
            ],
            [
             0.5,
             "#f7f7f7"
            ],
            [
             0.6,
             "#e6f5d0"
            ],
            [
             0.7,
             "#b8e186"
            ],
            [
             0.8,
             "#7fbc41"
            ],
            [
             0.9,
             "#4d9221"
            ],
            [
             1,
             "#276419"
            ]
           ],
           "sequential": [
            [
             0,
             "#0d0887"
            ],
            [
             0.1111111111111111,
             "#46039f"
            ],
            [
             0.2222222222222222,
             "#7201a8"
            ],
            [
             0.3333333333333333,
             "#9c179e"
            ],
            [
             0.4444444444444444,
             "#bd3786"
            ],
            [
             0.5555555555555556,
             "#d8576b"
            ],
            [
             0.6666666666666666,
             "#ed7953"
            ],
            [
             0.7777777777777778,
             "#fb9f3a"
            ],
            [
             0.8888888888888888,
             "#fdca26"
            ],
            [
             1,
             "#f0f921"
            ]
           ],
           "sequentialminus": [
            [
             0,
             "#0d0887"
            ],
            [
             0.1111111111111111,
             "#46039f"
            ],
            [
             0.2222222222222222,
             "#7201a8"
            ],
            [
             0.3333333333333333,
             "#9c179e"
            ],
            [
             0.4444444444444444,
             "#bd3786"
            ],
            [
             0.5555555555555556,
             "#d8576b"
            ],
            [
             0.6666666666666666,
             "#ed7953"
            ],
            [
             0.7777777777777778,
             "#fb9f3a"
            ],
            [
             0.8888888888888888,
             "#fdca26"
            ],
            [
             1,
             "#f0f921"
            ]
           ]
          },
          "colorway": [
           "#636efa",
           "#EF553B",
           "#00cc96",
           "#ab63fa",
           "#FFA15A",
           "#19d3f3",
           "#FF6692",
           "#B6E880",
           "#FF97FF",
           "#FECB52"
          ],
          "font": {
           "color": "#2a3f5f"
          },
          "geo": {
           "bgcolor": "white",
           "lakecolor": "white",
           "landcolor": "#E5ECF6",
           "showlakes": true,
           "showland": true,
           "subunitcolor": "white"
          },
          "hoverlabel": {
           "align": "left"
          },
          "hovermode": "closest",
          "mapbox": {
           "style": "light"
          },
          "paper_bgcolor": "white",
          "plot_bgcolor": "#E5ECF6",
          "polar": {
           "angularaxis": {
            "gridcolor": "white",
            "linecolor": "white",
            "ticks": ""
           },
           "bgcolor": "#E5ECF6",
           "radialaxis": {
            "gridcolor": "white",
            "linecolor": "white",
            "ticks": ""
           }
          },
          "scene": {
           "xaxis": {
            "backgroundcolor": "#E5ECF6",
            "gridcolor": "white",
            "gridwidth": 2,
            "linecolor": "white",
            "showbackground": true,
            "ticks": "",
            "zerolinecolor": "white"
           },
           "yaxis": {
            "backgroundcolor": "#E5ECF6",
            "gridcolor": "white",
            "gridwidth": 2,
            "linecolor": "white",
            "showbackground": true,
            "ticks": "",
            "zerolinecolor": "white"
           },
           "zaxis": {
            "backgroundcolor": "#E5ECF6",
            "gridcolor": "white",
            "gridwidth": 2,
            "linecolor": "white",
            "showbackground": true,
            "ticks": "",
            "zerolinecolor": "white"
           }
          },
          "shapedefaults": {
           "line": {
            "color": "#2a3f5f"
           }
          },
          "ternary": {
           "aaxis": {
            "gridcolor": "white",
            "linecolor": "white",
            "ticks": ""
           },
           "baxis": {
            "gridcolor": "white",
            "linecolor": "white",
            "ticks": ""
           },
           "bgcolor": "#E5ECF6",
           "caxis": {
            "gridcolor": "white",
            "linecolor": "white",
            "ticks": ""
           }
          },
          "title": {
           "x": 0.05
          },
          "xaxis": {
           "automargin": true,
           "gridcolor": "white",
           "linecolor": "white",
           "ticks": "",
           "title": {
            "standoff": 15
           },
           "zerolinecolor": "white",
           "zerolinewidth": 2
          },
          "yaxis": {
           "automargin": true,
           "gridcolor": "white",
           "linecolor": "white",
           "ticks": "",
           "title": {
            "standoff": 15
           },
           "zerolinecolor": "white",
           "zerolinewidth": 2
          }
         }
        },
        "title": {
         "text": "Average Unemployment Rate in each state"
        },
        "xaxis": {
         "anchor": "y",
         "categoryarray": [
          "Meghalaya",
          "Assam",
          "Gujarat",
          "Odisha",
          "Telangana",
          "Madhya Pradesh",
          "Karnataka",
          "Chhattisgarh",
          "Maharashtra",
          "Andhra Pradesh",
          "Kerala",
          "Uttar Pradesh",
          "Sikkim",
          "West Bengal",
          "Uttarakhand",
          "Punjab",
          "Goa",
          "Tamil Nadu",
          "Rajasthan",
          "Himachal Pradesh",
          "Jammu & Kashmir",
          "Puducherry",
          "Delhi",
          "Bihar",
          "Jharkhand",
          "Tripura",
          "Haryana"
         ],
         "categoryorder": "array",
         "domain": [
          0,
          1
         ],
         "title": {
          "text": "state"
         }
        },
        "yaxis": {
         "anchor": "x",
         "domain": [
          0,
          1
         ],
         "title": {
          "text": "estimated unemployment rate"
         }
        }
       }
      },
      "text/html": [
       "<div>                            <div id=\"f854e159-1233-4b1c-86bc-9900bad634b7\" class=\"plotly-graph-div\" style=\"height:525px; width:100%;\"></div>            <script type=\"text/javascript\">                require([\"plotly\"], function(Plotly) {                    window.PLOTLYENV=window.PLOTLYENV || {};                                    if (document.getElementById(\"f854e159-1233-4b1c-86bc-9900bad634b7\")) {                    Plotly.newPlot(                        \"f854e159-1233-4b1c-86bc-9900bad634b7\",                        [{\"alignmentgroup\":\"True\",\"hovertemplate\":\"state=%{x}<br>estimated unemployment rate=%{y}<extra></extra>\",\"legendgroup\":\"Meghalaya\",\"marker\":{\"color\":\"#636efa\",\"pattern\":{\"shape\":\"\"}},\"name\":\"Meghalaya\",\"offsetgroup\":\"Meghalaya\",\"orientation\":\"v\",\"showlegend\":true,\"textposition\":\"auto\",\"x\":[\"Meghalaya\"],\"xaxis\":\"x\",\"y\":[3.8659999999999997],\"yaxis\":\"y\",\"type\":\"bar\"},{\"alignmentgroup\":\"True\",\"hovertemplate\":\"state=%{x}<br>estimated unemployment rate=%{y}<extra></extra>\",\"legendgroup\":\"Assam\",\"marker\":{\"color\":\"#EF553B\",\"pattern\":{\"shape\":\"\"}},\"name\":\"Assam\",\"offsetgroup\":\"Assam\",\"orientation\":\"v\",\"showlegend\":true,\"textposition\":\"auto\",\"x\":[\"Assam\"],\"xaxis\":\"x\",\"y\":[4.856],\"yaxis\":\"y\",\"type\":\"bar\"},{\"alignmentgroup\":\"True\",\"hovertemplate\":\"state=%{x}<br>estimated unemployment rate=%{y}<extra></extra>\",\"legendgroup\":\"Gujarat\",\"marker\":{\"color\":\"#00cc96\",\"pattern\":{\"shape\":\"\"}},\"name\":\"Gujarat\",\"offsetgroup\":\"Gujarat\",\"orientation\":\"v\",\"showlegend\":true,\"textposition\":\"auto\",\"x\":[\"Gujarat\"],\"xaxis\":\"x\",\"y\":[6.3759999999999994],\"yaxis\":\"y\",\"type\":\"bar\"},{\"alignmentgroup\":\"True\",\"hovertemplate\":\"state=%{x}<br>estimated unemployment rate=%{y}<extra></extra>\",\"legendgroup\":\"Odisha\",\"marker\":{\"color\":\"#ab63fa\",\"pattern\":{\"shape\":\"\"}},\"name\":\"Odisha\",\"offsetgroup\":\"Odisha\",\"orientation\":\"v\",\"showlegend\":true,\"textposition\":\"auto\",\"x\":[\"Odisha\"],\"xaxis\":\"x\",\"y\":[6.462000000000001],\"yaxis\":\"y\",\"type\":\"bar\"},{\"alignmentgroup\":\"True\",\"hovertemplate\":\"state=%{x}<br>estimated unemployment rate=%{y}<extra></extra>\",\"legendgroup\":\"Telangana\",\"marker\":{\"color\":\"#FFA15A\",\"pattern\":{\"shape\":\"\"}},\"name\":\"Telangana\",\"offsetgroup\":\"Telangana\",\"orientation\":\"v\",\"showlegend\":true,\"textposition\":\"auto\",\"x\":[\"Telangana\"],\"xaxis\":\"x\",\"y\":[6.833],\"yaxis\":\"y\",\"type\":\"bar\"},{\"alignmentgroup\":\"True\",\"hovertemplate\":\"state=%{x}<br>estimated unemployment rate=%{y}<extra></extra>\",\"legendgroup\":\"Madhya Pradesh\",\"marker\":{\"color\":\"#19d3f3\",\"pattern\":{\"shape\":\"\"}},\"name\":\"Madhya Pradesh\",\"offsetgroup\":\"Madhya Pradesh\",\"orientation\":\"v\",\"showlegend\":true,\"textposition\":\"auto\",\"x\":[\"Madhya Pradesh\"],\"xaxis\":\"x\",\"y\":[6.854000000000001],\"yaxis\":\"y\",\"type\":\"bar\"},{\"alignmentgroup\":\"True\",\"hovertemplate\":\"state=%{x}<br>estimated unemployment rate=%{y}<extra></extra>\",\"legendgroup\":\"Karnataka\",\"marker\":{\"color\":\"#FF6692\",\"pattern\":{\"shape\":\"\"}},\"name\":\"Karnataka\",\"offsetgroup\":\"Karnataka\",\"orientation\":\"v\",\"showlegend\":true,\"textposition\":\"auto\",\"x\":[\"Karnataka\"],\"xaxis\":\"x\",\"y\":[7.667999999999999],\"yaxis\":\"y\",\"type\":\"bar\"},{\"alignmentgroup\":\"True\",\"hovertemplate\":\"state=%{x}<br>estimated unemployment rate=%{y}<extra></extra>\",\"legendgroup\":\"Chhattisgarh\",\"marker\":{\"color\":\"#B6E880\",\"pattern\":{\"shape\":\"\"}},\"name\":\"Chhattisgarh\",\"offsetgroup\":\"Chhattisgarh\",\"orientation\":\"v\",\"showlegend\":true,\"textposition\":\"auto\",\"x\":[\"Chhattisgarh\"],\"xaxis\":\"x\",\"y\":[7.819],\"yaxis\":\"y\",\"type\":\"bar\"},{\"alignmentgroup\":\"True\",\"hovertemplate\":\"state=%{x}<br>estimated unemployment rate=%{y}<extra></extra>\",\"legendgroup\":\"Maharashtra\",\"marker\":{\"color\":\"#FF97FF\",\"pattern\":{\"shape\":\"\"}},\"name\":\"Maharashtra\",\"offsetgroup\":\"Maharashtra\",\"orientation\":\"v\",\"showlegend\":true,\"textposition\":\"auto\",\"x\":[\"Maharashtra\"],\"xaxis\":\"x\",\"y\":[7.979000000000001],\"yaxis\":\"y\",\"type\":\"bar\"},{\"alignmentgroup\":\"True\",\"hovertemplate\":\"state=%{x}<br>estimated unemployment rate=%{y}<extra></extra>\",\"legendgroup\":\"Andhra Pradesh\",\"marker\":{\"color\":\"#FECB52\",\"pattern\":{\"shape\":\"\"}},\"name\":\"Andhra Pradesh\",\"offsetgroup\":\"Andhra Pradesh\",\"orientation\":\"v\",\"showlegend\":true,\"textposition\":\"auto\",\"x\":[\"Andhra Pradesh\"],\"xaxis\":\"x\",\"y\":[8.664],\"yaxis\":\"y\",\"type\":\"bar\"},{\"alignmentgroup\":\"True\",\"hovertemplate\":\"state=%{x}<br>estimated unemployment rate=%{y}<extra></extra>\",\"legendgroup\":\"Kerala\",\"marker\":{\"color\":\"#636efa\",\"pattern\":{\"shape\":\"\"}},\"name\":\"Kerala\",\"offsetgroup\":\"Kerala\",\"orientation\":\"v\",\"showlegend\":true,\"textposition\":\"auto\",\"x\":[\"Kerala\"],\"xaxis\":\"x\",\"y\":[9.434000000000001],\"yaxis\":\"y\",\"type\":\"bar\"},{\"alignmentgroup\":\"True\",\"hovertemplate\":\"state=%{x}<br>estimated unemployment rate=%{y}<extra></extra>\",\"legendgroup\":\"Uttar Pradesh\",\"marker\":{\"color\":\"#EF553B\",\"pattern\":{\"shape\":\"\"}},\"name\":\"Uttar Pradesh\",\"offsetgroup\":\"Uttar Pradesh\",\"orientation\":\"v\",\"showlegend\":true,\"textposition\":\"auto\",\"x\":[\"Uttar Pradesh\"],\"xaxis\":\"x\",\"y\":[9.737],\"yaxis\":\"y\",\"type\":\"bar\"},{\"alignmentgroup\":\"True\",\"hovertemplate\":\"state=%{x}<br>estimated unemployment rate=%{y}<extra></extra>\",\"legendgroup\":\"Sikkim\",\"marker\":{\"color\":\"#00cc96\",\"pattern\":{\"shape\":\"\"}},\"name\":\"Sikkim\",\"offsetgroup\":\"Sikkim\",\"orientation\":\"v\",\"showlegend\":true,\"textposition\":\"auto\",\"x\":[\"Sikkim\"],\"xaxis\":\"x\",\"y\":[9.7925],\"yaxis\":\"y\",\"type\":\"bar\"},{\"alignmentgroup\":\"True\",\"hovertemplate\":\"state=%{x}<br>estimated unemployment rate=%{y}<extra></extra>\",\"legendgroup\":\"West Bengal\",\"marker\":{\"color\":\"#ab63fa\",\"pattern\":{\"shape\":\"\"}},\"name\":\"West Bengal\",\"offsetgroup\":\"West Bengal\",\"orientation\":\"v\",\"showlegend\":true,\"textposition\":\"auto\",\"x\":[\"West Bengal\"],\"xaxis\":\"x\",\"y\":[10.192],\"yaxis\":\"y\",\"type\":\"bar\"},{\"alignmentgroup\":\"True\",\"hovertemplate\":\"state=%{x}<br>estimated unemployment rate=%{y}<extra></extra>\",\"legendgroup\":\"Uttarakhand\",\"marker\":{\"color\":\"#FFA15A\",\"pattern\":{\"shape\":\"\"}},\"name\":\"Uttarakhand\",\"offsetgroup\":\"Uttarakhand\",\"orientation\":\"v\",\"showlegend\":true,\"textposition\":\"auto\",\"x\":[\"Uttarakhand\"],\"xaxis\":\"x\",\"y\":[11.156],\"yaxis\":\"y\",\"type\":\"bar\"},{\"alignmentgroup\":\"True\",\"hovertemplate\":\"state=%{x}<br>estimated unemployment rate=%{y}<extra></extra>\",\"legendgroup\":\"Punjab\",\"marker\":{\"color\":\"#19d3f3\",\"pattern\":{\"shape\":\"\"}},\"name\":\"Punjab\",\"offsetgroup\":\"Punjab\",\"orientation\":\"v\",\"showlegend\":true,\"textposition\":\"auto\",\"x\":[\"Punjab\"],\"xaxis\":\"x\",\"y\":[11.981],\"yaxis\":\"y\",\"type\":\"bar\"},{\"alignmentgroup\":\"True\",\"hovertemplate\":\"state=%{x}<br>estimated unemployment rate=%{y}<extra></extra>\",\"legendgroup\":\"Goa\",\"marker\":{\"color\":\"#FF6692\",\"pattern\":{\"shape\":\"\"}},\"name\":\"Goa\",\"offsetgroup\":\"Goa\",\"orientation\":\"v\",\"showlegend\":true,\"textposition\":\"auto\",\"x\":[\"Goa\"],\"xaxis\":\"x\",\"y\":[12.167],\"yaxis\":\"y\",\"type\":\"bar\"},{\"alignmentgroup\":\"True\",\"hovertemplate\":\"state=%{x}<br>estimated unemployment rate=%{y}<extra></extra>\",\"legendgroup\":\"Tamil Nadu\",\"marker\":{\"color\":\"#B6E880\",\"pattern\":{\"shape\":\"\"}},\"name\":\"Tamil Nadu\",\"offsetgroup\":\"Tamil Nadu\",\"orientation\":\"v\",\"showlegend\":true,\"textposition\":\"auto\",\"x\":[\"Tamil Nadu\"],\"xaxis\":\"x\",\"y\":[12.187],\"yaxis\":\"y\",\"type\":\"bar\"},{\"alignmentgroup\":\"True\",\"hovertemplate\":\"state=%{x}<br>estimated unemployment rate=%{y}<extra></extra>\",\"legendgroup\":\"Rajasthan\",\"marker\":{\"color\":\"#FF97FF\",\"pattern\":{\"shape\":\"\"}},\"name\":\"Rajasthan\",\"offsetgroup\":\"Rajasthan\",\"orientation\":\"v\",\"showlegend\":true,\"textposition\":\"auto\",\"x\":[\"Rajasthan\"],\"xaxis\":\"x\",\"y\":[15.868],\"yaxis\":\"y\",\"type\":\"bar\"},{\"alignmentgroup\":\"True\",\"hovertemplate\":\"state=%{x}<br>estimated unemployment rate=%{y}<extra></extra>\",\"legendgroup\":\"Himachal Pradesh\",\"marker\":{\"color\":\"#FECB52\",\"pattern\":{\"shape\":\"\"}},\"name\":\"Himachal Pradesh\",\"offsetgroup\":\"Himachal Pradesh\",\"orientation\":\"v\",\"showlegend\":true,\"textposition\":\"auto\",\"x\":[\"Himachal Pradesh\"],\"xaxis\":\"x\",\"y\":[16.065],\"yaxis\":\"y\",\"type\":\"bar\"},{\"alignmentgroup\":\"True\",\"hovertemplate\":\"state=%{x}<br>estimated unemployment rate=%{y}<extra></extra>\",\"legendgroup\":\"Jammu & Kashmir\",\"marker\":{\"color\":\"#636efa\",\"pattern\":{\"shape\":\"\"}},\"name\":\"Jammu & Kashmir\",\"offsetgroup\":\"Jammu & Kashmir\",\"orientation\":\"v\",\"showlegend\":true,\"textposition\":\"auto\",\"x\":[\"Jammu & Kashmir\"],\"xaxis\":\"x\",\"y\":[16.477777777777778],\"yaxis\":\"y\",\"type\":\"bar\"},{\"alignmentgroup\":\"True\",\"hovertemplate\":\"state=%{x}<br>estimated unemployment rate=%{y}<extra></extra>\",\"legendgroup\":\"Puducherry\",\"marker\":{\"color\":\"#EF553B\",\"pattern\":{\"shape\":\"\"}},\"name\":\"Puducherry\",\"offsetgroup\":\"Puducherry\",\"orientation\":\"v\",\"showlegend\":true,\"textposition\":\"auto\",\"x\":[\"Puducherry\"],\"xaxis\":\"x\",\"y\":[17.942],\"yaxis\":\"y\",\"type\":\"bar\"},{\"alignmentgroup\":\"True\",\"hovertemplate\":\"state=%{x}<br>estimated unemployment rate=%{y}<extra></extra>\",\"legendgroup\":\"Delhi\",\"marker\":{\"color\":\"#00cc96\",\"pattern\":{\"shape\":\"\"}},\"name\":\"Delhi\",\"offsetgroup\":\"Delhi\",\"orientation\":\"v\",\"showlegend\":true,\"textposition\":\"auto\",\"x\":[\"Delhi\"],\"xaxis\":\"x\",\"y\":[18.414],\"yaxis\":\"y\",\"type\":\"bar\"},{\"alignmentgroup\":\"True\",\"hovertemplate\":\"state=%{x}<br>estimated unemployment rate=%{y}<extra></extra>\",\"legendgroup\":\"Bihar\",\"marker\":{\"color\":\"#ab63fa\",\"pattern\":{\"shape\":\"\"}},\"name\":\"Bihar\",\"offsetgroup\":\"Bihar\",\"orientation\":\"v\",\"showlegend\":true,\"textposition\":\"auto\",\"x\":[\"Bihar\"],\"xaxis\":\"x\",\"y\":[19.471],\"yaxis\":\"y\",\"type\":\"bar\"},{\"alignmentgroup\":\"True\",\"hovertemplate\":\"state=%{x}<br>estimated unemployment rate=%{y}<extra></extra>\",\"legendgroup\":\"Jharkhand\",\"marker\":{\"color\":\"#FFA15A\",\"pattern\":{\"shape\":\"\"}},\"name\":\"Jharkhand\",\"offsetgroup\":\"Jharkhand\",\"orientation\":\"v\",\"showlegend\":true,\"textposition\":\"auto\",\"x\":[\"Jharkhand\"],\"xaxis\":\"x\",\"y\":[19.538999999999998],\"yaxis\":\"y\",\"type\":\"bar\"},{\"alignmentgroup\":\"True\",\"hovertemplate\":\"state=%{x}<br>estimated unemployment rate=%{y}<extra></extra>\",\"legendgroup\":\"Tripura\",\"marker\":{\"color\":\"#19d3f3\",\"pattern\":{\"shape\":\"\"}},\"name\":\"Tripura\",\"offsetgroup\":\"Tripura\",\"orientation\":\"v\",\"showlegend\":true,\"textposition\":\"auto\",\"x\":[\"Tripura\"],\"xaxis\":\"x\",\"y\":[25.055],\"yaxis\":\"y\",\"type\":\"bar\"},{\"alignmentgroup\":\"True\",\"hovertemplate\":\"state=%{x}<br>estimated unemployment rate=%{y}<extra></extra>\",\"legendgroup\":\"Haryana\",\"marker\":{\"color\":\"#FF6692\",\"pattern\":{\"shape\":\"\"}},\"name\":\"Haryana\",\"offsetgroup\":\"Haryana\",\"orientation\":\"v\",\"showlegend\":true,\"textposition\":\"auto\",\"x\":[\"Haryana\"],\"xaxis\":\"x\",\"y\":[27.476999999999997],\"yaxis\":\"y\",\"type\":\"bar\"}],                        {\"template\":{\"data\":{\"histogram2dcontour\":[{\"type\":\"histogram2dcontour\",\"colorbar\":{\"outlinewidth\":0,\"ticks\":\"\"},\"colorscale\":[[0.0,\"#0d0887\"],[0.1111111111111111,\"#46039f\"],[0.2222222222222222,\"#7201a8\"],[0.3333333333333333,\"#9c179e\"],[0.4444444444444444,\"#bd3786\"],[0.5555555555555556,\"#d8576b\"],[0.6666666666666666,\"#ed7953\"],[0.7777777777777778,\"#fb9f3a\"],[0.8888888888888888,\"#fdca26\"],[1.0,\"#f0f921\"]]}],\"choropleth\":[{\"type\":\"choropleth\",\"colorbar\":{\"outlinewidth\":0,\"ticks\":\"\"}}],\"histogram2d\":[{\"type\":\"histogram2d\",\"colorbar\":{\"outlinewidth\":0,\"ticks\":\"\"},\"colorscale\":[[0.0,\"#0d0887\"],[0.1111111111111111,\"#46039f\"],[0.2222222222222222,\"#7201a8\"],[0.3333333333333333,\"#9c179e\"],[0.4444444444444444,\"#bd3786\"],[0.5555555555555556,\"#d8576b\"],[0.6666666666666666,\"#ed7953\"],[0.7777777777777778,\"#fb9f3a\"],[0.8888888888888888,\"#fdca26\"],[1.0,\"#f0f921\"]]}],\"heatmap\":[{\"type\":\"heatmap\",\"colorbar\":{\"outlinewidth\":0,\"ticks\":\"\"},\"colorscale\":[[0.0,\"#0d0887\"],[0.1111111111111111,\"#46039f\"],[0.2222222222222222,\"#7201a8\"],[0.3333333333333333,\"#9c179e\"],[0.4444444444444444,\"#bd3786\"],[0.5555555555555556,\"#d8576b\"],[0.6666666666666666,\"#ed7953\"],[0.7777777777777778,\"#fb9f3a\"],[0.8888888888888888,\"#fdca26\"],[1.0,\"#f0f921\"]]}],\"heatmapgl\":[{\"type\":\"heatmapgl\",\"colorbar\":{\"outlinewidth\":0,\"ticks\":\"\"},\"colorscale\":[[0.0,\"#0d0887\"],[0.1111111111111111,\"#46039f\"],[0.2222222222222222,\"#7201a8\"],[0.3333333333333333,\"#9c179e\"],[0.4444444444444444,\"#bd3786\"],[0.5555555555555556,\"#d8576b\"],[0.6666666666666666,\"#ed7953\"],[0.7777777777777778,\"#fb9f3a\"],[0.8888888888888888,\"#fdca26\"],[1.0,\"#f0f921\"]]}],\"contourcarpet\":[{\"type\":\"contourcarpet\",\"colorbar\":{\"outlinewidth\":0,\"ticks\":\"\"}}],\"contour\":[{\"type\":\"contour\",\"colorbar\":{\"outlinewidth\":0,\"ticks\":\"\"},\"colorscale\":[[0.0,\"#0d0887\"],[0.1111111111111111,\"#46039f\"],[0.2222222222222222,\"#7201a8\"],[0.3333333333333333,\"#9c179e\"],[0.4444444444444444,\"#bd3786\"],[0.5555555555555556,\"#d8576b\"],[0.6666666666666666,\"#ed7953\"],[0.7777777777777778,\"#fb9f3a\"],[0.8888888888888888,\"#fdca26\"],[1.0,\"#f0f921\"]]}],\"surface\":[{\"type\":\"surface\",\"colorbar\":{\"outlinewidth\":0,\"ticks\":\"\"},\"colorscale\":[[0.0,\"#0d0887\"],[0.1111111111111111,\"#46039f\"],[0.2222222222222222,\"#7201a8\"],[0.3333333333333333,\"#9c179e\"],[0.4444444444444444,\"#bd3786\"],[0.5555555555555556,\"#d8576b\"],[0.6666666666666666,\"#ed7953\"],[0.7777777777777778,\"#fb9f3a\"],[0.8888888888888888,\"#fdca26\"],[1.0,\"#f0f921\"]]}],\"mesh3d\":[{\"type\":\"mesh3d\",\"colorbar\":{\"outlinewidth\":0,\"ticks\":\"\"}}],\"scatter\":[{\"fillpattern\":{\"fillmode\":\"overlay\",\"size\":10,\"solidity\":0.2},\"type\":\"scatter\"}],\"parcoords\":[{\"type\":\"parcoords\",\"line\":{\"colorbar\":{\"outlinewidth\":0,\"ticks\":\"\"}}}],\"scatterpolargl\":[{\"type\":\"scatterpolargl\",\"marker\":{\"colorbar\":{\"outlinewidth\":0,\"ticks\":\"\"}}}],\"bar\":[{\"error_x\":{\"color\":\"#2a3f5f\"},\"error_y\":{\"color\":\"#2a3f5f\"},\"marker\":{\"line\":{\"color\":\"#E5ECF6\",\"width\":0.5},\"pattern\":{\"fillmode\":\"overlay\",\"size\":10,\"solidity\":0.2}},\"type\":\"bar\"}],\"scattergeo\":[{\"type\":\"scattergeo\",\"marker\":{\"colorbar\":{\"outlinewidth\":0,\"ticks\":\"\"}}}],\"scatterpolar\":[{\"type\":\"scatterpolar\",\"marker\":{\"colorbar\":{\"outlinewidth\":0,\"ticks\":\"\"}}}],\"histogram\":[{\"marker\":{\"pattern\":{\"fillmode\":\"overlay\",\"size\":10,\"solidity\":0.2}},\"type\":\"histogram\"}],\"scattergl\":[{\"type\":\"scattergl\",\"marker\":{\"colorbar\":{\"outlinewidth\":0,\"ticks\":\"\"}}}],\"scatter3d\":[{\"type\":\"scatter3d\",\"line\":{\"colorbar\":{\"outlinewidth\":0,\"ticks\":\"\"}},\"marker\":{\"colorbar\":{\"outlinewidth\":0,\"ticks\":\"\"}}}],\"scattermapbox\":[{\"type\":\"scattermapbox\",\"marker\":{\"colorbar\":{\"outlinewidth\":0,\"ticks\":\"\"}}}],\"scatterternary\":[{\"type\":\"scatterternary\",\"marker\":{\"colorbar\":{\"outlinewidth\":0,\"ticks\":\"\"}}}],\"scattercarpet\":[{\"type\":\"scattercarpet\",\"marker\":{\"colorbar\":{\"outlinewidth\":0,\"ticks\":\"\"}}}],\"carpet\":[{\"aaxis\":{\"endlinecolor\":\"#2a3f5f\",\"gridcolor\":\"white\",\"linecolor\":\"white\",\"minorgridcolor\":\"white\",\"startlinecolor\":\"#2a3f5f\"},\"baxis\":{\"endlinecolor\":\"#2a3f5f\",\"gridcolor\":\"white\",\"linecolor\":\"white\",\"minorgridcolor\":\"white\",\"startlinecolor\":\"#2a3f5f\"},\"type\":\"carpet\"}],\"table\":[{\"cells\":{\"fill\":{\"color\":\"#EBF0F8\"},\"line\":{\"color\":\"white\"}},\"header\":{\"fill\":{\"color\":\"#C8D4E3\"},\"line\":{\"color\":\"white\"}},\"type\":\"table\"}],\"barpolar\":[{\"marker\":{\"line\":{\"color\":\"#E5ECF6\",\"width\":0.5},\"pattern\":{\"fillmode\":\"overlay\",\"size\":10,\"solidity\":0.2}},\"type\":\"barpolar\"}],\"pie\":[{\"automargin\":true,\"type\":\"pie\"}]},\"layout\":{\"autotypenumbers\":\"strict\",\"colorway\":[\"#636efa\",\"#EF553B\",\"#00cc96\",\"#ab63fa\",\"#FFA15A\",\"#19d3f3\",\"#FF6692\",\"#B6E880\",\"#FF97FF\",\"#FECB52\"],\"font\":{\"color\":\"#2a3f5f\"},\"hovermode\":\"closest\",\"hoverlabel\":{\"align\":\"left\"},\"paper_bgcolor\":\"white\",\"plot_bgcolor\":\"#E5ECF6\",\"polar\":{\"bgcolor\":\"#E5ECF6\",\"angularaxis\":{\"gridcolor\":\"white\",\"linecolor\":\"white\",\"ticks\":\"\"},\"radialaxis\":{\"gridcolor\":\"white\",\"linecolor\":\"white\",\"ticks\":\"\"}},\"ternary\":{\"bgcolor\":\"#E5ECF6\",\"aaxis\":{\"gridcolor\":\"white\",\"linecolor\":\"white\",\"ticks\":\"\"},\"baxis\":{\"gridcolor\":\"white\",\"linecolor\":\"white\",\"ticks\":\"\"},\"caxis\":{\"gridcolor\":\"white\",\"linecolor\":\"white\",\"ticks\":\"\"}},\"coloraxis\":{\"colorbar\":{\"outlinewidth\":0,\"ticks\":\"\"}},\"colorscale\":{\"sequential\":[[0.0,\"#0d0887\"],[0.1111111111111111,\"#46039f\"],[0.2222222222222222,\"#7201a8\"],[0.3333333333333333,\"#9c179e\"],[0.4444444444444444,\"#bd3786\"],[0.5555555555555556,\"#d8576b\"],[0.6666666666666666,\"#ed7953\"],[0.7777777777777778,\"#fb9f3a\"],[0.8888888888888888,\"#fdca26\"],[1.0,\"#f0f921\"]],\"sequentialminus\":[[0.0,\"#0d0887\"],[0.1111111111111111,\"#46039f\"],[0.2222222222222222,\"#7201a8\"],[0.3333333333333333,\"#9c179e\"],[0.4444444444444444,\"#bd3786\"],[0.5555555555555556,\"#d8576b\"],[0.6666666666666666,\"#ed7953\"],[0.7777777777777778,\"#fb9f3a\"],[0.8888888888888888,\"#fdca26\"],[1.0,\"#f0f921\"]],\"diverging\":[[0,\"#8e0152\"],[0.1,\"#c51b7d\"],[0.2,\"#de77ae\"],[0.3,\"#f1b6da\"],[0.4,\"#fde0ef\"],[0.5,\"#f7f7f7\"],[0.6,\"#e6f5d0\"],[0.7,\"#b8e186\"],[0.8,\"#7fbc41\"],[0.9,\"#4d9221\"],[1,\"#276419\"]]},\"xaxis\":{\"gridcolor\":\"white\",\"linecolor\":\"white\",\"ticks\":\"\",\"title\":{\"standoff\":15},\"zerolinecolor\":\"white\",\"automargin\":true,\"zerolinewidth\":2},\"yaxis\":{\"gridcolor\":\"white\",\"linecolor\":\"white\",\"ticks\":\"\",\"title\":{\"standoff\":15},\"zerolinecolor\":\"white\",\"automargin\":true,\"zerolinewidth\":2},\"scene\":{\"xaxis\":{\"backgroundcolor\":\"#E5ECF6\",\"gridcolor\":\"white\",\"linecolor\":\"white\",\"showbackground\":true,\"ticks\":\"\",\"zerolinecolor\":\"white\",\"gridwidth\":2},\"yaxis\":{\"backgroundcolor\":\"#E5ECF6\",\"gridcolor\":\"white\",\"linecolor\":\"white\",\"showbackground\":true,\"ticks\":\"\",\"zerolinecolor\":\"white\",\"gridwidth\":2},\"zaxis\":{\"backgroundcolor\":\"#E5ECF6\",\"gridcolor\":\"white\",\"linecolor\":\"white\",\"showbackground\":true,\"ticks\":\"\",\"zerolinecolor\":\"white\",\"gridwidth\":2}},\"shapedefaults\":{\"line\":{\"color\":\"#2a3f5f\"}},\"annotationdefaults\":{\"arrowcolor\":\"#2a3f5f\",\"arrowhead\":0,\"arrowwidth\":1},\"geo\":{\"bgcolor\":\"white\",\"landcolor\":\"#E5ECF6\",\"subunitcolor\":\"white\",\"showland\":true,\"showlakes\":true,\"lakecolor\":\"white\"},\"title\":{\"x\":0.05},\"mapbox\":{\"style\":\"light\"}}},\"xaxis\":{\"anchor\":\"y\",\"domain\":[0.0,1.0],\"title\":{\"text\":\"state\"},\"categoryorder\":\"array\",\"categoryarray\":[\"Meghalaya\",\"Assam\",\"Gujarat\",\"Odisha\",\"Telangana\",\"Madhya Pradesh\",\"Karnataka\",\"Chhattisgarh\",\"Maharashtra\",\"Andhra Pradesh\",\"Kerala\",\"Uttar Pradesh\",\"Sikkim\",\"West Bengal\",\"Uttarakhand\",\"Punjab\",\"Goa\",\"Tamil Nadu\",\"Rajasthan\",\"Himachal Pradesh\",\"Jammu & Kashmir\",\"Puducherry\",\"Delhi\",\"Bihar\",\"Jharkhand\",\"Tripura\",\"Haryana\"]},\"yaxis\":{\"anchor\":\"x\",\"domain\":[0.0,1.0],\"title\":{\"text\":\"estimated unemployment rate\"}},\"legend\":{\"title\":{\"text\":\"state\"},\"tracegroupgap\":0},\"title\":{\"text\":\"Average Unemployment Rate in each state\"},\"barmode\":\"relative\"},                        {\"responsive\": true}                    ).then(function(){\n",
       "                            \n",
       "var gd = document.getElementById('f854e159-1233-4b1c-86bc-9900bad634b7');\n",
       "var x = new MutationObserver(function (mutations, observer) {{\n",
       "        var display = window.getComputedStyle(gd).display;\n",
       "        if (!display || display === 'none') {{\n",
       "            console.log([gd, 'removed!']);\n",
       "            Plotly.purge(gd);\n",
       "            observer.disconnect();\n",
       "        }}\n",
       "}});\n",
       "\n",
       "// Listen for the removal of the full notebook cells\n",
       "var notebookContainer = gd.closest('#notebook-container');\n",
       "if (notebookContainer) {{\n",
       "    x.observe(notebookContainer, {childList: true});\n",
       "}}\n",
       "\n",
       "// Listen for the clearing of the current output cell\n",
       "var outputEl = gd.closest('.output');\n",
       "if (outputEl) {{\n",
       "    x.observe(outputEl, {childList: true});\n",
       "}}\n",
       "\n",
       "                        })                };                });            </script>        </div>"
      ]
     },
     "metadata": {},
     "output_type": "display_data"
    }
   ],
   "source": [
    "#Bar chart displaying the average unemployment rate in each state, color-coded by state.\n",
    "plot_ump = data[['estimated unemployment rate', 'state']]\n",
    "data_unemp = plot_ump.groupby('state').mean().reset_index()\n",
    "data_unemp = data_unemp.sort_values('estimated unemployment rate')\n",
    "fig = px.bar(data_unemp, x='state', y='estimated unemployment rate', color='state',\n",
    "             title='Average Unemployment Rate in each state', template='plotly')\n",
    "fig.show()\n"
   ]
  },
  {
   "cell_type": "code",
   "execution_count": 22,
   "metadata": {
    "execution": {
     "iopub.execute_input": "2023-09-07T06:23:24.25223Z",
     "iopub.status.busy": "2023-09-07T06:23:24.251696Z",
     "iopub.status.idle": "2023-09-07T06:23:24.402718Z",
     "shell.execute_reply": "2023-09-07T06:23:24.401037Z"
    },
    "papermill": {
     "duration": 0.215522,
     "end_time": "2023-09-07T06:23:24.405639",
     "exception": false,
     "start_time": "2023-09-07T06:23:24.190117",
     "status": "completed"
    },
    "tags": []
   },
   "outputs": [
    {
     "data": {
      "application/vnd.plotly.v1+json": {
       "config": {
        "plotlyServerURL": "https://plot.ly"
       },
       "data": [
        {
         "branchvalues": "total",
         "domain": {
          "x": [
           0,
           1
          ],
          "y": [
           0,
           1
          ]
         },
         "hovertemplate": "labels=%{label}<br>estimated unemployment rate=%{value}<br>parent=%{parent}<br>id=%{id}<extra></extra>",
         "ids": [
          "South/Andhra Pradesh",
          "Northeast/Assam",
          "East/Bihar",
          "West/Chhattisgarh",
          "North/Delhi",
          "West/Goa",
          "West/Gujarat",
          "North/Haryana",
          "North/Himachal Pradesh",
          "North/Jammu & Kashmir",
          "East/Jharkhand",
          "South/Karnataka",
          "South/Kerala",
          "West/Madhya Pradesh",
          "West/Maharashtra",
          "Northeast/Meghalaya",
          "East/Odisha",
          "South/Puducherry",
          "North/Punjab",
          "North/Rajasthan",
          "Northeast/Sikkim",
          "South/Tamil Nadu",
          "South/Telangana",
          "Northeast/Tripura",
          "North/Uttar Pradesh",
          "North/Uttarakhand",
          "East/West Bengal",
          "East",
          "North",
          "Northeast",
          "South",
          "West"
         ],
         "labels": [
          "Andhra Pradesh",
          "Assam",
          "Bihar",
          "Chhattisgarh",
          "Delhi",
          "Goa",
          "Gujarat",
          "Haryana",
          "Himachal Pradesh",
          "Jammu & Kashmir",
          "Jharkhand",
          "Karnataka",
          "Kerala",
          "Madhya Pradesh",
          "Maharashtra",
          "Meghalaya",
          "Odisha",
          "Puducherry",
          "Punjab",
          "Rajasthan",
          "Sikkim",
          "Tamil Nadu",
          "Telangana",
          "Tripura",
          "Uttar Pradesh",
          "Uttarakhand",
          "West Bengal",
          "East",
          "North",
          "Northeast",
          "South",
          "West"
         ],
         "name": "",
         "parents": [
          "South",
          "Northeast",
          "East",
          "West",
          "North",
          "West",
          "West",
          "North",
          "North",
          "North",
          "East",
          "South",
          "South",
          "West",
          "West",
          "Northeast",
          "East",
          "South",
          "North",
          "North",
          "Northeast",
          "South",
          "South",
          "Northeast",
          "North",
          "North",
          "East",
          "",
          "",
          "",
          "",
          ""
         ],
         "type": "sunburst",
         "values": [
          86.64,
          48.56,
          194.71,
          78.19,
          184.14000000000001,
          121.67,
          63.76,
          274.77,
          160.65,
          148.3,
          195.39,
          76.67999999999999,
          94.34,
          68.54,
          79.79,
          38.66,
          64.62,
          179.42,
          119.81,
          158.68,
          78.34,
          121.86999999999999,
          68.33,
          250.55,
          97.37,
          111.56,
          101.92,
          556.64,
          1255.28,
          416.11,
          627.28,
          411.95
         ]
        }
       ],
       "layout": {
        "height": 700,
        "legend": {
         "tracegroupgap": 0
        },
        "template": {
         "data": {
          "bar": [
           {
            "error_x": {
             "color": "#2a3f5f"
            },
            "error_y": {
             "color": "#2a3f5f"
            },
            "marker": {
             "line": {
              "color": "#E5ECF6",
              "width": 0.5
             },
             "pattern": {
              "fillmode": "overlay",
              "size": 10,
              "solidity": 0.2
             }
            },
            "type": "bar"
           }
          ],
          "barpolar": [
           {
            "marker": {
             "line": {
              "color": "#E5ECF6",
              "width": 0.5
             },
             "pattern": {
              "fillmode": "overlay",
              "size": 10,
              "solidity": 0.2
             }
            },
            "type": "barpolar"
           }
          ],
          "carpet": [
           {
            "aaxis": {
             "endlinecolor": "#2a3f5f",
             "gridcolor": "white",
             "linecolor": "white",
             "minorgridcolor": "white",
             "startlinecolor": "#2a3f5f"
            },
            "baxis": {
             "endlinecolor": "#2a3f5f",
             "gridcolor": "white",
             "linecolor": "white",
             "minorgridcolor": "white",
             "startlinecolor": "#2a3f5f"
            },
            "type": "carpet"
           }
          ],
          "choropleth": [
           {
            "colorbar": {
             "outlinewidth": 0,
             "ticks": ""
            },
            "type": "choropleth"
           }
          ],
          "contour": [
           {
            "colorbar": {
             "outlinewidth": 0,
             "ticks": ""
            },
            "colorscale": [
             [
              0,
              "#0d0887"
             ],
             [
              0.1111111111111111,
              "#46039f"
             ],
             [
              0.2222222222222222,
              "#7201a8"
             ],
             [
              0.3333333333333333,
              "#9c179e"
             ],
             [
              0.4444444444444444,
              "#bd3786"
             ],
             [
              0.5555555555555556,
              "#d8576b"
             ],
             [
              0.6666666666666666,
              "#ed7953"
             ],
             [
              0.7777777777777778,
              "#fb9f3a"
             ],
             [
              0.8888888888888888,
              "#fdca26"
             ],
             [
              1,
              "#f0f921"
             ]
            ],
            "type": "contour"
           }
          ],
          "contourcarpet": [
           {
            "colorbar": {
             "outlinewidth": 0,
             "ticks": ""
            },
            "type": "contourcarpet"
           }
          ],
          "heatmap": [
           {
            "colorbar": {
             "outlinewidth": 0,
             "ticks": ""
            },
            "colorscale": [
             [
              0,
              "#0d0887"
             ],
             [
              0.1111111111111111,
              "#46039f"
             ],
             [
              0.2222222222222222,
              "#7201a8"
             ],
             [
              0.3333333333333333,
              "#9c179e"
             ],
             [
              0.4444444444444444,
              "#bd3786"
             ],
             [
              0.5555555555555556,
              "#d8576b"
             ],
             [
              0.6666666666666666,
              "#ed7953"
             ],
             [
              0.7777777777777778,
              "#fb9f3a"
             ],
             [
              0.8888888888888888,
              "#fdca26"
             ],
             [
              1,
              "#f0f921"
             ]
            ],
            "type": "heatmap"
           }
          ],
          "heatmapgl": [
           {
            "colorbar": {
             "outlinewidth": 0,
             "ticks": ""
            },
            "colorscale": [
             [
              0,
              "#0d0887"
             ],
             [
              0.1111111111111111,
              "#46039f"
             ],
             [
              0.2222222222222222,
              "#7201a8"
             ],
             [
              0.3333333333333333,
              "#9c179e"
             ],
             [
              0.4444444444444444,
              "#bd3786"
             ],
             [
              0.5555555555555556,
              "#d8576b"
             ],
             [
              0.6666666666666666,
              "#ed7953"
             ],
             [
              0.7777777777777778,
              "#fb9f3a"
             ],
             [
              0.8888888888888888,
              "#fdca26"
             ],
             [
              1,
              "#f0f921"
             ]
            ],
            "type": "heatmapgl"
           }
          ],
          "histogram": [
           {
            "marker": {
             "pattern": {
              "fillmode": "overlay",
              "size": 10,
              "solidity": 0.2
             }
            },
            "type": "histogram"
           }
          ],
          "histogram2d": [
           {
            "colorbar": {
             "outlinewidth": 0,
             "ticks": ""
            },
            "colorscale": [
             [
              0,
              "#0d0887"
             ],
             [
              0.1111111111111111,
              "#46039f"
             ],
             [
              0.2222222222222222,
              "#7201a8"
             ],
             [
              0.3333333333333333,
              "#9c179e"
             ],
             [
              0.4444444444444444,
              "#bd3786"
             ],
             [
              0.5555555555555556,
              "#d8576b"
             ],
             [
              0.6666666666666666,
              "#ed7953"
             ],
             [
              0.7777777777777778,
              "#fb9f3a"
             ],
             [
              0.8888888888888888,
              "#fdca26"
             ],
             [
              1,
              "#f0f921"
             ]
            ],
            "type": "histogram2d"
           }
          ],
          "histogram2dcontour": [
           {
            "colorbar": {
             "outlinewidth": 0,
             "ticks": ""
            },
            "colorscale": [
             [
              0,
              "#0d0887"
             ],
             [
              0.1111111111111111,
              "#46039f"
             ],
             [
              0.2222222222222222,
              "#7201a8"
             ],
             [
              0.3333333333333333,
              "#9c179e"
             ],
             [
              0.4444444444444444,
              "#bd3786"
             ],
             [
              0.5555555555555556,
              "#d8576b"
             ],
             [
              0.6666666666666666,
              "#ed7953"
             ],
             [
              0.7777777777777778,
              "#fb9f3a"
             ],
             [
              0.8888888888888888,
              "#fdca26"
             ],
             [
              1,
              "#f0f921"
             ]
            ],
            "type": "histogram2dcontour"
           }
          ],
          "mesh3d": [
           {
            "colorbar": {
             "outlinewidth": 0,
             "ticks": ""
            },
            "type": "mesh3d"
           }
          ],
          "parcoords": [
           {
            "line": {
             "colorbar": {
              "outlinewidth": 0,
              "ticks": ""
             }
            },
            "type": "parcoords"
           }
          ],
          "pie": [
           {
            "automargin": true,
            "type": "pie"
           }
          ],
          "scatter": [
           {
            "fillpattern": {
             "fillmode": "overlay",
             "size": 10,
             "solidity": 0.2
            },
            "type": "scatter"
           }
          ],
          "scatter3d": [
           {
            "line": {
             "colorbar": {
              "outlinewidth": 0,
              "ticks": ""
             }
            },
            "marker": {
             "colorbar": {
              "outlinewidth": 0,
              "ticks": ""
             }
            },
            "type": "scatter3d"
           }
          ],
          "scattercarpet": [
           {
            "marker": {
             "colorbar": {
              "outlinewidth": 0,
              "ticks": ""
             }
            },
            "type": "scattercarpet"
           }
          ],
          "scattergeo": [
           {
            "marker": {
             "colorbar": {
              "outlinewidth": 0,
              "ticks": ""
             }
            },
            "type": "scattergeo"
           }
          ],
          "scattergl": [
           {
            "marker": {
             "colorbar": {
              "outlinewidth": 0,
              "ticks": ""
             }
            },
            "type": "scattergl"
           }
          ],
          "scattermapbox": [
           {
            "marker": {
             "colorbar": {
              "outlinewidth": 0,
              "ticks": ""
             }
            },
            "type": "scattermapbox"
           }
          ],
          "scatterpolar": [
           {
            "marker": {
             "colorbar": {
              "outlinewidth": 0,
              "ticks": ""
             }
            },
            "type": "scatterpolar"
           }
          ],
          "scatterpolargl": [
           {
            "marker": {
             "colorbar": {
              "outlinewidth": 0,
              "ticks": ""
             }
            },
            "type": "scatterpolargl"
           }
          ],
          "scatterternary": [
           {
            "marker": {
             "colorbar": {
              "outlinewidth": 0,
              "ticks": ""
             }
            },
            "type": "scatterternary"
           }
          ],
          "surface": [
           {
            "colorbar": {
             "outlinewidth": 0,
             "ticks": ""
            },
            "colorscale": [
             [
              0,
              "#0d0887"
             ],
             [
              0.1111111111111111,
              "#46039f"
             ],
             [
              0.2222222222222222,
              "#7201a8"
             ],
             [
              0.3333333333333333,
              "#9c179e"
             ],
             [
              0.4444444444444444,
              "#bd3786"
             ],
             [
              0.5555555555555556,
              "#d8576b"
             ],
             [
              0.6666666666666666,
              "#ed7953"
             ],
             [
              0.7777777777777778,
              "#fb9f3a"
             ],
             [
              0.8888888888888888,
              "#fdca26"
             ],
             [
              1,
              "#f0f921"
             ]
            ],
            "type": "surface"
           }
          ],
          "table": [
           {
            "cells": {
             "fill": {
              "color": "#EBF0F8"
             },
             "line": {
              "color": "white"
             }
            },
            "header": {
             "fill": {
              "color": "#C8D4E3"
             },
             "line": {
              "color": "white"
             }
            },
            "type": "table"
           }
          ]
         },
         "layout": {
          "annotationdefaults": {
           "arrowcolor": "#2a3f5f",
           "arrowhead": 0,
           "arrowwidth": 1
          },
          "autotypenumbers": "strict",
          "coloraxis": {
           "colorbar": {
            "outlinewidth": 0,
            "ticks": ""
           }
          },
          "colorscale": {
           "diverging": [
            [
             0,
             "#8e0152"
            ],
            [
             0.1,
             "#c51b7d"
            ],
            [
             0.2,
             "#de77ae"
            ],
            [
             0.3,
             "#f1b6da"
            ],
            [
             0.4,
             "#fde0ef"
            ],
            [
             0.5,
             "#f7f7f7"
            ],
            [
             0.6,
             "#e6f5d0"
            ],
            [
             0.7,
             "#b8e186"
            ],
            [
             0.8,
             "#7fbc41"
            ],
            [
             0.9,
             "#4d9221"
            ],
            [
             1,
             "#276419"
            ]
           ],
           "sequential": [
            [
             0,
             "#0d0887"
            ],
            [
             0.1111111111111111,
             "#46039f"
            ],
            [
             0.2222222222222222,
             "#7201a8"
            ],
            [
             0.3333333333333333,
             "#9c179e"
            ],
            [
             0.4444444444444444,
             "#bd3786"
            ],
            [
             0.5555555555555556,
             "#d8576b"
            ],
            [
             0.6666666666666666,
             "#ed7953"
            ],
            [
             0.7777777777777778,
             "#fb9f3a"
            ],
            [
             0.8888888888888888,
             "#fdca26"
            ],
            [
             1,
             "#f0f921"
            ]
           ],
           "sequentialminus": [
            [
             0,
             "#0d0887"
            ],
            [
             0.1111111111111111,
             "#46039f"
            ],
            [
             0.2222222222222222,
             "#7201a8"
            ],
            [
             0.3333333333333333,
             "#9c179e"
            ],
            [
             0.4444444444444444,
             "#bd3786"
            ],
            [
             0.5555555555555556,
             "#d8576b"
            ],
            [
             0.6666666666666666,
             "#ed7953"
            ],
            [
             0.7777777777777778,
             "#fb9f3a"
            ],
            [
             0.8888888888888888,
             "#fdca26"
            ],
            [
             1,
             "#f0f921"
            ]
           ]
          },
          "colorway": [
           "#636efa",
           "#EF553B",
           "#00cc96",
           "#ab63fa",
           "#FFA15A",
           "#19d3f3",
           "#FF6692",
           "#B6E880",
           "#FF97FF",
           "#FECB52"
          ],
          "font": {
           "color": "#2a3f5f"
          },
          "geo": {
           "bgcolor": "white",
           "lakecolor": "white",
           "landcolor": "#E5ECF6",
           "showlakes": true,
           "showland": true,
           "subunitcolor": "white"
          },
          "hoverlabel": {
           "align": "left"
          },
          "hovermode": "closest",
          "mapbox": {
           "style": "light"
          },
          "paper_bgcolor": "white",
          "plot_bgcolor": "#E5ECF6",
          "polar": {
           "angularaxis": {
            "gridcolor": "white",
            "linecolor": "white",
            "ticks": ""
           },
           "bgcolor": "#E5ECF6",
           "radialaxis": {
            "gridcolor": "white",
            "linecolor": "white",
            "ticks": ""
           }
          },
          "scene": {
           "xaxis": {
            "backgroundcolor": "#E5ECF6",
            "gridcolor": "white",
            "gridwidth": 2,
            "linecolor": "white",
            "showbackground": true,
            "ticks": "",
            "zerolinecolor": "white"
           },
           "yaxis": {
            "backgroundcolor": "#E5ECF6",
            "gridcolor": "white",
            "gridwidth": 2,
            "linecolor": "white",
            "showbackground": true,
            "ticks": "",
            "zerolinecolor": "white"
           },
           "zaxis": {
            "backgroundcolor": "#E5ECF6",
            "gridcolor": "white",
            "gridwidth": 2,
            "linecolor": "white",
            "showbackground": true,
            "ticks": "",
            "zerolinecolor": "white"
           }
          },
          "shapedefaults": {
           "line": {
            "color": "#2a3f5f"
           }
          },
          "ternary": {
           "aaxis": {
            "gridcolor": "white",
            "linecolor": "white",
            "ticks": ""
           },
           "baxis": {
            "gridcolor": "white",
            "linecolor": "white",
            "ticks": ""
           },
           "bgcolor": "#E5ECF6",
           "caxis": {
            "gridcolor": "white",
            "linecolor": "white",
            "ticks": ""
           }
          },
          "title": {
           "x": 0.05
          },
          "xaxis": {
           "automargin": true,
           "gridcolor": "white",
           "linecolor": "white",
           "ticks": "",
           "title": {
            "standoff": 15
           },
           "zerolinecolor": "white",
           "zerolinewidth": 2
          },
          "yaxis": {
           "automargin": true,
           "gridcolor": "white",
           "linecolor": "white",
           "ticks": "",
           "title": {
            "standoff": 15
           },
           "zerolinecolor": "white",
           "zerolinewidth": 2
          }
         }
        },
        "title": {
         "text": "Unemployment Rate in India"
        },
        "width": 700
       }
      },
      "text/html": [
       "<div>                            <div id=\"ffb72dfc-68c1-47a7-a7b9-7fb66ee55217\" class=\"plotly-graph-div\" style=\"height:700px; width:700px;\"></div>            <script type=\"text/javascript\">                require([\"plotly\"], function(Plotly) {                    window.PLOTLYENV=window.PLOTLYENV || {};                                    if (document.getElementById(\"ffb72dfc-68c1-47a7-a7b9-7fb66ee55217\")) {                    Plotly.newPlot(                        \"ffb72dfc-68c1-47a7-a7b9-7fb66ee55217\",                        [{\"branchvalues\":\"total\",\"domain\":{\"x\":[0.0,1.0],\"y\":[0.0,1.0]},\"hovertemplate\":\"labels=%{label}<br>estimated unemployment rate=%{value}<br>parent=%{parent}<br>id=%{id}<extra></extra>\",\"ids\":[\"South/Andhra Pradesh\",\"Northeast/Assam\",\"East/Bihar\",\"West/Chhattisgarh\",\"North/Delhi\",\"West/Goa\",\"West/Gujarat\",\"North/Haryana\",\"North/Himachal Pradesh\",\"North/Jammu & Kashmir\",\"East/Jharkhand\",\"South/Karnataka\",\"South/Kerala\",\"West/Madhya Pradesh\",\"West/Maharashtra\",\"Northeast/Meghalaya\",\"East/Odisha\",\"South/Puducherry\",\"North/Punjab\",\"North/Rajasthan\",\"Northeast/Sikkim\",\"South/Tamil Nadu\",\"South/Telangana\",\"Northeast/Tripura\",\"North/Uttar Pradesh\",\"North/Uttarakhand\",\"East/West Bengal\",\"East\",\"North\",\"Northeast\",\"South\",\"West\"],\"labels\":[\"Andhra Pradesh\",\"Assam\",\"Bihar\",\"Chhattisgarh\",\"Delhi\",\"Goa\",\"Gujarat\",\"Haryana\",\"Himachal Pradesh\",\"Jammu & Kashmir\",\"Jharkhand\",\"Karnataka\",\"Kerala\",\"Madhya Pradesh\",\"Maharashtra\",\"Meghalaya\",\"Odisha\",\"Puducherry\",\"Punjab\",\"Rajasthan\",\"Sikkim\",\"Tamil Nadu\",\"Telangana\",\"Tripura\",\"Uttar Pradesh\",\"Uttarakhand\",\"West Bengal\",\"East\",\"North\",\"Northeast\",\"South\",\"West\"],\"name\":\"\",\"parents\":[\"South\",\"Northeast\",\"East\",\"West\",\"North\",\"West\",\"West\",\"North\",\"North\",\"North\",\"East\",\"South\",\"South\",\"West\",\"West\",\"Northeast\",\"East\",\"South\",\"North\",\"North\",\"Northeast\",\"South\",\"South\",\"Northeast\",\"North\",\"North\",\"East\",\"\",\"\",\"\",\"\",\"\"],\"values\":[86.64,48.56,194.71,78.19,184.14000000000001,121.67,63.76,274.77,160.65,148.3,195.39,76.67999999999999,94.34,68.54,79.79,38.66,64.62,179.42,119.81,158.68,78.34,121.86999999999999,68.33,250.55,97.37,111.56,101.92,556.64,1255.28,416.11,627.28,411.95],\"type\":\"sunburst\"}],                        {\"template\":{\"data\":{\"histogram2dcontour\":[{\"type\":\"histogram2dcontour\",\"colorbar\":{\"outlinewidth\":0,\"ticks\":\"\"},\"colorscale\":[[0.0,\"#0d0887\"],[0.1111111111111111,\"#46039f\"],[0.2222222222222222,\"#7201a8\"],[0.3333333333333333,\"#9c179e\"],[0.4444444444444444,\"#bd3786\"],[0.5555555555555556,\"#d8576b\"],[0.6666666666666666,\"#ed7953\"],[0.7777777777777778,\"#fb9f3a\"],[0.8888888888888888,\"#fdca26\"],[1.0,\"#f0f921\"]]}],\"choropleth\":[{\"type\":\"choropleth\",\"colorbar\":{\"outlinewidth\":0,\"ticks\":\"\"}}],\"histogram2d\":[{\"type\":\"histogram2d\",\"colorbar\":{\"outlinewidth\":0,\"ticks\":\"\"},\"colorscale\":[[0.0,\"#0d0887\"],[0.1111111111111111,\"#46039f\"],[0.2222222222222222,\"#7201a8\"],[0.3333333333333333,\"#9c179e\"],[0.4444444444444444,\"#bd3786\"],[0.5555555555555556,\"#d8576b\"],[0.6666666666666666,\"#ed7953\"],[0.7777777777777778,\"#fb9f3a\"],[0.8888888888888888,\"#fdca26\"],[1.0,\"#f0f921\"]]}],\"heatmap\":[{\"type\":\"heatmap\",\"colorbar\":{\"outlinewidth\":0,\"ticks\":\"\"},\"colorscale\":[[0.0,\"#0d0887\"],[0.1111111111111111,\"#46039f\"],[0.2222222222222222,\"#7201a8\"],[0.3333333333333333,\"#9c179e\"],[0.4444444444444444,\"#bd3786\"],[0.5555555555555556,\"#d8576b\"],[0.6666666666666666,\"#ed7953\"],[0.7777777777777778,\"#fb9f3a\"],[0.8888888888888888,\"#fdca26\"],[1.0,\"#f0f921\"]]}],\"heatmapgl\":[{\"type\":\"heatmapgl\",\"colorbar\":{\"outlinewidth\":0,\"ticks\":\"\"},\"colorscale\":[[0.0,\"#0d0887\"],[0.1111111111111111,\"#46039f\"],[0.2222222222222222,\"#7201a8\"],[0.3333333333333333,\"#9c179e\"],[0.4444444444444444,\"#bd3786\"],[0.5555555555555556,\"#d8576b\"],[0.6666666666666666,\"#ed7953\"],[0.7777777777777778,\"#fb9f3a\"],[0.8888888888888888,\"#fdca26\"],[1.0,\"#f0f921\"]]}],\"contourcarpet\":[{\"type\":\"contourcarpet\",\"colorbar\":{\"outlinewidth\":0,\"ticks\":\"\"}}],\"contour\":[{\"type\":\"contour\",\"colorbar\":{\"outlinewidth\":0,\"ticks\":\"\"},\"colorscale\":[[0.0,\"#0d0887\"],[0.1111111111111111,\"#46039f\"],[0.2222222222222222,\"#7201a8\"],[0.3333333333333333,\"#9c179e\"],[0.4444444444444444,\"#bd3786\"],[0.5555555555555556,\"#d8576b\"],[0.6666666666666666,\"#ed7953\"],[0.7777777777777778,\"#fb9f3a\"],[0.8888888888888888,\"#fdca26\"],[1.0,\"#f0f921\"]]}],\"surface\":[{\"type\":\"surface\",\"colorbar\":{\"outlinewidth\":0,\"ticks\":\"\"},\"colorscale\":[[0.0,\"#0d0887\"],[0.1111111111111111,\"#46039f\"],[0.2222222222222222,\"#7201a8\"],[0.3333333333333333,\"#9c179e\"],[0.4444444444444444,\"#bd3786\"],[0.5555555555555556,\"#d8576b\"],[0.6666666666666666,\"#ed7953\"],[0.7777777777777778,\"#fb9f3a\"],[0.8888888888888888,\"#fdca26\"],[1.0,\"#f0f921\"]]}],\"mesh3d\":[{\"type\":\"mesh3d\",\"colorbar\":{\"outlinewidth\":0,\"ticks\":\"\"}}],\"scatter\":[{\"fillpattern\":{\"fillmode\":\"overlay\",\"size\":10,\"solidity\":0.2},\"type\":\"scatter\"}],\"parcoords\":[{\"type\":\"parcoords\",\"line\":{\"colorbar\":{\"outlinewidth\":0,\"ticks\":\"\"}}}],\"scatterpolargl\":[{\"type\":\"scatterpolargl\",\"marker\":{\"colorbar\":{\"outlinewidth\":0,\"ticks\":\"\"}}}],\"bar\":[{\"error_x\":{\"color\":\"#2a3f5f\"},\"error_y\":{\"color\":\"#2a3f5f\"},\"marker\":{\"line\":{\"color\":\"#E5ECF6\",\"width\":0.5},\"pattern\":{\"fillmode\":\"overlay\",\"size\":10,\"solidity\":0.2}},\"type\":\"bar\"}],\"scattergeo\":[{\"type\":\"scattergeo\",\"marker\":{\"colorbar\":{\"outlinewidth\":0,\"ticks\":\"\"}}}],\"scatterpolar\":[{\"type\":\"scatterpolar\",\"marker\":{\"colorbar\":{\"outlinewidth\":0,\"ticks\":\"\"}}}],\"histogram\":[{\"marker\":{\"pattern\":{\"fillmode\":\"overlay\",\"size\":10,\"solidity\":0.2}},\"type\":\"histogram\"}],\"scattergl\":[{\"type\":\"scattergl\",\"marker\":{\"colorbar\":{\"outlinewidth\":0,\"ticks\":\"\"}}}],\"scatter3d\":[{\"type\":\"scatter3d\",\"line\":{\"colorbar\":{\"outlinewidth\":0,\"ticks\":\"\"}},\"marker\":{\"colorbar\":{\"outlinewidth\":0,\"ticks\":\"\"}}}],\"scattermapbox\":[{\"type\":\"scattermapbox\",\"marker\":{\"colorbar\":{\"outlinewidth\":0,\"ticks\":\"\"}}}],\"scatterternary\":[{\"type\":\"scatterternary\",\"marker\":{\"colorbar\":{\"outlinewidth\":0,\"ticks\":\"\"}}}],\"scattercarpet\":[{\"type\":\"scattercarpet\",\"marker\":{\"colorbar\":{\"outlinewidth\":0,\"ticks\":\"\"}}}],\"carpet\":[{\"aaxis\":{\"endlinecolor\":\"#2a3f5f\",\"gridcolor\":\"white\",\"linecolor\":\"white\",\"minorgridcolor\":\"white\",\"startlinecolor\":\"#2a3f5f\"},\"baxis\":{\"endlinecolor\":\"#2a3f5f\",\"gridcolor\":\"white\",\"linecolor\":\"white\",\"minorgridcolor\":\"white\",\"startlinecolor\":\"#2a3f5f\"},\"type\":\"carpet\"}],\"table\":[{\"cells\":{\"fill\":{\"color\":\"#EBF0F8\"},\"line\":{\"color\":\"white\"}},\"header\":{\"fill\":{\"color\":\"#C8D4E3\"},\"line\":{\"color\":\"white\"}},\"type\":\"table\"}],\"barpolar\":[{\"marker\":{\"line\":{\"color\":\"#E5ECF6\",\"width\":0.5},\"pattern\":{\"fillmode\":\"overlay\",\"size\":10,\"solidity\":0.2}},\"type\":\"barpolar\"}],\"pie\":[{\"automargin\":true,\"type\":\"pie\"}]},\"layout\":{\"autotypenumbers\":\"strict\",\"colorway\":[\"#636efa\",\"#EF553B\",\"#00cc96\",\"#ab63fa\",\"#FFA15A\",\"#19d3f3\",\"#FF6692\",\"#B6E880\",\"#FF97FF\",\"#FECB52\"],\"font\":{\"color\":\"#2a3f5f\"},\"hovermode\":\"closest\",\"hoverlabel\":{\"align\":\"left\"},\"paper_bgcolor\":\"white\",\"plot_bgcolor\":\"#E5ECF6\",\"polar\":{\"bgcolor\":\"#E5ECF6\",\"angularaxis\":{\"gridcolor\":\"white\",\"linecolor\":\"white\",\"ticks\":\"\"},\"radialaxis\":{\"gridcolor\":\"white\",\"linecolor\":\"white\",\"ticks\":\"\"}},\"ternary\":{\"bgcolor\":\"#E5ECF6\",\"aaxis\":{\"gridcolor\":\"white\",\"linecolor\":\"white\",\"ticks\":\"\"},\"baxis\":{\"gridcolor\":\"white\",\"linecolor\":\"white\",\"ticks\":\"\"},\"caxis\":{\"gridcolor\":\"white\",\"linecolor\":\"white\",\"ticks\":\"\"}},\"coloraxis\":{\"colorbar\":{\"outlinewidth\":0,\"ticks\":\"\"}},\"colorscale\":{\"sequential\":[[0.0,\"#0d0887\"],[0.1111111111111111,\"#46039f\"],[0.2222222222222222,\"#7201a8\"],[0.3333333333333333,\"#9c179e\"],[0.4444444444444444,\"#bd3786\"],[0.5555555555555556,\"#d8576b\"],[0.6666666666666666,\"#ed7953\"],[0.7777777777777778,\"#fb9f3a\"],[0.8888888888888888,\"#fdca26\"],[1.0,\"#f0f921\"]],\"sequentialminus\":[[0.0,\"#0d0887\"],[0.1111111111111111,\"#46039f\"],[0.2222222222222222,\"#7201a8\"],[0.3333333333333333,\"#9c179e\"],[0.4444444444444444,\"#bd3786\"],[0.5555555555555556,\"#d8576b\"],[0.6666666666666666,\"#ed7953\"],[0.7777777777777778,\"#fb9f3a\"],[0.8888888888888888,\"#fdca26\"],[1.0,\"#f0f921\"]],\"diverging\":[[0,\"#8e0152\"],[0.1,\"#c51b7d\"],[0.2,\"#de77ae\"],[0.3,\"#f1b6da\"],[0.4,\"#fde0ef\"],[0.5,\"#f7f7f7\"],[0.6,\"#e6f5d0\"],[0.7,\"#b8e186\"],[0.8,\"#7fbc41\"],[0.9,\"#4d9221\"],[1,\"#276419\"]]},\"xaxis\":{\"gridcolor\":\"white\",\"linecolor\":\"white\",\"ticks\":\"\",\"title\":{\"standoff\":15},\"zerolinecolor\":\"white\",\"automargin\":true,\"zerolinewidth\":2},\"yaxis\":{\"gridcolor\":\"white\",\"linecolor\":\"white\",\"ticks\":\"\",\"title\":{\"standoff\":15},\"zerolinecolor\":\"white\",\"automargin\":true,\"zerolinewidth\":2},\"scene\":{\"xaxis\":{\"backgroundcolor\":\"#E5ECF6\",\"gridcolor\":\"white\",\"linecolor\":\"white\",\"showbackground\":true,\"ticks\":\"\",\"zerolinecolor\":\"white\",\"gridwidth\":2},\"yaxis\":{\"backgroundcolor\":\"#E5ECF6\",\"gridcolor\":\"white\",\"linecolor\":\"white\",\"showbackground\":true,\"ticks\":\"\",\"zerolinecolor\":\"white\",\"gridwidth\":2},\"zaxis\":{\"backgroundcolor\":\"#E5ECF6\",\"gridcolor\":\"white\",\"linecolor\":\"white\",\"showbackground\":true,\"ticks\":\"\",\"zerolinecolor\":\"white\",\"gridwidth\":2}},\"shapedefaults\":{\"line\":{\"color\":\"#2a3f5f\"}},\"annotationdefaults\":{\"arrowcolor\":\"#2a3f5f\",\"arrowhead\":0,\"arrowwidth\":1},\"geo\":{\"bgcolor\":\"white\",\"landcolor\":\"#E5ECF6\",\"subunitcolor\":\"white\",\"showland\":true,\"showlakes\":true,\"lakecolor\":\"white\"},\"title\":{\"x\":0.05},\"mapbox\":{\"style\":\"light\"}}},\"legend\":{\"tracegroupgap\":0},\"title\":{\"text\":\"Unemployment Rate in India\"},\"height\":700,\"width\":700},                        {\"responsive\": true}                    ).then(function(){\n",
       "                            \n",
       "var gd = document.getElementById('ffb72dfc-68c1-47a7-a7b9-7fb66ee55217');\n",
       "var x = new MutationObserver(function (mutations, observer) {{\n",
       "        var display = window.getComputedStyle(gd).display;\n",
       "        if (!display || display === 'none') {{\n",
       "            console.log([gd, 'removed!']);\n",
       "            Plotly.purge(gd);\n",
       "            observer.disconnect();\n",
       "        }}\n",
       "}});\n",
       "\n",
       "// Listen for the removal of the full notebook cells\n",
       "var notebookContainer = gd.closest('#notebook-container');\n",
       "if (notebookContainer) {{\n",
       "    x.observe(notebookContainer, {childList: true});\n",
       "}}\n",
       "\n",
       "// Listen for the clearing of the current output cell\n",
       "var outputEl = gd.closest('.output');\n",
       "if (outputEl) {{\n",
       "    x.observe(outputEl, {childList: true});\n",
       "}}\n",
       "\n",
       "                        })                };                });            </script>        </div>"
      ]
     },
     "metadata": {},
     "output_type": "display_data"
    }
   ],
   "source": [
    "#Let’s create a dashboard to analyze the unemployment rate of each Indian state by region.\n",
    "unemploment = data[[\"state\", \"region\", \"estimated unemployment rate\"]]\n",
    "figure = px.sunburst(unemploment, path=[\"region\", \"state\"], \n",
    "                     values=\"estimated unemployment rate\", \n",
    "                     width=700, height=700, color_continuous_scale=\"RdY1Gn\", \n",
    "                     title=\"Unemployment Rate in India\")\n",
    "figure.show()\n",
    "\n"
   ]
  },
  {
   "cell_type": "code",
   "execution_count": 23,
   "metadata": {
    "execution": {
     "iopub.execute_input": "2023-09-07T06:23:24.542487Z",
     "iopub.status.busy": "2023-09-07T06:23:24.542009Z",
     "iopub.status.idle": "2023-09-07T06:23:25.313331Z",
     "shell.execute_reply": "2023-09-07T06:23:25.311911Z"
    },
    "papermill": {
     "duration": 0.847686,
     "end_time": "2023-09-07T06:23:25.319252",
     "exception": false,
     "start_time": "2023-09-07T06:23:24.471566",
     "status": "completed"
    },
    "tags": []
   },
   "outputs": [
    {
     "data": {
      "application/vnd.plotly.v1+json": {
       "config": {
        "plotlyServerURL": "https://plot.ly"
       },
       "data": [
        {
         "geo": "geo",
         "hovertemplate": "<b>%{hovertext}</b><br><br>region=South<br>month_int=1<br>estimated unemployment rate=%{marker.size}<br>longitude=%{lat}<br>latitude=%{lon}<extra></extra>",
         "hovertext": [
          "Andhra Pradesh",
          "Karnataka",
          "Kerala",
          "Puducherry",
          "Tamil Nadu",
          "Telangana"
         ],
         "lat": [
          15.9129,
          15.3173,
          10.8505,
          11.9416,
          11.1271,
          18.1124
         ],
         "legendgroup": "South",
         "lon": [
          79.74,
          75.7139,
          76.2711,
          79.8083,
          78.6569,
          79.0193
         ],
         "marker": {
          "color": "#636efa",
          "size": [
           5.48,
           2.86,
           5.31,
           0.58,
           1.57,
           5.49
          ],
          "sizemode": "area",
          "sizeref": 0.189625,
          "symbol": "circle"
         },
         "mode": "markers",
         "name": "South",
         "showlegend": true,
         "type": "scattergeo"
        },
        {
         "geo": "geo",
         "hovertemplate": "<b>%{hovertext}</b><br><br>region=Northeast<br>month_int=1<br>estimated unemployment rate=%{marker.size}<br>longitude=%{lat}<br>latitude=%{lon}<extra></extra>",
         "hovertext": [
          "Assam",
          "Meghalaya",
          "Tripura"
         ],
         "lat": [
          26.2006,
          25.467,
          23.9408
         ],
         "legendgroup": "Northeast",
         "lon": [
          92.9376,
          91.3662,
          91.9882
         ],
         "marker": {
          "color": "#EF553B",
          "size": [
           4.66,
           1.66,
           32.67
          ],
          "sizemode": "area",
          "sizeref": 0.189625,
          "symbol": "circle"
         },
         "mode": "markers",
         "name": "Northeast",
         "showlegend": true,
         "type": "scattergeo"
        },
        {
         "geo": "geo",
         "hovertemplate": "<b>%{hovertext}</b><br><br>region=East<br>month_int=1<br>estimated unemployment rate=%{marker.size}<br>longitude=%{lat}<br>latitude=%{lon}<extra></extra>",
         "hovertext": [
          "Bihar",
          "Jharkhand",
          "Odisha",
          "West Bengal"
         ],
         "lat": [
          25.0961,
          23.6102,
          20.9517,
          22.9868
         ],
         "legendgroup": "East",
         "lon": [
          85.3131,
          85.2799,
          85.0985,
          87.855
         ],
         "marker": {
          "color": "#00cc96",
          "size": [
           10.61,
           10.61,
           1.9,
           6.94
          ],
          "sizemode": "area",
          "sizeref": 0.189625,
          "symbol": "circle"
         },
         "mode": "markers",
         "name": "East",
         "showlegend": true,
         "type": "scattergeo"
        },
        {
         "geo": "geo",
         "hovertemplate": "<b>%{hovertext}</b><br><br>region=West<br>month_int=1<br>estimated unemployment rate=%{marker.size}<br>longitude=%{lat}<br>latitude=%{lon}<extra></extra>",
         "hovertext": [
          "Chhattisgarh",
          "Goa",
          "Gujarat",
          "Madhya Pradesh",
          "Maharashtra"
         ],
         "lat": [
          21.2787,
          15.2993,
          22.2587,
          22.9734,
          19.7515
         ],
         "legendgroup": "West",
         "lon": [
          81.8661,
          74.124,
          71.1924,
          78.6569,
          75.7139
         ],
         "marker": {
          "color": "#ab63fa",
          "size": [
           9.65,
           8.89,
           5.54,
           4.11,
           4.95
          ],
          "sizemode": "area",
          "sizeref": 0.189625,
          "symbol": "circle"
         },
         "mode": "markers",
         "name": "West",
         "showlegend": true,
         "type": "scattergeo"
        },
        {
         "geo": "geo",
         "hovertemplate": "<b>%{hovertext}</b><br><br>region=North<br>month_int=1<br>estimated unemployment rate=%{marker.size}<br>longitude=%{lat}<br>latitude=%{lon}<extra></extra>",
         "hovertext": [
          "Delhi",
          "Haryana",
          "Himachal Pradesh",
          "Jammu & Kashmir",
          "Punjab",
          "Rajasthan",
          "Uttar Pradesh",
          "Uttarakhand"
         ],
         "lat": [
          28.7041,
          29.0588,
          31.1048,
          33.7782,
          31.1471,
          27.0238,
          26.8467,
          30.0668
         ],
         "legendgroup": "North",
         "lon": [
          77.1025,
          76.0856,
          77.1734,
          76.5762,
          75.3412,
          74.2179,
          80.9462,
          79.0193
         ],
         "marker": {
          "color": "#FFA15A",
          "size": [
           22.23,
           20.34,
           16.83,
           21.08,
           11.11,
           10.97,
           7.58,
           5.49
          ],
          "sizemode": "area",
          "sizeref": 0.189625,
          "symbol": "circle"
         },
         "mode": "markers",
         "name": "North",
         "showlegend": true,
         "type": "scattergeo"
        }
       ],
       "frames": [
        {
         "data": [
          {
           "geo": "geo",
           "hovertemplate": "<b>%{hovertext}</b><br><br>region=South<br>month_int=1<br>estimated unemployment rate=%{marker.size}<br>longitude=%{lat}<br>latitude=%{lon}<extra></extra>",
           "hovertext": [
            "Andhra Pradesh",
            "Karnataka",
            "Kerala",
            "Puducherry",
            "Tamil Nadu",
            "Telangana"
           ],
           "lat": [
            15.9129,
            15.3173,
            10.8505,
            11.9416,
            11.1271,
            18.1124
           ],
           "legendgroup": "South",
           "lon": [
            79.74,
            75.7139,
            76.2711,
            79.8083,
            78.6569,
            79.0193
           ],
           "marker": {
            "color": "#636efa",
            "size": [
             5.48,
             2.86,
             5.31,
             0.58,
             1.57,
             5.49
            ],
            "sizemode": "area",
            "sizeref": 0.189625,
            "symbol": "circle"
           },
           "mode": "markers",
           "name": "South",
           "showlegend": true,
           "type": "scattergeo"
          },
          {
           "geo": "geo",
           "hovertemplate": "<b>%{hovertext}</b><br><br>region=Northeast<br>month_int=1<br>estimated unemployment rate=%{marker.size}<br>longitude=%{lat}<br>latitude=%{lon}<extra></extra>",
           "hovertext": [
            "Assam",
            "Meghalaya",
            "Tripura"
           ],
           "lat": [
            26.2006,
            25.467,
            23.9408
           ],
           "legendgroup": "Northeast",
           "lon": [
            92.9376,
            91.3662,
            91.9882
           ],
           "marker": {
            "color": "#EF553B",
            "size": [
             4.66,
             1.66,
             32.67
            ],
            "sizemode": "area",
            "sizeref": 0.189625,
            "symbol": "circle"
           },
           "mode": "markers",
           "name": "Northeast",
           "showlegend": true,
           "type": "scattergeo"
          },
          {
           "geo": "geo",
           "hovertemplate": "<b>%{hovertext}</b><br><br>region=East<br>month_int=1<br>estimated unemployment rate=%{marker.size}<br>longitude=%{lat}<br>latitude=%{lon}<extra></extra>",
           "hovertext": [
            "Bihar",
            "Jharkhand",
            "Odisha",
            "West Bengal"
           ],
           "lat": [
            25.0961,
            23.6102,
            20.9517,
            22.9868
           ],
           "legendgroup": "East",
           "lon": [
            85.3131,
            85.2799,
            85.0985,
            87.855
           ],
           "marker": {
            "color": "#00cc96",
            "size": [
             10.61,
             10.61,
             1.9,
             6.94
            ],
            "sizemode": "area",
            "sizeref": 0.189625,
            "symbol": "circle"
           },
           "mode": "markers",
           "name": "East",
           "showlegend": true,
           "type": "scattergeo"
          },
          {
           "geo": "geo",
           "hovertemplate": "<b>%{hovertext}</b><br><br>region=West<br>month_int=1<br>estimated unemployment rate=%{marker.size}<br>longitude=%{lat}<br>latitude=%{lon}<extra></extra>",
           "hovertext": [
            "Chhattisgarh",
            "Goa",
            "Gujarat",
            "Madhya Pradesh",
            "Maharashtra"
           ],
           "lat": [
            21.2787,
            15.2993,
            22.2587,
            22.9734,
            19.7515
           ],
           "legendgroup": "West",
           "lon": [
            81.8661,
            74.124,
            71.1924,
            78.6569,
            75.7139
           ],
           "marker": {
            "color": "#ab63fa",
            "size": [
             9.65,
             8.89,
             5.54,
             4.11,
             4.95
            ],
            "sizemode": "area",
            "sizeref": 0.189625,
            "symbol": "circle"
           },
           "mode": "markers",
           "name": "West",
           "showlegend": true,
           "type": "scattergeo"
          },
          {
           "geo": "geo",
           "hovertemplate": "<b>%{hovertext}</b><br><br>region=North<br>month_int=1<br>estimated unemployment rate=%{marker.size}<br>longitude=%{lat}<br>latitude=%{lon}<extra></extra>",
           "hovertext": [
            "Delhi",
            "Haryana",
            "Himachal Pradesh",
            "Jammu & Kashmir",
            "Punjab",
            "Rajasthan",
            "Uttar Pradesh",
            "Uttarakhand"
           ],
           "lat": [
            28.7041,
            29.0588,
            31.1048,
            33.7782,
            31.1471,
            27.0238,
            26.8467,
            30.0668
           ],
           "legendgroup": "North",
           "lon": [
            77.1025,
            76.0856,
            77.1734,
            76.5762,
            75.3412,
            74.2179,
            80.9462,
            79.0193
           ],
           "marker": {
            "color": "#FFA15A",
            "size": [
             22.23,
             20.34,
             16.83,
             21.08,
             11.11,
             10.97,
             7.58,
             5.49
            ],
            "sizemode": "area",
            "sizeref": 0.189625,
            "symbol": "circle"
           },
           "mode": "markers",
           "name": "North",
           "showlegend": true,
           "type": "scattergeo"
          }
         ],
         "name": "1"
        },
        {
         "data": [
          {
           "geo": "geo",
           "hovertemplate": "<b>%{hovertext}</b><br><br>region=South<br>month_int=2<br>estimated unemployment rate=%{marker.size}<br>longitude=%{lat}<br>latitude=%{lon}<extra></extra>",
           "hovertext": [
            "Andhra Pradesh",
            "Karnataka",
            "Kerala",
            "Puducherry",
            "Tamil Nadu",
            "Telangana"
           ],
           "lat": [
            15.9129,
            15.3173,
            10.8505,
            11.9416,
            11.1271,
            18.1124
           ],
           "legendgroup": "South",
           "lon": [
            79.74,
            75.7139,
            76.2711,
            79.8083,
            78.6569,
            79.0193
           ],
           "marker": {
            "color": "#636efa",
            "size": [
             5.83,
             3.61,
             7.6,
             1.76,
             2.09,
             8.29
            ],
            "sizemode": "area",
            "sizeref": 0.189625,
            "symbol": "circle"
           },
           "mode": "markers",
           "name": "South",
           "showlegend": true,
           "type": "scattergeo"
          },
          {
           "geo": "geo",
           "hovertemplate": "<b>%{hovertext}</b><br><br>region=Northeast<br>month_int=2<br>estimated unemployment rate=%{marker.size}<br>longitude=%{lat}<br>latitude=%{lon}<extra></extra>",
           "hovertext": [
            "Assam",
            "Meghalaya",
            "Tripura"
           ],
           "lat": [
            26.2006,
            25.467,
            23.9408
           ],
           "legendgroup": "Northeast",
           "lon": [
            92.9376,
            91.3662,
            91.9882
           ],
           "marker": {
            "color": "#EF553B",
            "size": [
             4.41,
             3.59,
             28.4
            ],
            "sizemode": "area",
            "sizeref": 0.189625,
            "symbol": "circle"
           },
           "mode": "markers",
           "name": "Northeast",
           "showlegend": true,
           "type": "scattergeo"
          },
          {
           "geo": "geo",
           "hovertemplate": "<b>%{hovertext}</b><br><br>region=East<br>month_int=2<br>estimated unemployment rate=%{marker.size}<br>longitude=%{lat}<br>latitude=%{lon}<extra></extra>",
           "hovertext": [
            "Bihar",
            "Jharkhand",
            "Odisha",
            "West Bengal"
           ],
           "lat": [
            25.0961,
            23.6102,
            20.9517,
            22.9868
           ],
           "legendgroup": "East",
           "lon": [
            85.3131,
            85.2799,
            85.0985,
            87.855
           ],
           "marker": {
            "color": "#00cc96",
            "size": [
             10.29,
             11.85,
             3.12,
             4.92
            ],
            "sizemode": "area",
            "sizeref": 0.189625,
            "symbol": "circle"
           },
           "mode": "markers",
           "name": "East",
           "showlegend": true,
           "type": "scattergeo"
          },
          {
           "geo": "geo",
           "hovertemplate": "<b>%{hovertext}</b><br><br>region=West<br>month_int=2<br>estimated unemployment rate=%{marker.size}<br>longitude=%{lat}<br>latitude=%{lon}<extra></extra>",
           "hovertext": [
            "Chhattisgarh",
            "Goa",
            "Gujarat",
            "Madhya Pradesh",
            "Maharashtra"
           ],
           "lat": [
            21.2787,
            15.2993,
            22.2587,
            22.9734,
            19.7515
           ],
           "legendgroup": "West",
           "lon": [
            81.8661,
            74.124,
            71.1924,
            78.6569,
            75.7139
           ],
           "marker": {
            "color": "#ab63fa",
            "size": [
             8.38,
             2.81,
             6.38,
             4.57,
             4.69
            ],
            "sizemode": "area",
            "sizeref": 0.189625,
            "symbol": "circle"
           },
           "mode": "markers",
           "name": "West",
           "showlegend": true,
           "type": "scattergeo"
          },
          {
           "geo": "geo",
           "hovertemplate": "<b>%{hovertext}</b><br><br>region=North<br>month_int=2<br>estimated unemployment rate=%{marker.size}<br>longitude=%{lat}<br>latitude=%{lon}<extra></extra>",
           "hovertext": [
            "Delhi",
            "Haryana",
            "Himachal Pradesh",
            "Jammu & Kashmir",
            "Punjab",
            "Rajasthan",
            "Uttar Pradesh",
            "Uttarakhand"
           ],
           "lat": [
            28.7041,
            29.0588,
            31.1048,
            33.7782,
            31.1471,
            27.0238,
            26.8467,
            30.0668
           ],
           "legendgroup": "North",
           "lon": [
            77.1025,
            76.0856,
            77.1734,
            76.5762,
            75.3412,
            74.2179,
            80.9462,
            79.0193
           ],
           "marker": {
            "color": "#FFA15A",
            "size": [
             14.84,
             25.77,
             16.84,
             20.78,
             10.97,
             15.16,
             8.98,
             4.99
            ],
            "sizemode": "area",
            "sizeref": 0.189625,
            "symbol": "circle"
           },
           "mode": "markers",
           "name": "North",
           "showlegend": true,
           "type": "scattergeo"
          }
         ],
         "name": "2"
        },
        {
         "data": [
          {
           "geo": "geo",
           "hovertemplate": "<b>%{hovertext}</b><br><br>region=South<br>month_int=3<br>estimated unemployment rate=%{marker.size}<br>longitude=%{lat}<br>latitude=%{lon}<extra></extra>",
           "hovertext": [
            "Andhra Pradesh",
            "Karnataka",
            "Kerala",
            "Puducherry",
            "Tamil Nadu",
            "Telangana"
           ],
           "lat": [
            15.9129,
            15.3173,
            10.8505,
            11.9416,
            11.1271,
            18.1124
           ],
           "legendgroup": "South",
           "lon": [
            79.74,
            75.7139,
            76.2711,
            79.8083,
            78.6569,
            79.0193
           ],
           "marker": {
            "color": "#636efa",
            "size": [
             5.79,
             3.46,
             8.99,
             1.2,
             6.4,
             5.77
            ],
            "sizemode": "area",
            "sizeref": 0.189625,
            "symbol": "circle"
           },
           "mode": "markers",
           "name": "South",
           "showlegend": true,
           "type": "scattergeo"
          },
          {
           "geo": "geo",
           "hovertemplate": "<b>%{hovertext}</b><br><br>region=Northeast<br>month_int=3<br>estimated unemployment rate=%{marker.size}<br>longitude=%{lat}<br>latitude=%{lon}<extra></extra>",
           "hovertext": [
            "Assam",
            "Meghalaya",
            "Sikkim",
            "Tripura"
           ],
           "lat": [
            26.2006,
            25.467,
            27.533,
            23.9408
           ],
           "legendgroup": "Northeast",
           "lon": [
            92.9376,
            91.3662,
            88.5122,
            91.9882
           ],
           "marker": {
            "color": "#EF553B",
            "size": [
             4.77,
             1.58,
             23.57,
             29.95
            ],
            "sizemode": "area",
            "sizeref": 0.189625,
            "symbol": "circle"
           },
           "mode": "markers",
           "name": "Northeast",
           "showlegend": true,
           "type": "scattergeo"
          },
          {
           "geo": "geo",
           "hovertemplate": "<b>%{hovertext}</b><br><br>region=East<br>month_int=3<br>estimated unemployment rate=%{marker.size}<br>longitude=%{lat}<br>latitude=%{lon}<extra></extra>",
           "hovertext": [
            "Bihar",
            "Jharkhand",
            "Odisha",
            "West Bengal"
           ],
           "lat": [
            25.0961,
            23.6102,
            20.9517,
            22.9868
           ],
           "legendgroup": "East",
           "lon": [
            85.3131,
            85.2799,
            85.0985,
            87.855
           ],
           "marker": {
            "color": "#00cc96",
            "size": [
             15.43,
             8.23,
             13.08,
             6.92
            ],
            "sizemode": "area",
            "sizeref": 0.189625,
            "symbol": "circle"
           },
           "mode": "markers",
           "name": "East",
           "showlegend": true,
           "type": "scattergeo"
          },
          {
           "geo": "geo",
           "hovertemplate": "<b>%{hovertext}</b><br><br>region=West<br>month_int=3<br>estimated unemployment rate=%{marker.size}<br>longitude=%{lat}<br>latitude=%{lon}<extra></extra>",
           "hovertext": [
            "Chhattisgarh",
            "Goa",
            "Gujarat",
            "Madhya Pradesh",
            "Maharashtra"
           ],
           "lat": [
            21.2787,
            15.2993,
            22.2587,
            22.9734,
            19.7515
           ],
           "legendgroup": "West",
           "lon": [
            81.8661,
            74.124,
            71.1924,
            78.6569,
            75.7139
           ],
           "marker": {
            "color": "#ab63fa",
            "size": [
             7.54,
             5.25,
             6.66,
             2.22,
             5.79
            ],
            "sizemode": "area",
            "sizeref": 0.189625,
            "symbol": "circle"
           },
           "mode": "markers",
           "name": "West",
           "showlegend": true,
           "type": "scattergeo"
          },
          {
           "geo": "geo",
           "hovertemplate": "<b>%{hovertext}</b><br><br>region=North<br>month_int=3<br>estimated unemployment rate=%{marker.size}<br>longitude=%{lat}<br>latitude=%{lon}<extra></extra>",
           "hovertext": [
            "Delhi",
            "Haryana",
            "Himachal Pradesh",
            "Jammu & Kashmir",
            "Punjab",
            "Rajasthan",
            "Uttar Pradesh",
            "Uttarakhand"
           ],
           "lat": [
            28.7041,
            29.0588,
            31.1048,
            33.7782,
            31.1471,
            27.0238,
            26.8467,
            30.0668
           ],
           "legendgroup": "North",
           "lon": [
            77.1025,
            76.0856,
            77.1734,
            76.5762,
            75.3412,
            74.2179,
            80.9462,
            79.0193
           ],
           "marker": {
            "color": "#FFA15A",
            "size": [
             17.04,
             25.05,
             18.76,
             15.5,
             10.32,
             11.9,
             10.11,
             19.85
            ],
            "sizemode": "area",
            "sizeref": 0.189625,
            "symbol": "circle"
           },
           "mode": "markers",
           "name": "North",
           "showlegend": true,
           "type": "scattergeo"
          }
         ],
         "name": "3"
        },
        {
         "data": [
          {
           "geo": "geo",
           "hovertemplate": "<b>%{hovertext}</b><br><br>region=South<br>month_int=4<br>estimated unemployment rate=%{marker.size}<br>longitude=%{lat}<br>latitude=%{lon}<extra></extra>",
           "hovertext": [
            "Andhra Pradesh",
            "Karnataka",
            "Kerala",
            "Puducherry",
            "Tamil Nadu",
            "Telangana"
           ],
           "lat": [
            15.9129,
            15.3173,
            10.8505,
            11.9416,
            11.1271,
            18.1124
           ],
           "legendgroup": "South",
           "lon": [
            79.74,
            75.7139,
            76.2711,
            79.8083,
            78.6569,
            79.0193
           ],
           "marker": {
            "color": "#636efa",
            "size": [
             20.51,
             29.84,
             16.99,
             75.85,
             49.83,
             6.25
            ],
            "sizemode": "area",
            "sizeref": 0.189625,
            "symbol": "circle"
           },
           "mode": "markers",
           "name": "South",
           "showlegend": true,
           "type": "scattergeo"
          },
          {
           "geo": "geo",
           "hovertemplate": "<b>%{hovertext}</b><br><br>region=Northeast<br>month_int=4<br>estimated unemployment rate=%{marker.size}<br>longitude=%{lat}<br>latitude=%{lon}<extra></extra>",
           "hovertext": [
            "Assam",
            "Meghalaya",
            "Sikkim",
            "Tripura"
           ],
           "lat": [
            26.2006,
            25.467,
            27.533,
            23.9408
           ],
           "legendgroup": "Northeast",
           "lon": [
            92.9376,
            91.3662,
            88.5122,
            91.9882
           ],
           "marker": {
            "color": "#EF553B",
            "size": [
             11.06,
             10.03,
             2.28,
             41.23
            ],
            "sizemode": "area",
            "sizeref": 0.189625,
            "symbol": "circle"
           },
           "mode": "markers",
           "name": "Northeast",
           "showlegend": true,
           "type": "scattergeo"
          },
          {
           "geo": "geo",
           "hovertemplate": "<b>%{hovertext}</b><br><br>region=East<br>month_int=4<br>estimated unemployment rate=%{marker.size}<br>longitude=%{lat}<br>latitude=%{lon}<extra></extra>",
           "hovertext": [
            "Bihar",
            "Jharkhand",
            "Odisha",
            "West Bengal"
           ],
           "lat": [
            25.0961,
            23.6102,
            20.9517,
            22.9868
           ],
           "legendgroup": "East",
           "lon": [
            85.3131,
            85.2799,
            85.0985,
            87.855
           ],
           "marker": {
            "color": "#00cc96",
            "size": [
             46.64,
             47.09,
             23.76,
             17.41
            ],
            "sizemode": "area",
            "sizeref": 0.189625,
            "symbol": "circle"
           },
           "mode": "markers",
           "name": "East",
           "showlegend": true,
           "type": "scattergeo"
          },
          {
           "geo": "geo",
           "hovertemplate": "<b>%{hovertext}</b><br><br>region=West<br>month_int=4<br>estimated unemployment rate=%{marker.size}<br>longitude=%{lat}<br>latitude=%{lon}<extra></extra>",
           "hovertext": [
            "Chhattisgarh",
            "Goa",
            "Gujarat",
            "Madhya Pradesh",
            "Maharashtra"
           ],
           "lat": [
            21.2787,
            15.2993,
            22.2587,
            22.9734,
            19.7515
           ],
           "legendgroup": "West",
           "lon": [
            81.8661,
            74.124,
            71.1924,
            78.6569,
            75.7139
           ],
           "marker": {
            "color": "#ab63fa",
            "size": [
             3.41,
             13.31,
             18.71,
             12.36,
             20.9
            ],
            "sizemode": "area",
            "sizeref": 0.189625,
            "symbol": "circle"
           },
           "mode": "markers",
           "name": "West",
           "showlegend": true,
           "type": "scattergeo"
          },
          {
           "geo": "geo",
           "hovertemplate": "<b>%{hovertext}</b><br><br>region=North<br>month_int=4<br>estimated unemployment rate=%{marker.size}<br>longitude=%{lat}<br>latitude=%{lon}<extra></extra>",
           "hovertext": [
            "Delhi",
            "Haryana",
            "Himachal Pradesh",
            "Punjab",
            "Rajasthan",
            "Uttar Pradesh",
            "Uttarakhand"
           ],
           "lat": [
            28.7041,
            29.0588,
            31.1048,
            31.1471,
            27.0238,
            26.8467,
            30.0668
           ],
           "legendgroup": "North",
           "lon": [
            77.1025,
            76.0856,
            77.1734,
            75.3412,
            74.2179,
            80.9462,
            79.0193
           ],
           "marker": {
            "color": "#FFA15A",
            "size": [
             16.68,
             43.22,
             2.2,
             2.86,
             17.7,
             21.54,
             6.48
            ],
            "sizemode": "area",
            "sizeref": 0.189625,
            "symbol": "circle"
           },
           "mode": "markers",
           "name": "North",
           "showlegend": true,
           "type": "scattergeo"
          }
         ],
         "name": "4"
        },
        {
         "data": [
          {
           "geo": "geo",
           "hovertemplate": "<b>%{hovertext}</b><br><br>region=South<br>month_int=5<br>estimated unemployment rate=%{marker.size}<br>longitude=%{lat}<br>latitude=%{lon}<extra></extra>",
           "hovertext": [
            "Andhra Pradesh",
            "Karnataka",
            "Kerala",
            "Puducherry",
            "Tamil Nadu",
            "Telangana"
           ],
           "lat": [
            15.9129,
            15.3173,
            10.8505,
            11.9416,
            11.1271,
            18.1124
           ],
           "legendgroup": "South",
           "lon": [
            79.74,
            75.7139,
            76.2711,
            79.8083,
            78.6569,
            79.0193
           ],
           "marker": {
            "color": "#636efa",
            "size": [
             17.43,
             19.97,
             17.88,
             58.19,
             33.16,
             14.7
            ],
            "sizemode": "area",
            "sizeref": 0.189625,
            "symbol": "circle"
           },
           "mode": "markers",
           "name": "South",
           "showlegend": true,
           "type": "scattergeo"
          },
          {
           "geo": "geo",
           "hovertemplate": "<b>%{hovertext}</b><br><br>region=Northeast<br>month_int=5<br>estimated unemployment rate=%{marker.size}<br>longitude=%{lat}<br>latitude=%{lon}<extra></extra>",
           "hovertext": [
            "Assam",
            "Meghalaya",
            "Sikkim",
            "Tripura"
           ],
           "lat": [
            26.2006,
            25.467,
            27.533,
            23.9408
           ],
           "legendgroup": "Northeast",
           "lon": [
            92.9376,
            91.3662,
            88.5122,
            91.9882
           ],
           "marker": {
            "color": "#EF553B",
            "size": [
             9.55,
             5.92,
             24.51,
             21.51
            ],
            "sizemode": "area",
            "sizeref": 0.189625,
            "symbol": "circle"
           },
           "mode": "markers",
           "name": "Northeast",
           "showlegend": true,
           "type": "scattergeo"
          },
          {
           "geo": "geo",
           "hovertemplate": "<b>%{hovertext}</b><br><br>region=East<br>month_int=5<br>estimated unemployment rate=%{marker.size}<br>longitude=%{lat}<br>latitude=%{lon}<extra></extra>",
           "hovertext": [
            "Bihar",
            "Jharkhand",
            "Odisha",
            "West Bengal"
           ],
           "lat": [
            25.0961,
            23.6102,
            20.9517,
            22.9868
           ],
           "legendgroup": "East",
           "lon": [
            85.3131,
            85.2799,
            85.0985,
            87.855
           ],
           "marker": {
            "color": "#00cc96",
            "size": [
             45.96,
             59.23,
             11.41,
             17.41
            ],
            "sizemode": "area",
            "sizeref": 0.189625,
            "symbol": "circle"
           },
           "mode": "markers",
           "name": "East",
           "showlegend": true,
           "type": "scattergeo"
          },
          {
           "geo": "geo",
           "hovertemplate": "<b>%{hovertext}</b><br><br>region=West<br>month_int=5<br>estimated unemployment rate=%{marker.size}<br>longitude=%{lat}<br>latitude=%{lon}<extra></extra>",
           "hovertext": [
            "Chhattisgarh",
            "Goa",
            "Gujarat",
            "Madhya Pradesh",
            "Maharashtra"
           ],
           "lat": [
            21.2787,
            15.2993,
            22.2587,
            22.9734,
            19.7515
           ],
           "legendgroup": "West",
           "lon": [
            81.8661,
            74.124,
            71.1924,
            78.6569,
            75.7139
           ],
           "marker": {
            "color": "#ab63fa",
            "size": [
             10.5,
             21.25,
             12.11,
             21.98,
             15.46
            ],
            "sizemode": "area",
            "sizeref": 0.189625,
            "symbol": "circle"
           },
           "mode": "markers",
           "name": "West",
           "showlegend": true,
           "type": "scattergeo"
          },
          {
           "geo": "geo",
           "hovertemplate": "<b>%{hovertext}</b><br><br>region=North<br>month_int=5<br>estimated unemployment rate=%{marker.size}<br>longitude=%{lat}<br>latitude=%{lon}<extra></extra>",
           "hovertext": [
            "Delhi",
            "Haryana",
            "Himachal Pradesh",
            "Jammu & Kashmir",
            "Punjab",
            "Rajasthan",
            "Uttar Pradesh",
            "Uttarakhand"
           ],
           "lat": [
            28.7041,
            29.0588,
            31.1048,
            33.7782,
            31.1471,
            27.0238,
            26.8467,
            30.0668
           ],
           "legendgroup": "North",
           "lon": [
            77.1025,
            76.0856,
            77.1734,
            76.5762,
            75.3412,
            74.2179,
            80.9462,
            79.0193
           ],
           "marker": {
            "color": "#FFA15A",
            "size": [
             42.27,
             29.02,
             26.95,
             18.74,
             28.33,
             15.74,
             20.41,
             8.01
            ],
            "sizemode": "area",
            "sizeref": 0.189625,
            "symbol": "circle"
           },
           "mode": "markers",
           "name": "North",
           "showlegend": true,
           "type": "scattergeo"
          }
         ],
         "name": "5"
        },
        {
         "data": [
          {
           "geo": "geo",
           "hovertemplate": "<b>%{hovertext}</b><br><br>region=South<br>month_int=6<br>estimated unemployment rate=%{marker.size}<br>longitude=%{lat}<br>latitude=%{lon}<extra></extra>",
           "hovertext": [
            "Andhra Pradesh",
            "Karnataka",
            "Kerala",
            "Puducherry",
            "Tamil Nadu",
            "Telangana"
           ],
           "lat": [
            15.9129,
            15.3173,
            10.8505,
            11.9416,
            11.1271,
            18.1124
           ],
           "legendgroup": "South",
           "lon": [
            79.74,
            75.7139,
            76.2711,
            79.8083,
            78.6569,
            79.0193
           ],
           "marker": {
            "color": "#636efa",
            "size": [
             3.31,
             8.44,
             9.71,
             4.24,
             12.2,
             10.55
            ],
            "sizemode": "area",
            "sizeref": 0.189625,
            "symbol": "circle"
           },
           "mode": "markers",
           "name": "South",
           "showlegend": true,
           "type": "scattergeo"
          },
          {
           "geo": "geo",
           "hovertemplate": "<b>%{hovertext}</b><br><br>region=Northeast<br>month_int=6<br>estimated unemployment rate=%{marker.size}<br>longitude=%{lat}<br>latitude=%{lon}<extra></extra>",
           "hovertext": [
            "Assam",
            "Meghalaya",
            "Sikkim",
            "Tripura"
           ],
           "lat": [
            26.2006,
            25.467,
            27.533,
            23.9408
           ],
           "legendgroup": "Northeast",
           "lon": [
            92.9376,
            91.3662,
            88.5122,
            91.9882
           ],
           "marker": {
            "color": "#EF553B",
            "size": [
             0.6,
             1.15,
             4.46,
             21.71
            ],
            "sizemode": "area",
            "sizeref": 0.189625,
            "symbol": "circle"
           },
           "mode": "markers",
           "name": "Northeast",
           "showlegend": true,
           "type": "scattergeo"
          },
          {
           "geo": "geo",
           "hovertemplate": "<b>%{hovertext}</b><br><br>region=East<br>month_int=6<br>estimated unemployment rate=%{marker.size}<br>longitude=%{lat}<br>latitude=%{lon}<extra></extra>",
           "hovertext": [
            "Bihar",
            "Jharkhand",
            "Odisha",
            "West Bengal"
           ],
           "lat": [
            25.0961,
            23.6102,
            20.9517,
            22.9868
           ],
           "legendgroup": "East",
           "lon": [
            85.3131,
            85.2799,
            85.0985,
            87.855
           ],
           "marker": {
            "color": "#00cc96",
            "size": [
             17.82,
             20.95,
             3.77,
             7.29
            ],
            "sizemode": "area",
            "sizeref": 0.189625,
            "symbol": "circle"
           },
           "mode": "markers",
           "name": "East",
           "showlegend": true,
           "type": "scattergeo"
          },
          {
           "geo": "geo",
           "hovertemplate": "<b>%{hovertext}</b><br><br>region=West<br>month_int=6<br>estimated unemployment rate=%{marker.size}<br>longitude=%{lat}<br>latitude=%{lon}<extra></extra>",
           "hovertext": [
            "Chhattisgarh",
            "Goa",
            "Gujarat",
            "Madhya Pradesh",
            "Maharashtra"
           ],
           "lat": [
            21.2787,
            15.2993,
            22.2587,
            22.9734,
            19.7515
           ],
           "legendgroup": "West",
           "lon": [
            81.8661,
            74.124,
            71.1924,
            78.6569,
            75.7139
           ],
           "marker": {
            "color": "#ab63fa",
            "size": [
             14.23,
             9.96,
             3.2,
             6.48,
             9.23
            ],
            "sizemode": "area",
            "sizeref": 0.189625,
            "symbol": "circle"
           },
           "mode": "markers",
           "name": "West",
           "showlegend": true,
           "type": "scattergeo"
          },
          {
           "geo": "geo",
           "hovertemplate": "<b>%{hovertext}</b><br><br>region=North<br>month_int=6<br>estimated unemployment rate=%{marker.size}<br>longitude=%{lat}<br>latitude=%{lon}<extra></extra>",
           "hovertext": [
            "Delhi",
            "Haryana",
            "Himachal Pradesh",
            "Jammu & Kashmir",
            "Punjab",
            "Rajasthan",
            "Uttar Pradesh",
            "Uttarakhand"
           ],
           "lat": [
            28.7041,
            29.0588,
            31.1048,
            33.7782,
            31.1471,
            27.0238,
            26.8467,
            30.0668
           ],
           "legendgroup": "North",
           "lon": [
            77.1025,
            76.0856,
            77.1734,
            76.5762,
            75.3412,
            74.2179,
            80.9462,
            79.0193
           ],
           "marker": {
            "color": "#FFA15A",
            "size": [
             18.19,
             26.7,
             13.47,
             17.92,
             16.55,
             14.39,
             9.47,
             8.61
            ],
            "sizemode": "area",
            "sizeref": 0.189625,
            "symbol": "circle"
           },
           "mode": "markers",
           "name": "North",
           "showlegend": true,
           "type": "scattergeo"
          }
         ],
         "name": "6"
        },
        {
         "data": [
          {
           "geo": "geo",
           "hovertemplate": "<b>%{hovertext}</b><br><br>region=South<br>month_int=7<br>estimated unemployment rate=%{marker.size}<br>longitude=%{lat}<br>latitude=%{lon}<extra></extra>",
           "hovertext": [
            "Andhra Pradesh",
            "Karnataka",
            "Kerala",
            "Puducherry",
            "Tamil Nadu",
            "Telangana"
           ],
           "lat": [
            15.9129,
            15.3173,
            10.8505,
            11.9416,
            11.1271,
            18.1124
           ],
           "legendgroup": "South",
           "lon": [
            79.74,
            75.7139,
            76.2711,
            79.8083,
            78.6569,
            79.0193
           ],
           "marker": {
            "color": "#636efa",
            "size": [
             8.34,
             4.01,
             7.09,
             15.47,
             6.81,
             5.36
            ],
            "sizemode": "area",
            "sizeref": 0.189625,
            "symbol": "circle"
           },
           "mode": "markers",
           "name": "South",
           "showlegend": true,
           "type": "scattergeo"
          },
          {
           "geo": "geo",
           "hovertemplate": "<b>%{hovertext}</b><br><br>region=Northeast<br>month_int=7<br>estimated unemployment rate=%{marker.size}<br>longitude=%{lat}<br>latitude=%{lon}<extra></extra>",
           "hovertext": [
            "Assam",
            "Meghalaya",
            "Sikkim",
            "Tripura"
           ],
           "lat": [
            26.2006,
            25.467,
            27.533,
            23.9408
           ],
           "legendgroup": "Northeast",
           "lon": [
            92.9376,
            91.3662,
            88.5122,
            91.9882
           ],
           "marker": {
            "color": "#EF553B",
            "size": [
             3.77,
             2.1,
             4.45,
             18.24
            ],
            "sizemode": "area",
            "sizeref": 0.189625,
            "symbol": "circle"
           },
           "mode": "markers",
           "name": "Northeast",
           "showlegend": true,
           "type": "scattergeo"
          },
          {
           "geo": "geo",
           "hovertemplate": "<b>%{hovertext}</b><br><br>region=East<br>month_int=7<br>estimated unemployment rate=%{marker.size}<br>longitude=%{lat}<br>latitude=%{lon}<extra></extra>",
           "hovertext": [
            "Bihar",
            "Jharkhand",
            "Odisha",
            "West Bengal"
           ],
           "lat": [
            25.0961,
            23.6102,
            20.9517,
            22.9868
           ],
           "legendgroup": "East",
           "lon": [
            85.3131,
            85.2799,
            85.0985,
            87.855
           ],
           "marker": {
            "color": "#00cc96",
            "size": [
             12.79,
             7.63,
             1.88,
             6.83
            ],
            "sizemode": "area",
            "sizeref": 0.189625,
            "symbol": "circle"
           },
           "mode": "markers",
           "name": "East",
           "showlegend": true,
           "type": "scattergeo"
          },
          {
           "geo": "geo",
           "hovertemplate": "<b>%{hovertext}</b><br><br>region=West<br>month_int=7<br>estimated unemployment rate=%{marker.size}<br>longitude=%{lat}<br>latitude=%{lon}<extra></extra>",
           "hovertext": [
            "Chhattisgarh",
            "Goa",
            "Gujarat",
            "Madhya Pradesh",
            "Maharashtra"
           ],
           "lat": [
            21.2787,
            15.2993,
            22.2587,
            22.9734,
            19.7515
           ],
           "legendgroup": "West",
           "lon": [
            81.8661,
            74.124,
            71.1924,
            78.6569,
            75.7139
           ],
           "marker": {
            "color": "#ab63fa",
            "size": [
             10.27,
             17.07,
             1.84,
             5.08,
             3.89
            ],
            "sizemode": "area",
            "sizeref": 0.189625,
            "symbol": "circle"
           },
           "mode": "markers",
           "name": "West",
           "showlegend": true,
           "type": "scattergeo"
          },
          {
           "geo": "geo",
           "hovertemplate": "<b>%{hovertext}</b><br><br>region=North<br>month_int=7<br>estimated unemployment rate=%{marker.size}<br>longitude=%{lat}<br>latitude=%{lon}<extra></extra>",
           "hovertext": [
            "Delhi",
            "Haryana",
            "Himachal Pradesh",
            "Jammu & Kashmir",
            "Punjab",
            "Rajasthan",
            "Uttar Pradesh",
            "Uttarakhand"
           ],
           "lat": [
            28.7041,
            29.0588,
            31.1048,
            33.7782,
            31.1471,
            27.0238,
            26.8467,
            30.0668
           ],
           "legendgroup": "North",
           "lon": [
            77.1025,
            76.0856,
            77.1734,
            76.5762,
            75.3412,
            74.2179,
            80.9462,
            79.0193
           ],
           "marker": {
            "color": "#FFA15A",
            "size": [
             20.3,
             24.18,
             24.31,
             10.88,
             9.19,
             15.81,
             5.56,
             12.38
            ],
            "sizemode": "area",
            "sizeref": 0.189625,
            "symbol": "circle"
           },
           "mode": "markers",
           "name": "North",
           "showlegend": true,
           "type": "scattergeo"
          }
         ],
         "name": "7"
        },
        {
         "data": [
          {
           "geo": "geo",
           "hovertemplate": "<b>%{hovertext}</b><br><br>region=South<br>month_int=8<br>estimated unemployment rate=%{marker.size}<br>longitude=%{lat}<br>latitude=%{lon}<extra></extra>",
           "hovertext": [
            "Andhra Pradesh",
            "Karnataka",
            "Kerala",
            "Puducherry",
            "Tamil Nadu",
            "Telangana"
           ],
           "lat": [
            15.9129,
            15.3173,
            10.8505,
            11.9416,
            11.1271,
            18.1124
           ],
           "legendgroup": "South",
           "lon": [
            79.74,
            75.7139,
            76.2711,
            79.8083,
            78.6569,
            79.0193
           ],
           "marker": {
            "color": "#636efa",
            "size": [
             6.96,
             0.5,
             10.98,
             5.05,
             2.65,
             5.79
            ],
            "sizemode": "area",
            "sizeref": 0.189625,
            "symbol": "circle"
           },
           "mode": "markers",
           "name": "South",
           "showlegend": true,
           "type": "scattergeo"
          },
          {
           "geo": "geo",
           "hovertemplate": "<b>%{hovertext}</b><br><br>region=Northeast<br>month_int=8<br>estimated unemployment rate=%{marker.size}<br>longitude=%{lat}<br>latitude=%{lon}<extra></extra>",
           "hovertext": [
            "Assam",
            "Meghalaya",
            "Sikkim",
            "Tripura"
           ],
           "lat": [
            26.2006,
            25.467,
            27.533,
            23.9408
           ],
           "legendgroup": "Northeast",
           "lon": [
            92.9376,
            91.3662,
            88.5122,
            91.9882
           ],
           "marker": {
            "color": "#EF553B",
            "size": [
             5.53,
             3.74,
             12.49,
             27.92
            ],
            "sizemode": "area",
            "sizeref": 0.189625,
            "symbol": "circle"
           },
           "mode": "markers",
           "name": "Northeast",
           "showlegend": true,
           "type": "scattergeo"
          },
          {
           "geo": "geo",
           "hovertemplate": "<b>%{hovertext}</b><br><br>region=East<br>month_int=8<br>estimated unemployment rate=%{marker.size}<br>longitude=%{lat}<br>latitude=%{lon}<extra></extra>",
           "hovertext": [
            "Bihar",
            "Jharkhand",
            "Odisha",
            "West Bengal"
           ],
           "lat": [
            25.0961,
            23.6102,
            20.9517,
            22.9868
           ],
           "legendgroup": "East",
           "lon": [
            85.3131,
            85.2799,
            85.0985,
            87.855
           ],
           "marker": {
            "color": "#00cc96",
            "size": [
             13.44,
             9.76,
             1.42,
             14.87
            ],
            "sizemode": "area",
            "sizeref": 0.189625,
            "symbol": "circle"
           },
           "mode": "markers",
           "name": "East",
           "showlegend": true,
           "type": "scattergeo"
          },
          {
           "geo": "geo",
           "hovertemplate": "<b>%{hovertext}</b><br><br>region=West<br>month_int=8<br>estimated unemployment rate=%{marker.size}<br>longitude=%{lat}<br>latitude=%{lon}<extra></extra>",
           "hovertext": [
            "Chhattisgarh",
            "Goa",
            "Gujarat",
            "Madhya Pradesh",
            "Maharashtra"
           ],
           "lat": [
            21.2787,
            15.2993,
            22.2587,
            22.9734,
            19.7515
           ],
           "legendgroup": "West",
           "lon": [
            81.8661,
            74.124,
            71.1924,
            78.6569,
            75.7139
           ],
           "marker": {
            "color": "#ab63fa",
            "size": [
             5.63,
             16.21,
             1.87,
             4.7,
             6.23
            ],
            "sizemode": "area",
            "sizeref": 0.189625,
            "symbol": "circle"
           },
           "mode": "markers",
           "name": "West",
           "showlegend": true,
           "type": "scattergeo"
          },
          {
           "geo": "geo",
           "hovertemplate": "<b>%{hovertext}</b><br><br>region=North<br>month_int=8<br>estimated unemployment rate=%{marker.size}<br>longitude=%{lat}<br>latitude=%{lon}<extra></extra>",
           "hovertext": [
            "Delhi",
            "Haryana",
            "Himachal Pradesh",
            "Jammu & Kashmir",
            "Punjab",
            "Rajasthan",
            "Uttar Pradesh",
            "Uttarakhand"
           ],
           "lat": [
            28.7041,
            29.0588,
            31.1048,
            33.7782,
            31.1471,
            27.0238,
            26.8467,
            30.0668
           ],
           "legendgroup": "North",
           "lon": [
            77.1025,
            76.0856,
            77.1734,
            76.5762,
            75.3412,
            74.2179,
            80.9462,
            79.0193
           ],
           "marker": {
            "color": "#FFA15A",
            "size": [
             13.79,
             33.5,
             15.79,
             11.09,
             10.99,
             17.51,
             5.79,
             14.26
            ],
            "sizemode": "area",
            "sizeref": 0.189625,
            "symbol": "circle"
           },
           "mode": "markers",
           "name": "North",
           "showlegend": true,
           "type": "scattergeo"
          }
         ],
         "name": "8"
        },
        {
         "data": [
          {
           "geo": "geo",
           "hovertemplate": "<b>%{hovertext}</b><br><br>region=South<br>month_int=9<br>estimated unemployment rate=%{marker.size}<br>longitude=%{lat}<br>latitude=%{lon}<extra></extra>",
           "hovertext": [
            "Andhra Pradesh",
            "Karnataka",
            "Kerala",
            "Puducherry",
            "Tamil Nadu",
            "Telangana"
           ],
           "lat": [
            15.9129,
            15.3173,
            10.8505,
            11.9416,
            11.1271,
            18.1124
           ],
           "legendgroup": "South",
           "lon": [
            79.74,
            75.7139,
            76.2711,
            79.8083,
            78.6569,
            79.0193
           ],
           "marker": {
            "color": "#636efa",
            "size": [
             6.4,
             2.41,
             5.91,
             10.9,
             5,
             3.27
            ],
            "sizemode": "area",
            "sizeref": 0.189625,
            "symbol": "circle"
           },
           "mode": "markers",
           "name": "South",
           "showlegend": true,
           "type": "scattergeo"
          },
          {
           "geo": "geo",
           "hovertemplate": "<b>%{hovertext}</b><br><br>region=Northeast<br>month_int=9<br>estimated unemployment rate=%{marker.size}<br>longitude=%{lat}<br>latitude=%{lon}<extra></extra>",
           "hovertext": [
            "Assam",
            "Meghalaya",
            "Sikkim",
            "Tripura"
           ],
           "lat": [
            26.2006,
            25.467,
            27.533,
            23.9408
           ],
           "legendgroup": "Northeast",
           "lon": [
            92.9376,
            91.3662,
            88.5122,
            91.9882
           ],
           "marker": {
            "color": "#EF553B",
            "size": [
             1.19,
             4.29,
             5.7,
             17.35
            ],
            "sizemode": "area",
            "sizeref": 0.189625,
            "symbol": "circle"
           },
           "mode": "markers",
           "name": "Northeast",
           "showlegend": true,
           "type": "scattergeo"
          },
          {
           "geo": "geo",
           "hovertemplate": "<b>%{hovertext}</b><br><br>region=East<br>month_int=9<br>estimated unemployment rate=%{marker.size}<br>longitude=%{lat}<br>latitude=%{lon}<extra></extra>",
           "hovertext": [
            "Bihar",
            "Jharkhand",
            "Odisha",
            "West Bengal"
           ],
           "lat": [
            25.0961,
            23.6102,
            20.9517,
            22.9868
           ],
           "legendgroup": "East",
           "lon": [
            85.3131,
            85.2799,
            85.0985,
            87.855
           ],
           "marker": {
            "color": "#00cc96",
            "size": [
             11.91,
             8.24,
             2.1,
             9.35
            ],
            "sizemode": "area",
            "sizeref": 0.189625,
            "symbol": "circle"
           },
           "mode": "markers",
           "name": "East",
           "showlegend": true,
           "type": "scattergeo"
          },
          {
           "geo": "geo",
           "hovertemplate": "<b>%{hovertext}</b><br><br>region=West<br>month_int=9<br>estimated unemployment rate=%{marker.size}<br>longitude=%{lat}<br>latitude=%{lon}<extra></extra>",
           "hovertext": [
            "Chhattisgarh",
            "Goa",
            "Gujarat",
            "Madhya Pradesh",
            "Maharashtra"
           ],
           "lat": [
            21.2787,
            15.2993,
            22.2587,
            22.9734,
            19.7515
           ],
           "legendgroup": "West",
           "lon": [
            81.8661,
            74.124,
            71.1924,
            78.6569,
            75.7139
           ],
           "marker": {
            "color": "#ab63fa",
            "size": [
             1.96,
             15.38,
             3.42,
             3.91,
             4.55
            ],
            "sizemode": "area",
            "sizeref": 0.189625,
            "symbol": "circle"
           },
           "mode": "markers",
           "name": "West",
           "showlegend": true,
           "type": "scattergeo"
          },
          {
           "geo": "geo",
           "hovertemplate": "<b>%{hovertext}</b><br><br>region=North<br>month_int=9<br>estimated unemployment rate=%{marker.size}<br>longitude=%{lat}<br>latitude=%{lon}<extra></extra>",
           "hovertext": [
            "Delhi",
            "Haryana",
            "Himachal Pradesh",
            "Jammu & Kashmir",
            "Punjab",
            "Rajasthan",
            "Uttar Pradesh",
            "Uttarakhand"
           ],
           "lat": [
            28.7041,
            29.0588,
            31.1048,
            33.7782,
            31.1471,
            27.0238,
            26.8467,
            30.0668
           ],
           "legendgroup": "North",
           "lon": [
            77.1025,
            76.0856,
            77.1734,
            76.5762,
            75.3412,
            74.2179,
            80.9462,
            79.0193
           ],
           "marker": {
            "color": "#FFA15A",
            "size": [
             12.53,
             19.68,
             12.04,
             16.17,
             9.61,
             15.35,
             4.18,
             22.26
            ],
            "sizemode": "area",
            "sizeref": 0.189625,
            "symbol": "circle"
           },
           "mode": "markers",
           "name": "North",
           "showlegend": true,
           "type": "scattergeo"
          }
         ],
         "name": "9"
        },
        {
         "data": [
          {
           "geo": "geo",
           "hovertemplate": "<b>%{hovertext}</b><br><br>region=South<br>month_int=10<br>estimated unemployment rate=%{marker.size}<br>longitude=%{lat}<br>latitude=%{lon}<extra></extra>",
           "hovertext": [
            "Andhra Pradesh",
            "Karnataka",
            "Kerala",
            "Puducherry",
            "Tamil Nadu",
            "Telangana"
           ],
           "lat": [
            15.9129,
            15.3173,
            10.8505,
            11.9416,
            11.1271,
            18.1124
           ],
           "legendgroup": "South",
           "lon": [
            79.74,
            75.7139,
            76.2711,
            79.8083,
            78.6569,
            79.0193
           ],
           "marker": {
            "color": "#636efa",
            "size": [
             6.59,
             1.58,
             3.88,
             6.18,
             2.16,
             2.86
            ],
            "sizemode": "area",
            "sizeref": 0.189625,
            "symbol": "circle"
           },
           "mode": "markers",
           "name": "South",
           "showlegend": true,
           "type": "scattergeo"
          },
          {
           "geo": "geo",
           "hovertemplate": "<b>%{hovertext}</b><br><br>region=Northeast<br>month_int=10<br>estimated unemployment rate=%{marker.size}<br>longitude=%{lat}<br>latitude=%{lon}<extra></extra>",
           "hovertext": [
            "Assam",
            "Meghalaya",
            "Sikkim",
            "Tripura"
           ],
           "lat": [
            26.2006,
            25.467,
            27.533,
            23.9408
           ],
           "legendgroup": "Northeast",
           "lon": [
            92.9376,
            91.3662,
            88.5122,
            91.9882
           ],
           "marker": {
            "color": "#EF553B",
            "size": [
             3.02,
             4.6,
             0.88,
             11.57
            ],
            "sizemode": "area",
            "sizeref": 0.189625,
            "symbol": "circle"
           },
           "mode": "markers",
           "name": "Northeast",
           "showlegend": true,
           "type": "scattergeo"
          },
          {
           "geo": "geo",
           "hovertemplate": "<b>%{hovertext}</b><br><br>region=East<br>month_int=10<br>estimated unemployment rate=%{marker.size}<br>longitude=%{lat}<br>latitude=%{lon}<extra></extra>",
           "hovertext": [
            "Bihar",
            "Jharkhand",
            "Odisha",
            "West Bengal"
           ],
           "lat": [
            25.0961,
            23.6102,
            20.9517,
            22.9868
           ],
           "legendgroup": "East",
           "lon": [
            85.3131,
            85.2799,
            85.0985,
            87.855
           ],
           "marker": {
            "color": "#00cc96",
            "size": [
             9.82,
             11.8,
             2.18,
             9.98
            ],
            "sizemode": "area",
            "sizeref": 0.189625,
            "symbol": "circle"
           },
           "mode": "markers",
           "name": "East",
           "showlegend": true,
           "type": "scattergeo"
          },
          {
           "geo": "geo",
           "hovertemplate": "<b>%{hovertext}</b><br><br>region=West<br>month_int=10<br>estimated unemployment rate=%{marker.size}<br>longitude=%{lat}<br>latitude=%{lon}<extra></extra>",
           "hovertext": [
            "Chhattisgarh",
            "Goa",
            "Gujarat",
            "Madhya Pradesh",
            "Maharashtra"
           ],
           "lat": [
            21.2787,
            15.2993,
            22.2587,
            22.9734,
            19.7515
           ],
           "legendgroup": "West",
           "lon": [
            81.8661,
            74.124,
            71.1924,
            78.6569,
            75.7139
           ],
           "marker": {
            "color": "#ab63fa",
            "size": [
             6.62,
             11.54,
             4.03,
             3.13,
             4.1
            ],
            "sizemode": "area",
            "sizeref": 0.189625,
            "symbol": "circle"
           },
           "mode": "markers",
           "name": "West",
           "showlegend": true,
           "type": "scattergeo"
          },
          {
           "geo": "geo",
           "hovertemplate": "<b>%{hovertext}</b><br><br>region=North<br>month_int=10<br>estimated unemployment rate=%{marker.size}<br>longitude=%{lat}<br>latitude=%{lon}<extra></extra>",
           "hovertext": [
            "Delhi",
            "Haryana",
            "Himachal Pradesh",
            "Jammu & Kashmir",
            "Punjab",
            "Rajasthan",
            "Uttar Pradesh",
            "Uttarakhand"
           ],
           "lat": [
            28.7041,
            29.0588,
            31.1048,
            33.7782,
            31.1471,
            27.0238,
            26.8467,
            30.0668
           ],
           "legendgroup": "North",
           "lon": [
            77.1025,
            76.0856,
            77.1734,
            76.5762,
            75.3412,
            74.2179,
            80.9462,
            79.0193
           ],
           "marker": {
            "color": "#FFA15A",
            "size": [
             6.27,
             27.31,
             13.46,
             16.14,
             9.88,
             24.15,
             3.75,
             9.23
            ],
            "sizemode": "area",
            "sizeref": 0.189625,
            "symbol": "circle"
           },
           "mode": "markers",
           "name": "North",
           "showlegend": true,
           "type": "scattergeo"
          }
         ],
         "name": "10"
        }
       ],
       "layout": {
        "geo": {
         "center": {},
         "domain": {
          "x": [
           0,
           1
          ],
          "y": [
           0,
           1
          ]
         },
         "lataxis": {
          "range": [
           5,
           35
          ]
         },
         "lonaxis": {
          "range": [
           65,
           100
          ]
         },
         "oceancolor": "#6dd5ed",
         "scope": "asia",
         "showocean": true
        },
        "legend": {
         "itemsizing": "constant",
         "title": {
          "text": "region"
         },
         "tracegroupgap": 0
        },
        "sliders": [
         {
          "active": 0,
          "currentvalue": {
           "prefix": "month_int="
          },
          "len": 0.9,
          "pad": {
           "b": 10,
           "t": 60
          },
          "steps": [
           {
            "args": [
             [
              "1"
             ],
             {
              "frame": {
               "duration": 0,
               "redraw": true
              },
              "fromcurrent": true,
              "mode": "immediate",
              "transition": {
               "duration": 0,
               "easing": "linear"
              }
             }
            ],
            "label": "1",
            "method": "animate"
           },
           {
            "args": [
             [
              "2"
             ],
             {
              "frame": {
               "duration": 0,
               "redraw": true
              },
              "fromcurrent": true,
              "mode": "immediate",
              "transition": {
               "duration": 0,
               "easing": "linear"
              }
             }
            ],
            "label": "2",
            "method": "animate"
           },
           {
            "args": [
             [
              "3"
             ],
             {
              "frame": {
               "duration": 0,
               "redraw": true
              },
              "fromcurrent": true,
              "mode": "immediate",
              "transition": {
               "duration": 0,
               "easing": "linear"
              }
             }
            ],
            "label": "3",
            "method": "animate"
           },
           {
            "args": [
             [
              "4"
             ],
             {
              "frame": {
               "duration": 0,
               "redraw": true
              },
              "fromcurrent": true,
              "mode": "immediate",
              "transition": {
               "duration": 0,
               "easing": "linear"
              }
             }
            ],
            "label": "4",
            "method": "animate"
           },
           {
            "args": [
             [
              "5"
             ],
             {
              "frame": {
               "duration": 0,
               "redraw": true
              },
              "fromcurrent": true,
              "mode": "immediate",
              "transition": {
               "duration": 0,
               "easing": "linear"
              }
             }
            ],
            "label": "5",
            "method": "animate"
           },
           {
            "args": [
             [
              "6"
             ],
             {
              "frame": {
               "duration": 0,
               "redraw": true
              },
              "fromcurrent": true,
              "mode": "immediate",
              "transition": {
               "duration": 0,
               "easing": "linear"
              }
             }
            ],
            "label": "6",
            "method": "animate"
           },
           {
            "args": [
             [
              "7"
             ],
             {
              "frame": {
               "duration": 0,
               "redraw": true
              },
              "fromcurrent": true,
              "mode": "immediate",
              "transition": {
               "duration": 0,
               "easing": "linear"
              }
             }
            ],
            "label": "7",
            "method": "animate"
           },
           {
            "args": [
             [
              "8"
             ],
             {
              "frame": {
               "duration": 0,
               "redraw": true
              },
              "fromcurrent": true,
              "mode": "immediate",
              "transition": {
               "duration": 0,
               "easing": "linear"
              }
             }
            ],
            "label": "8",
            "method": "animate"
           },
           {
            "args": [
             [
              "9"
             ],
             {
              "frame": {
               "duration": 0,
               "redraw": true
              },
              "fromcurrent": true,
              "mode": "immediate",
              "transition": {
               "duration": 0,
               "easing": "linear"
              }
             }
            ],
            "label": "9",
            "method": "animate"
           },
           {
            "args": [
             [
              "10"
             ],
             {
              "frame": {
               "duration": 0,
               "redraw": true
              },
              "fromcurrent": true,
              "mode": "immediate",
              "transition": {
               "duration": 0,
               "easing": "linear"
              }
             }
            ],
            "label": "10",
            "method": "animate"
           }
          ],
          "x": 0.1,
          "xanchor": "left",
          "y": 0,
          "yanchor": "top"
         }
        ],
        "template": {
         "data": {
          "bar": [
           {
            "error_x": {
             "color": "#2a3f5f"
            },
            "error_y": {
             "color": "#2a3f5f"
            },
            "marker": {
             "line": {
              "color": "#E5ECF6",
              "width": 0.5
             },
             "pattern": {
              "fillmode": "overlay",
              "size": 10,
              "solidity": 0.2
             }
            },
            "type": "bar"
           }
          ],
          "barpolar": [
           {
            "marker": {
             "line": {
              "color": "#E5ECF6",
              "width": 0.5
             },
             "pattern": {
              "fillmode": "overlay",
              "size": 10,
              "solidity": 0.2
             }
            },
            "type": "barpolar"
           }
          ],
          "carpet": [
           {
            "aaxis": {
             "endlinecolor": "#2a3f5f",
             "gridcolor": "white",
             "linecolor": "white",
             "minorgridcolor": "white",
             "startlinecolor": "#2a3f5f"
            },
            "baxis": {
             "endlinecolor": "#2a3f5f",
             "gridcolor": "white",
             "linecolor": "white",
             "minorgridcolor": "white",
             "startlinecolor": "#2a3f5f"
            },
            "type": "carpet"
           }
          ],
          "choropleth": [
           {
            "colorbar": {
             "outlinewidth": 0,
             "ticks": ""
            },
            "type": "choropleth"
           }
          ],
          "contour": [
           {
            "colorbar": {
             "outlinewidth": 0,
             "ticks": ""
            },
            "colorscale": [
             [
              0,
              "#0d0887"
             ],
             [
              0.1111111111111111,
              "#46039f"
             ],
             [
              0.2222222222222222,
              "#7201a8"
             ],
             [
              0.3333333333333333,
              "#9c179e"
             ],
             [
              0.4444444444444444,
              "#bd3786"
             ],
             [
              0.5555555555555556,
              "#d8576b"
             ],
             [
              0.6666666666666666,
              "#ed7953"
             ],
             [
              0.7777777777777778,
              "#fb9f3a"
             ],
             [
              0.8888888888888888,
              "#fdca26"
             ],
             [
              1,
              "#f0f921"
             ]
            ],
            "type": "contour"
           }
          ],
          "contourcarpet": [
           {
            "colorbar": {
             "outlinewidth": 0,
             "ticks": ""
            },
            "type": "contourcarpet"
           }
          ],
          "heatmap": [
           {
            "colorbar": {
             "outlinewidth": 0,
             "ticks": ""
            },
            "colorscale": [
             [
              0,
              "#0d0887"
             ],
             [
              0.1111111111111111,
              "#46039f"
             ],
             [
              0.2222222222222222,
              "#7201a8"
             ],
             [
              0.3333333333333333,
              "#9c179e"
             ],
             [
              0.4444444444444444,
              "#bd3786"
             ],
             [
              0.5555555555555556,
              "#d8576b"
             ],
             [
              0.6666666666666666,
              "#ed7953"
             ],
             [
              0.7777777777777778,
              "#fb9f3a"
             ],
             [
              0.8888888888888888,
              "#fdca26"
             ],
             [
              1,
              "#f0f921"
             ]
            ],
            "type": "heatmap"
           }
          ],
          "heatmapgl": [
           {
            "colorbar": {
             "outlinewidth": 0,
             "ticks": ""
            },
            "colorscale": [
             [
              0,
              "#0d0887"
             ],
             [
              0.1111111111111111,
              "#46039f"
             ],
             [
              0.2222222222222222,
              "#7201a8"
             ],
             [
              0.3333333333333333,
              "#9c179e"
             ],
             [
              0.4444444444444444,
              "#bd3786"
             ],
             [
              0.5555555555555556,
              "#d8576b"
             ],
             [
              0.6666666666666666,
              "#ed7953"
             ],
             [
              0.7777777777777778,
              "#fb9f3a"
             ],
             [
              0.8888888888888888,
              "#fdca26"
             ],
             [
              1,
              "#f0f921"
             ]
            ],
            "type": "heatmapgl"
           }
          ],
          "histogram": [
           {
            "marker": {
             "pattern": {
              "fillmode": "overlay",
              "size": 10,
              "solidity": 0.2
             }
            },
            "type": "histogram"
           }
          ],
          "histogram2d": [
           {
            "colorbar": {
             "outlinewidth": 0,
             "ticks": ""
            },
            "colorscale": [
             [
              0,
              "#0d0887"
             ],
             [
              0.1111111111111111,
              "#46039f"
             ],
             [
              0.2222222222222222,
              "#7201a8"
             ],
             [
              0.3333333333333333,
              "#9c179e"
             ],
             [
              0.4444444444444444,
              "#bd3786"
             ],
             [
              0.5555555555555556,
              "#d8576b"
             ],
             [
              0.6666666666666666,
              "#ed7953"
             ],
             [
              0.7777777777777778,
              "#fb9f3a"
             ],
             [
              0.8888888888888888,
              "#fdca26"
             ],
             [
              1,
              "#f0f921"
             ]
            ],
            "type": "histogram2d"
           }
          ],
          "histogram2dcontour": [
           {
            "colorbar": {
             "outlinewidth": 0,
             "ticks": ""
            },
            "colorscale": [
             [
              0,
              "#0d0887"
             ],
             [
              0.1111111111111111,
              "#46039f"
             ],
             [
              0.2222222222222222,
              "#7201a8"
             ],
             [
              0.3333333333333333,
              "#9c179e"
             ],
             [
              0.4444444444444444,
              "#bd3786"
             ],
             [
              0.5555555555555556,
              "#d8576b"
             ],
             [
              0.6666666666666666,
              "#ed7953"
             ],
             [
              0.7777777777777778,
              "#fb9f3a"
             ],
             [
              0.8888888888888888,
              "#fdca26"
             ],
             [
              1,
              "#f0f921"
             ]
            ],
            "type": "histogram2dcontour"
           }
          ],
          "mesh3d": [
           {
            "colorbar": {
             "outlinewidth": 0,
             "ticks": ""
            },
            "type": "mesh3d"
           }
          ],
          "parcoords": [
           {
            "line": {
             "colorbar": {
              "outlinewidth": 0,
              "ticks": ""
             }
            },
            "type": "parcoords"
           }
          ],
          "pie": [
           {
            "automargin": true,
            "type": "pie"
           }
          ],
          "scatter": [
           {
            "fillpattern": {
             "fillmode": "overlay",
             "size": 10,
             "solidity": 0.2
            },
            "type": "scatter"
           }
          ],
          "scatter3d": [
           {
            "line": {
             "colorbar": {
              "outlinewidth": 0,
              "ticks": ""
             }
            },
            "marker": {
             "colorbar": {
              "outlinewidth": 0,
              "ticks": ""
             }
            },
            "type": "scatter3d"
           }
          ],
          "scattercarpet": [
           {
            "marker": {
             "colorbar": {
              "outlinewidth": 0,
              "ticks": ""
             }
            },
            "type": "scattercarpet"
           }
          ],
          "scattergeo": [
           {
            "marker": {
             "colorbar": {
              "outlinewidth": 0,
              "ticks": ""
             }
            },
            "type": "scattergeo"
           }
          ],
          "scattergl": [
           {
            "marker": {
             "colorbar": {
              "outlinewidth": 0,
              "ticks": ""
             }
            },
            "type": "scattergl"
           }
          ],
          "scattermapbox": [
           {
            "marker": {
             "colorbar": {
              "outlinewidth": 0,
              "ticks": ""
             }
            },
            "type": "scattermapbox"
           }
          ],
          "scatterpolar": [
           {
            "marker": {
             "colorbar": {
              "outlinewidth": 0,
              "ticks": ""
             }
            },
            "type": "scatterpolar"
           }
          ],
          "scatterpolargl": [
           {
            "marker": {
             "colorbar": {
              "outlinewidth": 0,
              "ticks": ""
             }
            },
            "type": "scatterpolargl"
           }
          ],
          "scatterternary": [
           {
            "marker": {
             "colorbar": {
              "outlinewidth": 0,
              "ticks": ""
             }
            },
            "type": "scatterternary"
           }
          ],
          "surface": [
           {
            "colorbar": {
             "outlinewidth": 0,
             "ticks": ""
            },
            "colorscale": [
             [
              0,
              "#0d0887"
             ],
             [
              0.1111111111111111,
              "#46039f"
             ],
             [
              0.2222222222222222,
              "#7201a8"
             ],
             [
              0.3333333333333333,
              "#9c179e"
             ],
             [
              0.4444444444444444,
              "#bd3786"
             ],
             [
              0.5555555555555556,
              "#d8576b"
             ],
             [
              0.6666666666666666,
              "#ed7953"
             ],
             [
              0.7777777777777778,
              "#fb9f3a"
             ],
             [
              0.8888888888888888,
              "#fdca26"
             ],
             [
              1,
              "#f0f921"
             ]
            ],
            "type": "surface"
           }
          ],
          "table": [
           {
            "cells": {
             "fill": {
              "color": "#EBF0F8"
             },
             "line": {
              "color": "white"
             }
            },
            "header": {
             "fill": {
              "color": "#C8D4E3"
             },
             "line": {
              "color": "white"
             }
            },
            "type": "table"
           }
          ]
         },
         "layout": {
          "annotationdefaults": {
           "arrowcolor": "#2a3f5f",
           "arrowhead": 0,
           "arrowwidth": 1
          },
          "autotypenumbers": "strict",
          "coloraxis": {
           "colorbar": {
            "outlinewidth": 0,
            "ticks": ""
           }
          },
          "colorscale": {
           "diverging": [
            [
             0,
             "#8e0152"
            ],
            [
             0.1,
             "#c51b7d"
            ],
            [
             0.2,
             "#de77ae"
            ],
            [
             0.3,
             "#f1b6da"
            ],
            [
             0.4,
             "#fde0ef"
            ],
            [
             0.5,
             "#f7f7f7"
            ],
            [
             0.6,
             "#e6f5d0"
            ],
            [
             0.7,
             "#b8e186"
            ],
            [
             0.8,
             "#7fbc41"
            ],
            [
             0.9,
             "#4d9221"
            ],
            [
             1,
             "#276419"
            ]
           ],
           "sequential": [
            [
             0,
             "#0d0887"
            ],
            [
             0.1111111111111111,
             "#46039f"
            ],
            [
             0.2222222222222222,
             "#7201a8"
            ],
            [
             0.3333333333333333,
             "#9c179e"
            ],
            [
             0.4444444444444444,
             "#bd3786"
            ],
            [
             0.5555555555555556,
             "#d8576b"
            ],
            [
             0.6666666666666666,
             "#ed7953"
            ],
            [
             0.7777777777777778,
             "#fb9f3a"
            ],
            [
             0.8888888888888888,
             "#fdca26"
            ],
            [
             1,
             "#f0f921"
            ]
           ],
           "sequentialminus": [
            [
             0,
             "#0d0887"
            ],
            [
             0.1111111111111111,
             "#46039f"
            ],
            [
             0.2222222222222222,
             "#7201a8"
            ],
            [
             0.3333333333333333,
             "#9c179e"
            ],
            [
             0.4444444444444444,
             "#bd3786"
            ],
            [
             0.5555555555555556,
             "#d8576b"
            ],
            [
             0.6666666666666666,
             "#ed7953"
            ],
            [
             0.7777777777777778,
             "#fb9f3a"
            ],
            [
             0.8888888888888888,
             "#fdca26"
            ],
            [
             1,
             "#f0f921"
            ]
           ]
          },
          "colorway": [
           "#636efa",
           "#EF553B",
           "#00cc96",
           "#ab63fa",
           "#FFA15A",
           "#19d3f3",
           "#FF6692",
           "#B6E880",
           "#FF97FF",
           "#FECB52"
          ],
          "font": {
           "color": "#2a3f5f"
          },
          "geo": {
           "bgcolor": "white",
           "lakecolor": "white",
           "landcolor": "#E5ECF6",
           "showlakes": true,
           "showland": true,
           "subunitcolor": "white"
          },
          "hoverlabel": {
           "align": "left"
          },
          "hovermode": "closest",
          "mapbox": {
           "style": "light"
          },
          "paper_bgcolor": "white",
          "plot_bgcolor": "#E5ECF6",
          "polar": {
           "angularaxis": {
            "gridcolor": "white",
            "linecolor": "white",
            "ticks": ""
           },
           "bgcolor": "#E5ECF6",
           "radialaxis": {
            "gridcolor": "white",
            "linecolor": "white",
            "ticks": ""
           }
          },
          "scene": {
           "xaxis": {
            "backgroundcolor": "#E5ECF6",
            "gridcolor": "white",
            "gridwidth": 2,
            "linecolor": "white",
            "showbackground": true,
            "ticks": "",
            "zerolinecolor": "white"
           },
           "yaxis": {
            "backgroundcolor": "#E5ECF6",
            "gridcolor": "white",
            "gridwidth": 2,
            "linecolor": "white",
            "showbackground": true,
            "ticks": "",
            "zerolinecolor": "white"
           },
           "zaxis": {
            "backgroundcolor": "#E5ECF6",
            "gridcolor": "white",
            "gridwidth": 2,
            "linecolor": "white",
            "showbackground": true,
            "ticks": "",
            "zerolinecolor": "white"
           }
          },
          "shapedefaults": {
           "line": {
            "color": "#2a3f5f"
           }
          },
          "ternary": {
           "aaxis": {
            "gridcolor": "white",
            "linecolor": "white",
            "ticks": ""
           },
           "baxis": {
            "gridcolor": "white",
            "linecolor": "white",
            "ticks": ""
           },
           "bgcolor": "#E5ECF6",
           "caxis": {
            "gridcolor": "white",
            "linecolor": "white",
            "ticks": ""
           }
          },
          "title": {
           "x": 0.05
          },
          "xaxis": {
           "automargin": true,
           "gridcolor": "white",
           "linecolor": "white",
           "ticks": "",
           "title": {
            "standoff": 15
           },
           "zerolinecolor": "white",
           "zerolinewidth": 2
          },
          "yaxis": {
           "automargin": true,
           "gridcolor": "white",
           "linecolor": "white",
           "ticks": "",
           "title": {
            "standoff": 15
           },
           "zerolinecolor": "white",
           "zerolinewidth": 2
          }
         }
        },
        "title": {
         "text": "Impact of lockdown on employement across regions"
        },
        "updatemenus": [
         {
          "buttons": [
           {
            "args": [
             null,
             {
              "frame": {
               "duration": 2000,
               "redraw": true
              },
              "fromcurrent": true,
              "mode": "immediate",
              "transition": {
               "duration": 500,
               "easing": "linear"
              }
             }
            ],
            "label": "&#9654;",
            "method": "animate"
           },
           {
            "args": [
             [
              null
             ],
             {
              "frame": {
               "duration": 0,
               "redraw": true
              },
              "fromcurrent": true,
              "mode": "immediate",
              "transition": {
               "duration": 0,
               "easing": "linear"
              }
             }
            ],
            "label": "&#9724;",
            "method": "animate"
           }
          ],
          "direction": "left",
          "pad": {
           "r": 10,
           "t": 70
          },
          "showactive": false,
          "type": "buttons",
          "x": 0.1,
          "xanchor": "right",
          "y": 0,
          "yanchor": "top"
         }
        ]
       }
      },
      "text/html": [
       "<div>                            <div id=\"1a29805a-2064-4b64-9de3-491bd7c52742\" class=\"plotly-graph-div\" style=\"height:525px; width:100%;\"></div>            <script type=\"text/javascript\">                require([\"plotly\"], function(Plotly) {                    window.PLOTLYENV=window.PLOTLYENV || {};                                    if (document.getElementById(\"1a29805a-2064-4b64-9de3-491bd7c52742\")) {                    Plotly.newPlot(                        \"1a29805a-2064-4b64-9de3-491bd7c52742\",                        [{\"geo\":\"geo\",\"hovertemplate\":\"<b>%{hovertext}</b><br><br>region=South<br>month_int=1<br>estimated unemployment rate=%{marker.size}<br>longitude=%{lat}<br>latitude=%{lon}<extra></extra>\",\"hovertext\":[\"Andhra Pradesh\",\"Karnataka\",\"Kerala\",\"Puducherry\",\"Tamil Nadu\",\"Telangana\"],\"lat\":[15.9129,15.3173,10.8505,11.9416,11.1271,18.1124],\"legendgroup\":\"South\",\"lon\":[79.74,75.7139,76.2711,79.8083,78.6569,79.0193],\"marker\":{\"color\":\"#636efa\",\"size\":[5.48,2.86,5.31,0.58,1.57,5.49],\"sizemode\":\"area\",\"sizeref\":0.189625,\"symbol\":\"circle\"},\"mode\":\"markers\",\"name\":\"South\",\"showlegend\":true,\"type\":\"scattergeo\"},{\"geo\":\"geo\",\"hovertemplate\":\"<b>%{hovertext}</b><br><br>region=Northeast<br>month_int=1<br>estimated unemployment rate=%{marker.size}<br>longitude=%{lat}<br>latitude=%{lon}<extra></extra>\",\"hovertext\":[\"Assam\",\"Meghalaya\",\"Tripura\"],\"lat\":[26.2006,25.467,23.9408],\"legendgroup\":\"Northeast\",\"lon\":[92.9376,91.3662,91.9882],\"marker\":{\"color\":\"#EF553B\",\"size\":[4.66,1.66,32.67],\"sizemode\":\"area\",\"sizeref\":0.189625,\"symbol\":\"circle\"},\"mode\":\"markers\",\"name\":\"Northeast\",\"showlegend\":true,\"type\":\"scattergeo\"},{\"geo\":\"geo\",\"hovertemplate\":\"<b>%{hovertext}</b><br><br>region=East<br>month_int=1<br>estimated unemployment rate=%{marker.size}<br>longitude=%{lat}<br>latitude=%{lon}<extra></extra>\",\"hovertext\":[\"Bihar\",\"Jharkhand\",\"Odisha\",\"West Bengal\"],\"lat\":[25.0961,23.6102,20.9517,22.9868],\"legendgroup\":\"East\",\"lon\":[85.3131,85.2799,85.0985,87.855],\"marker\":{\"color\":\"#00cc96\",\"size\":[10.61,10.61,1.9,6.94],\"sizemode\":\"area\",\"sizeref\":0.189625,\"symbol\":\"circle\"},\"mode\":\"markers\",\"name\":\"East\",\"showlegend\":true,\"type\":\"scattergeo\"},{\"geo\":\"geo\",\"hovertemplate\":\"<b>%{hovertext}</b><br><br>region=West<br>month_int=1<br>estimated unemployment rate=%{marker.size}<br>longitude=%{lat}<br>latitude=%{lon}<extra></extra>\",\"hovertext\":[\"Chhattisgarh\",\"Goa\",\"Gujarat\",\"Madhya Pradesh\",\"Maharashtra\"],\"lat\":[21.2787,15.2993,22.2587,22.9734,19.7515],\"legendgroup\":\"West\",\"lon\":[81.8661,74.124,71.1924,78.6569,75.7139],\"marker\":{\"color\":\"#ab63fa\",\"size\":[9.65,8.89,5.54,4.11,4.95],\"sizemode\":\"area\",\"sizeref\":0.189625,\"symbol\":\"circle\"},\"mode\":\"markers\",\"name\":\"West\",\"showlegend\":true,\"type\":\"scattergeo\"},{\"geo\":\"geo\",\"hovertemplate\":\"<b>%{hovertext}</b><br><br>region=North<br>month_int=1<br>estimated unemployment rate=%{marker.size}<br>longitude=%{lat}<br>latitude=%{lon}<extra></extra>\",\"hovertext\":[\"Delhi\",\"Haryana\",\"Himachal Pradesh\",\"Jammu & Kashmir\",\"Punjab\",\"Rajasthan\",\"Uttar Pradesh\",\"Uttarakhand\"],\"lat\":[28.7041,29.0588,31.1048,33.7782,31.1471,27.0238,26.8467,30.0668],\"legendgroup\":\"North\",\"lon\":[77.1025,76.0856,77.1734,76.5762,75.3412,74.2179,80.9462,79.0193],\"marker\":{\"color\":\"#FFA15A\",\"size\":[22.23,20.34,16.83,21.08,11.11,10.97,7.58,5.49],\"sizemode\":\"area\",\"sizeref\":0.189625,\"symbol\":\"circle\"},\"mode\":\"markers\",\"name\":\"North\",\"showlegend\":true,\"type\":\"scattergeo\"}],                        {\"template\":{\"data\":{\"histogram2dcontour\":[{\"type\":\"histogram2dcontour\",\"colorbar\":{\"outlinewidth\":0,\"ticks\":\"\"},\"colorscale\":[[0.0,\"#0d0887\"],[0.1111111111111111,\"#46039f\"],[0.2222222222222222,\"#7201a8\"],[0.3333333333333333,\"#9c179e\"],[0.4444444444444444,\"#bd3786\"],[0.5555555555555556,\"#d8576b\"],[0.6666666666666666,\"#ed7953\"],[0.7777777777777778,\"#fb9f3a\"],[0.8888888888888888,\"#fdca26\"],[1.0,\"#f0f921\"]]}],\"choropleth\":[{\"type\":\"choropleth\",\"colorbar\":{\"outlinewidth\":0,\"ticks\":\"\"}}],\"histogram2d\":[{\"type\":\"histogram2d\",\"colorbar\":{\"outlinewidth\":0,\"ticks\":\"\"},\"colorscale\":[[0.0,\"#0d0887\"],[0.1111111111111111,\"#46039f\"],[0.2222222222222222,\"#7201a8\"],[0.3333333333333333,\"#9c179e\"],[0.4444444444444444,\"#bd3786\"],[0.5555555555555556,\"#d8576b\"],[0.6666666666666666,\"#ed7953\"],[0.7777777777777778,\"#fb9f3a\"],[0.8888888888888888,\"#fdca26\"],[1.0,\"#f0f921\"]]}],\"heatmap\":[{\"type\":\"heatmap\",\"colorbar\":{\"outlinewidth\":0,\"ticks\":\"\"},\"colorscale\":[[0.0,\"#0d0887\"],[0.1111111111111111,\"#46039f\"],[0.2222222222222222,\"#7201a8\"],[0.3333333333333333,\"#9c179e\"],[0.4444444444444444,\"#bd3786\"],[0.5555555555555556,\"#d8576b\"],[0.6666666666666666,\"#ed7953\"],[0.7777777777777778,\"#fb9f3a\"],[0.8888888888888888,\"#fdca26\"],[1.0,\"#f0f921\"]]}],\"heatmapgl\":[{\"type\":\"heatmapgl\",\"colorbar\":{\"outlinewidth\":0,\"ticks\":\"\"},\"colorscale\":[[0.0,\"#0d0887\"],[0.1111111111111111,\"#46039f\"],[0.2222222222222222,\"#7201a8\"],[0.3333333333333333,\"#9c179e\"],[0.4444444444444444,\"#bd3786\"],[0.5555555555555556,\"#d8576b\"],[0.6666666666666666,\"#ed7953\"],[0.7777777777777778,\"#fb9f3a\"],[0.8888888888888888,\"#fdca26\"],[1.0,\"#f0f921\"]]}],\"contourcarpet\":[{\"type\":\"contourcarpet\",\"colorbar\":{\"outlinewidth\":0,\"ticks\":\"\"}}],\"contour\":[{\"type\":\"contour\",\"colorbar\":{\"outlinewidth\":0,\"ticks\":\"\"},\"colorscale\":[[0.0,\"#0d0887\"],[0.1111111111111111,\"#46039f\"],[0.2222222222222222,\"#7201a8\"],[0.3333333333333333,\"#9c179e\"],[0.4444444444444444,\"#bd3786\"],[0.5555555555555556,\"#d8576b\"],[0.6666666666666666,\"#ed7953\"],[0.7777777777777778,\"#fb9f3a\"],[0.8888888888888888,\"#fdca26\"],[1.0,\"#f0f921\"]]}],\"surface\":[{\"type\":\"surface\",\"colorbar\":{\"outlinewidth\":0,\"ticks\":\"\"},\"colorscale\":[[0.0,\"#0d0887\"],[0.1111111111111111,\"#46039f\"],[0.2222222222222222,\"#7201a8\"],[0.3333333333333333,\"#9c179e\"],[0.4444444444444444,\"#bd3786\"],[0.5555555555555556,\"#d8576b\"],[0.6666666666666666,\"#ed7953\"],[0.7777777777777778,\"#fb9f3a\"],[0.8888888888888888,\"#fdca26\"],[1.0,\"#f0f921\"]]}],\"mesh3d\":[{\"type\":\"mesh3d\",\"colorbar\":{\"outlinewidth\":0,\"ticks\":\"\"}}],\"scatter\":[{\"fillpattern\":{\"fillmode\":\"overlay\",\"size\":10,\"solidity\":0.2},\"type\":\"scatter\"}],\"parcoords\":[{\"type\":\"parcoords\",\"line\":{\"colorbar\":{\"outlinewidth\":0,\"ticks\":\"\"}}}],\"scatterpolargl\":[{\"type\":\"scatterpolargl\",\"marker\":{\"colorbar\":{\"outlinewidth\":0,\"ticks\":\"\"}}}],\"bar\":[{\"error_x\":{\"color\":\"#2a3f5f\"},\"error_y\":{\"color\":\"#2a3f5f\"},\"marker\":{\"line\":{\"color\":\"#E5ECF6\",\"width\":0.5},\"pattern\":{\"fillmode\":\"overlay\",\"size\":10,\"solidity\":0.2}},\"type\":\"bar\"}],\"scattergeo\":[{\"type\":\"scattergeo\",\"marker\":{\"colorbar\":{\"outlinewidth\":0,\"ticks\":\"\"}}}],\"scatterpolar\":[{\"type\":\"scatterpolar\",\"marker\":{\"colorbar\":{\"outlinewidth\":0,\"ticks\":\"\"}}}],\"histogram\":[{\"marker\":{\"pattern\":{\"fillmode\":\"overlay\",\"size\":10,\"solidity\":0.2}},\"type\":\"histogram\"}],\"scattergl\":[{\"type\":\"scattergl\",\"marker\":{\"colorbar\":{\"outlinewidth\":0,\"ticks\":\"\"}}}],\"scatter3d\":[{\"type\":\"scatter3d\",\"line\":{\"colorbar\":{\"outlinewidth\":0,\"ticks\":\"\"}},\"marker\":{\"colorbar\":{\"outlinewidth\":0,\"ticks\":\"\"}}}],\"scattermapbox\":[{\"type\":\"scattermapbox\",\"marker\":{\"colorbar\":{\"outlinewidth\":0,\"ticks\":\"\"}}}],\"scatterternary\":[{\"type\":\"scatterternary\",\"marker\":{\"colorbar\":{\"outlinewidth\":0,\"ticks\":\"\"}}}],\"scattercarpet\":[{\"type\":\"scattercarpet\",\"marker\":{\"colorbar\":{\"outlinewidth\":0,\"ticks\":\"\"}}}],\"carpet\":[{\"aaxis\":{\"endlinecolor\":\"#2a3f5f\",\"gridcolor\":\"white\",\"linecolor\":\"white\",\"minorgridcolor\":\"white\",\"startlinecolor\":\"#2a3f5f\"},\"baxis\":{\"endlinecolor\":\"#2a3f5f\",\"gridcolor\":\"white\",\"linecolor\":\"white\",\"minorgridcolor\":\"white\",\"startlinecolor\":\"#2a3f5f\"},\"type\":\"carpet\"}],\"table\":[{\"cells\":{\"fill\":{\"color\":\"#EBF0F8\"},\"line\":{\"color\":\"white\"}},\"header\":{\"fill\":{\"color\":\"#C8D4E3\"},\"line\":{\"color\":\"white\"}},\"type\":\"table\"}],\"barpolar\":[{\"marker\":{\"line\":{\"color\":\"#E5ECF6\",\"width\":0.5},\"pattern\":{\"fillmode\":\"overlay\",\"size\":10,\"solidity\":0.2}},\"type\":\"barpolar\"}],\"pie\":[{\"automargin\":true,\"type\":\"pie\"}]},\"layout\":{\"autotypenumbers\":\"strict\",\"colorway\":[\"#636efa\",\"#EF553B\",\"#00cc96\",\"#ab63fa\",\"#FFA15A\",\"#19d3f3\",\"#FF6692\",\"#B6E880\",\"#FF97FF\",\"#FECB52\"],\"font\":{\"color\":\"#2a3f5f\"},\"hovermode\":\"closest\",\"hoverlabel\":{\"align\":\"left\"},\"paper_bgcolor\":\"white\",\"plot_bgcolor\":\"#E5ECF6\",\"polar\":{\"bgcolor\":\"#E5ECF6\",\"angularaxis\":{\"gridcolor\":\"white\",\"linecolor\":\"white\",\"ticks\":\"\"},\"radialaxis\":{\"gridcolor\":\"white\",\"linecolor\":\"white\",\"ticks\":\"\"}},\"ternary\":{\"bgcolor\":\"#E5ECF6\",\"aaxis\":{\"gridcolor\":\"white\",\"linecolor\":\"white\",\"ticks\":\"\"},\"baxis\":{\"gridcolor\":\"white\",\"linecolor\":\"white\",\"ticks\":\"\"},\"caxis\":{\"gridcolor\":\"white\",\"linecolor\":\"white\",\"ticks\":\"\"}},\"coloraxis\":{\"colorbar\":{\"outlinewidth\":0,\"ticks\":\"\"}},\"colorscale\":{\"sequential\":[[0.0,\"#0d0887\"],[0.1111111111111111,\"#46039f\"],[0.2222222222222222,\"#7201a8\"],[0.3333333333333333,\"#9c179e\"],[0.4444444444444444,\"#bd3786\"],[0.5555555555555556,\"#d8576b\"],[0.6666666666666666,\"#ed7953\"],[0.7777777777777778,\"#fb9f3a\"],[0.8888888888888888,\"#fdca26\"],[1.0,\"#f0f921\"]],\"sequentialminus\":[[0.0,\"#0d0887\"],[0.1111111111111111,\"#46039f\"],[0.2222222222222222,\"#7201a8\"],[0.3333333333333333,\"#9c179e\"],[0.4444444444444444,\"#bd3786\"],[0.5555555555555556,\"#d8576b\"],[0.6666666666666666,\"#ed7953\"],[0.7777777777777778,\"#fb9f3a\"],[0.8888888888888888,\"#fdca26\"],[1.0,\"#f0f921\"]],\"diverging\":[[0,\"#8e0152\"],[0.1,\"#c51b7d\"],[0.2,\"#de77ae\"],[0.3,\"#f1b6da\"],[0.4,\"#fde0ef\"],[0.5,\"#f7f7f7\"],[0.6,\"#e6f5d0\"],[0.7,\"#b8e186\"],[0.8,\"#7fbc41\"],[0.9,\"#4d9221\"],[1,\"#276419\"]]},\"xaxis\":{\"gridcolor\":\"white\",\"linecolor\":\"white\",\"ticks\":\"\",\"title\":{\"standoff\":15},\"zerolinecolor\":\"white\",\"automargin\":true,\"zerolinewidth\":2},\"yaxis\":{\"gridcolor\":\"white\",\"linecolor\":\"white\",\"ticks\":\"\",\"title\":{\"standoff\":15},\"zerolinecolor\":\"white\",\"automargin\":true,\"zerolinewidth\":2},\"scene\":{\"xaxis\":{\"backgroundcolor\":\"#E5ECF6\",\"gridcolor\":\"white\",\"linecolor\":\"white\",\"showbackground\":true,\"ticks\":\"\",\"zerolinecolor\":\"white\",\"gridwidth\":2},\"yaxis\":{\"backgroundcolor\":\"#E5ECF6\",\"gridcolor\":\"white\",\"linecolor\":\"white\",\"showbackground\":true,\"ticks\":\"\",\"zerolinecolor\":\"white\",\"gridwidth\":2},\"zaxis\":{\"backgroundcolor\":\"#E5ECF6\",\"gridcolor\":\"white\",\"linecolor\":\"white\",\"showbackground\":true,\"ticks\":\"\",\"zerolinecolor\":\"white\",\"gridwidth\":2}},\"shapedefaults\":{\"line\":{\"color\":\"#2a3f5f\"}},\"annotationdefaults\":{\"arrowcolor\":\"#2a3f5f\",\"arrowhead\":0,\"arrowwidth\":1},\"geo\":{\"bgcolor\":\"white\",\"landcolor\":\"#E5ECF6\",\"subunitcolor\":\"white\",\"showland\":true,\"showlakes\":true,\"lakecolor\":\"white\"},\"title\":{\"x\":0.05},\"mapbox\":{\"style\":\"light\"}}},\"geo\":{\"domain\":{\"x\":[0.0,1.0],\"y\":[0.0,1.0]},\"center\":{},\"scope\":\"asia\",\"lataxis\":{\"range\":[5,35]},\"lonaxis\":{\"range\":[65,100]},\"oceancolor\":\"#6dd5ed\",\"showocean\":true},\"legend\":{\"title\":{\"text\":\"region\"},\"tracegroupgap\":0,\"itemsizing\":\"constant\"},\"title\":{\"text\":\"Impact of lockdown on employement across regions\"},\"updatemenus\":[{\"buttons\":[{\"args\":[null,{\"frame\":{\"duration\":2000,\"redraw\":true},\"mode\":\"immediate\",\"fromcurrent\":true,\"transition\":{\"duration\":500,\"easing\":\"linear\"}}],\"label\":\"&#9654;\",\"method\":\"animate\"},{\"args\":[[null],{\"frame\":{\"duration\":0,\"redraw\":true},\"mode\":\"immediate\",\"fromcurrent\":true,\"transition\":{\"duration\":0,\"easing\":\"linear\"}}],\"label\":\"&#9724;\",\"method\":\"animate\"}],\"direction\":\"left\",\"pad\":{\"r\":10,\"t\":70},\"showactive\":false,\"type\":\"buttons\",\"x\":0.1,\"xanchor\":\"right\",\"y\":0,\"yanchor\":\"top\"}],\"sliders\":[{\"active\":0,\"currentvalue\":{\"prefix\":\"month_int=\"},\"len\":0.9,\"pad\":{\"b\":10,\"t\":60},\"steps\":[{\"args\":[[\"1\"],{\"frame\":{\"duration\":0,\"redraw\":true},\"mode\":\"immediate\",\"fromcurrent\":true,\"transition\":{\"duration\":0,\"easing\":\"linear\"}}],\"label\":\"1\",\"method\":\"animate\"},{\"args\":[[\"2\"],{\"frame\":{\"duration\":0,\"redraw\":true},\"mode\":\"immediate\",\"fromcurrent\":true,\"transition\":{\"duration\":0,\"easing\":\"linear\"}}],\"label\":\"2\",\"method\":\"animate\"},{\"args\":[[\"3\"],{\"frame\":{\"duration\":0,\"redraw\":true},\"mode\":\"immediate\",\"fromcurrent\":true,\"transition\":{\"duration\":0,\"easing\":\"linear\"}}],\"label\":\"3\",\"method\":\"animate\"},{\"args\":[[\"4\"],{\"frame\":{\"duration\":0,\"redraw\":true},\"mode\":\"immediate\",\"fromcurrent\":true,\"transition\":{\"duration\":0,\"easing\":\"linear\"}}],\"label\":\"4\",\"method\":\"animate\"},{\"args\":[[\"5\"],{\"frame\":{\"duration\":0,\"redraw\":true},\"mode\":\"immediate\",\"fromcurrent\":true,\"transition\":{\"duration\":0,\"easing\":\"linear\"}}],\"label\":\"5\",\"method\":\"animate\"},{\"args\":[[\"6\"],{\"frame\":{\"duration\":0,\"redraw\":true},\"mode\":\"immediate\",\"fromcurrent\":true,\"transition\":{\"duration\":0,\"easing\":\"linear\"}}],\"label\":\"6\",\"method\":\"animate\"},{\"args\":[[\"7\"],{\"frame\":{\"duration\":0,\"redraw\":true},\"mode\":\"immediate\",\"fromcurrent\":true,\"transition\":{\"duration\":0,\"easing\":\"linear\"}}],\"label\":\"7\",\"method\":\"animate\"},{\"args\":[[\"8\"],{\"frame\":{\"duration\":0,\"redraw\":true},\"mode\":\"immediate\",\"fromcurrent\":true,\"transition\":{\"duration\":0,\"easing\":\"linear\"}}],\"label\":\"8\",\"method\":\"animate\"},{\"args\":[[\"9\"],{\"frame\":{\"duration\":0,\"redraw\":true},\"mode\":\"immediate\",\"fromcurrent\":true,\"transition\":{\"duration\":0,\"easing\":\"linear\"}}],\"label\":\"9\",\"method\":\"animate\"},{\"args\":[[\"10\"],{\"frame\":{\"duration\":0,\"redraw\":true},\"mode\":\"immediate\",\"fromcurrent\":true,\"transition\":{\"duration\":0,\"easing\":\"linear\"}}],\"label\":\"10\",\"method\":\"animate\"}],\"x\":0.1,\"xanchor\":\"left\",\"y\":0,\"yanchor\":\"top\"}]},                        {\"responsive\": true}                    ).then(function(){\n",
       "                            Plotly.addFrames('1a29805a-2064-4b64-9de3-491bd7c52742', [{\"data\":[{\"geo\":\"geo\",\"hovertemplate\":\"<b>%{hovertext}</b><br><br>region=South<br>month_int=1<br>estimated unemployment rate=%{marker.size}<br>longitude=%{lat}<br>latitude=%{lon}<extra></extra>\",\"hovertext\":[\"Andhra Pradesh\",\"Karnataka\",\"Kerala\",\"Puducherry\",\"Tamil Nadu\",\"Telangana\"],\"lat\":[15.9129,15.3173,10.8505,11.9416,11.1271,18.1124],\"legendgroup\":\"South\",\"lon\":[79.74,75.7139,76.2711,79.8083,78.6569,79.0193],\"marker\":{\"color\":\"#636efa\",\"size\":[5.48,2.86,5.31,0.58,1.57,5.49],\"sizemode\":\"area\",\"sizeref\":0.189625,\"symbol\":\"circle\"},\"mode\":\"markers\",\"name\":\"South\",\"showlegend\":true,\"type\":\"scattergeo\"},{\"geo\":\"geo\",\"hovertemplate\":\"<b>%{hovertext}</b><br><br>region=Northeast<br>month_int=1<br>estimated unemployment rate=%{marker.size}<br>longitude=%{lat}<br>latitude=%{lon}<extra></extra>\",\"hovertext\":[\"Assam\",\"Meghalaya\",\"Tripura\"],\"lat\":[26.2006,25.467,23.9408],\"legendgroup\":\"Northeast\",\"lon\":[92.9376,91.3662,91.9882],\"marker\":{\"color\":\"#EF553B\",\"size\":[4.66,1.66,32.67],\"sizemode\":\"area\",\"sizeref\":0.189625,\"symbol\":\"circle\"},\"mode\":\"markers\",\"name\":\"Northeast\",\"showlegend\":true,\"type\":\"scattergeo\"},{\"geo\":\"geo\",\"hovertemplate\":\"<b>%{hovertext}</b><br><br>region=East<br>month_int=1<br>estimated unemployment rate=%{marker.size}<br>longitude=%{lat}<br>latitude=%{lon}<extra></extra>\",\"hovertext\":[\"Bihar\",\"Jharkhand\",\"Odisha\",\"West Bengal\"],\"lat\":[25.0961,23.6102,20.9517,22.9868],\"legendgroup\":\"East\",\"lon\":[85.3131,85.2799,85.0985,87.855],\"marker\":{\"color\":\"#00cc96\",\"size\":[10.61,10.61,1.9,6.94],\"sizemode\":\"area\",\"sizeref\":0.189625,\"symbol\":\"circle\"},\"mode\":\"markers\",\"name\":\"East\",\"showlegend\":true,\"type\":\"scattergeo\"},{\"geo\":\"geo\",\"hovertemplate\":\"<b>%{hovertext}</b><br><br>region=West<br>month_int=1<br>estimated unemployment rate=%{marker.size}<br>longitude=%{lat}<br>latitude=%{lon}<extra></extra>\",\"hovertext\":[\"Chhattisgarh\",\"Goa\",\"Gujarat\",\"Madhya Pradesh\",\"Maharashtra\"],\"lat\":[21.2787,15.2993,22.2587,22.9734,19.7515],\"legendgroup\":\"West\",\"lon\":[81.8661,74.124,71.1924,78.6569,75.7139],\"marker\":{\"color\":\"#ab63fa\",\"size\":[9.65,8.89,5.54,4.11,4.95],\"sizemode\":\"area\",\"sizeref\":0.189625,\"symbol\":\"circle\"},\"mode\":\"markers\",\"name\":\"West\",\"showlegend\":true,\"type\":\"scattergeo\"},{\"geo\":\"geo\",\"hovertemplate\":\"<b>%{hovertext}</b><br><br>region=North<br>month_int=1<br>estimated unemployment rate=%{marker.size}<br>longitude=%{lat}<br>latitude=%{lon}<extra></extra>\",\"hovertext\":[\"Delhi\",\"Haryana\",\"Himachal Pradesh\",\"Jammu & Kashmir\",\"Punjab\",\"Rajasthan\",\"Uttar Pradesh\",\"Uttarakhand\"],\"lat\":[28.7041,29.0588,31.1048,33.7782,31.1471,27.0238,26.8467,30.0668],\"legendgroup\":\"North\",\"lon\":[77.1025,76.0856,77.1734,76.5762,75.3412,74.2179,80.9462,79.0193],\"marker\":{\"color\":\"#FFA15A\",\"size\":[22.23,20.34,16.83,21.08,11.11,10.97,7.58,5.49],\"sizemode\":\"area\",\"sizeref\":0.189625,\"symbol\":\"circle\"},\"mode\":\"markers\",\"name\":\"North\",\"showlegend\":true,\"type\":\"scattergeo\"}],\"name\":\"1\"},{\"data\":[{\"geo\":\"geo\",\"hovertemplate\":\"<b>%{hovertext}</b><br><br>region=South<br>month_int=2<br>estimated unemployment rate=%{marker.size}<br>longitude=%{lat}<br>latitude=%{lon}<extra></extra>\",\"hovertext\":[\"Andhra Pradesh\",\"Karnataka\",\"Kerala\",\"Puducherry\",\"Tamil Nadu\",\"Telangana\"],\"lat\":[15.9129,15.3173,10.8505,11.9416,11.1271,18.1124],\"legendgroup\":\"South\",\"lon\":[79.74,75.7139,76.2711,79.8083,78.6569,79.0193],\"marker\":{\"color\":\"#636efa\",\"size\":[5.83,3.61,7.6,1.76,2.09,8.29],\"sizemode\":\"area\",\"sizeref\":0.189625,\"symbol\":\"circle\"},\"mode\":\"markers\",\"name\":\"South\",\"showlegend\":true,\"type\":\"scattergeo\"},{\"geo\":\"geo\",\"hovertemplate\":\"<b>%{hovertext}</b><br><br>region=Northeast<br>month_int=2<br>estimated unemployment rate=%{marker.size}<br>longitude=%{lat}<br>latitude=%{lon}<extra></extra>\",\"hovertext\":[\"Assam\",\"Meghalaya\",\"Tripura\"],\"lat\":[26.2006,25.467,23.9408],\"legendgroup\":\"Northeast\",\"lon\":[92.9376,91.3662,91.9882],\"marker\":{\"color\":\"#EF553B\",\"size\":[4.41,3.59,28.4],\"sizemode\":\"area\",\"sizeref\":0.189625,\"symbol\":\"circle\"},\"mode\":\"markers\",\"name\":\"Northeast\",\"showlegend\":true,\"type\":\"scattergeo\"},{\"geo\":\"geo\",\"hovertemplate\":\"<b>%{hovertext}</b><br><br>region=East<br>month_int=2<br>estimated unemployment rate=%{marker.size}<br>longitude=%{lat}<br>latitude=%{lon}<extra></extra>\",\"hovertext\":[\"Bihar\",\"Jharkhand\",\"Odisha\",\"West Bengal\"],\"lat\":[25.0961,23.6102,20.9517,22.9868],\"legendgroup\":\"East\",\"lon\":[85.3131,85.2799,85.0985,87.855],\"marker\":{\"color\":\"#00cc96\",\"size\":[10.29,11.85,3.12,4.92],\"sizemode\":\"area\",\"sizeref\":0.189625,\"symbol\":\"circle\"},\"mode\":\"markers\",\"name\":\"East\",\"showlegend\":true,\"type\":\"scattergeo\"},{\"geo\":\"geo\",\"hovertemplate\":\"<b>%{hovertext}</b><br><br>region=West<br>month_int=2<br>estimated unemployment rate=%{marker.size}<br>longitude=%{lat}<br>latitude=%{lon}<extra></extra>\",\"hovertext\":[\"Chhattisgarh\",\"Goa\",\"Gujarat\",\"Madhya Pradesh\",\"Maharashtra\"],\"lat\":[21.2787,15.2993,22.2587,22.9734,19.7515],\"legendgroup\":\"West\",\"lon\":[81.8661,74.124,71.1924,78.6569,75.7139],\"marker\":{\"color\":\"#ab63fa\",\"size\":[8.38,2.81,6.38,4.57,4.69],\"sizemode\":\"area\",\"sizeref\":0.189625,\"symbol\":\"circle\"},\"mode\":\"markers\",\"name\":\"West\",\"showlegend\":true,\"type\":\"scattergeo\"},{\"geo\":\"geo\",\"hovertemplate\":\"<b>%{hovertext}</b><br><br>region=North<br>month_int=2<br>estimated unemployment rate=%{marker.size}<br>longitude=%{lat}<br>latitude=%{lon}<extra></extra>\",\"hovertext\":[\"Delhi\",\"Haryana\",\"Himachal Pradesh\",\"Jammu & Kashmir\",\"Punjab\",\"Rajasthan\",\"Uttar Pradesh\",\"Uttarakhand\"],\"lat\":[28.7041,29.0588,31.1048,33.7782,31.1471,27.0238,26.8467,30.0668],\"legendgroup\":\"North\",\"lon\":[77.1025,76.0856,77.1734,76.5762,75.3412,74.2179,80.9462,79.0193],\"marker\":{\"color\":\"#FFA15A\",\"size\":[14.84,25.77,16.84,20.78,10.97,15.16,8.98,4.99],\"sizemode\":\"area\",\"sizeref\":0.189625,\"symbol\":\"circle\"},\"mode\":\"markers\",\"name\":\"North\",\"showlegend\":true,\"type\":\"scattergeo\"}],\"name\":\"2\"},{\"data\":[{\"geo\":\"geo\",\"hovertemplate\":\"<b>%{hovertext}</b><br><br>region=South<br>month_int=3<br>estimated unemployment rate=%{marker.size}<br>longitude=%{lat}<br>latitude=%{lon}<extra></extra>\",\"hovertext\":[\"Andhra Pradesh\",\"Karnataka\",\"Kerala\",\"Puducherry\",\"Tamil Nadu\",\"Telangana\"],\"lat\":[15.9129,15.3173,10.8505,11.9416,11.1271,18.1124],\"legendgroup\":\"South\",\"lon\":[79.74,75.7139,76.2711,79.8083,78.6569,79.0193],\"marker\":{\"color\":\"#636efa\",\"size\":[5.79,3.46,8.99,1.2,6.4,5.77],\"sizemode\":\"area\",\"sizeref\":0.189625,\"symbol\":\"circle\"},\"mode\":\"markers\",\"name\":\"South\",\"showlegend\":true,\"type\":\"scattergeo\"},{\"geo\":\"geo\",\"hovertemplate\":\"<b>%{hovertext}</b><br><br>region=Northeast<br>month_int=3<br>estimated unemployment rate=%{marker.size}<br>longitude=%{lat}<br>latitude=%{lon}<extra></extra>\",\"hovertext\":[\"Assam\",\"Meghalaya\",\"Sikkim\",\"Tripura\"],\"lat\":[26.2006,25.467,27.533,23.9408],\"legendgroup\":\"Northeast\",\"lon\":[92.9376,91.3662,88.5122,91.9882],\"marker\":{\"color\":\"#EF553B\",\"size\":[4.77,1.58,23.57,29.95],\"sizemode\":\"area\",\"sizeref\":0.189625,\"symbol\":\"circle\"},\"mode\":\"markers\",\"name\":\"Northeast\",\"showlegend\":true,\"type\":\"scattergeo\"},{\"geo\":\"geo\",\"hovertemplate\":\"<b>%{hovertext}</b><br><br>region=East<br>month_int=3<br>estimated unemployment rate=%{marker.size}<br>longitude=%{lat}<br>latitude=%{lon}<extra></extra>\",\"hovertext\":[\"Bihar\",\"Jharkhand\",\"Odisha\",\"West Bengal\"],\"lat\":[25.0961,23.6102,20.9517,22.9868],\"legendgroup\":\"East\",\"lon\":[85.3131,85.2799,85.0985,87.855],\"marker\":{\"color\":\"#00cc96\",\"size\":[15.43,8.23,13.08,6.92],\"sizemode\":\"area\",\"sizeref\":0.189625,\"symbol\":\"circle\"},\"mode\":\"markers\",\"name\":\"East\",\"showlegend\":true,\"type\":\"scattergeo\"},{\"geo\":\"geo\",\"hovertemplate\":\"<b>%{hovertext}</b><br><br>region=West<br>month_int=3<br>estimated unemployment rate=%{marker.size}<br>longitude=%{lat}<br>latitude=%{lon}<extra></extra>\",\"hovertext\":[\"Chhattisgarh\",\"Goa\",\"Gujarat\",\"Madhya Pradesh\",\"Maharashtra\"],\"lat\":[21.2787,15.2993,22.2587,22.9734,19.7515],\"legendgroup\":\"West\",\"lon\":[81.8661,74.124,71.1924,78.6569,75.7139],\"marker\":{\"color\":\"#ab63fa\",\"size\":[7.54,5.25,6.66,2.22,5.79],\"sizemode\":\"area\",\"sizeref\":0.189625,\"symbol\":\"circle\"},\"mode\":\"markers\",\"name\":\"West\",\"showlegend\":true,\"type\":\"scattergeo\"},{\"geo\":\"geo\",\"hovertemplate\":\"<b>%{hovertext}</b><br><br>region=North<br>month_int=3<br>estimated unemployment rate=%{marker.size}<br>longitude=%{lat}<br>latitude=%{lon}<extra></extra>\",\"hovertext\":[\"Delhi\",\"Haryana\",\"Himachal Pradesh\",\"Jammu & Kashmir\",\"Punjab\",\"Rajasthan\",\"Uttar Pradesh\",\"Uttarakhand\"],\"lat\":[28.7041,29.0588,31.1048,33.7782,31.1471,27.0238,26.8467,30.0668],\"legendgroup\":\"North\",\"lon\":[77.1025,76.0856,77.1734,76.5762,75.3412,74.2179,80.9462,79.0193],\"marker\":{\"color\":\"#FFA15A\",\"size\":[17.04,25.05,18.76,15.5,10.32,11.9,10.11,19.85],\"sizemode\":\"area\",\"sizeref\":0.189625,\"symbol\":\"circle\"},\"mode\":\"markers\",\"name\":\"North\",\"showlegend\":true,\"type\":\"scattergeo\"}],\"name\":\"3\"},{\"data\":[{\"geo\":\"geo\",\"hovertemplate\":\"<b>%{hovertext}</b><br><br>region=South<br>month_int=4<br>estimated unemployment rate=%{marker.size}<br>longitude=%{lat}<br>latitude=%{lon}<extra></extra>\",\"hovertext\":[\"Andhra Pradesh\",\"Karnataka\",\"Kerala\",\"Puducherry\",\"Tamil Nadu\",\"Telangana\"],\"lat\":[15.9129,15.3173,10.8505,11.9416,11.1271,18.1124],\"legendgroup\":\"South\",\"lon\":[79.74,75.7139,76.2711,79.8083,78.6569,79.0193],\"marker\":{\"color\":\"#636efa\",\"size\":[20.51,29.84,16.99,75.85,49.83,6.25],\"sizemode\":\"area\",\"sizeref\":0.189625,\"symbol\":\"circle\"},\"mode\":\"markers\",\"name\":\"South\",\"showlegend\":true,\"type\":\"scattergeo\"},{\"geo\":\"geo\",\"hovertemplate\":\"<b>%{hovertext}</b><br><br>region=Northeast<br>month_int=4<br>estimated unemployment rate=%{marker.size}<br>longitude=%{lat}<br>latitude=%{lon}<extra></extra>\",\"hovertext\":[\"Assam\",\"Meghalaya\",\"Sikkim\",\"Tripura\"],\"lat\":[26.2006,25.467,27.533,23.9408],\"legendgroup\":\"Northeast\",\"lon\":[92.9376,91.3662,88.5122,91.9882],\"marker\":{\"color\":\"#EF553B\",\"size\":[11.06,10.03,2.28,41.23],\"sizemode\":\"area\",\"sizeref\":0.189625,\"symbol\":\"circle\"},\"mode\":\"markers\",\"name\":\"Northeast\",\"showlegend\":true,\"type\":\"scattergeo\"},{\"geo\":\"geo\",\"hovertemplate\":\"<b>%{hovertext}</b><br><br>region=East<br>month_int=4<br>estimated unemployment rate=%{marker.size}<br>longitude=%{lat}<br>latitude=%{lon}<extra></extra>\",\"hovertext\":[\"Bihar\",\"Jharkhand\",\"Odisha\",\"West Bengal\"],\"lat\":[25.0961,23.6102,20.9517,22.9868],\"legendgroup\":\"East\",\"lon\":[85.3131,85.2799,85.0985,87.855],\"marker\":{\"color\":\"#00cc96\",\"size\":[46.64,47.09,23.76,17.41],\"sizemode\":\"area\",\"sizeref\":0.189625,\"symbol\":\"circle\"},\"mode\":\"markers\",\"name\":\"East\",\"showlegend\":true,\"type\":\"scattergeo\"},{\"geo\":\"geo\",\"hovertemplate\":\"<b>%{hovertext}</b><br><br>region=West<br>month_int=4<br>estimated unemployment rate=%{marker.size}<br>longitude=%{lat}<br>latitude=%{lon}<extra></extra>\",\"hovertext\":[\"Chhattisgarh\",\"Goa\",\"Gujarat\",\"Madhya Pradesh\",\"Maharashtra\"],\"lat\":[21.2787,15.2993,22.2587,22.9734,19.7515],\"legendgroup\":\"West\",\"lon\":[81.8661,74.124,71.1924,78.6569,75.7139],\"marker\":{\"color\":\"#ab63fa\",\"size\":[3.41,13.31,18.71,12.36,20.9],\"sizemode\":\"area\",\"sizeref\":0.189625,\"symbol\":\"circle\"},\"mode\":\"markers\",\"name\":\"West\",\"showlegend\":true,\"type\":\"scattergeo\"},{\"geo\":\"geo\",\"hovertemplate\":\"<b>%{hovertext}</b><br><br>region=North<br>month_int=4<br>estimated unemployment rate=%{marker.size}<br>longitude=%{lat}<br>latitude=%{lon}<extra></extra>\",\"hovertext\":[\"Delhi\",\"Haryana\",\"Himachal Pradesh\",\"Punjab\",\"Rajasthan\",\"Uttar Pradesh\",\"Uttarakhand\"],\"lat\":[28.7041,29.0588,31.1048,31.1471,27.0238,26.8467,30.0668],\"legendgroup\":\"North\",\"lon\":[77.1025,76.0856,77.1734,75.3412,74.2179,80.9462,79.0193],\"marker\":{\"color\":\"#FFA15A\",\"size\":[16.68,43.22,2.2,2.86,17.7,21.54,6.48],\"sizemode\":\"area\",\"sizeref\":0.189625,\"symbol\":\"circle\"},\"mode\":\"markers\",\"name\":\"North\",\"showlegend\":true,\"type\":\"scattergeo\"}],\"name\":\"4\"},{\"data\":[{\"geo\":\"geo\",\"hovertemplate\":\"<b>%{hovertext}</b><br><br>region=South<br>month_int=5<br>estimated unemployment rate=%{marker.size}<br>longitude=%{lat}<br>latitude=%{lon}<extra></extra>\",\"hovertext\":[\"Andhra Pradesh\",\"Karnataka\",\"Kerala\",\"Puducherry\",\"Tamil Nadu\",\"Telangana\"],\"lat\":[15.9129,15.3173,10.8505,11.9416,11.1271,18.1124],\"legendgroup\":\"South\",\"lon\":[79.74,75.7139,76.2711,79.8083,78.6569,79.0193],\"marker\":{\"color\":\"#636efa\",\"size\":[17.43,19.97,17.88,58.19,33.16,14.7],\"sizemode\":\"area\",\"sizeref\":0.189625,\"symbol\":\"circle\"},\"mode\":\"markers\",\"name\":\"South\",\"showlegend\":true,\"type\":\"scattergeo\"},{\"geo\":\"geo\",\"hovertemplate\":\"<b>%{hovertext}</b><br><br>region=Northeast<br>month_int=5<br>estimated unemployment rate=%{marker.size}<br>longitude=%{lat}<br>latitude=%{lon}<extra></extra>\",\"hovertext\":[\"Assam\",\"Meghalaya\",\"Sikkim\",\"Tripura\"],\"lat\":[26.2006,25.467,27.533,23.9408],\"legendgroup\":\"Northeast\",\"lon\":[92.9376,91.3662,88.5122,91.9882],\"marker\":{\"color\":\"#EF553B\",\"size\":[9.55,5.92,24.51,21.51],\"sizemode\":\"area\",\"sizeref\":0.189625,\"symbol\":\"circle\"},\"mode\":\"markers\",\"name\":\"Northeast\",\"showlegend\":true,\"type\":\"scattergeo\"},{\"geo\":\"geo\",\"hovertemplate\":\"<b>%{hovertext}</b><br><br>region=East<br>month_int=5<br>estimated unemployment rate=%{marker.size}<br>longitude=%{lat}<br>latitude=%{lon}<extra></extra>\",\"hovertext\":[\"Bihar\",\"Jharkhand\",\"Odisha\",\"West Bengal\"],\"lat\":[25.0961,23.6102,20.9517,22.9868],\"legendgroup\":\"East\",\"lon\":[85.3131,85.2799,85.0985,87.855],\"marker\":{\"color\":\"#00cc96\",\"size\":[45.96,59.23,11.41,17.41],\"sizemode\":\"area\",\"sizeref\":0.189625,\"symbol\":\"circle\"},\"mode\":\"markers\",\"name\":\"East\",\"showlegend\":true,\"type\":\"scattergeo\"},{\"geo\":\"geo\",\"hovertemplate\":\"<b>%{hovertext}</b><br><br>region=West<br>month_int=5<br>estimated unemployment rate=%{marker.size}<br>longitude=%{lat}<br>latitude=%{lon}<extra></extra>\",\"hovertext\":[\"Chhattisgarh\",\"Goa\",\"Gujarat\",\"Madhya Pradesh\",\"Maharashtra\"],\"lat\":[21.2787,15.2993,22.2587,22.9734,19.7515],\"legendgroup\":\"West\",\"lon\":[81.8661,74.124,71.1924,78.6569,75.7139],\"marker\":{\"color\":\"#ab63fa\",\"size\":[10.5,21.25,12.11,21.98,15.46],\"sizemode\":\"area\",\"sizeref\":0.189625,\"symbol\":\"circle\"},\"mode\":\"markers\",\"name\":\"West\",\"showlegend\":true,\"type\":\"scattergeo\"},{\"geo\":\"geo\",\"hovertemplate\":\"<b>%{hovertext}</b><br><br>region=North<br>month_int=5<br>estimated unemployment rate=%{marker.size}<br>longitude=%{lat}<br>latitude=%{lon}<extra></extra>\",\"hovertext\":[\"Delhi\",\"Haryana\",\"Himachal Pradesh\",\"Jammu & Kashmir\",\"Punjab\",\"Rajasthan\",\"Uttar Pradesh\",\"Uttarakhand\"],\"lat\":[28.7041,29.0588,31.1048,33.7782,31.1471,27.0238,26.8467,30.0668],\"legendgroup\":\"North\",\"lon\":[77.1025,76.0856,77.1734,76.5762,75.3412,74.2179,80.9462,79.0193],\"marker\":{\"color\":\"#FFA15A\",\"size\":[42.27,29.02,26.95,18.74,28.33,15.74,20.41,8.01],\"sizemode\":\"area\",\"sizeref\":0.189625,\"symbol\":\"circle\"},\"mode\":\"markers\",\"name\":\"North\",\"showlegend\":true,\"type\":\"scattergeo\"}],\"name\":\"5\"},{\"data\":[{\"geo\":\"geo\",\"hovertemplate\":\"<b>%{hovertext}</b><br><br>region=South<br>month_int=6<br>estimated unemployment rate=%{marker.size}<br>longitude=%{lat}<br>latitude=%{lon}<extra></extra>\",\"hovertext\":[\"Andhra Pradesh\",\"Karnataka\",\"Kerala\",\"Puducherry\",\"Tamil Nadu\",\"Telangana\"],\"lat\":[15.9129,15.3173,10.8505,11.9416,11.1271,18.1124],\"legendgroup\":\"South\",\"lon\":[79.74,75.7139,76.2711,79.8083,78.6569,79.0193],\"marker\":{\"color\":\"#636efa\",\"size\":[3.31,8.44,9.71,4.24,12.2,10.55],\"sizemode\":\"area\",\"sizeref\":0.189625,\"symbol\":\"circle\"},\"mode\":\"markers\",\"name\":\"South\",\"showlegend\":true,\"type\":\"scattergeo\"},{\"geo\":\"geo\",\"hovertemplate\":\"<b>%{hovertext}</b><br><br>region=Northeast<br>month_int=6<br>estimated unemployment rate=%{marker.size}<br>longitude=%{lat}<br>latitude=%{lon}<extra></extra>\",\"hovertext\":[\"Assam\",\"Meghalaya\",\"Sikkim\",\"Tripura\"],\"lat\":[26.2006,25.467,27.533,23.9408],\"legendgroup\":\"Northeast\",\"lon\":[92.9376,91.3662,88.5122,91.9882],\"marker\":{\"color\":\"#EF553B\",\"size\":[0.6,1.15,4.46,21.71],\"sizemode\":\"area\",\"sizeref\":0.189625,\"symbol\":\"circle\"},\"mode\":\"markers\",\"name\":\"Northeast\",\"showlegend\":true,\"type\":\"scattergeo\"},{\"geo\":\"geo\",\"hovertemplate\":\"<b>%{hovertext}</b><br><br>region=East<br>month_int=6<br>estimated unemployment rate=%{marker.size}<br>longitude=%{lat}<br>latitude=%{lon}<extra></extra>\",\"hovertext\":[\"Bihar\",\"Jharkhand\",\"Odisha\",\"West Bengal\"],\"lat\":[25.0961,23.6102,20.9517,22.9868],\"legendgroup\":\"East\",\"lon\":[85.3131,85.2799,85.0985,87.855],\"marker\":{\"color\":\"#00cc96\",\"size\":[17.82,20.95,3.77,7.29],\"sizemode\":\"area\",\"sizeref\":0.189625,\"symbol\":\"circle\"},\"mode\":\"markers\",\"name\":\"East\",\"showlegend\":true,\"type\":\"scattergeo\"},{\"geo\":\"geo\",\"hovertemplate\":\"<b>%{hovertext}</b><br><br>region=West<br>month_int=6<br>estimated unemployment rate=%{marker.size}<br>longitude=%{lat}<br>latitude=%{lon}<extra></extra>\",\"hovertext\":[\"Chhattisgarh\",\"Goa\",\"Gujarat\",\"Madhya Pradesh\",\"Maharashtra\"],\"lat\":[21.2787,15.2993,22.2587,22.9734,19.7515],\"legendgroup\":\"West\",\"lon\":[81.8661,74.124,71.1924,78.6569,75.7139],\"marker\":{\"color\":\"#ab63fa\",\"size\":[14.23,9.96,3.2,6.48,9.23],\"sizemode\":\"area\",\"sizeref\":0.189625,\"symbol\":\"circle\"},\"mode\":\"markers\",\"name\":\"West\",\"showlegend\":true,\"type\":\"scattergeo\"},{\"geo\":\"geo\",\"hovertemplate\":\"<b>%{hovertext}</b><br><br>region=North<br>month_int=6<br>estimated unemployment rate=%{marker.size}<br>longitude=%{lat}<br>latitude=%{lon}<extra></extra>\",\"hovertext\":[\"Delhi\",\"Haryana\",\"Himachal Pradesh\",\"Jammu & Kashmir\",\"Punjab\",\"Rajasthan\",\"Uttar Pradesh\",\"Uttarakhand\"],\"lat\":[28.7041,29.0588,31.1048,33.7782,31.1471,27.0238,26.8467,30.0668],\"legendgroup\":\"North\",\"lon\":[77.1025,76.0856,77.1734,76.5762,75.3412,74.2179,80.9462,79.0193],\"marker\":{\"color\":\"#FFA15A\",\"size\":[18.19,26.7,13.47,17.92,16.55,14.39,9.47,8.61],\"sizemode\":\"area\",\"sizeref\":0.189625,\"symbol\":\"circle\"},\"mode\":\"markers\",\"name\":\"North\",\"showlegend\":true,\"type\":\"scattergeo\"}],\"name\":\"6\"},{\"data\":[{\"geo\":\"geo\",\"hovertemplate\":\"<b>%{hovertext}</b><br><br>region=South<br>month_int=7<br>estimated unemployment rate=%{marker.size}<br>longitude=%{lat}<br>latitude=%{lon}<extra></extra>\",\"hovertext\":[\"Andhra Pradesh\",\"Karnataka\",\"Kerala\",\"Puducherry\",\"Tamil Nadu\",\"Telangana\"],\"lat\":[15.9129,15.3173,10.8505,11.9416,11.1271,18.1124],\"legendgroup\":\"South\",\"lon\":[79.74,75.7139,76.2711,79.8083,78.6569,79.0193],\"marker\":{\"color\":\"#636efa\",\"size\":[8.34,4.01,7.09,15.47,6.81,5.36],\"sizemode\":\"area\",\"sizeref\":0.189625,\"symbol\":\"circle\"},\"mode\":\"markers\",\"name\":\"South\",\"showlegend\":true,\"type\":\"scattergeo\"},{\"geo\":\"geo\",\"hovertemplate\":\"<b>%{hovertext}</b><br><br>region=Northeast<br>month_int=7<br>estimated unemployment rate=%{marker.size}<br>longitude=%{lat}<br>latitude=%{lon}<extra></extra>\",\"hovertext\":[\"Assam\",\"Meghalaya\",\"Sikkim\",\"Tripura\"],\"lat\":[26.2006,25.467,27.533,23.9408],\"legendgroup\":\"Northeast\",\"lon\":[92.9376,91.3662,88.5122,91.9882],\"marker\":{\"color\":\"#EF553B\",\"size\":[3.77,2.1,4.45,18.24],\"sizemode\":\"area\",\"sizeref\":0.189625,\"symbol\":\"circle\"},\"mode\":\"markers\",\"name\":\"Northeast\",\"showlegend\":true,\"type\":\"scattergeo\"},{\"geo\":\"geo\",\"hovertemplate\":\"<b>%{hovertext}</b><br><br>region=East<br>month_int=7<br>estimated unemployment rate=%{marker.size}<br>longitude=%{lat}<br>latitude=%{lon}<extra></extra>\",\"hovertext\":[\"Bihar\",\"Jharkhand\",\"Odisha\",\"West Bengal\"],\"lat\":[25.0961,23.6102,20.9517,22.9868],\"legendgroup\":\"East\",\"lon\":[85.3131,85.2799,85.0985,87.855],\"marker\":{\"color\":\"#00cc96\",\"size\":[12.79,7.63,1.88,6.83],\"sizemode\":\"area\",\"sizeref\":0.189625,\"symbol\":\"circle\"},\"mode\":\"markers\",\"name\":\"East\",\"showlegend\":true,\"type\":\"scattergeo\"},{\"geo\":\"geo\",\"hovertemplate\":\"<b>%{hovertext}</b><br><br>region=West<br>month_int=7<br>estimated unemployment rate=%{marker.size}<br>longitude=%{lat}<br>latitude=%{lon}<extra></extra>\",\"hovertext\":[\"Chhattisgarh\",\"Goa\",\"Gujarat\",\"Madhya Pradesh\",\"Maharashtra\"],\"lat\":[21.2787,15.2993,22.2587,22.9734,19.7515],\"legendgroup\":\"West\",\"lon\":[81.8661,74.124,71.1924,78.6569,75.7139],\"marker\":{\"color\":\"#ab63fa\",\"size\":[10.27,17.07,1.84,5.08,3.89],\"sizemode\":\"area\",\"sizeref\":0.189625,\"symbol\":\"circle\"},\"mode\":\"markers\",\"name\":\"West\",\"showlegend\":true,\"type\":\"scattergeo\"},{\"geo\":\"geo\",\"hovertemplate\":\"<b>%{hovertext}</b><br><br>region=North<br>month_int=7<br>estimated unemployment rate=%{marker.size}<br>longitude=%{lat}<br>latitude=%{lon}<extra></extra>\",\"hovertext\":[\"Delhi\",\"Haryana\",\"Himachal Pradesh\",\"Jammu & Kashmir\",\"Punjab\",\"Rajasthan\",\"Uttar Pradesh\",\"Uttarakhand\"],\"lat\":[28.7041,29.0588,31.1048,33.7782,31.1471,27.0238,26.8467,30.0668],\"legendgroup\":\"North\",\"lon\":[77.1025,76.0856,77.1734,76.5762,75.3412,74.2179,80.9462,79.0193],\"marker\":{\"color\":\"#FFA15A\",\"size\":[20.3,24.18,24.31,10.88,9.19,15.81,5.56,12.38],\"sizemode\":\"area\",\"sizeref\":0.189625,\"symbol\":\"circle\"},\"mode\":\"markers\",\"name\":\"North\",\"showlegend\":true,\"type\":\"scattergeo\"}],\"name\":\"7\"},{\"data\":[{\"geo\":\"geo\",\"hovertemplate\":\"<b>%{hovertext}</b><br><br>region=South<br>month_int=8<br>estimated unemployment rate=%{marker.size}<br>longitude=%{lat}<br>latitude=%{lon}<extra></extra>\",\"hovertext\":[\"Andhra Pradesh\",\"Karnataka\",\"Kerala\",\"Puducherry\",\"Tamil Nadu\",\"Telangana\"],\"lat\":[15.9129,15.3173,10.8505,11.9416,11.1271,18.1124],\"legendgroup\":\"South\",\"lon\":[79.74,75.7139,76.2711,79.8083,78.6569,79.0193],\"marker\":{\"color\":\"#636efa\",\"size\":[6.96,0.5,10.98,5.05,2.65,5.79],\"sizemode\":\"area\",\"sizeref\":0.189625,\"symbol\":\"circle\"},\"mode\":\"markers\",\"name\":\"South\",\"showlegend\":true,\"type\":\"scattergeo\"},{\"geo\":\"geo\",\"hovertemplate\":\"<b>%{hovertext}</b><br><br>region=Northeast<br>month_int=8<br>estimated unemployment rate=%{marker.size}<br>longitude=%{lat}<br>latitude=%{lon}<extra></extra>\",\"hovertext\":[\"Assam\",\"Meghalaya\",\"Sikkim\",\"Tripura\"],\"lat\":[26.2006,25.467,27.533,23.9408],\"legendgroup\":\"Northeast\",\"lon\":[92.9376,91.3662,88.5122,91.9882],\"marker\":{\"color\":\"#EF553B\",\"size\":[5.53,3.74,12.49,27.92],\"sizemode\":\"area\",\"sizeref\":0.189625,\"symbol\":\"circle\"},\"mode\":\"markers\",\"name\":\"Northeast\",\"showlegend\":true,\"type\":\"scattergeo\"},{\"geo\":\"geo\",\"hovertemplate\":\"<b>%{hovertext}</b><br><br>region=East<br>month_int=8<br>estimated unemployment rate=%{marker.size}<br>longitude=%{lat}<br>latitude=%{lon}<extra></extra>\",\"hovertext\":[\"Bihar\",\"Jharkhand\",\"Odisha\",\"West Bengal\"],\"lat\":[25.0961,23.6102,20.9517,22.9868],\"legendgroup\":\"East\",\"lon\":[85.3131,85.2799,85.0985,87.855],\"marker\":{\"color\":\"#00cc96\",\"size\":[13.44,9.76,1.42,14.87],\"sizemode\":\"area\",\"sizeref\":0.189625,\"symbol\":\"circle\"},\"mode\":\"markers\",\"name\":\"East\",\"showlegend\":true,\"type\":\"scattergeo\"},{\"geo\":\"geo\",\"hovertemplate\":\"<b>%{hovertext}</b><br><br>region=West<br>month_int=8<br>estimated unemployment rate=%{marker.size}<br>longitude=%{lat}<br>latitude=%{lon}<extra></extra>\",\"hovertext\":[\"Chhattisgarh\",\"Goa\",\"Gujarat\",\"Madhya Pradesh\",\"Maharashtra\"],\"lat\":[21.2787,15.2993,22.2587,22.9734,19.7515],\"legendgroup\":\"West\",\"lon\":[81.8661,74.124,71.1924,78.6569,75.7139],\"marker\":{\"color\":\"#ab63fa\",\"size\":[5.63,16.21,1.87,4.7,6.23],\"sizemode\":\"area\",\"sizeref\":0.189625,\"symbol\":\"circle\"},\"mode\":\"markers\",\"name\":\"West\",\"showlegend\":true,\"type\":\"scattergeo\"},{\"geo\":\"geo\",\"hovertemplate\":\"<b>%{hovertext}</b><br><br>region=North<br>month_int=8<br>estimated unemployment rate=%{marker.size}<br>longitude=%{lat}<br>latitude=%{lon}<extra></extra>\",\"hovertext\":[\"Delhi\",\"Haryana\",\"Himachal Pradesh\",\"Jammu & Kashmir\",\"Punjab\",\"Rajasthan\",\"Uttar Pradesh\",\"Uttarakhand\"],\"lat\":[28.7041,29.0588,31.1048,33.7782,31.1471,27.0238,26.8467,30.0668],\"legendgroup\":\"North\",\"lon\":[77.1025,76.0856,77.1734,76.5762,75.3412,74.2179,80.9462,79.0193],\"marker\":{\"color\":\"#FFA15A\",\"size\":[13.79,33.5,15.79,11.09,10.99,17.51,5.79,14.26],\"sizemode\":\"area\",\"sizeref\":0.189625,\"symbol\":\"circle\"},\"mode\":\"markers\",\"name\":\"North\",\"showlegend\":true,\"type\":\"scattergeo\"}],\"name\":\"8\"},{\"data\":[{\"geo\":\"geo\",\"hovertemplate\":\"<b>%{hovertext}</b><br><br>region=South<br>month_int=9<br>estimated unemployment rate=%{marker.size}<br>longitude=%{lat}<br>latitude=%{lon}<extra></extra>\",\"hovertext\":[\"Andhra Pradesh\",\"Karnataka\",\"Kerala\",\"Puducherry\",\"Tamil Nadu\",\"Telangana\"],\"lat\":[15.9129,15.3173,10.8505,11.9416,11.1271,18.1124],\"legendgroup\":\"South\",\"lon\":[79.74,75.7139,76.2711,79.8083,78.6569,79.0193],\"marker\":{\"color\":\"#636efa\",\"size\":[6.4,2.41,5.91,10.9,5.0,3.27],\"sizemode\":\"area\",\"sizeref\":0.189625,\"symbol\":\"circle\"},\"mode\":\"markers\",\"name\":\"South\",\"showlegend\":true,\"type\":\"scattergeo\"},{\"geo\":\"geo\",\"hovertemplate\":\"<b>%{hovertext}</b><br><br>region=Northeast<br>month_int=9<br>estimated unemployment rate=%{marker.size}<br>longitude=%{lat}<br>latitude=%{lon}<extra></extra>\",\"hovertext\":[\"Assam\",\"Meghalaya\",\"Sikkim\",\"Tripura\"],\"lat\":[26.2006,25.467,27.533,23.9408],\"legendgroup\":\"Northeast\",\"lon\":[92.9376,91.3662,88.5122,91.9882],\"marker\":{\"color\":\"#EF553B\",\"size\":[1.19,4.29,5.7,17.35],\"sizemode\":\"area\",\"sizeref\":0.189625,\"symbol\":\"circle\"},\"mode\":\"markers\",\"name\":\"Northeast\",\"showlegend\":true,\"type\":\"scattergeo\"},{\"geo\":\"geo\",\"hovertemplate\":\"<b>%{hovertext}</b><br><br>region=East<br>month_int=9<br>estimated unemployment rate=%{marker.size}<br>longitude=%{lat}<br>latitude=%{lon}<extra></extra>\",\"hovertext\":[\"Bihar\",\"Jharkhand\",\"Odisha\",\"West Bengal\"],\"lat\":[25.0961,23.6102,20.9517,22.9868],\"legendgroup\":\"East\",\"lon\":[85.3131,85.2799,85.0985,87.855],\"marker\":{\"color\":\"#00cc96\",\"size\":[11.91,8.24,2.1,9.35],\"sizemode\":\"area\",\"sizeref\":0.189625,\"symbol\":\"circle\"},\"mode\":\"markers\",\"name\":\"East\",\"showlegend\":true,\"type\":\"scattergeo\"},{\"geo\":\"geo\",\"hovertemplate\":\"<b>%{hovertext}</b><br><br>region=West<br>month_int=9<br>estimated unemployment rate=%{marker.size}<br>longitude=%{lat}<br>latitude=%{lon}<extra></extra>\",\"hovertext\":[\"Chhattisgarh\",\"Goa\",\"Gujarat\",\"Madhya Pradesh\",\"Maharashtra\"],\"lat\":[21.2787,15.2993,22.2587,22.9734,19.7515],\"legendgroup\":\"West\",\"lon\":[81.8661,74.124,71.1924,78.6569,75.7139],\"marker\":{\"color\":\"#ab63fa\",\"size\":[1.96,15.38,3.42,3.91,4.55],\"sizemode\":\"area\",\"sizeref\":0.189625,\"symbol\":\"circle\"},\"mode\":\"markers\",\"name\":\"West\",\"showlegend\":true,\"type\":\"scattergeo\"},{\"geo\":\"geo\",\"hovertemplate\":\"<b>%{hovertext}</b><br><br>region=North<br>month_int=9<br>estimated unemployment rate=%{marker.size}<br>longitude=%{lat}<br>latitude=%{lon}<extra></extra>\",\"hovertext\":[\"Delhi\",\"Haryana\",\"Himachal Pradesh\",\"Jammu & Kashmir\",\"Punjab\",\"Rajasthan\",\"Uttar Pradesh\",\"Uttarakhand\"],\"lat\":[28.7041,29.0588,31.1048,33.7782,31.1471,27.0238,26.8467,30.0668],\"legendgroup\":\"North\",\"lon\":[77.1025,76.0856,77.1734,76.5762,75.3412,74.2179,80.9462,79.0193],\"marker\":{\"color\":\"#FFA15A\",\"size\":[12.53,19.68,12.04,16.17,9.61,15.35,4.18,22.26],\"sizemode\":\"area\",\"sizeref\":0.189625,\"symbol\":\"circle\"},\"mode\":\"markers\",\"name\":\"North\",\"showlegend\":true,\"type\":\"scattergeo\"}],\"name\":\"9\"},{\"data\":[{\"geo\":\"geo\",\"hovertemplate\":\"<b>%{hovertext}</b><br><br>region=South<br>month_int=10<br>estimated unemployment rate=%{marker.size}<br>longitude=%{lat}<br>latitude=%{lon}<extra></extra>\",\"hovertext\":[\"Andhra Pradesh\",\"Karnataka\",\"Kerala\",\"Puducherry\",\"Tamil Nadu\",\"Telangana\"],\"lat\":[15.9129,15.3173,10.8505,11.9416,11.1271,18.1124],\"legendgroup\":\"South\",\"lon\":[79.74,75.7139,76.2711,79.8083,78.6569,79.0193],\"marker\":{\"color\":\"#636efa\",\"size\":[6.59,1.58,3.88,6.18,2.16,2.86],\"sizemode\":\"area\",\"sizeref\":0.189625,\"symbol\":\"circle\"},\"mode\":\"markers\",\"name\":\"South\",\"showlegend\":true,\"type\":\"scattergeo\"},{\"geo\":\"geo\",\"hovertemplate\":\"<b>%{hovertext}</b><br><br>region=Northeast<br>month_int=10<br>estimated unemployment rate=%{marker.size}<br>longitude=%{lat}<br>latitude=%{lon}<extra></extra>\",\"hovertext\":[\"Assam\",\"Meghalaya\",\"Sikkim\",\"Tripura\"],\"lat\":[26.2006,25.467,27.533,23.9408],\"legendgroup\":\"Northeast\",\"lon\":[92.9376,91.3662,88.5122,91.9882],\"marker\":{\"color\":\"#EF553B\",\"size\":[3.02,4.6,0.88,11.57],\"sizemode\":\"area\",\"sizeref\":0.189625,\"symbol\":\"circle\"},\"mode\":\"markers\",\"name\":\"Northeast\",\"showlegend\":true,\"type\":\"scattergeo\"},{\"geo\":\"geo\",\"hovertemplate\":\"<b>%{hovertext}</b><br><br>region=East<br>month_int=10<br>estimated unemployment rate=%{marker.size}<br>longitude=%{lat}<br>latitude=%{lon}<extra></extra>\",\"hovertext\":[\"Bihar\",\"Jharkhand\",\"Odisha\",\"West Bengal\"],\"lat\":[25.0961,23.6102,20.9517,22.9868],\"legendgroup\":\"East\",\"lon\":[85.3131,85.2799,85.0985,87.855],\"marker\":{\"color\":\"#00cc96\",\"size\":[9.82,11.8,2.18,9.98],\"sizemode\":\"area\",\"sizeref\":0.189625,\"symbol\":\"circle\"},\"mode\":\"markers\",\"name\":\"East\",\"showlegend\":true,\"type\":\"scattergeo\"},{\"geo\":\"geo\",\"hovertemplate\":\"<b>%{hovertext}</b><br><br>region=West<br>month_int=10<br>estimated unemployment rate=%{marker.size}<br>longitude=%{lat}<br>latitude=%{lon}<extra></extra>\",\"hovertext\":[\"Chhattisgarh\",\"Goa\",\"Gujarat\",\"Madhya Pradesh\",\"Maharashtra\"],\"lat\":[21.2787,15.2993,22.2587,22.9734,19.7515],\"legendgroup\":\"West\",\"lon\":[81.8661,74.124,71.1924,78.6569,75.7139],\"marker\":{\"color\":\"#ab63fa\",\"size\":[6.62,11.54,4.03,3.13,4.1],\"sizemode\":\"area\",\"sizeref\":0.189625,\"symbol\":\"circle\"},\"mode\":\"markers\",\"name\":\"West\",\"showlegend\":true,\"type\":\"scattergeo\"},{\"geo\":\"geo\",\"hovertemplate\":\"<b>%{hovertext}</b><br><br>region=North<br>month_int=10<br>estimated unemployment rate=%{marker.size}<br>longitude=%{lat}<br>latitude=%{lon}<extra></extra>\",\"hovertext\":[\"Delhi\",\"Haryana\",\"Himachal Pradesh\",\"Jammu & Kashmir\",\"Punjab\",\"Rajasthan\",\"Uttar Pradesh\",\"Uttarakhand\"],\"lat\":[28.7041,29.0588,31.1048,33.7782,31.1471,27.0238,26.8467,30.0668],\"legendgroup\":\"North\",\"lon\":[77.1025,76.0856,77.1734,76.5762,75.3412,74.2179,80.9462,79.0193],\"marker\":{\"color\":\"#FFA15A\",\"size\":[6.27,27.31,13.46,16.14,9.88,24.15,3.75,9.23],\"sizemode\":\"area\",\"sizeref\":0.189625,\"symbol\":\"circle\"},\"mode\":\"markers\",\"name\":\"North\",\"showlegend\":true,\"type\":\"scattergeo\"}],\"name\":\"10\"}]);\n",
       "                        }).then(function(){\n",
       "                            \n",
       "var gd = document.getElementById('1a29805a-2064-4b64-9de3-491bd7c52742');\n",
       "var x = new MutationObserver(function (mutations, observer) {{\n",
       "        var display = window.getComputedStyle(gd).display;\n",
       "        if (!display || display === 'none') {{\n",
       "            console.log([gd, 'removed!']);\n",
       "            Plotly.purge(gd);\n",
       "            observer.disconnect();\n",
       "        }}\n",
       "}});\n",
       "\n",
       "// Listen for the removal of the full notebook cells\n",
       "var notebookContainer = gd.closest('#notebook-container');\n",
       "if (notebookContainer) {{\n",
       "    x.observe(notebookContainer, {childList: true});\n",
       "}}\n",
       "\n",
       "// Listen for the clearing of the current output cell\n",
       "var outputEl = gd.closest('.output');\n",
       "if (outputEl) {{\n",
       "    x.observe(outputEl, {childList: true});\n",
       "}}\n",
       "\n",
       "                        })                };                });            </script>        </div>"
      ]
     },
     "metadata": {},
     "output_type": "display_data"
    }
   ],
   "source": [
    "fig = px.scatter_geo(data,'longitude', 'latitude', color=\"region\",\n",
    "                     hover_name=\"state\", size=\"estimated unemployment rate\",\n",
    "                     animation_frame=\"month_int\",scope='asia',template='plotly',title='Impact of lockdown on employement across regions')\n",
    "\n",
    "fig.layout.updatemenus[0].buttons[0].args[1][\"frame\"][\"duration\"] = 2000\n",
    "\n",
    "fig.update_geos(lataxis_range=[5,35], lonaxis_range=[65, 100],oceancolor=\"#6dd5ed\",\n",
    "    showocean=True)\n",
    "\n",
    "fig.show()\n"
   ]
  },
  {
   "cell_type": "code",
   "execution_count": 24,
   "metadata": {
    "execution": {
     "iopub.execute_input": "2023-09-07T06:23:25.505508Z",
     "iopub.status.busy": "2023-09-07T06:23:25.504968Z",
     "iopub.status.idle": "2023-09-07T06:23:25.516554Z",
     "shell.execute_reply": "2023-09-07T06:23:25.515147Z"
    },
    "papermill": {
     "duration": 0.108774,
     "end_time": "2023-09-07T06:23:25.519087",
     "exception": false,
     "start_time": "2023-09-07T06:23:25.410313",
     "status": "completed"
    },
    "tags": []
   },
   "outputs": [],
   "source": [
    "#data representation before and after the lockdown\n",
    "after_lockdown = data[(data['month_int'] >= 4) & (data['month_int'] <=6)]\n",
    "before_lockdown = data[(data['month_int'] >= 1) & (data['month_int'] <=4)]\n"
   ]
  },
  {
   "cell_type": "code",
   "execution_count": 25,
   "metadata": {
    "execution": {
     "iopub.execute_input": "2023-09-07T06:23:25.706036Z",
     "iopub.status.busy": "2023-09-07T06:23:25.705585Z",
     "iopub.status.idle": "2023-09-07T06:23:25.725978Z",
     "shell.execute_reply": "2023-09-07T06:23:25.724529Z"
    },
    "papermill": {
     "duration": 0.117588,
     "end_time": "2023-09-07T06:23:25.728759",
     "exception": false,
     "start_time": "2023-09-07T06:23:25.611171",
     "status": "completed"
    },
    "tags": []
   },
   "outputs": [
    {
     "data": {
      "text/html": [
       "<div>\n",
       "<style scoped>\n",
       "    .dataframe tbody tr th:only-of-type {\n",
       "        vertical-align: middle;\n",
       "    }\n",
       "\n",
       "    .dataframe tbody tr th {\n",
       "        vertical-align: top;\n",
       "    }\n",
       "\n",
       "    .dataframe thead th {\n",
       "        text-align: right;\n",
       "    }\n",
       "</style>\n",
       "<table border=\"1\" class=\"dataframe\">\n",
       "  <thead>\n",
       "    <tr style=\"text-align: right;\">\n",
       "      <th></th>\n",
       "      <th>state</th>\n",
       "      <th>unemployment rate before lockdown</th>\n",
       "      <th>unemployment rate after lockdown</th>\n",
       "    </tr>\n",
       "  </thead>\n",
       "  <tbody>\n",
       "    <tr>\n",
       "      <th>0</th>\n",
       "      <td>Andhra Pradesh</td>\n",
       "      <td>9.4025</td>\n",
       "      <td>13.750000</td>\n",
       "    </tr>\n",
       "    <tr>\n",
       "      <th>1</th>\n",
       "      <td>Assam</td>\n",
       "      <td>6.2250</td>\n",
       "      <td>7.070000</td>\n",
       "    </tr>\n",
       "    <tr>\n",
       "      <th>2</th>\n",
       "      <td>Bihar</td>\n",
       "      <td>20.7425</td>\n",
       "      <td>36.806667</td>\n",
       "    </tr>\n",
       "    <tr>\n",
       "      <th>3</th>\n",
       "      <td>Chhattisgarh</td>\n",
       "      <td>7.2450</td>\n",
       "      <td>9.380000</td>\n",
       "    </tr>\n",
       "    <tr>\n",
       "      <th>4</th>\n",
       "      <td>Delhi</td>\n",
       "      <td>17.6975</td>\n",
       "      <td>25.713333</td>\n",
       "    </tr>\n",
       "  </tbody>\n",
       "</table>\n",
       "</div>"
      ],
      "text/plain": [
       "            state  unemployment rate before lockdown  \\\n",
       "0  Andhra Pradesh                             9.4025   \n",
       "1           Assam                             6.2250   \n",
       "2           Bihar                            20.7425   \n",
       "3    Chhattisgarh                             7.2450   \n",
       "4           Delhi                            17.6975   \n",
       "\n",
       "   unemployment rate after lockdown  \n",
       "0                         13.750000  \n",
       "1                          7.070000  \n",
       "2                         36.806667  \n",
       "3                          9.380000  \n",
       "4                         25.713333  "
      ]
     },
     "execution_count": 25,
     "metadata": {},
     "output_type": "execute_result"
    }
   ],
   "source": [
    "af_lockdown=after_lockdown.groupby('state')['estimated unemployment rate'].mean().reset_index()\n",
    "lockdown= before_lockdown.groupby('state')['estimated unemployment rate'].mean().reset_index()\n",
    "lockdown['unemployment rate before lockdown'] = af_lockdown['estimated unemployment rate']\n",
    "\n",
    "lockdown.columns=['state','unemployment rate before lockdown','unemployment rate after lockdown']\n",
    "lockdown.head()"
   ]
  },
  {
   "cell_type": "code",
   "execution_count": 26,
   "metadata": {
    "execution": {
     "iopub.execute_input": "2023-09-07T06:23:25.916089Z",
     "iopub.status.busy": "2023-09-07T06:23:25.915557Z",
     "iopub.status.idle": "2023-09-07T06:23:25.923928Z",
     "shell.execute_reply": "2023-09-07T06:23:25.922426Z"
    },
    "papermill": {
     "duration": 0.106209,
     "end_time": "2023-09-07T06:23:25.926704",
     "exception": false,
     "start_time": "2023-09-07T06:23:25.820495",
     "status": "completed"
    },
    "tags": []
   },
   "outputs": [],
   "source": [
    "#Unemployment rate change after lockdown\n",
    "lockdown['rate change in unemployment']=round(lockdown['unemployment rate before lockdown']-lockdown['unemployment rate before lockdown']\n",
    "                                             /lockdown['unemployment rate after lockdown'],2)"
   ]
  },
  {
   "cell_type": "code",
   "execution_count": 27,
   "metadata": {
    "execution": {
     "iopub.execute_input": "2023-09-07T06:23:26.143654Z",
     "iopub.status.busy": "2023-09-07T06:23:26.143182Z",
     "iopub.status.idle": "2023-09-07T06:23:26.267548Z",
     "shell.execute_reply": "2023-09-07T06:23:26.266134Z"
    },
    "papermill": {
     "duration": 0.226825,
     "end_time": "2023-09-07T06:23:26.270469",
     "exception": false,
     "start_time": "2023-09-07T06:23:26.043644",
     "status": "completed"
    },
    "tags": []
   },
   "outputs": [
    {
     "data": {
      "application/vnd.plotly.v1+json": {
       "config": {
        "plotlyServerURL": "https://plot.ly"
       },
       "data": [
        {
         "alignmentgroup": "True",
         "hovertemplate": "state=%{x}<br>rate change in unemployment=%{marker.color}<extra></extra>",
         "legendgroup": "",
         "marker": {
          "color": [
           8.72,
           5.34,
           20.18,
           6.47,
           17.01,
           7.06,
           8.5,
           27.73,
           12.7,
           18.08,
           18.99,
           9.43,
           9.07,
           5.39,
           8.48,
           3.48,
           9.66,
           19.42,
           8.26,
           13.06,
           11.68,
           14.5,
           5.84,
           31.89,
           11.35,
           8.01,
           8.4
          ],
          "coloraxis": "coloraxis",
          "pattern": {
           "shape": ""
          }
         },
         "name": "",
         "offsetgroup": "",
         "orientation": "v",
         "showlegend": false,
         "textposition": "auto",
         "type": "bar",
         "x": [
          "Andhra Pradesh",
          "Assam",
          "Bihar",
          "Chhattisgarh",
          "Delhi",
          "Goa",
          "Gujarat",
          "Haryana",
          "Himachal Pradesh",
          "Jammu & Kashmir",
          "Jharkhand",
          "Karnataka",
          "Kerala",
          "Madhya Pradesh",
          "Maharashtra",
          "Meghalaya",
          "Odisha",
          "Puducherry",
          "Punjab",
          "Rajasthan",
          "Sikkim",
          "Tamil Nadu",
          "Telangana",
          "Tripura",
          "Uttar Pradesh",
          "Uttarakhand",
          "West Bengal"
         ],
         "xaxis": "x",
         "y": [
          8.72,
          5.34,
          20.18,
          6.47,
          17.01,
          7.06,
          8.5,
          27.73,
          12.7,
          18.08,
          18.99,
          9.43,
          9.07,
          5.39,
          8.48,
          3.48,
          9.66,
          19.42,
          8.26,
          13.06,
          11.68,
          14.5,
          5.84,
          31.89,
          11.35,
          8.01,
          8.4
         ],
         "yaxis": "y"
        }
       ],
       "layout": {
        "barmode": "relative",
        "coloraxis": {
         "colorbar": {
          "title": {
           "text": "rate change in unemployment"
          }
         },
         "colorscale": [
          [
           0,
           "rgb(20,44,66)"
          ],
          [
           1,
           "rgb(90,179,244)"
          ]
         ]
        },
        "legend": {
         "tracegroupgap": 0
        },
        "template": {
         "data": {
          "bar": [
           {
            "error_x": {
             "color": "rgb(51,51,51)"
            },
            "error_y": {
             "color": "rgb(51,51,51)"
            },
            "marker": {
             "line": {
              "color": "rgb(237,237,237)",
              "width": 0.5
             },
             "pattern": {
              "fillmode": "overlay",
              "size": 10,
              "solidity": 0.2
             }
            },
            "type": "bar"
           }
          ],
          "barpolar": [
           {
            "marker": {
             "line": {
              "color": "rgb(237,237,237)",
              "width": 0.5
             },
             "pattern": {
              "fillmode": "overlay",
              "size": 10,
              "solidity": 0.2
             }
            },
            "type": "barpolar"
           }
          ],
          "carpet": [
           {
            "aaxis": {
             "endlinecolor": "rgb(51,51,51)",
             "gridcolor": "white",
             "linecolor": "white",
             "minorgridcolor": "white",
             "startlinecolor": "rgb(51,51,51)"
            },
            "baxis": {
             "endlinecolor": "rgb(51,51,51)",
             "gridcolor": "white",
             "linecolor": "white",
             "minorgridcolor": "white",
             "startlinecolor": "rgb(51,51,51)"
            },
            "type": "carpet"
           }
          ],
          "choropleth": [
           {
            "colorbar": {
             "outlinewidth": 0,
             "tickcolor": "rgb(237,237,237)",
             "ticklen": 6,
             "ticks": "inside"
            },
            "type": "choropleth"
           }
          ],
          "contour": [
           {
            "colorbar": {
             "outlinewidth": 0,
             "tickcolor": "rgb(237,237,237)",
             "ticklen": 6,
             "ticks": "inside"
            },
            "colorscale": [
             [
              0,
              "rgb(20,44,66)"
             ],
             [
              1,
              "rgb(90,179,244)"
             ]
            ],
            "type": "contour"
           }
          ],
          "contourcarpet": [
           {
            "colorbar": {
             "outlinewidth": 0,
             "tickcolor": "rgb(237,237,237)",
             "ticklen": 6,
             "ticks": "inside"
            },
            "type": "contourcarpet"
           }
          ],
          "heatmap": [
           {
            "colorbar": {
             "outlinewidth": 0,
             "tickcolor": "rgb(237,237,237)",
             "ticklen": 6,
             "ticks": "inside"
            },
            "colorscale": [
             [
              0,
              "rgb(20,44,66)"
             ],
             [
              1,
              "rgb(90,179,244)"
             ]
            ],
            "type": "heatmap"
           }
          ],
          "heatmapgl": [
           {
            "colorbar": {
             "outlinewidth": 0,
             "tickcolor": "rgb(237,237,237)",
             "ticklen": 6,
             "ticks": "inside"
            },
            "colorscale": [
             [
              0,
              "rgb(20,44,66)"
             ],
             [
              1,
              "rgb(90,179,244)"
             ]
            ],
            "type": "heatmapgl"
           }
          ],
          "histogram": [
           {
            "marker": {
             "pattern": {
              "fillmode": "overlay",
              "size": 10,
              "solidity": 0.2
             }
            },
            "type": "histogram"
           }
          ],
          "histogram2d": [
           {
            "colorbar": {
             "outlinewidth": 0,
             "tickcolor": "rgb(237,237,237)",
             "ticklen": 6,
             "ticks": "inside"
            },
            "colorscale": [
             [
              0,
              "rgb(20,44,66)"
             ],
             [
              1,
              "rgb(90,179,244)"
             ]
            ],
            "type": "histogram2d"
           }
          ],
          "histogram2dcontour": [
           {
            "colorbar": {
             "outlinewidth": 0,
             "tickcolor": "rgb(237,237,237)",
             "ticklen": 6,
             "ticks": "inside"
            },
            "colorscale": [
             [
              0,
              "rgb(20,44,66)"
             ],
             [
              1,
              "rgb(90,179,244)"
             ]
            ],
            "type": "histogram2dcontour"
           }
          ],
          "mesh3d": [
           {
            "colorbar": {
             "outlinewidth": 0,
             "tickcolor": "rgb(237,237,237)",
             "ticklen": 6,
             "ticks": "inside"
            },
            "type": "mesh3d"
           }
          ],
          "parcoords": [
           {
            "line": {
             "colorbar": {
              "outlinewidth": 0,
              "tickcolor": "rgb(237,237,237)",
              "ticklen": 6,
              "ticks": "inside"
             }
            },
            "type": "parcoords"
           }
          ],
          "pie": [
           {
            "automargin": true,
            "type": "pie"
           }
          ],
          "scatter": [
           {
            "fillpattern": {
             "fillmode": "overlay",
             "size": 10,
             "solidity": 0.2
            },
            "type": "scatter"
           }
          ],
          "scatter3d": [
           {
            "line": {
             "colorbar": {
              "outlinewidth": 0,
              "tickcolor": "rgb(237,237,237)",
              "ticklen": 6,
              "ticks": "inside"
             }
            },
            "marker": {
             "colorbar": {
              "outlinewidth": 0,
              "tickcolor": "rgb(237,237,237)",
              "ticklen": 6,
              "ticks": "inside"
             }
            },
            "type": "scatter3d"
           }
          ],
          "scattercarpet": [
           {
            "marker": {
             "colorbar": {
              "outlinewidth": 0,
              "tickcolor": "rgb(237,237,237)",
              "ticklen": 6,
              "ticks": "inside"
             }
            },
            "type": "scattercarpet"
           }
          ],
          "scattergeo": [
           {
            "marker": {
             "colorbar": {
              "outlinewidth": 0,
              "tickcolor": "rgb(237,237,237)",
              "ticklen": 6,
              "ticks": "inside"
             }
            },
            "type": "scattergeo"
           }
          ],
          "scattergl": [
           {
            "marker": {
             "colorbar": {
              "outlinewidth": 0,
              "tickcolor": "rgb(237,237,237)",
              "ticklen": 6,
              "ticks": "inside"
             }
            },
            "type": "scattergl"
           }
          ],
          "scattermapbox": [
           {
            "marker": {
             "colorbar": {
              "outlinewidth": 0,
              "tickcolor": "rgb(237,237,237)",
              "ticklen": 6,
              "ticks": "inside"
             }
            },
            "type": "scattermapbox"
           }
          ],
          "scatterpolar": [
           {
            "marker": {
             "colorbar": {
              "outlinewidth": 0,
              "tickcolor": "rgb(237,237,237)",
              "ticklen": 6,
              "ticks": "inside"
             }
            },
            "type": "scatterpolar"
           }
          ],
          "scatterpolargl": [
           {
            "marker": {
             "colorbar": {
              "outlinewidth": 0,
              "tickcolor": "rgb(237,237,237)",
              "ticklen": 6,
              "ticks": "inside"
             }
            },
            "type": "scatterpolargl"
           }
          ],
          "scatterternary": [
           {
            "marker": {
             "colorbar": {
              "outlinewidth": 0,
              "tickcolor": "rgb(237,237,237)",
              "ticklen": 6,
              "ticks": "inside"
             }
            },
            "type": "scatterternary"
           }
          ],
          "surface": [
           {
            "colorbar": {
             "outlinewidth": 0,
             "tickcolor": "rgb(237,237,237)",
             "ticklen": 6,
             "ticks": "inside"
            },
            "colorscale": [
             [
              0,
              "rgb(20,44,66)"
             ],
             [
              1,
              "rgb(90,179,244)"
             ]
            ],
            "type": "surface"
           }
          ],
          "table": [
           {
            "cells": {
             "fill": {
              "color": "rgb(237,237,237)"
             },
             "line": {
              "color": "white"
             }
            },
            "header": {
             "fill": {
              "color": "rgb(217,217,217)"
             },
             "line": {
              "color": "white"
             }
            },
            "type": "table"
           }
          ]
         },
         "layout": {
          "annotationdefaults": {
           "arrowhead": 0,
           "arrowwidth": 1
          },
          "autotypenumbers": "strict",
          "coloraxis": {
           "colorbar": {
            "outlinewidth": 0,
            "tickcolor": "rgb(237,237,237)",
            "ticklen": 6,
            "ticks": "inside"
           }
          },
          "colorscale": {
           "sequential": [
            [
             0,
             "rgb(20,44,66)"
            ],
            [
             1,
             "rgb(90,179,244)"
            ]
           ],
           "sequentialminus": [
            [
             0,
             "rgb(20,44,66)"
            ],
            [
             1,
             "rgb(90,179,244)"
            ]
           ]
          },
          "colorway": [
           "#F8766D",
           "#A3A500",
           "#00BF7D",
           "#00B0F6",
           "#E76BF3"
          ],
          "font": {
           "color": "rgb(51,51,51)"
          },
          "geo": {
           "bgcolor": "white",
           "lakecolor": "white",
           "landcolor": "rgb(237,237,237)",
           "showlakes": true,
           "showland": true,
           "subunitcolor": "white"
          },
          "hoverlabel": {
           "align": "left"
          },
          "hovermode": "closest",
          "paper_bgcolor": "white",
          "plot_bgcolor": "rgb(237,237,237)",
          "polar": {
           "angularaxis": {
            "gridcolor": "white",
            "linecolor": "white",
            "showgrid": true,
            "tickcolor": "rgb(51,51,51)",
            "ticks": "outside"
           },
           "bgcolor": "rgb(237,237,237)",
           "radialaxis": {
            "gridcolor": "white",
            "linecolor": "white",
            "showgrid": true,
            "tickcolor": "rgb(51,51,51)",
            "ticks": "outside"
           }
          },
          "scene": {
           "xaxis": {
            "backgroundcolor": "rgb(237,237,237)",
            "gridcolor": "white",
            "gridwidth": 2,
            "linecolor": "white",
            "showbackground": true,
            "showgrid": true,
            "tickcolor": "rgb(51,51,51)",
            "ticks": "outside",
            "zerolinecolor": "white"
           },
           "yaxis": {
            "backgroundcolor": "rgb(237,237,237)",
            "gridcolor": "white",
            "gridwidth": 2,
            "linecolor": "white",
            "showbackground": true,
            "showgrid": true,
            "tickcolor": "rgb(51,51,51)",
            "ticks": "outside",
            "zerolinecolor": "white"
           },
           "zaxis": {
            "backgroundcolor": "rgb(237,237,237)",
            "gridcolor": "white",
            "gridwidth": 2,
            "linecolor": "white",
            "showbackground": true,
            "showgrid": true,
            "tickcolor": "rgb(51,51,51)",
            "ticks": "outside",
            "zerolinecolor": "white"
           }
          },
          "shapedefaults": {
           "fillcolor": "black",
           "line": {
            "width": 0
           },
           "opacity": 0.3
          },
          "ternary": {
           "aaxis": {
            "gridcolor": "white",
            "linecolor": "white",
            "showgrid": true,
            "tickcolor": "rgb(51,51,51)",
            "ticks": "outside"
           },
           "baxis": {
            "gridcolor": "white",
            "linecolor": "white",
            "showgrid": true,
            "tickcolor": "rgb(51,51,51)",
            "ticks": "outside"
           },
           "bgcolor": "rgb(237,237,237)",
           "caxis": {
            "gridcolor": "white",
            "linecolor": "white",
            "showgrid": true,
            "tickcolor": "rgb(51,51,51)",
            "ticks": "outside"
           }
          },
          "xaxis": {
           "automargin": true,
           "gridcolor": "white",
           "linecolor": "white",
           "showgrid": true,
           "tickcolor": "rgb(51,51,51)",
           "ticks": "outside",
           "title": {
            "standoff": 15
           },
           "zerolinecolor": "white"
          },
          "yaxis": {
           "automargin": true,
           "gridcolor": "white",
           "linecolor": "white",
           "showgrid": true,
           "tickcolor": "rgb(51,51,51)",
           "ticks": "outside",
           "title": {
            "standoff": 15
           },
           "zerolinecolor": "white"
          }
         }
        },
        "title": {
         "text": "Percentage change in unemployment rate in each state after lockdown"
        },
        "xaxis": {
         "anchor": "y",
         "categoryorder": "total ascending",
         "domain": [
          0,
          1
         ],
         "title": {
          "text": "state"
         }
        },
        "yaxis": {
         "anchor": "x",
         "domain": [
          0,
          1
         ],
         "title": {
          "text": "rate change in unemployment"
         }
        }
       }
      },
      "text/html": [
       "<div>                            <div id=\"4547d57c-1fc6-450d-bcf2-cac5a5c8cd06\" class=\"plotly-graph-div\" style=\"height:525px; width:100%;\"></div>            <script type=\"text/javascript\">                require([\"plotly\"], function(Plotly) {                    window.PLOTLYENV=window.PLOTLYENV || {};                                    if (document.getElementById(\"4547d57c-1fc6-450d-bcf2-cac5a5c8cd06\")) {                    Plotly.newPlot(                        \"4547d57c-1fc6-450d-bcf2-cac5a5c8cd06\",                        [{\"alignmentgroup\":\"True\",\"hovertemplate\":\"state=%{x}<br>rate change in unemployment=%{marker.color}<extra></extra>\",\"legendgroup\":\"\",\"marker\":{\"color\":[8.72,5.34,20.18,6.47,17.01,7.06,8.5,27.73,12.7,18.08,18.99,9.43,9.07,5.39,8.48,3.48,9.66,19.42,8.26,13.06,11.68,14.5,5.84,31.89,11.35,8.01,8.4],\"coloraxis\":\"coloraxis\",\"pattern\":{\"shape\":\"\"}},\"name\":\"\",\"offsetgroup\":\"\",\"orientation\":\"v\",\"showlegend\":false,\"textposition\":\"auto\",\"x\":[\"Andhra Pradesh\",\"Assam\",\"Bihar\",\"Chhattisgarh\",\"Delhi\",\"Goa\",\"Gujarat\",\"Haryana\",\"Himachal Pradesh\",\"Jammu & Kashmir\",\"Jharkhand\",\"Karnataka\",\"Kerala\",\"Madhya Pradesh\",\"Maharashtra\",\"Meghalaya\",\"Odisha\",\"Puducherry\",\"Punjab\",\"Rajasthan\",\"Sikkim\",\"Tamil Nadu\",\"Telangana\",\"Tripura\",\"Uttar Pradesh\",\"Uttarakhand\",\"West Bengal\"],\"xaxis\":\"x\",\"y\":[8.72,5.34,20.18,6.47,17.01,7.06,8.5,27.73,12.7,18.08,18.99,9.43,9.07,5.39,8.48,3.48,9.66,19.42,8.26,13.06,11.68,14.5,5.84,31.89,11.35,8.01,8.4],\"yaxis\":\"y\",\"type\":\"bar\"}],                        {\"template\":{\"data\":{\"barpolar\":[{\"marker\":{\"line\":{\"color\":\"rgb(237,237,237)\",\"width\":0.5},\"pattern\":{\"fillmode\":\"overlay\",\"size\":10,\"solidity\":0.2}},\"type\":\"barpolar\"}],\"bar\":[{\"error_x\":{\"color\":\"rgb(51,51,51)\"},\"error_y\":{\"color\":\"rgb(51,51,51)\"},\"marker\":{\"line\":{\"color\":\"rgb(237,237,237)\",\"width\":0.5},\"pattern\":{\"fillmode\":\"overlay\",\"size\":10,\"solidity\":0.2}},\"type\":\"bar\"}],\"carpet\":[{\"aaxis\":{\"endlinecolor\":\"rgb(51,51,51)\",\"gridcolor\":\"white\",\"linecolor\":\"white\",\"minorgridcolor\":\"white\",\"startlinecolor\":\"rgb(51,51,51)\"},\"baxis\":{\"endlinecolor\":\"rgb(51,51,51)\",\"gridcolor\":\"white\",\"linecolor\":\"white\",\"minorgridcolor\":\"white\",\"startlinecolor\":\"rgb(51,51,51)\"},\"type\":\"carpet\"}],\"choropleth\":[{\"colorbar\":{\"outlinewidth\":0,\"tickcolor\":\"rgb(237,237,237)\",\"ticklen\":6,\"ticks\":\"inside\"},\"type\":\"choropleth\"}],\"contourcarpet\":[{\"colorbar\":{\"outlinewidth\":0,\"tickcolor\":\"rgb(237,237,237)\",\"ticklen\":6,\"ticks\":\"inside\"},\"type\":\"contourcarpet\"}],\"contour\":[{\"colorbar\":{\"outlinewidth\":0,\"tickcolor\":\"rgb(237,237,237)\",\"ticklen\":6,\"ticks\":\"inside\"},\"colorscale\":[[0,\"rgb(20,44,66)\"],[1,\"rgb(90,179,244)\"]],\"type\":\"contour\"}],\"heatmapgl\":[{\"colorbar\":{\"outlinewidth\":0,\"tickcolor\":\"rgb(237,237,237)\",\"ticklen\":6,\"ticks\":\"inside\"},\"colorscale\":[[0,\"rgb(20,44,66)\"],[1,\"rgb(90,179,244)\"]],\"type\":\"heatmapgl\"}],\"heatmap\":[{\"colorbar\":{\"outlinewidth\":0,\"tickcolor\":\"rgb(237,237,237)\",\"ticklen\":6,\"ticks\":\"inside\"},\"colorscale\":[[0,\"rgb(20,44,66)\"],[1,\"rgb(90,179,244)\"]],\"type\":\"heatmap\"}],\"histogram2dcontour\":[{\"colorbar\":{\"outlinewidth\":0,\"tickcolor\":\"rgb(237,237,237)\",\"ticklen\":6,\"ticks\":\"inside\"},\"colorscale\":[[0,\"rgb(20,44,66)\"],[1,\"rgb(90,179,244)\"]],\"type\":\"histogram2dcontour\"}],\"histogram2d\":[{\"colorbar\":{\"outlinewidth\":0,\"tickcolor\":\"rgb(237,237,237)\",\"ticklen\":6,\"ticks\":\"inside\"},\"colorscale\":[[0,\"rgb(20,44,66)\"],[1,\"rgb(90,179,244)\"]],\"type\":\"histogram2d\"}],\"histogram\":[{\"marker\":{\"pattern\":{\"fillmode\":\"overlay\",\"size\":10,\"solidity\":0.2}},\"type\":\"histogram\"}],\"mesh3d\":[{\"colorbar\":{\"outlinewidth\":0,\"tickcolor\":\"rgb(237,237,237)\",\"ticklen\":6,\"ticks\":\"inside\"},\"type\":\"mesh3d\"}],\"parcoords\":[{\"line\":{\"colorbar\":{\"outlinewidth\":0,\"tickcolor\":\"rgb(237,237,237)\",\"ticklen\":6,\"ticks\":\"inside\"}},\"type\":\"parcoords\"}],\"pie\":[{\"automargin\":true,\"type\":\"pie\"}],\"scatter3d\":[{\"line\":{\"colorbar\":{\"outlinewidth\":0,\"tickcolor\":\"rgb(237,237,237)\",\"ticklen\":6,\"ticks\":\"inside\"}},\"marker\":{\"colorbar\":{\"outlinewidth\":0,\"tickcolor\":\"rgb(237,237,237)\",\"ticklen\":6,\"ticks\":\"inside\"}},\"type\":\"scatter3d\"}],\"scattercarpet\":[{\"marker\":{\"colorbar\":{\"outlinewidth\":0,\"tickcolor\":\"rgb(237,237,237)\",\"ticklen\":6,\"ticks\":\"inside\"}},\"type\":\"scattercarpet\"}],\"scattergeo\":[{\"marker\":{\"colorbar\":{\"outlinewidth\":0,\"tickcolor\":\"rgb(237,237,237)\",\"ticklen\":6,\"ticks\":\"inside\"}},\"type\":\"scattergeo\"}],\"scattergl\":[{\"marker\":{\"colorbar\":{\"outlinewidth\":0,\"tickcolor\":\"rgb(237,237,237)\",\"ticklen\":6,\"ticks\":\"inside\"}},\"type\":\"scattergl\"}],\"scattermapbox\":[{\"marker\":{\"colorbar\":{\"outlinewidth\":0,\"tickcolor\":\"rgb(237,237,237)\",\"ticklen\":6,\"ticks\":\"inside\"}},\"type\":\"scattermapbox\"}],\"scatterpolargl\":[{\"marker\":{\"colorbar\":{\"outlinewidth\":0,\"tickcolor\":\"rgb(237,237,237)\",\"ticklen\":6,\"ticks\":\"inside\"}},\"type\":\"scatterpolargl\"}],\"scatterpolar\":[{\"marker\":{\"colorbar\":{\"outlinewidth\":0,\"tickcolor\":\"rgb(237,237,237)\",\"ticklen\":6,\"ticks\":\"inside\"}},\"type\":\"scatterpolar\"}],\"scatter\":[{\"fillpattern\":{\"fillmode\":\"overlay\",\"size\":10,\"solidity\":0.2},\"type\":\"scatter\"}],\"scatterternary\":[{\"marker\":{\"colorbar\":{\"outlinewidth\":0,\"tickcolor\":\"rgb(237,237,237)\",\"ticklen\":6,\"ticks\":\"inside\"}},\"type\":\"scatterternary\"}],\"surface\":[{\"colorbar\":{\"outlinewidth\":0,\"tickcolor\":\"rgb(237,237,237)\",\"ticklen\":6,\"ticks\":\"inside\"},\"colorscale\":[[0,\"rgb(20,44,66)\"],[1,\"rgb(90,179,244)\"]],\"type\":\"surface\"}],\"table\":[{\"cells\":{\"fill\":{\"color\":\"rgb(237,237,237)\"},\"line\":{\"color\":\"white\"}},\"header\":{\"fill\":{\"color\":\"rgb(217,217,217)\"},\"line\":{\"color\":\"white\"}},\"type\":\"table\"}]},\"layout\":{\"annotationdefaults\":{\"arrowhead\":0,\"arrowwidth\":1},\"autotypenumbers\":\"strict\",\"coloraxis\":{\"colorbar\":{\"outlinewidth\":0,\"tickcolor\":\"rgb(237,237,237)\",\"ticklen\":6,\"ticks\":\"inside\"}},\"colorscale\":{\"sequential\":[[0,\"rgb(20,44,66)\"],[1,\"rgb(90,179,244)\"]],\"sequentialminus\":[[0,\"rgb(20,44,66)\"],[1,\"rgb(90,179,244)\"]]},\"colorway\":[\"#F8766D\",\"#A3A500\",\"#00BF7D\",\"#00B0F6\",\"#E76BF3\"],\"font\":{\"color\":\"rgb(51,51,51)\"},\"geo\":{\"bgcolor\":\"white\",\"lakecolor\":\"white\",\"landcolor\":\"rgb(237,237,237)\",\"showlakes\":true,\"showland\":true,\"subunitcolor\":\"white\"},\"hoverlabel\":{\"align\":\"left\"},\"hovermode\":\"closest\",\"paper_bgcolor\":\"white\",\"plot_bgcolor\":\"rgb(237,237,237)\",\"polar\":{\"angularaxis\":{\"gridcolor\":\"white\",\"linecolor\":\"white\",\"showgrid\":true,\"tickcolor\":\"rgb(51,51,51)\",\"ticks\":\"outside\"},\"bgcolor\":\"rgb(237,237,237)\",\"radialaxis\":{\"gridcolor\":\"white\",\"linecolor\":\"white\",\"showgrid\":true,\"tickcolor\":\"rgb(51,51,51)\",\"ticks\":\"outside\"}},\"scene\":{\"xaxis\":{\"backgroundcolor\":\"rgb(237,237,237)\",\"gridcolor\":\"white\",\"gridwidth\":2,\"linecolor\":\"white\",\"showbackground\":true,\"showgrid\":true,\"tickcolor\":\"rgb(51,51,51)\",\"ticks\":\"outside\",\"zerolinecolor\":\"white\"},\"yaxis\":{\"backgroundcolor\":\"rgb(237,237,237)\",\"gridcolor\":\"white\",\"gridwidth\":2,\"linecolor\":\"white\",\"showbackground\":true,\"showgrid\":true,\"tickcolor\":\"rgb(51,51,51)\",\"ticks\":\"outside\",\"zerolinecolor\":\"white\"},\"zaxis\":{\"backgroundcolor\":\"rgb(237,237,237)\",\"gridcolor\":\"white\",\"gridwidth\":2,\"linecolor\":\"white\",\"showbackground\":true,\"showgrid\":true,\"tickcolor\":\"rgb(51,51,51)\",\"ticks\":\"outside\",\"zerolinecolor\":\"white\"}},\"shapedefaults\":{\"fillcolor\":\"black\",\"line\":{\"width\":0},\"opacity\":0.3},\"ternary\":{\"aaxis\":{\"gridcolor\":\"white\",\"linecolor\":\"white\",\"showgrid\":true,\"tickcolor\":\"rgb(51,51,51)\",\"ticks\":\"outside\"},\"baxis\":{\"gridcolor\":\"white\",\"linecolor\":\"white\",\"showgrid\":true,\"tickcolor\":\"rgb(51,51,51)\",\"ticks\":\"outside\"},\"bgcolor\":\"rgb(237,237,237)\",\"caxis\":{\"gridcolor\":\"white\",\"linecolor\":\"white\",\"showgrid\":true,\"tickcolor\":\"rgb(51,51,51)\",\"ticks\":\"outside\"}},\"xaxis\":{\"automargin\":true,\"gridcolor\":\"white\",\"linecolor\":\"white\",\"showgrid\":true,\"tickcolor\":\"rgb(51,51,51)\",\"ticks\":\"outside\",\"title\":{\"standoff\":15},\"zerolinecolor\":\"white\"},\"yaxis\":{\"automargin\":true,\"gridcolor\":\"white\",\"linecolor\":\"white\",\"showgrid\":true,\"tickcolor\":\"rgb(51,51,51)\",\"ticks\":\"outside\",\"title\":{\"standoff\":15},\"zerolinecolor\":\"white\"}}},\"xaxis\":{\"anchor\":\"y\",\"domain\":[0.0,1.0],\"title\":{\"text\":\"state\"},\"categoryorder\":\"total ascending\"},\"yaxis\":{\"anchor\":\"x\",\"domain\":[0.0,1.0],\"title\":{\"text\":\"rate change in unemployment\"}},\"coloraxis\":{\"colorbar\":{\"title\":{\"text\":\"rate change in unemployment\"}},\"colorscale\":[[0.0,\"rgb(20,44,66)\"],[1.0,\"rgb(90,179,244)\"]]},\"legend\":{\"tracegroupgap\":0},\"title\":{\"text\":\"Percentage change in unemployment rate in each state after lockdown\"},\"barmode\":\"relative\"},                        {\"responsive\": true}                    ).then(function(){\n",
       "                            \n",
       "var gd = document.getElementById('4547d57c-1fc6-450d-bcf2-cac5a5c8cd06');\n",
       "var x = new MutationObserver(function (mutations, observer) {{\n",
       "        var display = window.getComputedStyle(gd).display;\n",
       "        if (!display || display === 'none') {{\n",
       "            console.log([gd, 'removed!']);\n",
       "            Plotly.purge(gd);\n",
       "            observer.disconnect();\n",
       "        }}\n",
       "}});\n",
       "\n",
       "// Listen for the removal of the full notebook cells\n",
       "var notebookContainer = gd.closest('#notebook-container');\n",
       "if (notebookContainer) {{\n",
       "    x.observe(notebookContainer, {childList: true});\n",
       "}}\n",
       "\n",
       "// Listen for the clearing of the current output cell\n",
       "var outputEl = gd.closest('.output');\n",
       "if (outputEl) {{\n",
       "    x.observe(outputEl, {childList: true});\n",
       "}}\n",
       "\n",
       "                        })                };                });            </script>        </div>"
      ]
     },
     "metadata": {},
     "output_type": "display_data"
    }
   ],
   "source": [
    "import plotly.express as px\n",
    "\n",
    "fig = px.bar(lockdown, x='state', y='rate change in unemployment', color='rate change in unemployment',\n",
    "             title='Percentage change in unemployment rate in each state after lockdown', template='ggplot2')\n",
    "fig.update_layout(xaxis={'categoryorder':'total ascending'})\n",
    "fig.show()\n"
   ]
  },
  {
   "cell_type": "markdown",
   "metadata": {
    "execution": {
     "iopub.execute_input": "2023-09-07T06:15:55.723606Z",
     "iopub.status.busy": "2023-09-07T06:15:55.723289Z",
     "iopub.status.idle": "2023-09-07T06:15:56.199058Z",
     "shell.execute_reply": "2023-09-07T06:15:56.198038Z",
     "shell.execute_reply.started": "2023-09-07T06:15:55.723579Z"
    },
    "papermill": {
     "duration": 0.098402,
     "end_time": "2023-09-07T06:23:26.468699",
     "exception": false,
     "start_time": "2023-09-07T06:23:26.370297",
     "status": "completed"
    },
    "tags": []
   },
   "source": [
    "# Most impacted States/Union Territories"
   ]
  },
  {
   "cell_type": "markdown",
   "metadata": {
    "papermill": {
     "duration": 0.097986,
     "end_time": "2023-09-07T06:23:26.665024",
     "exception": false,
     "start_time": "2023-09-07T06:23:26.567038",
     "status": "completed"
    },
    "tags": []
   },
   "source": [
    "* Puducherry\n",
    "* Jharkhand\n",
    "* Bihar\n",
    "* Haryana\n",
    "* Tripura\n",
    "\n"
   ]
  },
  {
   "cell_type": "code",
   "execution_count": null,
   "metadata": {},
   "outputs": [],
   "source": []
  }
 ],
 "metadata": {
  "kernelspec": {
   "display_name": "Python 3 (ipykernel)",
   "language": "python",
   "name": "python3"
  },
  "language_info": {
   "codemirror_mode": {
    "name": "ipython",
    "version": 3
   },
   "file_extension": ".py",
   "mimetype": "text/x-python",
   "name": "python",
   "nbconvert_exporter": "python",
   "pygments_lexer": "ipython3",
   "version": "3.9.13"
  },
  "papermill": {
   "default_parameters": {},
   "duration": 36.72192,
   "end_time": "2023-09-07T06:23:27.992133",
   "environment_variables": {},
   "exception": null,
   "input_path": "__notebook__.ipynb",
   "output_path": "__notebook__.ipynb",
   "parameters": {},
   "start_time": "2023-09-07T06:22:51.270213",
   "version": "2.4.0"
  }
 },
 "nbformat": 4,
 "nbformat_minor": 4
}
